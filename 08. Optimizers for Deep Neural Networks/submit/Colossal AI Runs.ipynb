{
 "cells": [
  {
   "cell_type": "code",
   "execution_count": 1,
   "id": "c54a2904",
   "metadata": {},
   "outputs": [],
   "source": [
    "import os\n",
    "from pathlib import Path\n",
    "import math\n",
    "import colossalai\n",
    "import torch\n",
    "import torch.nn as nn\n",
    "import torch.nn.functional as F\n",
    "from colossalai.core import global_context as gpc\n",
    "from colossalai.logging import get_dist_logger\n",
    "from colossalai.nn import CosineAnnealingLR\n",
    "from colossalai.nn.metric import Accuracy\n",
    "from colossalai.trainer import Trainer, hooks\n",
    "from colossalai.utils import MultiTimer, get_dataloader\n",
    "from torchvision import transforms\n",
    "from torchvision.datasets import MNIST\n",
    "from tqdm import tqdm"
   ]
  },
  {
   "cell_type": "code",
   "execution_count": 2,
   "id": "84cc30cb",
   "metadata": {
    "scrolled": true
   },
   "outputs": [],
   "source": [
    "class LeNet5(nn.Module):\n",
    "\n",
    "    def __init__(self, n_classes):\n",
    "        super(LeNet5, self).__init__()\n",
    "\n",
    "        self.feature_extractor = nn.Sequential(\n",
    "            nn.Conv2d(in_channels=1, out_channels=6, kernel_size=5, stride=1),\n",
    "            nn.Tanh(),\n",
    "            nn.AvgPool2d(kernel_size=2),\n",
    "            nn.Conv2d(in_channels=6, out_channels=16, kernel_size=5, stride=1),\n",
    "            nn.Tanh(),\n",
    "            nn.AvgPool2d(kernel_size=2),\n",
    "            nn.Conv2d(in_channels=16, out_channels=120, kernel_size=5, stride=1),\n",
    "            nn.Tanh()\n",
    "        )\n",
    "\n",
    "        self.classifier = nn.Sequential(\n",
    "            nn.Linear(in_features=120, out_features=84),\n",
    "            nn.Tanh(),\n",
    "            nn.Linear(in_features=84, out_features=n_classes),\n",
    "        )\n",
    "\n",
    "    def forward(self, x):\n",
    "        x = self.feature_extractor(x)\n",
    "        x = torch.flatten(x, 1)\n",
    "        logits = self.classifier(x)\n",
    "        probs = F.softmax(logits, dim=1)\n",
    "        return logits\n",
    "\n",
    "\n",
    "def run(optimizer_method, scheduler_method, learning_rate):\n",
    "    \n",
    "    logger = get_dist_logger()\n",
    "    d_name = f'{optimizer_method}_{scheduler_method}_{learning_rate}'\n",
    "\n",
    "    # build \n",
    "    model = LeNet5(n_classes=10)\n",
    "\n",
    "    # build dataloaders\n",
    "    train_dataset = MNIST(\n",
    "        root=Path('./tmp/'),\n",
    "        download=True,\n",
    "        transform = transforms.Compose([transforms.Resize((32, 32)),\n",
    "                                  transforms.ToTensor()])\n",
    "    )\n",
    "\n",
    "    test_dataset = MNIST(\n",
    "        root=Path('./tmp/'),\n",
    "        train=False,\n",
    "        transform = transforms.Compose([transforms.Resize((32, 32)),\n",
    "                                  transforms.ToTensor()])\n",
    "    )\n",
    "\n",
    "    train_dataloader = get_dataloader(dataset=train_dataset,\n",
    "                                      shuffle=True,\n",
    "                                      batch_size=gpc.config.BATCH_SIZE,\n",
    "                                      num_workers=1,\n",
    "                                      pin_memory=True,\n",
    "                                      )\n",
    "\n",
    "    test_dataloader = get_dataloader(dataset=test_dataset,\n",
    "                                      add_sampler=False,\n",
    "                                      batch_size=gpc.config.BATCH_SIZE,\n",
    "                                      num_workers=1,\n",
    "                                      pin_memory=True,\n",
    "                                      )\n",
    "\n",
    "    # build criterion\n",
    "    criterion = torch.nn.CrossEntropyLoss()\n",
    "\n",
    "    # optimizer\n",
    "    if optimizer_method.lower()=='sgd':\n",
    "        optimizer = torch.optim.SGD(model.parameters(), lr=learning_rate, momentum=0.9, weight_decay=5e-4)\n",
    "    elif optimizer_method.lower()=='adamw':\n",
    "        optimizer = torch.optim.AdamW(model.parameters(), lr=learning_rate, betas=(0.9, 0.999), eps=1e-08, weight_decay=5e-4)\n",
    "    else:\n",
    "        raise NotImplementedError\n",
    "\n",
    "    #exponentially increase learning rate from low to high\n",
    "    def lrs(batch):\n",
    "        low = math.log2(1e-5)\n",
    "        high = math.log2(10)\n",
    "        return 2**(low+(high-low)*batch/len(train_dataloader)/gpc.config.NUM_EPOCHS)\n",
    "\n",
    "    # lr_scheduler\n",
    "    if scheduler_method.lower()=='lambda':\n",
    "        lr_scheduler = torch.optim.lr_scheduler.LambdaLR(optimizer, lrs)\n",
    "    elif scheduler_method.lower()=='multistep':\n",
    "        lr_scheduler = torch.optim.lr_scheduler.MultiStepLR(optimizer, milestones=[30,80], gamma=0.1)\n",
    "    elif scheduler_method.lower()=='onecycle':\n",
    "        lr_scheduler = torch.optim.lr_scheduler.OneCycleLR(\n",
    "            optimizer, max_lr=learning_rate*10, \n",
    "            steps_per_epoch=len(train_dataloader), \n",
    "            epochs=gpc.config.NUM_EPOCHS\n",
    "        )\n",
    "\n",
    "    engine, train_dataloader, test_dataloader, _ = colossalai.initialize(\n",
    "        model, optimizer, criterion, train_dataloader, test_dataloader\n",
    "    )\n",
    "    \n",
    "    # build a timer to measure time\n",
    "    timer = MultiTimer()\n",
    "\n",
    "    # create a trainer object\n",
    "    trainer = Trainer(\n",
    "        engine=engine,\n",
    "        timer=timer,\n",
    "        logger=logger\n",
    "    )\n",
    "\n",
    "    # define the hooks to attach to the trainer\n",
    "    hook_list = [\n",
    "        hooks.LossHook(),\n",
    "        hooks.LRSchedulerHook(lr_scheduler=lr_scheduler, by_epoch=False),\n",
    "        # hooks.AccuracyHook(accuracy_func=Accuracy()),\n",
    "        hooks.LogMetricByEpochHook(logger),\n",
    "        hooks.LogMemoryByEpochHook(logger),\n",
    "        hooks.LogTimingByEpochHook(timer, logger),\n",
    "\n",
    "        # you can uncomment these lines if you wish to use them\n",
    "        hooks.TensorboardHook(log_dir=f'./tb_logs/{d_name}', ranks=[0]),\n",
    "        # hooks.SaveCheckpointHook(checkpoint_dir='./ckpt')\n",
    "    ]\n",
    "\n",
    "    # start training\n",
    "    trainer.fit(\n",
    "        train_dataloader=train_dataloader,\n",
    "        epochs=gpc.config.NUM_EPOCHS,\n",
    "        test_dataloader=test_dataloader,\n",
    "        test_interval=1,\n",
    "        hooks=hook_list,\n",
    "        display_progress=True\n",
    "    )\n",
    "    \n",
    "    logger.log_to_file(f'./tb_logs/{d_name}')"
   ]
  },
  {
   "cell_type": "code",
   "execution_count": null,
   "id": "c09c1cc4",
   "metadata": {
    "scrolled": true
   },
   "outputs": [
    {
     "data": {
      "text/html": [
       "<pre style=\"white-space:pre;overflow-x:auto;line-height:normal;font-family:Menlo,'DejaVu Sans Mono',consolas,'Courier New',monospace\"><span style=\"color: #7fbfbf; text-decoration-color: #7fbfbf\">[03/28/22 00:02:06] </span><span style=\"color: #000080; text-decoration-color: #000080\">INFO    </span> colossalai -                             <a href=\"file:///home/fiona/anaconda3/envs/pytorch/lib/python3.9/site-packages/torch/distributed/distributed_c10d.py\" target=\"_blank\"><span style=\"color: #7f7f7f; text-decoration-color: #7f7f7f\">distributed_c10d.py</span></a><span style=\"color: #7f7f7f; text-decoration-color: #7f7f7f\">:</span><a href=\"file:///home/fiona/anaconda3/envs/pytorch/lib/python3.9/site-packages/torch/distributed/distributed_c10d.py#228\" target=\"_blank\"><span style=\"color: #7f7f7f; text-decoration-color: #7f7f7f\">228</span></a>\n",
       "<span style=\"color: #7fbfbf; text-decoration-color: #7fbfbf\">                    </span>         torch.distributed.distributed_c10d -     <span style=\"color: #7f7f7f; text-decoration-color: #7f7f7f\">                       </span>\n",
       "<span style=\"color: #7fbfbf; text-decoration-color: #7fbfbf\">                    </span>         <span style=\"color: #008080; text-decoration-color: #008080; font-weight: bold\">2022</span>-<span style=\"color: #008080; text-decoration-color: #008080; font-weight: bold\">03</span>-<span style=\"color: #008080; text-decoration-color: #008080; font-weight: bold\">28</span> <span style=\"color: #00ff00; text-decoration-color: #00ff00; font-weight: bold\">00:02:06</span>,<span style=\"color: #008080; text-decoration-color: #008080; font-weight: bold\">055</span> INFO: Added key: <span style=\"color: #7f7f7f; text-decoration-color: #7f7f7f\">                       </span>\n",
       "<span style=\"color: #7fbfbf; text-decoration-color: #7fbfbf\">                    </span>         store_based_barrier_key:<span style=\"color: #008080; text-decoration-color: #008080; font-weight: bold\">1</span> to store for   <span style=\"color: #7f7f7f; text-decoration-color: #7f7f7f\">                       </span>\n",
       "<span style=\"color: #7fbfbf; text-decoration-color: #7fbfbf\">                    </span>         rank: <span style=\"color: #008080; text-decoration-color: #008080; font-weight: bold\">0</span>                                  <span style=\"color: #7f7f7f; text-decoration-color: #7f7f7f\">                       </span>\n",
       "</pre>\n"
      ],
      "text/plain": [
       "\u001b[2;36m[03/28/22 00:02:06]\u001b[0m\u001b[2;36m \u001b[0m\u001b[34mINFO    \u001b[0m colossalai -                             \u001b]8;id=66758;file:///home/fiona/anaconda3/envs/pytorch/lib/python3.9/site-packages/torch/distributed/distributed_c10d.py\u001b\\\u001b[2mdistributed_c10d.py\u001b[0m\u001b]8;;\u001b\\\u001b[2m:\u001b[0m\u001b]8;id=124117;file:///home/fiona/anaconda3/envs/pytorch/lib/python3.9/site-packages/torch/distributed/distributed_c10d.py#228\u001b\\\u001b[2m228\u001b[0m\u001b]8;;\u001b\\\n",
       "\u001b[2;36m                    \u001b[0m         torch.distributed.distributed_c10d -     \u001b[2m                       \u001b[0m\n",
       "\u001b[2;36m                    \u001b[0m         \u001b[1;36m2022\u001b[0m-\u001b[1;36m03\u001b[0m-\u001b[1;36m28\u001b[0m \u001b[1;92m00:02:06\u001b[0m,\u001b[1;36m055\u001b[0m INFO: Added key: \u001b[2m                       \u001b[0m\n",
       "\u001b[2;36m                    \u001b[0m         store_based_barrier_key:\u001b[1;36m1\u001b[0m to store for   \u001b[2m                       \u001b[0m\n",
       "\u001b[2;36m                    \u001b[0m         rank: \u001b[1;36m0\u001b[0m                                  \u001b[2m                       \u001b[0m\n"
      ]
     },
     "metadata": {},
     "output_type": "display_data"
    },
    {
     "data": {
      "text/html": [
       "<pre style=\"white-space:pre;overflow-x:auto;line-height:normal;font-family:Menlo,'DejaVu Sans Mono',consolas,'Courier New',monospace\"><span style=\"color: #7fbfbf; text-decoration-color: #7fbfbf\">                    </span><span style=\"color: #000080; text-decoration-color: #000080\">INFO    </span> colossalai -                             <a href=\"file:///home/fiona/anaconda3/envs/pytorch/lib/python3.9/site-packages/torch/distributed/distributed_c10d.py\" target=\"_blank\"><span style=\"color: #7f7f7f; text-decoration-color: #7f7f7f\">distributed_c10d.py</span></a><span style=\"color: #7f7f7f; text-decoration-color: #7f7f7f\">:</span><a href=\"file:///home/fiona/anaconda3/envs/pytorch/lib/python3.9/site-packages/torch/distributed/distributed_c10d.py#262\" target=\"_blank\"><span style=\"color: #7f7f7f; text-decoration-color: #7f7f7f\">262</span></a>\n",
       "<span style=\"color: #7fbfbf; text-decoration-color: #7fbfbf\">                    </span>         torch.distributed.distributed_c10d -     <span style=\"color: #7f7f7f; text-decoration-color: #7f7f7f\">                       </span>\n",
       "<span style=\"color: #7fbfbf; text-decoration-color: #7fbfbf\">                    </span>         <span style=\"color: #008080; text-decoration-color: #008080; font-weight: bold\">2022</span>-<span style=\"color: #008080; text-decoration-color: #008080; font-weight: bold\">03</span>-<span style=\"color: #008080; text-decoration-color: #008080; font-weight: bold\">28</span> <span style=\"color: #00ff00; text-decoration-color: #00ff00; font-weight: bold\">00:02:06</span>,<span style=\"color: #008080; text-decoration-color: #008080; font-weight: bold\">070</span> INFO: Rank <span style=\"color: #008080; text-decoration-color: #008080; font-weight: bold\">0</span>:    <span style=\"color: #7f7f7f; text-decoration-color: #7f7f7f\">                       </span>\n",
       "<span style=\"color: #7fbfbf; text-decoration-color: #7fbfbf\">                    </span>         Completed store-based barrier for        <span style=\"color: #7f7f7f; text-decoration-color: #7f7f7f\">                       </span>\n",
       "<span style=\"color: #7fbfbf; text-decoration-color: #7fbfbf\">                    </span>         key:store_based_barrier_key:<span style=\"color: #008080; text-decoration-color: #008080; font-weight: bold\">1</span> with <span style=\"color: #008080; text-decoration-color: #008080; font-weight: bold\">1</span>     <span style=\"color: #7f7f7f; text-decoration-color: #7f7f7f\">                       </span>\n",
       "<span style=\"color: #7fbfbf; text-decoration-color: #7fbfbf\">                    </span>         nodes.                                   <span style=\"color: #7f7f7f; text-decoration-color: #7f7f7f\">                       </span>\n",
       "</pre>\n"
      ],
      "text/plain": [
       "\u001b[2;36m                   \u001b[0m\u001b[2;36m \u001b[0m\u001b[34mINFO    \u001b[0m colossalai -                             \u001b]8;id=489416;file:///home/fiona/anaconda3/envs/pytorch/lib/python3.9/site-packages/torch/distributed/distributed_c10d.py\u001b\\\u001b[2mdistributed_c10d.py\u001b[0m\u001b]8;;\u001b\\\u001b[2m:\u001b[0m\u001b]8;id=675327;file:///home/fiona/anaconda3/envs/pytorch/lib/python3.9/site-packages/torch/distributed/distributed_c10d.py#262\u001b\\\u001b[2m262\u001b[0m\u001b]8;;\u001b\\\n",
       "\u001b[2;36m                    \u001b[0m         torch.distributed.distributed_c10d -     \u001b[2m                       \u001b[0m\n",
       "\u001b[2;36m                    \u001b[0m         \u001b[1;36m2022\u001b[0m-\u001b[1;36m03\u001b[0m-\u001b[1;36m28\u001b[0m \u001b[1;92m00:02:06\u001b[0m,\u001b[1;36m070\u001b[0m INFO: Rank \u001b[1;36m0\u001b[0m:    \u001b[2m                       \u001b[0m\n",
       "\u001b[2;36m                    \u001b[0m         Completed store-based barrier for        \u001b[2m                       \u001b[0m\n",
       "\u001b[2;36m                    \u001b[0m         key:store_based_barrier_key:\u001b[1;36m1\u001b[0m with \u001b[1;36m1\u001b[0m     \u001b[2m                       \u001b[0m\n",
       "\u001b[2;36m                    \u001b[0m         nodes.                                   \u001b[2m                       \u001b[0m\n"
      ]
     },
     "metadata": {},
     "output_type": "display_data"
    },
    {
     "data": {
      "text/html": [
       "<pre style=\"white-space:pre;overflow-x:auto;line-height:normal;font-family:Menlo,'DejaVu Sans Mono',consolas,'Courier New',monospace\"><span style=\"color: #7fbfbf; text-decoration-color: #7fbfbf\">                    </span><span style=\"color: #000080; text-decoration-color: #000080\">INFO    </span> colossalai -                             <a href=\"file:///home/fiona/anaconda3/envs/pytorch/lib/python3.9/site-packages/torch/distributed/distributed_c10d.py\" target=\"_blank\"><span style=\"color: #7f7f7f; text-decoration-color: #7f7f7f\">distributed_c10d.py</span></a><span style=\"color: #7f7f7f; text-decoration-color: #7f7f7f\">:</span><a href=\"file:///home/fiona/anaconda3/envs/pytorch/lib/python3.9/site-packages/torch/distributed/distributed_c10d.py#228\" target=\"_blank\"><span style=\"color: #7f7f7f; text-decoration-color: #7f7f7f\">228</span></a>\n",
       "<span style=\"color: #7fbfbf; text-decoration-color: #7fbfbf\">                    </span>         torch.distributed.distributed_c10d -     <span style=\"color: #7f7f7f; text-decoration-color: #7f7f7f\">                       </span>\n",
       "<span style=\"color: #7fbfbf; text-decoration-color: #7fbfbf\">                    </span>         <span style=\"color: #008080; text-decoration-color: #008080; font-weight: bold\">2022</span>-<span style=\"color: #008080; text-decoration-color: #008080; font-weight: bold\">03</span>-<span style=\"color: #008080; text-decoration-color: #008080; font-weight: bold\">28</span> <span style=\"color: #00ff00; text-decoration-color: #00ff00; font-weight: bold\">00:02:06</span>,<span style=\"color: #008080; text-decoration-color: #008080; font-weight: bold\">074</span> INFO: Added key: <span style=\"color: #7f7f7f; text-decoration-color: #7f7f7f\">                       </span>\n",
       "<span style=\"color: #7fbfbf; text-decoration-color: #7fbfbf\">                    </span>         store_based_barrier_key:<span style=\"color: #008080; text-decoration-color: #008080; font-weight: bold\">2</span> to store for   <span style=\"color: #7f7f7f; text-decoration-color: #7f7f7f\">                       </span>\n",
       "<span style=\"color: #7fbfbf; text-decoration-color: #7fbfbf\">                    </span>         rank: <span style=\"color: #008080; text-decoration-color: #008080; font-weight: bold\">0</span>                                  <span style=\"color: #7f7f7f; text-decoration-color: #7f7f7f\">                       </span>\n",
       "</pre>\n"
      ],
      "text/plain": [
       "\u001b[2;36m                   \u001b[0m\u001b[2;36m \u001b[0m\u001b[34mINFO    \u001b[0m colossalai -                             \u001b]8;id=65332;file:///home/fiona/anaconda3/envs/pytorch/lib/python3.9/site-packages/torch/distributed/distributed_c10d.py\u001b\\\u001b[2mdistributed_c10d.py\u001b[0m\u001b]8;;\u001b\\\u001b[2m:\u001b[0m\u001b]8;id=802269;file:///home/fiona/anaconda3/envs/pytorch/lib/python3.9/site-packages/torch/distributed/distributed_c10d.py#228\u001b\\\u001b[2m228\u001b[0m\u001b]8;;\u001b\\\n",
       "\u001b[2;36m                    \u001b[0m         torch.distributed.distributed_c10d -     \u001b[2m                       \u001b[0m\n",
       "\u001b[2;36m                    \u001b[0m         \u001b[1;36m2022\u001b[0m-\u001b[1;36m03\u001b[0m-\u001b[1;36m28\u001b[0m \u001b[1;92m00:02:06\u001b[0m,\u001b[1;36m074\u001b[0m INFO: Added key: \u001b[2m                       \u001b[0m\n",
       "\u001b[2;36m                    \u001b[0m         store_based_barrier_key:\u001b[1;36m2\u001b[0m to store for   \u001b[2m                       \u001b[0m\n",
       "\u001b[2;36m                    \u001b[0m         rank: \u001b[1;36m0\u001b[0m                                  \u001b[2m                       \u001b[0m\n"
      ]
     },
     "metadata": {},
     "output_type": "display_data"
    },
    {
     "data": {
      "text/html": [
       "<pre style=\"white-space:pre;overflow-x:auto;line-height:normal;font-family:Menlo,'DejaVu Sans Mono',consolas,'Courier New',monospace\"><span style=\"color: #7fbfbf; text-decoration-color: #7fbfbf\">                    </span><span style=\"color: #000080; text-decoration-color: #000080\">INFO    </span> colossalai -                             <a href=\"file:///home/fiona/anaconda3/envs/pytorch/lib/python3.9/site-packages/torch/distributed/distributed_c10d.py\" target=\"_blank\"><span style=\"color: #7f7f7f; text-decoration-color: #7f7f7f\">distributed_c10d.py</span></a><span style=\"color: #7f7f7f; text-decoration-color: #7f7f7f\">:</span><a href=\"file:///home/fiona/anaconda3/envs/pytorch/lib/python3.9/site-packages/torch/distributed/distributed_c10d.py#262\" target=\"_blank\"><span style=\"color: #7f7f7f; text-decoration-color: #7f7f7f\">262</span></a>\n",
       "<span style=\"color: #7fbfbf; text-decoration-color: #7fbfbf\">                    </span>         torch.distributed.distributed_c10d -     <span style=\"color: #7f7f7f; text-decoration-color: #7f7f7f\">                       </span>\n",
       "<span style=\"color: #7fbfbf; text-decoration-color: #7fbfbf\">                    </span>         <span style=\"color: #008080; text-decoration-color: #008080; font-weight: bold\">2022</span>-<span style=\"color: #008080; text-decoration-color: #008080; font-weight: bold\">03</span>-<span style=\"color: #008080; text-decoration-color: #008080; font-weight: bold\">28</span> <span style=\"color: #00ff00; text-decoration-color: #00ff00; font-weight: bold\">00:02:06</span>,<span style=\"color: #008080; text-decoration-color: #008080; font-weight: bold\">078</span> INFO: Rank <span style=\"color: #008080; text-decoration-color: #008080; font-weight: bold\">0</span>:    <span style=\"color: #7f7f7f; text-decoration-color: #7f7f7f\">                       </span>\n",
       "<span style=\"color: #7fbfbf; text-decoration-color: #7fbfbf\">                    </span>         Completed store-based barrier for        <span style=\"color: #7f7f7f; text-decoration-color: #7f7f7f\">                       </span>\n",
       "<span style=\"color: #7fbfbf; text-decoration-color: #7fbfbf\">                    </span>         key:store_based_barrier_key:<span style=\"color: #008080; text-decoration-color: #008080; font-weight: bold\">2</span> with <span style=\"color: #008080; text-decoration-color: #008080; font-weight: bold\">1</span>     <span style=\"color: #7f7f7f; text-decoration-color: #7f7f7f\">                       </span>\n",
       "<span style=\"color: #7fbfbf; text-decoration-color: #7fbfbf\">                    </span>         nodes.                                   <span style=\"color: #7f7f7f; text-decoration-color: #7f7f7f\">                       </span>\n",
       "</pre>\n"
      ],
      "text/plain": [
       "\u001b[2;36m                   \u001b[0m\u001b[2;36m \u001b[0m\u001b[34mINFO    \u001b[0m colossalai -                             \u001b]8;id=355484;file:///home/fiona/anaconda3/envs/pytorch/lib/python3.9/site-packages/torch/distributed/distributed_c10d.py\u001b\\\u001b[2mdistributed_c10d.py\u001b[0m\u001b]8;;\u001b\\\u001b[2m:\u001b[0m\u001b]8;id=9809;file:///home/fiona/anaconda3/envs/pytorch/lib/python3.9/site-packages/torch/distributed/distributed_c10d.py#262\u001b\\\u001b[2m262\u001b[0m\u001b]8;;\u001b\\\n",
       "\u001b[2;36m                    \u001b[0m         torch.distributed.distributed_c10d -     \u001b[2m                       \u001b[0m\n",
       "\u001b[2;36m                    \u001b[0m         \u001b[1;36m2022\u001b[0m-\u001b[1;36m03\u001b[0m-\u001b[1;36m28\u001b[0m \u001b[1;92m00:02:06\u001b[0m,\u001b[1;36m078\u001b[0m INFO: Rank \u001b[1;36m0\u001b[0m:    \u001b[2m                       \u001b[0m\n",
       "\u001b[2;36m                    \u001b[0m         Completed store-based barrier for        \u001b[2m                       \u001b[0m\n",
       "\u001b[2;36m                    \u001b[0m         key:store_based_barrier_key:\u001b[1;36m2\u001b[0m with \u001b[1;36m1\u001b[0m     \u001b[2m                       \u001b[0m\n",
       "\u001b[2;36m                    \u001b[0m         nodes.                                   \u001b[2m                       \u001b[0m\n"
      ]
     },
     "metadata": {},
     "output_type": "display_data"
    },
    {
     "data": {
      "text/html": [
       "<pre style=\"white-space:pre;overflow-x:auto;line-height:normal;font-family:Menlo,'DejaVu Sans Mono',consolas,'Courier New',monospace\"><span style=\"color: #7fbfbf; text-decoration-color: #7fbfbf\">                    </span><span style=\"color: #000080; text-decoration-color: #000080\">INFO    </span> colossalai -                             <a href=\"file:///home/fiona/anaconda3/envs/pytorch/lib/python3.9/site-packages/torch/distributed/distributed_c10d.py\" target=\"_blank\"><span style=\"color: #7f7f7f; text-decoration-color: #7f7f7f\">distributed_c10d.py</span></a><span style=\"color: #7f7f7f; text-decoration-color: #7f7f7f\">:</span><a href=\"file:///home/fiona/anaconda3/envs/pytorch/lib/python3.9/site-packages/torch/distributed/distributed_c10d.py#228\" target=\"_blank\"><span style=\"color: #7f7f7f; text-decoration-color: #7f7f7f\">228</span></a>\n",
       "<span style=\"color: #7fbfbf; text-decoration-color: #7fbfbf\">                    </span>         torch.distributed.distributed_c10d -     <span style=\"color: #7f7f7f; text-decoration-color: #7f7f7f\">                       </span>\n",
       "<span style=\"color: #7fbfbf; text-decoration-color: #7fbfbf\">                    </span>         <span style=\"color: #008080; text-decoration-color: #008080; font-weight: bold\">2022</span>-<span style=\"color: #008080; text-decoration-color: #008080; font-weight: bold\">03</span>-<span style=\"color: #008080; text-decoration-color: #008080; font-weight: bold\">28</span> <span style=\"color: #00ff00; text-decoration-color: #00ff00; font-weight: bold\">00:02:06</span>,<span style=\"color: #008080; text-decoration-color: #008080; font-weight: bold\">081</span> INFO: Added key: <span style=\"color: #7f7f7f; text-decoration-color: #7f7f7f\">                       </span>\n",
       "<span style=\"color: #7fbfbf; text-decoration-color: #7fbfbf\">                    </span>         store_based_barrier_key:<span style=\"color: #008080; text-decoration-color: #008080; font-weight: bold\">3</span> to store for   <span style=\"color: #7f7f7f; text-decoration-color: #7f7f7f\">                       </span>\n",
       "<span style=\"color: #7fbfbf; text-decoration-color: #7fbfbf\">                    </span>         rank: <span style=\"color: #008080; text-decoration-color: #008080; font-weight: bold\">0</span>                                  <span style=\"color: #7f7f7f; text-decoration-color: #7f7f7f\">                       </span>\n",
       "</pre>\n"
      ],
      "text/plain": [
       "\u001b[2;36m                   \u001b[0m\u001b[2;36m \u001b[0m\u001b[34mINFO    \u001b[0m colossalai -                             \u001b]8;id=296327;file:///home/fiona/anaconda3/envs/pytorch/lib/python3.9/site-packages/torch/distributed/distributed_c10d.py\u001b\\\u001b[2mdistributed_c10d.py\u001b[0m\u001b]8;;\u001b\\\u001b[2m:\u001b[0m\u001b]8;id=955852;file:///home/fiona/anaconda3/envs/pytorch/lib/python3.9/site-packages/torch/distributed/distributed_c10d.py#228\u001b\\\u001b[2m228\u001b[0m\u001b]8;;\u001b\\\n",
       "\u001b[2;36m                    \u001b[0m         torch.distributed.distributed_c10d -     \u001b[2m                       \u001b[0m\n",
       "\u001b[2;36m                    \u001b[0m         \u001b[1;36m2022\u001b[0m-\u001b[1;36m03\u001b[0m-\u001b[1;36m28\u001b[0m \u001b[1;92m00:02:06\u001b[0m,\u001b[1;36m081\u001b[0m INFO: Added key: \u001b[2m                       \u001b[0m\n",
       "\u001b[2;36m                    \u001b[0m         store_based_barrier_key:\u001b[1;36m3\u001b[0m to store for   \u001b[2m                       \u001b[0m\n",
       "\u001b[2;36m                    \u001b[0m         rank: \u001b[1;36m0\u001b[0m                                  \u001b[2m                       \u001b[0m\n"
      ]
     },
     "metadata": {},
     "output_type": "display_data"
    },
    {
     "data": {
      "text/html": [
       "<pre style=\"white-space:pre;overflow-x:auto;line-height:normal;font-family:Menlo,'DejaVu Sans Mono',consolas,'Courier New',monospace\"><span style=\"color: #7fbfbf; text-decoration-color: #7fbfbf\">                    </span><span style=\"color: #000080; text-decoration-color: #000080\">INFO    </span> colossalai -                             <a href=\"file:///home/fiona/anaconda3/envs/pytorch/lib/python3.9/site-packages/torch/distributed/distributed_c10d.py\" target=\"_blank\"><span style=\"color: #7f7f7f; text-decoration-color: #7f7f7f\">distributed_c10d.py</span></a><span style=\"color: #7f7f7f; text-decoration-color: #7f7f7f\">:</span><a href=\"file:///home/fiona/anaconda3/envs/pytorch/lib/python3.9/site-packages/torch/distributed/distributed_c10d.py#262\" target=\"_blank\"><span style=\"color: #7f7f7f; text-decoration-color: #7f7f7f\">262</span></a>\n",
       "<span style=\"color: #7fbfbf; text-decoration-color: #7fbfbf\">                    </span>         torch.distributed.distributed_c10d -     <span style=\"color: #7f7f7f; text-decoration-color: #7f7f7f\">                       </span>\n",
       "<span style=\"color: #7fbfbf; text-decoration-color: #7fbfbf\">                    </span>         <span style=\"color: #008080; text-decoration-color: #008080; font-weight: bold\">2022</span>-<span style=\"color: #008080; text-decoration-color: #008080; font-weight: bold\">03</span>-<span style=\"color: #008080; text-decoration-color: #008080; font-weight: bold\">28</span> <span style=\"color: #00ff00; text-decoration-color: #00ff00; font-weight: bold\">00:02:06</span>,<span style=\"color: #008080; text-decoration-color: #008080; font-weight: bold\">084</span> INFO: Rank <span style=\"color: #008080; text-decoration-color: #008080; font-weight: bold\">0</span>:    <span style=\"color: #7f7f7f; text-decoration-color: #7f7f7f\">                       </span>\n",
       "<span style=\"color: #7fbfbf; text-decoration-color: #7fbfbf\">                    </span>         Completed store-based barrier for        <span style=\"color: #7f7f7f; text-decoration-color: #7f7f7f\">                       </span>\n",
       "<span style=\"color: #7fbfbf; text-decoration-color: #7fbfbf\">                    </span>         key:store_based_barrier_key:<span style=\"color: #008080; text-decoration-color: #008080; font-weight: bold\">3</span> with <span style=\"color: #008080; text-decoration-color: #008080; font-weight: bold\">1</span>     <span style=\"color: #7f7f7f; text-decoration-color: #7f7f7f\">                       </span>\n",
       "<span style=\"color: #7fbfbf; text-decoration-color: #7fbfbf\">                    </span>         nodes.                                   <span style=\"color: #7f7f7f; text-decoration-color: #7f7f7f\">                       </span>\n",
       "</pre>\n"
      ],
      "text/plain": [
       "\u001b[2;36m                   \u001b[0m\u001b[2;36m \u001b[0m\u001b[34mINFO    \u001b[0m colossalai -                             \u001b]8;id=276344;file:///home/fiona/anaconda3/envs/pytorch/lib/python3.9/site-packages/torch/distributed/distributed_c10d.py\u001b\\\u001b[2mdistributed_c10d.py\u001b[0m\u001b]8;;\u001b\\\u001b[2m:\u001b[0m\u001b]8;id=618167;file:///home/fiona/anaconda3/envs/pytorch/lib/python3.9/site-packages/torch/distributed/distributed_c10d.py#262\u001b\\\u001b[2m262\u001b[0m\u001b]8;;\u001b\\\n",
       "\u001b[2;36m                    \u001b[0m         torch.distributed.distributed_c10d -     \u001b[2m                       \u001b[0m\n",
       "\u001b[2;36m                    \u001b[0m         \u001b[1;36m2022\u001b[0m-\u001b[1;36m03\u001b[0m-\u001b[1;36m28\u001b[0m \u001b[1;92m00:02:06\u001b[0m,\u001b[1;36m084\u001b[0m INFO: Rank \u001b[1;36m0\u001b[0m:    \u001b[2m                       \u001b[0m\n",
       "\u001b[2;36m                    \u001b[0m         Completed store-based barrier for        \u001b[2m                       \u001b[0m\n",
       "\u001b[2;36m                    \u001b[0m         key:store_based_barrier_key:\u001b[1;36m3\u001b[0m with \u001b[1;36m1\u001b[0m     \u001b[2m                       \u001b[0m\n",
       "\u001b[2;36m                    \u001b[0m         nodes.                                   \u001b[2m                       \u001b[0m\n"
      ]
     },
     "metadata": {},
     "output_type": "display_data"
    },
    {
     "data": {
      "text/html": [
       "<pre style=\"white-space:pre;overflow-x:auto;line-height:normal;font-family:Menlo,'DejaVu Sans Mono',consolas,'Courier New',monospace\"><span style=\"color: #7fbfbf; text-decoration-color: #7fbfbf\">                    </span><span style=\"color: #000080; text-decoration-color: #000080\">INFO    </span> colossalai -                             <a href=\"file:///home/fiona/anaconda3/envs/pytorch/lib/python3.9/site-packages/torch/distributed/distributed_c10d.py\" target=\"_blank\"><span style=\"color: #7f7f7f; text-decoration-color: #7f7f7f\">distributed_c10d.py</span></a><span style=\"color: #7f7f7f; text-decoration-color: #7f7f7f\">:</span><a href=\"file:///home/fiona/anaconda3/envs/pytorch/lib/python3.9/site-packages/torch/distributed/distributed_c10d.py#228\" target=\"_blank\"><span style=\"color: #7f7f7f; text-decoration-color: #7f7f7f\">228</span></a>\n",
       "<span style=\"color: #7fbfbf; text-decoration-color: #7fbfbf\">                    </span>         torch.distributed.distributed_c10d -     <span style=\"color: #7f7f7f; text-decoration-color: #7f7f7f\">                       </span>\n",
       "<span style=\"color: #7fbfbf; text-decoration-color: #7fbfbf\">                    </span>         <span style=\"color: #008080; text-decoration-color: #008080; font-weight: bold\">2022</span>-<span style=\"color: #008080; text-decoration-color: #008080; font-weight: bold\">03</span>-<span style=\"color: #008080; text-decoration-color: #008080; font-weight: bold\">28</span> <span style=\"color: #00ff00; text-decoration-color: #00ff00; font-weight: bold\">00:02:06</span>,<span style=\"color: #008080; text-decoration-color: #008080; font-weight: bold\">088</span> INFO: Added key: <span style=\"color: #7f7f7f; text-decoration-color: #7f7f7f\">                       </span>\n",
       "<span style=\"color: #7fbfbf; text-decoration-color: #7fbfbf\">                    </span>         store_based_barrier_key:<span style=\"color: #008080; text-decoration-color: #008080; font-weight: bold\">4</span> to store for   <span style=\"color: #7f7f7f; text-decoration-color: #7f7f7f\">                       </span>\n",
       "<span style=\"color: #7fbfbf; text-decoration-color: #7fbfbf\">                    </span>         rank: <span style=\"color: #008080; text-decoration-color: #008080; font-weight: bold\">0</span>                                  <span style=\"color: #7f7f7f; text-decoration-color: #7f7f7f\">                       </span>\n",
       "</pre>\n"
      ],
      "text/plain": [
       "\u001b[2;36m                   \u001b[0m\u001b[2;36m \u001b[0m\u001b[34mINFO    \u001b[0m colossalai -                             \u001b]8;id=237639;file:///home/fiona/anaconda3/envs/pytorch/lib/python3.9/site-packages/torch/distributed/distributed_c10d.py\u001b\\\u001b[2mdistributed_c10d.py\u001b[0m\u001b]8;;\u001b\\\u001b[2m:\u001b[0m\u001b]8;id=985585;file:///home/fiona/anaconda3/envs/pytorch/lib/python3.9/site-packages/torch/distributed/distributed_c10d.py#228\u001b\\\u001b[2m228\u001b[0m\u001b]8;;\u001b\\\n",
       "\u001b[2;36m                    \u001b[0m         torch.distributed.distributed_c10d -     \u001b[2m                       \u001b[0m\n",
       "\u001b[2;36m                    \u001b[0m         \u001b[1;36m2022\u001b[0m-\u001b[1;36m03\u001b[0m-\u001b[1;36m28\u001b[0m \u001b[1;92m00:02:06\u001b[0m,\u001b[1;36m088\u001b[0m INFO: Added key: \u001b[2m                       \u001b[0m\n",
       "\u001b[2;36m                    \u001b[0m         store_based_barrier_key:\u001b[1;36m4\u001b[0m to store for   \u001b[2m                       \u001b[0m\n",
       "\u001b[2;36m                    \u001b[0m         rank: \u001b[1;36m0\u001b[0m                                  \u001b[2m                       \u001b[0m\n"
      ]
     },
     "metadata": {},
     "output_type": "display_data"
    },
    {
     "data": {
      "text/html": [
       "<pre style=\"white-space:pre;overflow-x:auto;line-height:normal;font-family:Menlo,'DejaVu Sans Mono',consolas,'Courier New',monospace\"><span style=\"color: #7fbfbf; text-decoration-color: #7fbfbf\">                    </span><span style=\"color: #000080; text-decoration-color: #000080\">INFO    </span> colossalai -                             <a href=\"file:///home/fiona/anaconda3/envs/pytorch/lib/python3.9/site-packages/torch/distributed/distributed_c10d.py\" target=\"_blank\"><span style=\"color: #7f7f7f; text-decoration-color: #7f7f7f\">distributed_c10d.py</span></a><span style=\"color: #7f7f7f; text-decoration-color: #7f7f7f\">:</span><a href=\"file:///home/fiona/anaconda3/envs/pytorch/lib/python3.9/site-packages/torch/distributed/distributed_c10d.py#262\" target=\"_blank\"><span style=\"color: #7f7f7f; text-decoration-color: #7f7f7f\">262</span></a>\n",
       "<span style=\"color: #7fbfbf; text-decoration-color: #7fbfbf\">                    </span>         torch.distributed.distributed_c10d -     <span style=\"color: #7f7f7f; text-decoration-color: #7f7f7f\">                       </span>\n",
       "<span style=\"color: #7fbfbf; text-decoration-color: #7fbfbf\">                    </span>         <span style=\"color: #008080; text-decoration-color: #008080; font-weight: bold\">2022</span>-<span style=\"color: #008080; text-decoration-color: #008080; font-weight: bold\">03</span>-<span style=\"color: #008080; text-decoration-color: #008080; font-weight: bold\">28</span> <span style=\"color: #00ff00; text-decoration-color: #00ff00; font-weight: bold\">00:02:06</span>,<span style=\"color: #008080; text-decoration-color: #008080; font-weight: bold\">091</span> INFO: Rank <span style=\"color: #008080; text-decoration-color: #008080; font-weight: bold\">0</span>:    <span style=\"color: #7f7f7f; text-decoration-color: #7f7f7f\">                       </span>\n",
       "<span style=\"color: #7fbfbf; text-decoration-color: #7fbfbf\">                    </span>         Completed store-based barrier for        <span style=\"color: #7f7f7f; text-decoration-color: #7f7f7f\">                       </span>\n",
       "<span style=\"color: #7fbfbf; text-decoration-color: #7fbfbf\">                    </span>         key:store_based_barrier_key:<span style=\"color: #008080; text-decoration-color: #008080; font-weight: bold\">4</span> with <span style=\"color: #008080; text-decoration-color: #008080; font-weight: bold\">1</span>     <span style=\"color: #7f7f7f; text-decoration-color: #7f7f7f\">                       </span>\n",
       "<span style=\"color: #7fbfbf; text-decoration-color: #7fbfbf\">                    </span>         nodes.                                   <span style=\"color: #7f7f7f; text-decoration-color: #7f7f7f\">                       </span>\n",
       "</pre>\n"
      ],
      "text/plain": [
       "\u001b[2;36m                   \u001b[0m\u001b[2;36m \u001b[0m\u001b[34mINFO    \u001b[0m colossalai -                             \u001b]8;id=264332;file:///home/fiona/anaconda3/envs/pytorch/lib/python3.9/site-packages/torch/distributed/distributed_c10d.py\u001b\\\u001b[2mdistributed_c10d.py\u001b[0m\u001b]8;;\u001b\\\u001b[2m:\u001b[0m\u001b]8;id=478449;file:///home/fiona/anaconda3/envs/pytorch/lib/python3.9/site-packages/torch/distributed/distributed_c10d.py#262\u001b\\\u001b[2m262\u001b[0m\u001b]8;;\u001b\\\n",
       "\u001b[2;36m                    \u001b[0m         torch.distributed.distributed_c10d -     \u001b[2m                       \u001b[0m\n",
       "\u001b[2;36m                    \u001b[0m         \u001b[1;36m2022\u001b[0m-\u001b[1;36m03\u001b[0m-\u001b[1;36m28\u001b[0m \u001b[1;92m00:02:06\u001b[0m,\u001b[1;36m091\u001b[0m INFO: Rank \u001b[1;36m0\u001b[0m:    \u001b[2m                       \u001b[0m\n",
       "\u001b[2;36m                    \u001b[0m         Completed store-based barrier for        \u001b[2m                       \u001b[0m\n",
       "\u001b[2;36m                    \u001b[0m         key:store_based_barrier_key:\u001b[1;36m4\u001b[0m with \u001b[1;36m1\u001b[0m     \u001b[2m                       \u001b[0m\n",
       "\u001b[2;36m                    \u001b[0m         nodes.                                   \u001b[2m                       \u001b[0m\n"
      ]
     },
     "metadata": {},
     "output_type": "display_data"
    },
    {
     "data": {
      "text/html": [
       "<pre style=\"white-space:pre;overflow-x:auto;line-height:normal;font-family:Menlo,'DejaVu Sans Mono',consolas,'Courier New',monospace\"><span style=\"color: #7fbfbf; text-decoration-color: #7fbfbf\">                    </span><span style=\"color: #000080; text-decoration-color: #000080\">INFO    </span> colossalai - colossalai - <span style=\"color: #008080; text-decoration-color: #008080; font-weight: bold\">2022</span>-<span style=\"color: #008080; text-decoration-color: #008080; font-weight: bold\">03</span>-<span style=\"color: #008080; text-decoration-color: #008080; font-weight: bold\">28</span> <span style=\"color: #00ff00; text-decoration-color: #00ff00; font-weight: bold\">00:02:06</span>,<span style=\"color: #008080; text-decoration-color: #008080; font-weight: bold\">108</span> <a href=\"file:///home/fiona/anaconda3/envs/pytorch/lib/python3.9/site-packages/colossalai/logging/logging.py\" target=\"_blank\"><span style=\"color: #7f7f7f; text-decoration-color: #7f7f7f\">logging.py</span></a><span style=\"color: #7f7f7f; text-decoration-color: #7f7f7f\">:</span><a href=\"file:///home/fiona/anaconda3/envs/pytorch/lib/python3.9/site-packages/colossalai/logging/logging.py#105\" target=\"_blank\"><span style=\"color: #7f7f7f; text-decoration-color: #7f7f7f\">105</span></a>\n",
       "<span style=\"color: #7fbfbf; text-decoration-color: #7fbfbf\">                    </span>         INFO: process rank <span style=\"color: #008080; text-decoration-color: #008080; font-weight: bold\">0</span> is bound to device <span style=\"color: #008080; text-decoration-color: #008080; font-weight: bold\">0</span>         <span style=\"color: #7f7f7f; text-decoration-color: #7f7f7f\">              </span>\n",
       "</pre>\n"
      ],
      "text/plain": [
       "\u001b[2;36m                   \u001b[0m\u001b[2;36m \u001b[0m\u001b[34mINFO    \u001b[0m colossalai - colossalai - \u001b[1;36m2022\u001b[0m-\u001b[1;36m03\u001b[0m-\u001b[1;36m28\u001b[0m \u001b[1;92m00:02:06\u001b[0m,\u001b[1;36m108\u001b[0m \u001b]8;id=370530;file:///home/fiona/anaconda3/envs/pytorch/lib/python3.9/site-packages/colossalai/logging/logging.py\u001b\\\u001b[2mlogging.py\u001b[0m\u001b]8;;\u001b\\\u001b[2m:\u001b[0m\u001b]8;id=817124;file:///home/fiona/anaconda3/envs/pytorch/lib/python3.9/site-packages/colossalai/logging/logging.py#105\u001b\\\u001b[2m105\u001b[0m\u001b]8;;\u001b\\\n",
       "\u001b[2;36m                    \u001b[0m         INFO: process rank \u001b[1;36m0\u001b[0m is bound to device \u001b[1;36m0\u001b[0m         \u001b[2m              \u001b[0m\n"
      ]
     },
     "metadata": {},
     "output_type": "display_data"
    },
    {
     "data": {
      "text/html": [
       "<pre style=\"white-space:pre;overflow-x:auto;line-height:normal;font-family:Menlo,'DejaVu Sans Mono',consolas,'Courier New',monospace\"><span style=\"color: #7fbfbf; text-decoration-color: #7fbfbf\">                    </span><span style=\"color: #000080; text-decoration-color: #000080\">INFO    </span> colossalai - colossalai - <span style=\"color: #008080; text-decoration-color: #008080; font-weight: bold\">2022</span>-<span style=\"color: #008080; text-decoration-color: #008080; font-weight: bold\">03</span>-<span style=\"color: #008080; text-decoration-color: #008080; font-weight: bold\">28</span> <span style=\"color: #00ff00; text-decoration-color: #00ff00; font-weight: bold\">00:02:06</span>,<span style=\"color: #008080; text-decoration-color: #008080; font-weight: bold\">111</span> <a href=\"file:///home/fiona/anaconda3/envs/pytorch/lib/python3.9/site-packages/colossalai/logging/logging.py\" target=\"_blank\"><span style=\"color: #7f7f7f; text-decoration-color: #7f7f7f\">logging.py</span></a><span style=\"color: #7f7f7f; text-decoration-color: #7f7f7f\">:</span><a href=\"file:///home/fiona/anaconda3/envs/pytorch/lib/python3.9/site-packages/colossalai/logging/logging.py#105\" target=\"_blank\"><span style=\"color: #7f7f7f; text-decoration-color: #7f7f7f\">105</span></a>\n",
       "<span style=\"color: #7fbfbf; text-decoration-color: #7fbfbf\">                    </span>         INFO: initialized seed on rank <span style=\"color: #008080; text-decoration-color: #008080; font-weight: bold\">0</span>, numpy: <span style=\"color: #008080; text-decoration-color: #008080; font-weight: bold\">1024</span>,    <span style=\"color: #7f7f7f; text-decoration-color: #7f7f7f\">              </span>\n",
       "<span style=\"color: #7fbfbf; text-decoration-color: #7fbfbf\">                    </span>         python random: <span style=\"color: #008080; text-decoration-color: #008080; font-weight: bold\">1024</span>, ParallelMode.DATA: <span style=\"color: #008080; text-decoration-color: #008080; font-weight: bold\">1024</span>,     <span style=\"color: #7f7f7f; text-decoration-color: #7f7f7f\">              </span>\n",
       "<span style=\"color: #7fbfbf; text-decoration-color: #7fbfbf\">                    </span>         ParallelMode.TENSOR: <span style=\"color: #008080; text-decoration-color: #008080; font-weight: bold\">1024</span>,the default parallel    <span style=\"color: #7f7f7f; text-decoration-color: #7f7f7f\">              </span>\n",
       "<span style=\"color: #7fbfbf; text-decoration-color: #7fbfbf\">                    </span>         seed is ParallelMode.DATA.                        <span style=\"color: #7f7f7f; text-decoration-color: #7f7f7f\">              </span>\n",
       "</pre>\n"
      ],
      "text/plain": [
       "\u001b[2;36m                   \u001b[0m\u001b[2;36m \u001b[0m\u001b[34mINFO    \u001b[0m colossalai - colossalai - \u001b[1;36m2022\u001b[0m-\u001b[1;36m03\u001b[0m-\u001b[1;36m28\u001b[0m \u001b[1;92m00:02:06\u001b[0m,\u001b[1;36m111\u001b[0m \u001b]8;id=835769;file:///home/fiona/anaconda3/envs/pytorch/lib/python3.9/site-packages/colossalai/logging/logging.py\u001b\\\u001b[2mlogging.py\u001b[0m\u001b]8;;\u001b\\\u001b[2m:\u001b[0m\u001b]8;id=20063;file:///home/fiona/anaconda3/envs/pytorch/lib/python3.9/site-packages/colossalai/logging/logging.py#105\u001b\\\u001b[2m105\u001b[0m\u001b]8;;\u001b\\\n",
       "\u001b[2;36m                    \u001b[0m         INFO: initialized seed on rank \u001b[1;36m0\u001b[0m, numpy: \u001b[1;36m1024\u001b[0m,    \u001b[2m              \u001b[0m\n",
       "\u001b[2;36m                    \u001b[0m         python random: \u001b[1;36m1024\u001b[0m, ParallelMode.DATA: \u001b[1;36m1024\u001b[0m,     \u001b[2m              \u001b[0m\n",
       "\u001b[2;36m                    \u001b[0m         ParallelMode.TENSOR: \u001b[1;36m1024\u001b[0m,the default parallel    \u001b[2m              \u001b[0m\n",
       "\u001b[2;36m                    \u001b[0m         seed is ParallelMode.DATA.                        \u001b[2m              \u001b[0m\n"
      ]
     },
     "metadata": {},
     "output_type": "display_data"
    },
    {
     "data": {
      "text/html": [
       "<pre style=\"white-space:pre;overflow-x:auto;line-height:normal;font-family:Menlo,'DejaVu Sans Mono',consolas,'Courier New',monospace\"><span style=\"color: #7fbfbf; text-decoration-color: #7fbfbf\">                    </span><span style=\"color: #000080; text-decoration-color: #000080\">INFO    </span> colossalai - colossalai - <span style=\"color: #008080; text-decoration-color: #008080; font-weight: bold\">2022</span>-<span style=\"color: #008080; text-decoration-color: #008080; font-weight: bold\">03</span>-<span style=\"color: #008080; text-decoration-color: #008080; font-weight: bold\">28</span> <span style=\"color: #00ff00; text-decoration-color: #00ff00; font-weight: bold\">00:02:06</span>,<span style=\"color: #008080; text-decoration-color: #008080; font-weight: bold\">115</span> <a href=\"file:///home/fiona/anaconda3/envs/pytorch/lib/python3.9/site-packages/colossalai/logging/logging.py\" target=\"_blank\"><span style=\"color: #7f7f7f; text-decoration-color: #7f7f7f\">logging.py</span></a><span style=\"color: #7f7f7f; text-decoration-color: #7f7f7f\">:</span><a href=\"file:///home/fiona/anaconda3/envs/pytorch/lib/python3.9/site-packages/colossalai/logging/logging.py#109\" target=\"_blank\"><span style=\"color: #7f7f7f; text-decoration-color: #7f7f7f\">109</span></a>\n",
       "<span style=\"color: #7fbfbf; text-decoration-color: #7fbfbf\">                    </span>         INFO: Distributed environment is initialized,     <span style=\"color: #7f7f7f; text-decoration-color: #7f7f7f\">              </span>\n",
       "<span style=\"color: #7fbfbf; text-decoration-color: #7fbfbf\">                    </span>         data parallel size: <span style=\"color: #008080; text-decoration-color: #008080; font-weight: bold\">1</span>, pipeline parallel size: <span style=\"color: #008080; text-decoration-color: #008080; font-weight: bold\">1</span>, <span style=\"color: #7f7f7f; text-decoration-color: #7f7f7f\">              </span>\n",
       "<span style=\"color: #7fbfbf; text-decoration-color: #7fbfbf\">                    </span>         tensor parallel size: <span style=\"color: #008080; text-decoration-color: #008080; font-weight: bold\">1</span>                           <span style=\"color: #7f7f7f; text-decoration-color: #7f7f7f\">              </span>\n",
       "</pre>\n"
      ],
      "text/plain": [
       "\u001b[2;36m                   \u001b[0m\u001b[2;36m \u001b[0m\u001b[34mINFO    \u001b[0m colossalai - colossalai - \u001b[1;36m2022\u001b[0m-\u001b[1;36m03\u001b[0m-\u001b[1;36m28\u001b[0m \u001b[1;92m00:02:06\u001b[0m,\u001b[1;36m115\u001b[0m \u001b]8;id=506985;file:///home/fiona/anaconda3/envs/pytorch/lib/python3.9/site-packages/colossalai/logging/logging.py\u001b\\\u001b[2mlogging.py\u001b[0m\u001b]8;;\u001b\\\u001b[2m:\u001b[0m\u001b]8;id=408344;file:///home/fiona/anaconda3/envs/pytorch/lib/python3.9/site-packages/colossalai/logging/logging.py#109\u001b\\\u001b[2m109\u001b[0m\u001b]8;;\u001b\\\n",
       "\u001b[2;36m                    \u001b[0m         INFO: Distributed environment is initialized,     \u001b[2m              \u001b[0m\n",
       "\u001b[2;36m                    \u001b[0m         data parallel size: \u001b[1;36m1\u001b[0m, pipeline parallel size: \u001b[1;36m1\u001b[0m, \u001b[2m              \u001b[0m\n",
       "\u001b[2;36m                    \u001b[0m         tensor parallel size: \u001b[1;36m1\u001b[0m                           \u001b[2m              \u001b[0m\n"
      ]
     },
     "metadata": {},
     "output_type": "display_data"
    },
    {
     "name": "stdout",
     "output_type": "stream",
     "text": [
      ">>>>>> sgd lambda 0.1\n",
      "Downloading http://yann.lecun.com/exdb/mnist/train-images-idx3-ubyte.gz\n",
      "Downloading http://yann.lecun.com/exdb/mnist/train-images-idx3-ubyte.gz to tmp/MNIST/raw/train-images-idx3-ubyte.gz\n"
     ]
    },
    {
     "data": {
      "application/vnd.jupyter.widget-view+json": {
       "model_id": "63a76c5c94964a9fa2239e23ac719f10",
       "version_major": 2,
       "version_minor": 0
      },
      "text/plain": [
       "  0%|          | 0/9912422 [00:00<?, ?it/s]"
      ]
     },
     "metadata": {},
     "output_type": "display_data"
    },
    {
     "name": "stdout",
     "output_type": "stream",
     "text": [
      "Extracting tmp/MNIST/raw/train-images-idx3-ubyte.gz to tmp/MNIST/raw\n",
      "\n",
      "Downloading http://yann.lecun.com/exdb/mnist/train-labels-idx1-ubyte.gz\n",
      "Downloading http://yann.lecun.com/exdb/mnist/train-labels-idx1-ubyte.gz to tmp/MNIST/raw/train-labels-idx1-ubyte.gz\n"
     ]
    },
    {
     "data": {
      "application/vnd.jupyter.widget-view+json": {
       "model_id": "9de2ac69333e44d681003c397dfe558d",
       "version_major": 2,
       "version_minor": 0
      },
      "text/plain": [
       "  0%|          | 0/28881 [00:00<?, ?it/s]"
      ]
     },
     "metadata": {},
     "output_type": "display_data"
    },
    {
     "name": "stdout",
     "output_type": "stream",
     "text": [
      "Extracting tmp/MNIST/raw/train-labels-idx1-ubyte.gz to tmp/MNIST/raw\n",
      "\n",
      "Downloading http://yann.lecun.com/exdb/mnist/t10k-images-idx3-ubyte.gz\n",
      "Downloading http://yann.lecun.com/exdb/mnist/t10k-images-idx3-ubyte.gz to tmp/MNIST/raw/t10k-images-idx3-ubyte.gz\n"
     ]
    },
    {
     "data": {
      "application/vnd.jupyter.widget-view+json": {
       "model_id": "7a0c37025bde4d18a582554a5f84a17a",
       "version_major": 2,
       "version_minor": 0
      },
      "text/plain": [
       "  0%|          | 0/1648877 [00:00<?, ?it/s]"
      ]
     },
     "metadata": {},
     "output_type": "display_data"
    },
    {
     "name": "stdout",
     "output_type": "stream",
     "text": [
      "Extracting tmp/MNIST/raw/t10k-images-idx3-ubyte.gz to tmp/MNIST/raw\n",
      "\n",
      "Downloading http://yann.lecun.com/exdb/mnist/t10k-labels-idx1-ubyte.gz\n",
      "Downloading http://yann.lecun.com/exdb/mnist/t10k-labels-idx1-ubyte.gz to tmp/MNIST/raw/t10k-labels-idx1-ubyte.gz\n"
     ]
    },
    {
     "data": {
      "application/vnd.jupyter.widget-view+json": {
       "model_id": "7e0bd3938b2d42ad908fb9e9b9248f20",
       "version_major": 2,
       "version_minor": 0
      },
      "text/plain": [
       "  0%|          | 0/4542 [00:00<?, ?it/s]"
      ]
     },
     "metadata": {},
     "output_type": "display_data"
    },
    {
     "name": "stdout",
     "output_type": "stream",
     "text": [
      "Extracting tmp/MNIST/raw/t10k-labels-idx1-ubyte.gz to tmp/MNIST/raw\n",
      "\n"
     ]
    },
    {
     "data": {
      "text/html": [
       "<pre style=\"white-space:pre;overflow-x:auto;line-height:normal;font-family:Menlo,'DejaVu Sans Mono',consolas,'Courier New',monospace\"><span style=\"color: #7fbfbf; text-decoration-color: #7fbfbf\">[03/28/22 00:02:08] </span><span style=\"color: #000080; text-decoration-color: #000080\">INFO    </span> colossalai - colossalai - <span style=\"color: #008080; text-decoration-color: #008080; font-weight: bold\">2022</span>-<span style=\"color: #008080; text-decoration-color: #008080; font-weight: bold\">03</span>-<span style=\"color: #008080; text-decoration-color: #008080; font-weight: bold\">28</span> <span style=\"color: #00ff00; text-decoration-color: #00ff00; font-weight: bold\">00:02:08</span>,<span style=\"color: #008080; text-decoration-color: #008080; font-weight: bold\">751</span> <a href=\"file:///home/fiona/anaconda3/envs/pytorch/lib/python3.9/site-packages/colossalai/logging/logging.py\" target=\"_blank\"><span style=\"color: #7f7f7f; text-decoration-color: #7f7f7f\">logging.py</span></a><span style=\"color: #7f7f7f; text-decoration-color: #7f7f7f\">:</span><a href=\"file:///home/fiona/anaconda3/envs/pytorch/lib/python3.9/site-packages/colossalai/logging/logging.py#109\" target=\"_blank\"><span style=\"color: #7f7f7f; text-decoration-color: #7f7f7f\">109</span></a>\n",
       "<span style=\"color: #7fbfbf; text-decoration-color: #7fbfbf\">                    </span>         INFO:                                             <span style=\"color: #7f7f7f; text-decoration-color: #7f7f7f\">              </span>\n",
       "<span style=\"color: #7fbfbf; text-decoration-color: #7fbfbf\">                    </span>         ========== Your Config ========                   <span style=\"color: #7f7f7f; text-decoration-color: #7f7f7f\">              </span>\n",
       "<span style=\"color: #7fbfbf; text-decoration-color: #7fbfbf\">                    </span>         <span style=\"font-weight: bold\">{</span><span style=\"color: #008000; text-decoration-color: #008000\">'BATCH_SIZE'</span>: <span style=\"color: #008080; text-decoration-color: #008080; font-weight: bold\">128</span>, <span style=\"color: #008000; text-decoration-color: #008000\">'NUM_EPOCHS'</span>: <span style=\"color: #008080; text-decoration-color: #008080; font-weight: bold\">30</span><span style=\"font-weight: bold\">}</span>             <span style=\"color: #7f7f7f; text-decoration-color: #7f7f7f\">              </span>\n",
       "<span style=\"color: #7fbfbf; text-decoration-color: #7fbfbf\">                    </span>         ================================                  <span style=\"color: #7f7f7f; text-decoration-color: #7f7f7f\">              </span>\n",
       "<span style=\"color: #7fbfbf; text-decoration-color: #7fbfbf\">                    </span>                                                           <span style=\"color: #7f7f7f; text-decoration-color: #7f7f7f\">              </span>\n",
       "</pre>\n"
      ],
      "text/plain": [
       "\u001b[2;36m[03/28/22 00:02:08]\u001b[0m\u001b[2;36m \u001b[0m\u001b[34mINFO    \u001b[0m colossalai - colossalai - \u001b[1;36m2022\u001b[0m-\u001b[1;36m03\u001b[0m-\u001b[1;36m28\u001b[0m \u001b[1;92m00:02:08\u001b[0m,\u001b[1;36m751\u001b[0m \u001b]8;id=338916;file:///home/fiona/anaconda3/envs/pytorch/lib/python3.9/site-packages/colossalai/logging/logging.py\u001b\\\u001b[2mlogging.py\u001b[0m\u001b]8;;\u001b\\\u001b[2m:\u001b[0m\u001b]8;id=869699;file:///home/fiona/anaconda3/envs/pytorch/lib/python3.9/site-packages/colossalai/logging/logging.py#109\u001b\\\u001b[2m109\u001b[0m\u001b]8;;\u001b\\\n",
       "\u001b[2;36m                    \u001b[0m         INFO:                                             \u001b[2m              \u001b[0m\n",
       "\u001b[2;36m                    \u001b[0m         ========== Your Config ========                   \u001b[2m              \u001b[0m\n",
       "\u001b[2;36m                    \u001b[0m         \u001b[1m{\u001b[0m\u001b[32m'BATCH_SIZE'\u001b[0m: \u001b[1;36m128\u001b[0m, \u001b[32m'NUM_EPOCHS'\u001b[0m: \u001b[1;36m30\u001b[0m\u001b[1m}\u001b[0m             \u001b[2m              \u001b[0m\n",
       "\u001b[2;36m                    \u001b[0m         ================================                  \u001b[2m              \u001b[0m\n",
       "\u001b[2;36m                    \u001b[0m                                                           \u001b[2m              \u001b[0m\n"
      ]
     },
     "metadata": {},
     "output_type": "display_data"
    },
    {
     "data": {
      "text/html": [
       "<pre style=\"white-space:pre;overflow-x:auto;line-height:normal;font-family:Menlo,'DejaVu Sans Mono',consolas,'Courier New',monospace\"><span style=\"color: #7fbfbf; text-decoration-color: #7fbfbf\">                    </span><span style=\"color: #000080; text-decoration-color: #000080\">INFO    </span> colossalai - colossalai - <span style=\"color: #008080; text-decoration-color: #008080; font-weight: bold\">2022</span>-<span style=\"color: #008080; text-decoration-color: #008080; font-weight: bold\">03</span>-<span style=\"color: #008080; text-decoration-color: #008080; font-weight: bold\">28</span> <span style=\"color: #00ff00; text-decoration-color: #00ff00; font-weight: bold\">00:02:08</span>,<span style=\"color: #008080; text-decoration-color: #008080; font-weight: bold\">757</span> <a href=\"file:///home/fiona/anaconda3/envs/pytorch/lib/python3.9/site-packages/colossalai/logging/logging.py\" target=\"_blank\"><span style=\"color: #7f7f7f; text-decoration-color: #7f7f7f\">logging.py</span></a><span style=\"color: #7f7f7f; text-decoration-color: #7f7f7f\">:</span><a href=\"file:///home/fiona/anaconda3/envs/pytorch/lib/python3.9/site-packages/colossalai/logging/logging.py#109\" target=\"_blank\"><span style=\"color: #7f7f7f; text-decoration-color: #7f7f7f\">109</span></a>\n",
       "<span style=\"color: #7fbfbf; text-decoration-color: #7fbfbf\">                    </span>         INFO: cuDNN benchmark = <span style=\"color: #00ff00; text-decoration-color: #00ff00; font-style: italic\">True</span>, deterministic =     <span style=\"color: #7f7f7f; text-decoration-color: #7f7f7f\">              </span>\n",
       "<span style=\"color: #7fbfbf; text-decoration-color: #7fbfbf\">                    </span>         <span style=\"color: #ff0000; text-decoration-color: #ff0000; font-style: italic\">False</span>                                             <span style=\"color: #7f7f7f; text-decoration-color: #7f7f7f\">              </span>\n",
       "</pre>\n"
      ],
      "text/plain": [
       "\u001b[2;36m                   \u001b[0m\u001b[2;36m \u001b[0m\u001b[34mINFO    \u001b[0m colossalai - colossalai - \u001b[1;36m2022\u001b[0m-\u001b[1;36m03\u001b[0m-\u001b[1;36m28\u001b[0m \u001b[1;92m00:02:08\u001b[0m,\u001b[1;36m757\u001b[0m \u001b]8;id=831130;file:///home/fiona/anaconda3/envs/pytorch/lib/python3.9/site-packages/colossalai/logging/logging.py\u001b\\\u001b[2mlogging.py\u001b[0m\u001b]8;;\u001b\\\u001b[2m:\u001b[0m\u001b]8;id=912715;file:///home/fiona/anaconda3/envs/pytorch/lib/python3.9/site-packages/colossalai/logging/logging.py#109\u001b\\\u001b[2m109\u001b[0m\u001b]8;;\u001b\\\n",
       "\u001b[2;36m                    \u001b[0m         INFO: cuDNN benchmark = \u001b[3;92mTrue\u001b[0m, deterministic =     \u001b[2m              \u001b[0m\n",
       "\u001b[2;36m                    \u001b[0m         \u001b[3;91mFalse\u001b[0m                                             \u001b[2m              \u001b[0m\n"
      ]
     },
     "metadata": {},
     "output_type": "display_data"
    },
    {
     "data": {
      "text/html": [
       "<pre style=\"white-space:pre;overflow-x:auto;line-height:normal;font-family:Menlo,'DejaVu Sans Mono',consolas,'Courier New',monospace\"><span style=\"color: #7fbfbf; text-decoration-color: #7fbfbf\">[03/28/22 00:02:11] </span><span style=\"color: #800000; text-decoration-color: #800000\">WARNING </span> colossalai - colossalai - <span style=\"color: #008080; text-decoration-color: #008080; font-weight: bold\">2022</span>-<span style=\"color: #008080; text-decoration-color: #008080; font-weight: bold\">03</span>-<span style=\"color: #008080; text-decoration-color: #008080; font-weight: bold\">28</span> <span style=\"color: #00ff00; text-decoration-color: #00ff00; font-weight: bold\">00:02:11</span>,<span style=\"color: #008080; text-decoration-color: #008080; font-weight: bold\">154</span> <a href=\"file:///home/fiona/anaconda3/envs/pytorch/lib/python3.9/site-packages/colossalai/logging/logging.py\" target=\"_blank\"><span style=\"color: #7f7f7f; text-decoration-color: #7f7f7f\">logging.py</span></a><span style=\"color: #7f7f7f; text-decoration-color: #7f7f7f\">:</span><a href=\"file:///home/fiona/anaconda3/envs/pytorch/lib/python3.9/site-packages/colossalai/logging/logging.py#105\" target=\"_blank\"><span style=\"color: #7f7f7f; text-decoration-color: #7f7f7f\">105</span></a>\n",
       "<span style=\"color: #7fbfbf; text-decoration-color: #7fbfbf\">                    </span>         WARNING: Initializing an non ZeRO model with      <span style=\"color: #7f7f7f; text-decoration-color: #7f7f7f\">              </span>\n",
       "<span style=\"color: #7fbfbf; text-decoration-color: #7fbfbf\">                    </span>         optimizer class                                   <span style=\"color: #7f7f7f; text-decoration-color: #7f7f7f\">              </span>\n",
       "</pre>\n"
      ],
      "text/plain": [
       "\u001b[2;36m[03/28/22 00:02:11]\u001b[0m\u001b[2;36m \u001b[0m\u001b[31mWARNING \u001b[0m colossalai - colossalai - \u001b[1;36m2022\u001b[0m-\u001b[1;36m03\u001b[0m-\u001b[1;36m28\u001b[0m \u001b[1;92m00:02:11\u001b[0m,\u001b[1;36m154\u001b[0m \u001b]8;id=545030;file:///home/fiona/anaconda3/envs/pytorch/lib/python3.9/site-packages/colossalai/logging/logging.py\u001b\\\u001b[2mlogging.py\u001b[0m\u001b]8;;\u001b\\\u001b[2m:\u001b[0m\u001b]8;id=105313;file:///home/fiona/anaconda3/envs/pytorch/lib/python3.9/site-packages/colossalai/logging/logging.py#105\u001b\\\u001b[2m105\u001b[0m\u001b]8;;\u001b\\\n",
       "\u001b[2;36m                    \u001b[0m         WARNING: Initializing an non ZeRO model with      \u001b[2m              \u001b[0m\n",
       "\u001b[2;36m                    \u001b[0m         optimizer class                                   \u001b[2m              \u001b[0m\n"
      ]
     },
     "metadata": {},
     "output_type": "display_data"
    },
    {
     "data": {
      "text/html": [
       "<pre style=\"white-space:pre;overflow-x:auto;line-height:normal;font-family:Menlo,'DejaVu Sans Mono',consolas,'Courier New',monospace\"><span style=\"color: #7fbfbf; text-decoration-color: #7fbfbf\">                    </span><span style=\"color: #800000; text-decoration-color: #800000\">WARNING </span> colossalai - colossalai - <span style=\"color: #008080; text-decoration-color: #008080; font-weight: bold\">2022</span>-<span style=\"color: #008080; text-decoration-color: #008080; font-weight: bold\">03</span>-<span style=\"color: #008080; text-decoration-color: #008080; font-weight: bold\">28</span> <span style=\"color: #00ff00; text-decoration-color: #00ff00; font-weight: bold\">00:02:11</span>,<span style=\"color: #008080; text-decoration-color: #008080; font-weight: bold\">158</span> <a href=\"file:///home/fiona/anaconda3/envs/pytorch/lib/python3.9/site-packages/colossalai/logging/logging.py\" target=\"_blank\"><span style=\"color: #7f7f7f; text-decoration-color: #7f7f7f\">logging.py</span></a><span style=\"color: #7f7f7f; text-decoration-color: #7f7f7f\">:</span><a href=\"file:///home/fiona/anaconda3/envs/pytorch/lib/python3.9/site-packages/colossalai/logging/logging.py#109\" target=\"_blank\"><span style=\"color: #7f7f7f; text-decoration-color: #7f7f7f\">109</span></a>\n",
       "<span style=\"color: #7fbfbf; text-decoration-color: #7fbfbf\">                    </span>         WARNING: No PyTorch DDP or gradient handler is    <span style=\"color: #7f7f7f; text-decoration-color: #7f7f7f\">              </span>\n",
       "<span style=\"color: #7fbfbf; text-decoration-color: #7fbfbf\">                    </span>         set up, please make sure you do not need to       <span style=\"color: #7f7f7f; text-decoration-color: #7f7f7f\">              </span>\n",
       "<span style=\"color: #7fbfbf; text-decoration-color: #7fbfbf\">                    </span>         all-reduce the gradients after a training step.   <span style=\"color: #7f7f7f; text-decoration-color: #7f7f7f\">              </span>\n",
       "</pre>\n"
      ],
      "text/plain": [
       "\u001b[2;36m                   \u001b[0m\u001b[2;36m \u001b[0m\u001b[31mWARNING \u001b[0m colossalai - colossalai - \u001b[1;36m2022\u001b[0m-\u001b[1;36m03\u001b[0m-\u001b[1;36m28\u001b[0m \u001b[1;92m00:02:11\u001b[0m,\u001b[1;36m158\u001b[0m \u001b]8;id=466742;file:///home/fiona/anaconda3/envs/pytorch/lib/python3.9/site-packages/colossalai/logging/logging.py\u001b\\\u001b[2mlogging.py\u001b[0m\u001b]8;;\u001b\\\u001b[2m:\u001b[0m\u001b]8;id=537792;file:///home/fiona/anaconda3/envs/pytorch/lib/python3.9/site-packages/colossalai/logging/logging.py#109\u001b\\\u001b[2m109\u001b[0m\u001b]8;;\u001b\\\n",
       "\u001b[2;36m                    \u001b[0m         WARNING: No PyTorch DDP or gradient handler is    \u001b[2m              \u001b[0m\n",
       "\u001b[2;36m                    \u001b[0m         set up, please make sure you do not need to       \u001b[2m              \u001b[0m\n",
       "\u001b[2;36m                    \u001b[0m         all-reduce the gradients after a training step.   \u001b[2m              \u001b[0m\n"
      ]
     },
     "metadata": {},
     "output_type": "display_data"
    },
    {
     "data": {
      "text/html": [
       "<pre style=\"white-space:pre;overflow-x:auto;line-height:normal;font-family:Menlo,'DejaVu Sans Mono',consolas,'Courier New',monospace\"><span style=\"color: #7fbfbf; text-decoration-color: #7fbfbf\">                    </span><span style=\"color: #000080; text-decoration-color: #000080\">INFO    </span> colossalai - colossalai - <span style=\"color: #008080; text-decoration-color: #008080; font-weight: bold\">2022</span>-<span style=\"color: #008080; text-decoration-color: #008080; font-weight: bold\">03</span>-<span style=\"color: #008080; text-decoration-color: #008080; font-weight: bold\">28</span> <span style=\"color: #00ff00; text-decoration-color: #00ff00; font-weight: bold\">00:02:11</span>,<span style=\"color: #008080; text-decoration-color: #008080; font-weight: bold\">221</span> <a href=\"file:///home/fiona/anaconda3/envs/pytorch/lib/python3.9/site-packages/colossalai/logging/logging.py\" target=\"_blank\"><span style=\"color: #7f7f7f; text-decoration-color: #7f7f7f\">logging.py</span></a><span style=\"color: #7f7f7f; text-decoration-color: #7f7f7f\">:</span><a href=\"file:///home/fiona/anaconda3/envs/pytorch/lib/python3.9/site-packages/colossalai/logging/logging.py#109\" target=\"_blank\"><span style=\"color: #7f7f7f; text-decoration-color: #7f7f7f\">109</span></a>\n",
       "<span style=\"color: #7fbfbf; text-decoration-color: #7fbfbf\">                    </span>         INFO: Using LossHook for training, priority = <span style=\"color: #008080; text-decoration-color: #008080; font-weight: bold\">0</span>   <span style=\"color: #7f7f7f; text-decoration-color: #7f7f7f\">              </span>\n",
       "</pre>\n"
      ],
      "text/plain": [
       "\u001b[2;36m                   \u001b[0m\u001b[2;36m \u001b[0m\u001b[34mINFO    \u001b[0m colossalai - colossalai - \u001b[1;36m2022\u001b[0m-\u001b[1;36m03\u001b[0m-\u001b[1;36m28\u001b[0m \u001b[1;92m00:02:11\u001b[0m,\u001b[1;36m221\u001b[0m \u001b]8;id=383671;file:///home/fiona/anaconda3/envs/pytorch/lib/python3.9/site-packages/colossalai/logging/logging.py\u001b\\\u001b[2mlogging.py\u001b[0m\u001b]8;;\u001b\\\u001b[2m:\u001b[0m\u001b]8;id=847219;file:///home/fiona/anaconda3/envs/pytorch/lib/python3.9/site-packages/colossalai/logging/logging.py#109\u001b\\\u001b[2m109\u001b[0m\u001b]8;;\u001b\\\n",
       "\u001b[2;36m                    \u001b[0m         INFO: Using LossHook for training, priority = \u001b[1;36m0\u001b[0m   \u001b[2m              \u001b[0m\n"
      ]
     },
     "metadata": {},
     "output_type": "display_data"
    },
    {
     "data": {
      "text/html": [
       "<pre style=\"white-space:pre;overflow-x:auto;line-height:normal;font-family:Menlo,'DejaVu Sans Mono',consolas,'Courier New',monospace\"><span style=\"color: #7fbfbf; text-decoration-color: #7fbfbf\">                    </span><span style=\"color: #000080; text-decoration-color: #000080\">INFO    </span> colossalai - colossalai - <span style=\"color: #008080; text-decoration-color: #008080; font-weight: bold\">2022</span>-<span style=\"color: #008080; text-decoration-color: #008080; font-weight: bold\">03</span>-<span style=\"color: #008080; text-decoration-color: #008080; font-weight: bold\">28</span> <span style=\"color: #00ff00; text-decoration-color: #00ff00; font-weight: bold\">00:02:11</span>,<span style=\"color: #008080; text-decoration-color: #008080; font-weight: bold\">225</span> <a href=\"file:///home/fiona/anaconda3/envs/pytorch/lib/python3.9/site-packages/colossalai/logging/logging.py\" target=\"_blank\"><span style=\"color: #7f7f7f; text-decoration-color: #7f7f7f\">logging.py</span></a><span style=\"color: #7f7f7f; text-decoration-color: #7f7f7f\">:</span><a href=\"file:///home/fiona/anaconda3/envs/pytorch/lib/python3.9/site-packages/colossalai/logging/logging.py#109\" target=\"_blank\"><span style=\"color: #7f7f7f; text-decoration-color: #7f7f7f\">109</span></a>\n",
       "<span style=\"color: #7fbfbf; text-decoration-color: #7fbfbf\">                    </span>         INFO: Using LRSchedulerHook for training,         <span style=\"color: #7f7f7f; text-decoration-color: #7f7f7f\">              </span>\n",
       "<span style=\"color: #7fbfbf; text-decoration-color: #7fbfbf\">                    </span>         priority = <span style=\"color: #008080; text-decoration-color: #008080; font-weight: bold\">1</span>                                      <span style=\"color: #7f7f7f; text-decoration-color: #7f7f7f\">              </span>\n",
       "</pre>\n"
      ],
      "text/plain": [
       "\u001b[2;36m                   \u001b[0m\u001b[2;36m \u001b[0m\u001b[34mINFO    \u001b[0m colossalai - colossalai - \u001b[1;36m2022\u001b[0m-\u001b[1;36m03\u001b[0m-\u001b[1;36m28\u001b[0m \u001b[1;92m00:02:11\u001b[0m,\u001b[1;36m225\u001b[0m \u001b]8;id=756882;file:///home/fiona/anaconda3/envs/pytorch/lib/python3.9/site-packages/colossalai/logging/logging.py\u001b\\\u001b[2mlogging.py\u001b[0m\u001b]8;;\u001b\\\u001b[2m:\u001b[0m\u001b]8;id=846255;file:///home/fiona/anaconda3/envs/pytorch/lib/python3.9/site-packages/colossalai/logging/logging.py#109\u001b\\\u001b[2m109\u001b[0m\u001b]8;;\u001b\\\n",
       "\u001b[2;36m                    \u001b[0m         INFO: Using LRSchedulerHook for training,         \u001b[2m              \u001b[0m\n",
       "\u001b[2;36m                    \u001b[0m         priority = \u001b[1;36m1\u001b[0m                                      \u001b[2m              \u001b[0m\n"
      ]
     },
     "metadata": {},
     "output_type": "display_data"
    },
    {
     "data": {
      "text/html": [
       "<pre style=\"white-space:pre;overflow-x:auto;line-height:normal;font-family:Menlo,'DejaVu Sans Mono',consolas,'Courier New',monospace\"><span style=\"color: #7fbfbf; text-decoration-color: #7fbfbf\">                    </span><span style=\"color: #000080; text-decoration-color: #000080\">INFO    </span> colossalai - colossalai - <span style=\"color: #008080; text-decoration-color: #008080; font-weight: bold\">2022</span>-<span style=\"color: #008080; text-decoration-color: #008080; font-weight: bold\">03</span>-<span style=\"color: #008080; text-decoration-color: #008080; font-weight: bold\">28</span> <span style=\"color: #00ff00; text-decoration-color: #00ff00; font-weight: bold\">00:02:11</span>,<span style=\"color: #008080; text-decoration-color: #008080; font-weight: bold\">228</span> <a href=\"file:///home/fiona/anaconda3/envs/pytorch/lib/python3.9/site-packages/colossalai/logging/logging.py\" target=\"_blank\"><span style=\"color: #7f7f7f; text-decoration-color: #7f7f7f\">logging.py</span></a><span style=\"color: #7f7f7f; text-decoration-color: #7f7f7f\">:</span><a href=\"file:///home/fiona/anaconda3/envs/pytorch/lib/python3.9/site-packages/colossalai/logging/logging.py#109\" target=\"_blank\"><span style=\"color: #7f7f7f; text-decoration-color: #7f7f7f\">109</span></a>\n",
       "<span style=\"color: #7fbfbf; text-decoration-color: #7fbfbf\">                    </span>         INFO: Using LogMetricByEpochHook for training,    <span style=\"color: #7f7f7f; text-decoration-color: #7f7f7f\">              </span>\n",
       "<span style=\"color: #7fbfbf; text-decoration-color: #7fbfbf\">                    </span>         priority = <span style=\"color: #008080; text-decoration-color: #008080; font-weight: bold\">10</span>                                     <span style=\"color: #7f7f7f; text-decoration-color: #7f7f7f\">              </span>\n",
       "</pre>\n"
      ],
      "text/plain": [
       "\u001b[2;36m                   \u001b[0m\u001b[2;36m \u001b[0m\u001b[34mINFO    \u001b[0m colossalai - colossalai - \u001b[1;36m2022\u001b[0m-\u001b[1;36m03\u001b[0m-\u001b[1;36m28\u001b[0m \u001b[1;92m00:02:11\u001b[0m,\u001b[1;36m228\u001b[0m \u001b]8;id=750747;file:///home/fiona/anaconda3/envs/pytorch/lib/python3.9/site-packages/colossalai/logging/logging.py\u001b\\\u001b[2mlogging.py\u001b[0m\u001b]8;;\u001b\\\u001b[2m:\u001b[0m\u001b]8;id=386742;file:///home/fiona/anaconda3/envs/pytorch/lib/python3.9/site-packages/colossalai/logging/logging.py#109\u001b\\\u001b[2m109\u001b[0m\u001b]8;;\u001b\\\n",
       "\u001b[2;36m                    \u001b[0m         INFO: Using LogMetricByEpochHook for training,    \u001b[2m              \u001b[0m\n",
       "\u001b[2;36m                    \u001b[0m         priority = \u001b[1;36m10\u001b[0m                                     \u001b[2m              \u001b[0m\n"
      ]
     },
     "metadata": {},
     "output_type": "display_data"
    },
    {
     "data": {
      "text/html": [
       "<pre style=\"white-space:pre;overflow-x:auto;line-height:normal;font-family:Menlo,'DejaVu Sans Mono',consolas,'Courier New',monospace\"><span style=\"color: #7fbfbf; text-decoration-color: #7fbfbf\">                    </span><span style=\"color: #000080; text-decoration-color: #000080\">INFO    </span> colossalai - colossalai - <span style=\"color: #008080; text-decoration-color: #008080; font-weight: bold\">2022</span>-<span style=\"color: #008080; text-decoration-color: #008080; font-weight: bold\">03</span>-<span style=\"color: #008080; text-decoration-color: #008080; font-weight: bold\">28</span> <span style=\"color: #00ff00; text-decoration-color: #00ff00; font-weight: bold\">00:02:11</span>,<span style=\"color: #008080; text-decoration-color: #008080; font-weight: bold\">230</span> <a href=\"file:///home/fiona/anaconda3/envs/pytorch/lib/python3.9/site-packages/colossalai/logging/logging.py\" target=\"_blank\"><span style=\"color: #7f7f7f; text-decoration-color: #7f7f7f\">logging.py</span></a><span style=\"color: #7f7f7f; text-decoration-color: #7f7f7f\">:</span><a href=\"file:///home/fiona/anaconda3/envs/pytorch/lib/python3.9/site-packages/colossalai/logging/logging.py#109\" target=\"_blank\"><span style=\"color: #7f7f7f; text-decoration-color: #7f7f7f\">109</span></a>\n",
       "<span style=\"color: #7fbfbf; text-decoration-color: #7fbfbf\">                    </span>         INFO: Using LogMemoryByEpochHook for training,    <span style=\"color: #7f7f7f; text-decoration-color: #7f7f7f\">              </span>\n",
       "<span style=\"color: #7fbfbf; text-decoration-color: #7fbfbf\">                    </span>         priority = <span style=\"color: #008080; text-decoration-color: #008080; font-weight: bold\">10</span>                                     <span style=\"color: #7f7f7f; text-decoration-color: #7f7f7f\">              </span>\n",
       "</pre>\n"
      ],
      "text/plain": [
       "\u001b[2;36m                   \u001b[0m\u001b[2;36m \u001b[0m\u001b[34mINFO    \u001b[0m colossalai - colossalai - \u001b[1;36m2022\u001b[0m-\u001b[1;36m03\u001b[0m-\u001b[1;36m28\u001b[0m \u001b[1;92m00:02:11\u001b[0m,\u001b[1;36m230\u001b[0m \u001b]8;id=407266;file:///home/fiona/anaconda3/envs/pytorch/lib/python3.9/site-packages/colossalai/logging/logging.py\u001b\\\u001b[2mlogging.py\u001b[0m\u001b]8;;\u001b\\\u001b[2m:\u001b[0m\u001b]8;id=832621;file:///home/fiona/anaconda3/envs/pytorch/lib/python3.9/site-packages/colossalai/logging/logging.py#109\u001b\\\u001b[2m109\u001b[0m\u001b]8;;\u001b\\\n",
       "\u001b[2;36m                    \u001b[0m         INFO: Using LogMemoryByEpochHook for training,    \u001b[2m              \u001b[0m\n",
       "\u001b[2;36m                    \u001b[0m         priority = \u001b[1;36m10\u001b[0m                                     \u001b[2m              \u001b[0m\n"
      ]
     },
     "metadata": {},
     "output_type": "display_data"
    },
    {
     "data": {
      "text/html": [
       "<pre style=\"white-space:pre;overflow-x:auto;line-height:normal;font-family:Menlo,'DejaVu Sans Mono',consolas,'Courier New',monospace\"><span style=\"color: #7fbfbf; text-decoration-color: #7fbfbf\">                    </span><span style=\"color: #000080; text-decoration-color: #000080\">INFO    </span> colossalai - colossalai - <span style=\"color: #008080; text-decoration-color: #008080; font-weight: bold\">2022</span>-<span style=\"color: #008080; text-decoration-color: #008080; font-weight: bold\">03</span>-<span style=\"color: #008080; text-decoration-color: #008080; font-weight: bold\">28</span> <span style=\"color: #00ff00; text-decoration-color: #00ff00; font-weight: bold\">00:02:11</span>,<span style=\"color: #008080; text-decoration-color: #008080; font-weight: bold\">233</span> <a href=\"file:///home/fiona/anaconda3/envs/pytorch/lib/python3.9/site-packages/colossalai/logging/logging.py\" target=\"_blank\"><span style=\"color: #7f7f7f; text-decoration-color: #7f7f7f\">logging.py</span></a><span style=\"color: #7f7f7f; text-decoration-color: #7f7f7f\">:</span><a href=\"file:///home/fiona/anaconda3/envs/pytorch/lib/python3.9/site-packages/colossalai/logging/logging.py#109\" target=\"_blank\"><span style=\"color: #7f7f7f; text-decoration-color: #7f7f7f\">109</span></a>\n",
       "<span style=\"color: #7fbfbf; text-decoration-color: #7fbfbf\">                    </span>         INFO: Using LogTimingByEpochHook for training,    <span style=\"color: #7f7f7f; text-decoration-color: #7f7f7f\">              </span>\n",
       "<span style=\"color: #7fbfbf; text-decoration-color: #7fbfbf\">                    </span>         priority = <span style=\"color: #008080; text-decoration-color: #008080; font-weight: bold\">10</span>                                     <span style=\"color: #7f7f7f; text-decoration-color: #7f7f7f\">              </span>\n",
       "</pre>\n"
      ],
      "text/plain": [
       "\u001b[2;36m                   \u001b[0m\u001b[2;36m \u001b[0m\u001b[34mINFO    \u001b[0m colossalai - colossalai - \u001b[1;36m2022\u001b[0m-\u001b[1;36m03\u001b[0m-\u001b[1;36m28\u001b[0m \u001b[1;92m00:02:11\u001b[0m,\u001b[1;36m233\u001b[0m \u001b]8;id=100681;file:///home/fiona/anaconda3/envs/pytorch/lib/python3.9/site-packages/colossalai/logging/logging.py\u001b\\\u001b[2mlogging.py\u001b[0m\u001b]8;;\u001b\\\u001b[2m:\u001b[0m\u001b]8;id=745997;file:///home/fiona/anaconda3/envs/pytorch/lib/python3.9/site-packages/colossalai/logging/logging.py#109\u001b\\\u001b[2m109\u001b[0m\u001b]8;;\u001b\\\n",
       "\u001b[2;36m                    \u001b[0m         INFO: Using LogTimingByEpochHook for training,    \u001b[2m              \u001b[0m\n",
       "\u001b[2;36m                    \u001b[0m         priority = \u001b[1;36m10\u001b[0m                                     \u001b[2m              \u001b[0m\n"
      ]
     },
     "metadata": {},
     "output_type": "display_data"
    },
    {
     "data": {
      "text/html": [
       "<pre style=\"white-space:pre;overflow-x:auto;line-height:normal;font-family:Menlo,'DejaVu Sans Mono',consolas,'Courier New',monospace\"><span style=\"color: #7fbfbf; text-decoration-color: #7fbfbf\">                    </span><span style=\"color: #000080; text-decoration-color: #000080\">INFO    </span> colossalai - colossalai - <span style=\"color: #008080; text-decoration-color: #008080; font-weight: bold\">2022</span>-<span style=\"color: #008080; text-decoration-color: #008080; font-weight: bold\">03</span>-<span style=\"color: #008080; text-decoration-color: #008080; font-weight: bold\">28</span> <span style=\"color: #00ff00; text-decoration-color: #00ff00; font-weight: bold\">00:02:11</span>,<span style=\"color: #008080; text-decoration-color: #008080; font-weight: bold\">236</span> <a href=\"file:///home/fiona/anaconda3/envs/pytorch/lib/python3.9/site-packages/colossalai/logging/logging.py\" target=\"_blank\"><span style=\"color: #7f7f7f; text-decoration-color: #7f7f7f\">logging.py</span></a><span style=\"color: #7f7f7f; text-decoration-color: #7f7f7f\">:</span><a href=\"file:///home/fiona/anaconda3/envs/pytorch/lib/python3.9/site-packages/colossalai/logging/logging.py#109\" target=\"_blank\"><span style=\"color: #7f7f7f; text-decoration-color: #7f7f7f\">109</span></a>\n",
       "<span style=\"color: #7fbfbf; text-decoration-color: #7fbfbf\">                    </span>         INFO: Using TensorboardHook for training,         <span style=\"color: #7f7f7f; text-decoration-color: #7f7f7f\">              </span>\n",
       "<span style=\"color: #7fbfbf; text-decoration-color: #7fbfbf\">                    </span>         priority = <span style=\"color: #008080; text-decoration-color: #008080; font-weight: bold\">10</span>                                     <span style=\"color: #7f7f7f; text-decoration-color: #7f7f7f\">              </span>\n",
       "</pre>\n"
      ],
      "text/plain": [
       "\u001b[2;36m                   \u001b[0m\u001b[2;36m \u001b[0m\u001b[34mINFO    \u001b[0m colossalai - colossalai - \u001b[1;36m2022\u001b[0m-\u001b[1;36m03\u001b[0m-\u001b[1;36m28\u001b[0m \u001b[1;92m00:02:11\u001b[0m,\u001b[1;36m236\u001b[0m \u001b]8;id=781049;file:///home/fiona/anaconda3/envs/pytorch/lib/python3.9/site-packages/colossalai/logging/logging.py\u001b\\\u001b[2mlogging.py\u001b[0m\u001b]8;;\u001b\\\u001b[2m:\u001b[0m\u001b]8;id=916139;file:///home/fiona/anaconda3/envs/pytorch/lib/python3.9/site-packages/colossalai/logging/logging.py#109\u001b\\\u001b[2m109\u001b[0m\u001b]8;;\u001b\\\n",
       "\u001b[2;36m                    \u001b[0m         INFO: Using TensorboardHook for training,         \u001b[2m              \u001b[0m\n",
       "\u001b[2;36m                    \u001b[0m         priority = \u001b[1;36m10\u001b[0m                                     \u001b[2m              \u001b[0m\n"
      ]
     },
     "metadata": {},
     "output_type": "display_data"
    },
    {
     "data": {
      "text/html": [
       "<pre style=\"white-space:pre;overflow-x:auto;line-height:normal;font-family:Menlo,'DejaVu Sans Mono',consolas,'Courier New',monospace\"><span style=\"color: #7fbfbf; text-decoration-color: #7fbfbf\">                    </span><span style=\"color: #000080; text-decoration-color: #000080\">INFO    </span> colossalai - colossalai - <span style=\"color: #008080; text-decoration-color: #008080; font-weight: bold\">2022</span>-<span style=\"color: #008080; text-decoration-color: #008080; font-weight: bold\">03</span>-<span style=\"color: #008080; text-decoration-color: #008080; font-weight: bold\">28</span> <span style=\"color: #00ff00; text-decoration-color: #00ff00; font-weight: bold\">00:02:11</span>,<span style=\"color: #008080; text-decoration-color: #008080; font-weight: bold\">239</span> <a href=\"file:///home/fiona/anaconda3/envs/pytorch/lib/python3.9/site-packages/colossalai/logging/logging.py\" target=\"_blank\"><span style=\"color: #7f7f7f; text-decoration-color: #7f7f7f\">logging.py</span></a><span style=\"color: #7f7f7f; text-decoration-color: #7f7f7f\">:</span><a href=\"file:///home/fiona/anaconda3/envs/pytorch/lib/python3.9/site-packages/colossalai/logging/logging.py#109\" target=\"_blank\"><span style=\"color: #7f7f7f; text-decoration-color: #7f7f7f\">109</span></a>\n",
       "<span style=\"color: #7fbfbf; text-decoration-color: #7fbfbf\">                    </span>         INFO: Lower value means higher priority for       <span style=\"color: #7f7f7f; text-decoration-color: #7f7f7f\">              </span>\n",
       "<span style=\"color: #7fbfbf; text-decoration-color: #7fbfbf\">                    </span>         calling hook function                             <span style=\"color: #7f7f7f; text-decoration-color: #7f7f7f\">              </span>\n",
       "</pre>\n"
      ],
      "text/plain": [
       "\u001b[2;36m                   \u001b[0m\u001b[2;36m \u001b[0m\u001b[34mINFO    \u001b[0m colossalai - colossalai - \u001b[1;36m2022\u001b[0m-\u001b[1;36m03\u001b[0m-\u001b[1;36m28\u001b[0m \u001b[1;92m00:02:11\u001b[0m,\u001b[1;36m239\u001b[0m \u001b]8;id=146962;file:///home/fiona/anaconda3/envs/pytorch/lib/python3.9/site-packages/colossalai/logging/logging.py\u001b\\\u001b[2mlogging.py\u001b[0m\u001b]8;;\u001b\\\u001b[2m:\u001b[0m\u001b]8;id=836397;file:///home/fiona/anaconda3/envs/pytorch/lib/python3.9/site-packages/colossalai/logging/logging.py#109\u001b\\\u001b[2m109\u001b[0m\u001b]8;;\u001b\\\n",
       "\u001b[2;36m                    \u001b[0m         INFO: Lower value means higher priority for       \u001b[2m              \u001b[0m\n",
       "\u001b[2;36m                    \u001b[0m         calling hook function                             \u001b[2m              \u001b[0m\n"
      ]
     },
     "metadata": {},
     "output_type": "display_data"
    },
    {
     "data": {
      "text/html": [
       "<pre style=\"white-space:pre;overflow-x:auto;line-height:normal;font-family:Menlo,'DejaVu Sans Mono',consolas,'Courier New',monospace\"><span style=\"color: #7fbfbf; text-decoration-color: #7fbfbf\">                    </span><span style=\"color: #000080; text-decoration-color: #000080\">INFO    </span> colossalai - colossalai - <span style=\"color: #008080; text-decoration-color: #008080; font-weight: bold\">2022</span>-<span style=\"color: #008080; text-decoration-color: #008080; font-weight: bold\">03</span>-<span style=\"color: #008080; text-decoration-color: #008080; font-weight: bold\">28</span> <span style=\"color: #00ff00; text-decoration-color: #00ff00; font-weight: bold\">00:02:11</span>,<span style=\"color: #008080; text-decoration-color: #008080; font-weight: bold\">243</span> <a href=\"file:///home/fiona/anaconda3/envs/pytorch/lib/python3.9/site-packages/colossalai/logging/logging.py\" target=\"_blank\"><span style=\"color: #7f7f7f; text-decoration-color: #7f7f7f\">logging.py</span></a><span style=\"color: #7f7f7f; text-decoration-color: #7f7f7f\">:</span><a href=\"file:///home/fiona/anaconda3/envs/pytorch/lib/python3.9/site-packages/colossalai/logging/logging.py#105\" target=\"_blank\"><span style=\"color: #7f7f7f; text-decoration-color: #7f7f7f\">105</span></a>\n",
       "<span style=\"color: #7fbfbf; text-decoration-color: #7fbfbf\">                    </span>         INFO: Before-train: GPU: allocated <span style=\"color: #008080; text-decoration-color: #008080; font-weight: bold\">0.24</span> MB, max   <span style=\"color: #7f7f7f; text-decoration-color: #7f7f7f\">              </span>\n",
       "<span style=\"color: #7fbfbf; text-decoration-color: #7fbfbf\">                    </span>         allocated <span style=\"color: #008080; text-decoration-color: #008080; font-weight: bold\">0.24</span> MB, cached: <span style=\"color: #008080; text-decoration-color: #008080; font-weight: bold\">2.0</span> MB, max cached:    <span style=\"color: #7f7f7f; text-decoration-color: #7f7f7f\">              </span>\n",
       "<span style=\"color: #7fbfbf; text-decoration-color: #7fbfbf\">                    </span>         <span style=\"color: #008080; text-decoration-color: #008080; font-weight: bold\">2.0</span> MB                                            <span style=\"color: #7f7f7f; text-decoration-color: #7f7f7f\">              </span>\n",
       "</pre>\n"
      ],
      "text/plain": [
       "\u001b[2;36m                   \u001b[0m\u001b[2;36m \u001b[0m\u001b[34mINFO    \u001b[0m colossalai - colossalai - \u001b[1;36m2022\u001b[0m-\u001b[1;36m03\u001b[0m-\u001b[1;36m28\u001b[0m \u001b[1;92m00:02:11\u001b[0m,\u001b[1;36m243\u001b[0m \u001b]8;id=408446;file:///home/fiona/anaconda3/envs/pytorch/lib/python3.9/site-packages/colossalai/logging/logging.py\u001b\\\u001b[2mlogging.py\u001b[0m\u001b]8;;\u001b\\\u001b[2m:\u001b[0m\u001b]8;id=107259;file:///home/fiona/anaconda3/envs/pytorch/lib/python3.9/site-packages/colossalai/logging/logging.py#105\u001b\\\u001b[2m105\u001b[0m\u001b]8;;\u001b\\\n",
       "\u001b[2;36m                    \u001b[0m         INFO: Before-train: GPU: allocated \u001b[1;36m0.24\u001b[0m MB, max   \u001b[2m              \u001b[0m\n",
       "\u001b[2;36m                    \u001b[0m         allocated \u001b[1;36m0.24\u001b[0m MB, cached: \u001b[1;36m2.0\u001b[0m MB, max cached:    \u001b[2m              \u001b[0m\n",
       "\u001b[2;36m                    \u001b[0m         \u001b[1;36m2.0\u001b[0m MB                                            \u001b[2m              \u001b[0m\n"
      ]
     },
     "metadata": {},
     "output_type": "display_data"
    },
    {
     "name": "stderr",
     "output_type": "stream",
     "text": [
      "[Epoch 0 / Train]: 100%|██████████████████████████████████████████████████████████████| 469/469 [00:10<00:00, 43.58it/s]\n"
     ]
    },
    {
     "data": {
      "text/html": [
       "<pre style=\"white-space:pre;overflow-x:auto;line-height:normal;font-family:Menlo,'DejaVu Sans Mono',consolas,'Courier New',monospace\"><span style=\"color: #7fbfbf; text-decoration-color: #7fbfbf\">[03/28/22 00:02:22] </span><span style=\"color: #000080; text-decoration-color: #000080\">INFO    </span> colossalai - colossalai - <span style=\"color: #008080; text-decoration-color: #008080; font-weight: bold\">2022</span>-<span style=\"color: #008080; text-decoration-color: #008080; font-weight: bold\">03</span>-<span style=\"color: #008080; text-decoration-color: #008080; font-weight: bold\">28</span> <span style=\"color: #00ff00; text-decoration-color: #00ff00; font-weight: bold\">00:02:22</span>,<span style=\"color: #008080; text-decoration-color: #008080; font-weight: bold\">225</span> <a href=\"file:///home/fiona/anaconda3/envs/pytorch/lib/python3.9/site-packages/colossalai/logging/logging.py\" target=\"_blank\"><span style=\"color: #7f7f7f; text-decoration-color: #7f7f7f\">logging.py</span></a><span style=\"color: #7f7f7f; text-decoration-color: #7f7f7f\">:</span><a href=\"file:///home/fiona/anaconda3/envs/pytorch/lib/python3.9/site-packages/colossalai/logging/logging.py#105\" target=\"_blank\"><span style=\"color: #7f7f7f; text-decoration-color: #7f7f7f\">105</span></a>\n",
       "<span style=\"color: #7fbfbf; text-decoration-color: #7fbfbf\">                    </span>         INFO: <span style=\"font-weight: bold\">[</span>Epoch <span style=\"color: #008080; text-decoration-color: #008080; font-weight: bold\">0</span> <span style=\"color: #800080; text-decoration-color: #800080\">/</span> Train<span style=\"font-weight: bold\">]</span>: Loss = <span style=\"color: #008080; text-decoration-color: #008080; font-weight: bold\">2.3106</span> | LR =     <span style=\"color: #7f7f7f; text-decoration-color: #7f7f7f\">              </span>\n",
       "<span style=\"color: #7fbfbf; text-decoration-color: #7fbfbf\">                    </span>         <span style=\"color: #008080; text-decoration-color: #008080; font-weight: bold\">1.5849e-06</span>                                        <span style=\"color: #7f7f7f; text-decoration-color: #7f7f7f\">              </span>\n",
       "</pre>\n"
      ],
      "text/plain": [
       "\u001b[2;36m[03/28/22 00:02:22]\u001b[0m\u001b[2;36m \u001b[0m\u001b[34mINFO    \u001b[0m colossalai - colossalai - \u001b[1;36m2022\u001b[0m-\u001b[1;36m03\u001b[0m-\u001b[1;36m28\u001b[0m \u001b[1;92m00:02:22\u001b[0m,\u001b[1;36m225\u001b[0m \u001b]8;id=429527;file:///home/fiona/anaconda3/envs/pytorch/lib/python3.9/site-packages/colossalai/logging/logging.py\u001b\\\u001b[2mlogging.py\u001b[0m\u001b]8;;\u001b\\\u001b[2m:\u001b[0m\u001b]8;id=162597;file:///home/fiona/anaconda3/envs/pytorch/lib/python3.9/site-packages/colossalai/logging/logging.py#105\u001b\\\u001b[2m105\u001b[0m\u001b]8;;\u001b\\\n",
       "\u001b[2;36m                    \u001b[0m         INFO: \u001b[1m[\u001b[0mEpoch \u001b[1;36m0\u001b[0m \u001b[35m/\u001b[0m Train\u001b[1m]\u001b[0m: Loss = \u001b[1;36m2.3106\u001b[0m | LR =     \u001b[2m              \u001b[0m\n",
       "\u001b[2;36m                    \u001b[0m         \u001b[1;36m1.5849e-06\u001b[0m                                        \u001b[2m              \u001b[0m\n"
      ]
     },
     "metadata": {},
     "output_type": "display_data"
    },
    {
     "data": {
      "text/html": [
       "<pre style=\"white-space:pre;overflow-x:auto;line-height:normal;font-family:Menlo,'DejaVu Sans Mono',consolas,'Courier New',monospace\"><span style=\"color: #7fbfbf; text-decoration-color: #7fbfbf\">                    </span><span style=\"color: #000080; text-decoration-color: #000080\">INFO    </span> colossalai - colossalai - <span style=\"color: #008080; text-decoration-color: #008080; font-weight: bold\">2022</span>-<span style=\"color: #008080; text-decoration-color: #008080; font-weight: bold\">03</span>-<span style=\"color: #008080; text-decoration-color: #008080; font-weight: bold\">28</span> <span style=\"color: #00ff00; text-decoration-color: #00ff00; font-weight: bold\">00:02:22</span>,<span style=\"color: #008080; text-decoration-color: #008080; font-weight: bold\">232</span> <a href=\"file:///home/fiona/anaconda3/envs/pytorch/lib/python3.9/site-packages/colossalai/logging/logging.py\" target=\"_blank\"><span style=\"color: #7f7f7f; text-decoration-color: #7f7f7f\">logging.py</span></a><span style=\"color: #7f7f7f; text-decoration-color: #7f7f7f\">:</span><a href=\"file:///home/fiona/anaconda3/envs/pytorch/lib/python3.9/site-packages/colossalai/logging/logging.py#105\" target=\"_blank\"><span style=\"color: #7f7f7f; text-decoration-color: #7f7f7f\">105</span></a>\n",
       "<span style=\"color: #7fbfbf; text-decoration-color: #7fbfbf\">                    </span>         INFO: <span style=\"font-weight: bold\">[</span>Epoch <span style=\"color: #008080; text-decoration-color: #008080; font-weight: bold\">0</span> <span style=\"color: #800080; text-decoration-color: #800080\">/</span> Train<span style=\"font-weight: bold\">]</span>: GPU: allocated <span style=\"color: #008080; text-decoration-color: #008080; font-weight: bold\">4.71</span> MB,  <span style=\"color: #7f7f7f; text-decoration-color: #7f7f7f\">              </span>\n",
       "<span style=\"color: #7fbfbf; text-decoration-color: #7fbfbf\">                    </span>         max allocated <span style=\"color: #008080; text-decoration-color: #008080; font-weight: bold\">88.39</span> MB, cached: <span style=\"color: #008080; text-decoration-color: #008080; font-weight: bold\">26.0</span> MB, max      <span style=\"color: #7f7f7f; text-decoration-color: #7f7f7f\">              </span>\n",
       "<span style=\"color: #7fbfbf; text-decoration-color: #7fbfbf\">                    </span>         cached: <span style=\"color: #008080; text-decoration-color: #008080; font-weight: bold\">108.0</span> MB                                  <span style=\"color: #7f7f7f; text-decoration-color: #7f7f7f\">              </span>\n",
       "</pre>\n"
      ],
      "text/plain": [
       "\u001b[2;36m                   \u001b[0m\u001b[2;36m \u001b[0m\u001b[34mINFO    \u001b[0m colossalai - colossalai - \u001b[1;36m2022\u001b[0m-\u001b[1;36m03\u001b[0m-\u001b[1;36m28\u001b[0m \u001b[1;92m00:02:22\u001b[0m,\u001b[1;36m232\u001b[0m \u001b]8;id=457398;file:///home/fiona/anaconda3/envs/pytorch/lib/python3.9/site-packages/colossalai/logging/logging.py\u001b\\\u001b[2mlogging.py\u001b[0m\u001b]8;;\u001b\\\u001b[2m:\u001b[0m\u001b]8;id=496973;file:///home/fiona/anaconda3/envs/pytorch/lib/python3.9/site-packages/colossalai/logging/logging.py#105\u001b\\\u001b[2m105\u001b[0m\u001b]8;;\u001b\\\n",
       "\u001b[2;36m                    \u001b[0m         INFO: \u001b[1m[\u001b[0mEpoch \u001b[1;36m0\u001b[0m \u001b[35m/\u001b[0m Train\u001b[1m]\u001b[0m: GPU: allocated \u001b[1;36m4.71\u001b[0m MB,  \u001b[2m              \u001b[0m\n",
       "\u001b[2;36m                    \u001b[0m         max allocated \u001b[1;36m88.39\u001b[0m MB, cached: \u001b[1;36m26.0\u001b[0m MB, max      \u001b[2m              \u001b[0m\n",
       "\u001b[2;36m                    \u001b[0m         cached: \u001b[1;36m108.0\u001b[0m MB                                  \u001b[2m              \u001b[0m\n"
      ]
     },
     "metadata": {},
     "output_type": "display_data"
    },
    {
     "data": {
      "text/html": [
       "<pre style=\"white-space:pre;overflow-x:auto;line-height:normal;font-family:Menlo,'DejaVu Sans Mono',consolas,'Courier New',monospace\"><span style=\"color: #7fbfbf; text-decoration-color: #7fbfbf\">                    </span><span style=\"color: #000080; text-decoration-color: #000080\">INFO    </span> colossalai - colossalai - <span style=\"color: #008080; text-decoration-color: #008080; font-weight: bold\">2022</span>-<span style=\"color: #008080; text-decoration-color: #008080; font-weight: bold\">03</span>-<span style=\"color: #008080; text-decoration-color: #008080; font-weight: bold\">28</span> <span style=\"color: #00ff00; text-decoration-color: #00ff00; font-weight: bold\">00:02:22</span>,<span style=\"color: #008080; text-decoration-color: #008080; font-weight: bold\">235</span> <a href=\"file:///home/fiona/anaconda3/envs/pytorch/lib/python3.9/site-packages/colossalai/logging/logging.py\" target=\"_blank\"><span style=\"color: #7f7f7f; text-decoration-color: #7f7f7f\">logging.py</span></a><span style=\"color: #7f7f7f; text-decoration-color: #7f7f7f\">:</span><a href=\"file:///home/fiona/anaconda3/envs/pytorch/lib/python3.9/site-packages/colossalai/logging/logging.py#105\" target=\"_blank\"><span style=\"color: #7f7f7f; text-decoration-color: #7f7f7f\">105</span></a>\n",
       "<span style=\"color: #7fbfbf; text-decoration-color: #7fbfbf\">                    </span>         INFO: <span style=\"font-weight: bold\">[</span>Epoch <span style=\"color: #008080; text-decoration-color: #008080; font-weight: bold\">0</span> <span style=\"color: #800080; text-decoration-color: #800080\">/</span> Train<span style=\"font-weight: bold\">]</span>: Train-epoch: last =      <span style=\"color: #7f7f7f; text-decoration-color: #7f7f7f\">              </span>\n",
       "<span style=\"color: #7fbfbf; text-decoration-color: #7fbfbf\">                    </span>         <span style=\"color: #008080; text-decoration-color: #008080; font-weight: bold\">10.762</span> s, mean = <span style=\"color: #008080; text-decoration-color: #008080; font-weight: bold\">10.762</span> s | Train-step: last =    <span style=\"color: #7f7f7f; text-decoration-color: #7f7f7f\">              </span>\n",
       "<span style=\"color: #7fbfbf; text-decoration-color: #7fbfbf\">                    </span>         <span style=\"color: #008080; text-decoration-color: #008080; font-weight: bold\">0.031868</span> s, mean = <span style=\"color: #008080; text-decoration-color: #008080; font-weight: bold\">0.022409</span> s | #steps/epoch =    <span style=\"color: #7f7f7f; text-decoration-color: #7f7f7f\">              </span>\n",
       "<span style=\"color: #7fbfbf; text-decoration-color: #7fbfbf\">                    </span>         <span style=\"color: #008080; text-decoration-color: #008080; font-weight: bold\">469</span>                                               <span style=\"color: #7f7f7f; text-decoration-color: #7f7f7f\">              </span>\n",
       "</pre>\n"
      ],
      "text/plain": [
       "\u001b[2;36m                   \u001b[0m\u001b[2;36m \u001b[0m\u001b[34mINFO    \u001b[0m colossalai - colossalai - \u001b[1;36m2022\u001b[0m-\u001b[1;36m03\u001b[0m-\u001b[1;36m28\u001b[0m \u001b[1;92m00:02:22\u001b[0m,\u001b[1;36m235\u001b[0m \u001b]8;id=467890;file:///home/fiona/anaconda3/envs/pytorch/lib/python3.9/site-packages/colossalai/logging/logging.py\u001b\\\u001b[2mlogging.py\u001b[0m\u001b]8;;\u001b\\\u001b[2m:\u001b[0m\u001b]8;id=770472;file:///home/fiona/anaconda3/envs/pytorch/lib/python3.9/site-packages/colossalai/logging/logging.py#105\u001b\\\u001b[2m105\u001b[0m\u001b]8;;\u001b\\\n",
       "\u001b[2;36m                    \u001b[0m         INFO: \u001b[1m[\u001b[0mEpoch \u001b[1;36m0\u001b[0m \u001b[35m/\u001b[0m Train\u001b[1m]\u001b[0m: Train-epoch: last =      \u001b[2m              \u001b[0m\n",
       "\u001b[2;36m                    \u001b[0m         \u001b[1;36m10.762\u001b[0m s, mean = \u001b[1;36m10.762\u001b[0m s | Train-step: last =    \u001b[2m              \u001b[0m\n",
       "\u001b[2;36m                    \u001b[0m         \u001b[1;36m0.031868\u001b[0m s, mean = \u001b[1;36m0.022409\u001b[0m s | #steps/epoch =    \u001b[2m              \u001b[0m\n",
       "\u001b[2;36m                    \u001b[0m         \u001b[1;36m469\u001b[0m                                               \u001b[2m              \u001b[0m\n"
      ]
     },
     "metadata": {},
     "output_type": "display_data"
    },
    {
     "name": "stderr",
     "output_type": "stream",
     "text": [
      "[Epoch 0 / Test]: 100%|█████████████████████████████████████████████████████████████████| 79/79 [00:01<00:00, 47.20it/s]\n"
     ]
    },
    {
     "data": {
      "text/html": [
       "<pre style=\"white-space:pre;overflow-x:auto;line-height:normal;font-family:Menlo,'DejaVu Sans Mono',consolas,'Courier New',monospace\"><span style=\"color: #7fbfbf; text-decoration-color: #7fbfbf\">[03/28/22 00:02:24] </span><span style=\"color: #000080; text-decoration-color: #000080\">INFO    </span> colossalai - colossalai - <span style=\"color: #008080; text-decoration-color: #008080; font-weight: bold\">2022</span>-<span style=\"color: #008080; text-decoration-color: #008080; font-weight: bold\">03</span>-<span style=\"color: #008080; text-decoration-color: #008080; font-weight: bold\">28</span> <span style=\"color: #00ff00; text-decoration-color: #00ff00; font-weight: bold\">00:02:24</span>,<span style=\"color: #008080; text-decoration-color: #008080; font-weight: bold\">053</span> <a href=\"file:///home/fiona/anaconda3/envs/pytorch/lib/python3.9/site-packages/colossalai/logging/logging.py\" target=\"_blank\"><span style=\"color: #7f7f7f; text-decoration-color: #7f7f7f\">logging.py</span></a><span style=\"color: #7f7f7f; text-decoration-color: #7f7f7f\">:</span><a href=\"file:///home/fiona/anaconda3/envs/pytorch/lib/python3.9/site-packages/colossalai/logging/logging.py#105\" target=\"_blank\"><span style=\"color: #7f7f7f; text-decoration-color: #7f7f7f\">105</span></a>\n",
       "<span style=\"color: #7fbfbf; text-decoration-color: #7fbfbf\">                    </span>         INFO: <span style=\"font-weight: bold\">[</span>Epoch <span style=\"color: #008080; text-decoration-color: #008080; font-weight: bold\">0</span> <span style=\"color: #800080; text-decoration-color: #800080\">/</span> Test<span style=\"font-weight: bold\">]</span>: Loss = <span style=\"color: #008080; text-decoration-color: #008080; font-weight: bold\">2.3106</span>             <span style=\"color: #7f7f7f; text-decoration-color: #7f7f7f\">              </span>\n",
       "</pre>\n"
      ],
      "text/plain": [
       "\u001b[2;36m[03/28/22 00:02:24]\u001b[0m\u001b[2;36m \u001b[0m\u001b[34mINFO    \u001b[0m colossalai - colossalai - \u001b[1;36m2022\u001b[0m-\u001b[1;36m03\u001b[0m-\u001b[1;36m28\u001b[0m \u001b[1;92m00:02:24\u001b[0m,\u001b[1;36m053\u001b[0m \u001b]8;id=550437;file:///home/fiona/anaconda3/envs/pytorch/lib/python3.9/site-packages/colossalai/logging/logging.py\u001b\\\u001b[2mlogging.py\u001b[0m\u001b]8;;\u001b\\\u001b[2m:\u001b[0m\u001b]8;id=884148;file:///home/fiona/anaconda3/envs/pytorch/lib/python3.9/site-packages/colossalai/logging/logging.py#105\u001b\\\u001b[2m105\u001b[0m\u001b]8;;\u001b\\\n",
       "\u001b[2;36m                    \u001b[0m         INFO: \u001b[1m[\u001b[0mEpoch \u001b[1;36m0\u001b[0m \u001b[35m/\u001b[0m Test\u001b[1m]\u001b[0m: Loss = \u001b[1;36m2.3106\u001b[0m             \u001b[2m              \u001b[0m\n"
      ]
     },
     "metadata": {},
     "output_type": "display_data"
    },
    {
     "data": {
      "text/html": [
       "<pre style=\"white-space:pre;overflow-x:auto;line-height:normal;font-family:Menlo,'DejaVu Sans Mono',consolas,'Courier New',monospace\"><span style=\"color: #7fbfbf; text-decoration-color: #7fbfbf\">                    </span><span style=\"color: #000080; text-decoration-color: #000080\">INFO    </span> colossalai - colossalai - <span style=\"color: #008080; text-decoration-color: #008080; font-weight: bold\">2022</span>-<span style=\"color: #008080; text-decoration-color: #008080; font-weight: bold\">03</span>-<span style=\"color: #008080; text-decoration-color: #008080; font-weight: bold\">28</span> <span style=\"color: #00ff00; text-decoration-color: #00ff00; font-weight: bold\">00:02:24</span>,<span style=\"color: #008080; text-decoration-color: #008080; font-weight: bold\">059</span> <a href=\"file:///home/fiona/anaconda3/envs/pytorch/lib/python3.9/site-packages/colossalai/logging/logging.py\" target=\"_blank\"><span style=\"color: #7f7f7f; text-decoration-color: #7f7f7f\">logging.py</span></a><span style=\"color: #7f7f7f; text-decoration-color: #7f7f7f\">:</span><a href=\"file:///home/fiona/anaconda3/envs/pytorch/lib/python3.9/site-packages/colossalai/logging/logging.py#105\" target=\"_blank\"><span style=\"color: #7f7f7f; text-decoration-color: #7f7f7f\">105</span></a>\n",
       "<span style=\"color: #7fbfbf; text-decoration-color: #7fbfbf\">                    </span>         INFO: <span style=\"font-weight: bold\">[</span>Epoch <span style=\"color: #008080; text-decoration-color: #008080; font-weight: bold\">0</span> <span style=\"color: #800080; text-decoration-color: #800080\">/</span> Test<span style=\"font-weight: bold\">]</span>: Test-epoch: last = <span style=\"color: #008080; text-decoration-color: #008080; font-weight: bold\">1.6741</span> <span style=\"color: #7f7f7f; text-decoration-color: #7f7f7f\">              </span>\n",
       "<span style=\"color: #7fbfbf; text-decoration-color: #7fbfbf\">                    </span>         s, mean = <span style=\"color: #008080; text-decoration-color: #008080; font-weight: bold\">1.6741</span> s | Test-step: last = <span style=\"color: #008080; text-decoration-color: #008080; font-weight: bold\">0.0090127</span>  <span style=\"color: #7f7f7f; text-decoration-color: #7f7f7f\">              </span>\n",
       "<span style=\"color: #7fbfbf; text-decoration-color: #7fbfbf\">                    </span>         s, mean = <span style=\"color: #008080; text-decoration-color: #008080; font-weight: bold\">0.02096</span> s                               <span style=\"color: #7f7f7f; text-decoration-color: #7f7f7f\">              </span>\n",
       "</pre>\n"
      ],
      "text/plain": [
       "\u001b[2;36m                   \u001b[0m\u001b[2;36m \u001b[0m\u001b[34mINFO    \u001b[0m colossalai - colossalai - \u001b[1;36m2022\u001b[0m-\u001b[1;36m03\u001b[0m-\u001b[1;36m28\u001b[0m \u001b[1;92m00:02:24\u001b[0m,\u001b[1;36m059\u001b[0m \u001b]8;id=966525;file:///home/fiona/anaconda3/envs/pytorch/lib/python3.9/site-packages/colossalai/logging/logging.py\u001b\\\u001b[2mlogging.py\u001b[0m\u001b]8;;\u001b\\\u001b[2m:\u001b[0m\u001b]8;id=364022;file:///home/fiona/anaconda3/envs/pytorch/lib/python3.9/site-packages/colossalai/logging/logging.py#105\u001b\\\u001b[2m105\u001b[0m\u001b]8;;\u001b\\\n",
       "\u001b[2;36m                    \u001b[0m         INFO: \u001b[1m[\u001b[0mEpoch \u001b[1;36m0\u001b[0m \u001b[35m/\u001b[0m Test\u001b[1m]\u001b[0m: Test-epoch: last = \u001b[1;36m1.6741\u001b[0m \u001b[2m              \u001b[0m\n",
       "\u001b[2;36m                    \u001b[0m         s, mean = \u001b[1;36m1.6741\u001b[0m s | Test-step: last = \u001b[1;36m0.0090127\u001b[0m  \u001b[2m              \u001b[0m\n",
       "\u001b[2;36m                    \u001b[0m         s, mean = \u001b[1;36m0.02096\u001b[0m s                               \u001b[2m              \u001b[0m\n"
      ]
     },
     "metadata": {},
     "output_type": "display_data"
    },
    {
     "data": {
      "text/html": [
       "<pre style=\"white-space:pre;overflow-x:auto;line-height:normal;font-family:Menlo,'DejaVu Sans Mono',consolas,'Courier New',monospace\"><span style=\"color: #7fbfbf; text-decoration-color: #7fbfbf\">                    </span><span style=\"color: #000080; text-decoration-color: #000080\">INFO    </span> colossalai - colossalai - <span style=\"color: #008080; text-decoration-color: #008080; font-weight: bold\">2022</span>-<span style=\"color: #008080; text-decoration-color: #008080; font-weight: bold\">03</span>-<span style=\"color: #008080; text-decoration-color: #008080; font-weight: bold\">28</span> <span style=\"color: #00ff00; text-decoration-color: #00ff00; font-weight: bold\">00:02:24</span>,<span style=\"color: #008080; text-decoration-color: #008080; font-weight: bold\">064</span> <a href=\"file:///home/fiona/anaconda3/envs/pytorch/lib/python3.9/site-packages/colossalai/logging/logging.py\" target=\"_blank\"><span style=\"color: #7f7f7f; text-decoration-color: #7f7f7f\">logging.py</span></a><span style=\"color: #7f7f7f; text-decoration-color: #7f7f7f\">:</span><a href=\"file:///home/fiona/anaconda3/envs/pytorch/lib/python3.9/site-packages/colossalai/logging/logging.py#105\" target=\"_blank\"><span style=\"color: #7f7f7f; text-decoration-color: #7f7f7f\">105</span></a>\n",
       "<span style=\"color: #7fbfbf; text-decoration-color: #7fbfbf\">                    </span>         INFO: <span style=\"font-weight: bold\">[</span>Epoch <span style=\"color: #008080; text-decoration-color: #008080; font-weight: bold\">0</span> <span style=\"color: #800080; text-decoration-color: #800080\">/</span> Test<span style=\"font-weight: bold\">]</span>: GPU: allocated <span style=\"color: #008080; text-decoration-color: #008080; font-weight: bold\">0.72</span> MB,   <span style=\"color: #7f7f7f; text-decoration-color: #7f7f7f\">              </span>\n",
       "<span style=\"color: #7fbfbf; text-decoration-color: #7fbfbf\">                    </span>         max allocated <span style=\"color: #008080; text-decoration-color: #008080; font-weight: bold\">17.82</span> MB, cached: <span style=\"color: #008080; text-decoration-color: #008080; font-weight: bold\">24.0</span> MB, max      <span style=\"color: #7f7f7f; text-decoration-color: #7f7f7f\">              </span>\n",
       "<span style=\"color: #7fbfbf; text-decoration-color: #7fbfbf\">                    </span>         cached: <span style=\"color: #008080; text-decoration-color: #008080; font-weight: bold\">26.0</span> MB                                   <span style=\"color: #7f7f7f; text-decoration-color: #7f7f7f\">              </span>\n",
       "</pre>\n"
      ],
      "text/plain": [
       "\u001b[2;36m                   \u001b[0m\u001b[2;36m \u001b[0m\u001b[34mINFO    \u001b[0m colossalai - colossalai - \u001b[1;36m2022\u001b[0m-\u001b[1;36m03\u001b[0m-\u001b[1;36m28\u001b[0m \u001b[1;92m00:02:24\u001b[0m,\u001b[1;36m064\u001b[0m \u001b]8;id=646487;file:///home/fiona/anaconda3/envs/pytorch/lib/python3.9/site-packages/colossalai/logging/logging.py\u001b\\\u001b[2mlogging.py\u001b[0m\u001b]8;;\u001b\\\u001b[2m:\u001b[0m\u001b]8;id=947990;file:///home/fiona/anaconda3/envs/pytorch/lib/python3.9/site-packages/colossalai/logging/logging.py#105\u001b\\\u001b[2m105\u001b[0m\u001b]8;;\u001b\\\n",
       "\u001b[2;36m                    \u001b[0m         INFO: \u001b[1m[\u001b[0mEpoch \u001b[1;36m0\u001b[0m \u001b[35m/\u001b[0m Test\u001b[1m]\u001b[0m: GPU: allocated \u001b[1;36m0.72\u001b[0m MB,   \u001b[2m              \u001b[0m\n",
       "\u001b[2;36m                    \u001b[0m         max allocated \u001b[1;36m17.82\u001b[0m MB, cached: \u001b[1;36m24.0\u001b[0m MB, max      \u001b[2m              \u001b[0m\n",
       "\u001b[2;36m                    \u001b[0m         cached: \u001b[1;36m26.0\u001b[0m MB                                   \u001b[2m              \u001b[0m\n"
      ]
     },
     "metadata": {},
     "output_type": "display_data"
    },
    {
     "name": "stderr",
     "output_type": "stream",
     "text": [
      "[Epoch 1 / Train]:  12%|███████▍                                                       | 55/469 [00:01<00:09, 43.99it/s]"
     ]
    }
   ],
   "source": [
    "# Propose several learning rates for real training.\n",
    "learning_rates = [0.1,0.05,0.001]\n",
    "# Choose one optimizer \n",
    "optimizer_methods = ['sgd','adamw']\n",
    "# Choose two learning rate scheduling method \n",
    "scheduler_methods = ['lambda','multistep','onecycle']\n",
    "\n",
    "# Single launch\n",
    "config = {'BATCH_SIZE':128,'NUM_EPOCHS':30}\n",
    "colossalai.launch(config=config,rank=0,world_size=1,host='127.0.0.1',port=1234)\n",
    "\n",
    "# Loop\n",
    "for learning_rate in learning_rates:\n",
    "    for optimizer_method in optimizer_methods:\n",
    "        for scheduler_method in scheduler_methods:\n",
    "            print('>>>>>>', optimizer_method, scheduler_method, learning_rate)\n",
    "            run(optimizer_method, scheduler_method, learning_rate)"
   ]
  },
  {
   "cell_type": "code",
   "execution_count": null,
   "id": "c7021111",
   "metadata": {},
   "outputs": [],
   "source": []
  },
  {
   "cell_type": "code",
   "execution_count": null,
   "id": "be899964",
   "metadata": {},
   "outputs": [],
   "source": []
  }
 ],
 "metadata": {
  "kernelspec": {
   "display_name": "Python [conda env:pytorch]",
   "language": "python",
   "name": "conda-env-pytorch-py"
  },
  "language_info": {
   "codemirror_mode": {
    "name": "ipython",
    "version": 3
   },
   "file_extension": ".py",
   "mimetype": "text/x-python",
   "name": "python",
   "nbconvert_exporter": "python",
   "pygments_lexer": "ipython3",
   "version": "3.9.12"
  }
 },
 "nbformat": 4,
 "nbformat_minor": 5
}
