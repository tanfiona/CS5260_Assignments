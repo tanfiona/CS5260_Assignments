{
 "cells": [
  {
   "cell_type": "code",
   "execution_count": 1,
   "id": "c54a2904",
   "metadata": {},
   "outputs": [],
   "source": [
    "import os\n",
    "from pathlib import Path\n",
    "import math\n",
    "import colossalai\n",
    "import torch\n",
    "import torch.nn as nn\n",
    "import torch.nn.functional as F\n",
    "from colossalai.core import global_context as gpc\n",
    "from colossalai.logging import get_dist_logger\n",
    "from colossalai.nn import CosineAnnealingLR\n",
    "from colossalai.nn.metric import Accuracy\n",
    "from colossalai.trainer import Trainer, hooks\n",
    "from colossalai.utils import MultiTimer, get_dataloader\n",
    "from torchvision import transforms\n",
    "from torchvision.datasets import MNIST\n",
    "from tqdm import tqdm"
   ]
  },
  {
   "cell_type": "code",
   "execution_count": 2,
   "id": "1058fd91",
   "metadata": {},
   "outputs": [
    {
     "name": "stdout",
     "output_type": "stream",
     "text": [
      "1.0027669229965856e-05 1.3182567385564057e-05 0.00015848931924611128\n"
     ]
    }
   ],
   "source": [
    "# Demo exponentially increase learning rate from low to high\n",
    "def lrs(batch):\n",
    "    low = math.log2(1e-5)\n",
    "    high = math.log2(10)\n",
    "    return 2**(low+(high-low)*batch/1000/5)\n",
    "print(lrs(1), lrs(100), lrs(1000))"
   ]
  },
  {
   "cell_type": "code",
   "execution_count": 9,
   "id": "84cc30cb",
   "metadata": {
    "scrolled": true
   },
   "outputs": [],
   "source": [
    "class LeNet5(nn.Module):\n",
    "\n",
    "    def __init__(self, n_classes):\n",
    "        super(LeNet5, self).__init__()\n",
    "\n",
    "        self.feature_extractor = nn.Sequential(\n",
    "            nn.Conv2d(in_channels=1, out_channels=6, kernel_size=5, stride=1),\n",
    "            nn.Tanh(),\n",
    "            nn.AvgPool2d(kernel_size=2),\n",
    "            nn.Conv2d(in_channels=6, out_channels=16, kernel_size=5, stride=1),\n",
    "            nn.Tanh(),\n",
    "            nn.AvgPool2d(kernel_size=2),\n",
    "            nn.Conv2d(in_channels=16, out_channels=120, kernel_size=5, stride=1),\n",
    "            nn.Tanh()\n",
    "        )\n",
    "\n",
    "        self.classifier = nn.Sequential(\n",
    "            nn.Linear(in_features=120, out_features=84),\n",
    "            nn.Tanh(),\n",
    "            nn.Linear(in_features=84, out_features=n_classes),\n",
    "        )\n",
    "\n",
    "    def forward(self, x):\n",
    "        x = self.feature_extractor(x)\n",
    "        x = torch.flatten(x, 1)\n",
    "        logits = self.classifier(x)\n",
    "        probs = F.softmax(logits, dim=1)\n",
    "        return logits\n",
    "\n",
    "\n",
    "def run(optimizer_method, scheduler_method, learning_rate):\n",
    "    \n",
    "    logger = get_dist_logger()\n",
    "    d_name = f'{optimizer_method}_{scheduler_method}_{learning_rate}'\n",
    "\n",
    "    # build \n",
    "    model = LeNet5(n_classes=10)\n",
    "\n",
    "    # build dataloaders\n",
    "    train_dataset = MNIST(\n",
    "        root=Path('./tmp/'),\n",
    "        download=True,\n",
    "        transform = transforms.Compose([transforms.Resize((32, 32)),\n",
    "                                  transforms.ToTensor()])\n",
    "    )\n",
    "\n",
    "    test_dataset = MNIST(\n",
    "        root=Path('./tmp/'),\n",
    "        train=False,\n",
    "        transform = transforms.Compose([transforms.Resize((32, 32)),\n",
    "                                  transforms.ToTensor()])\n",
    "    )\n",
    "\n",
    "    train_dataloader = get_dataloader(dataset=train_dataset,\n",
    "                                      shuffle=True,\n",
    "                                      batch_size=gpc.config.BATCH_SIZE,\n",
    "                                      num_workers=1,\n",
    "                                      pin_memory=True,\n",
    "                                      )\n",
    "\n",
    "    test_dataloader = get_dataloader(dataset=test_dataset,\n",
    "                                      add_sampler=False,\n",
    "                                      batch_size=gpc.config.BATCH_SIZE,\n",
    "                                      num_workers=1,\n",
    "                                      pin_memory=True,\n",
    "                                      )\n",
    "\n",
    "    # build criterion\n",
    "    criterion = torch.nn.CrossEntropyLoss()\n",
    "\n",
    "    # optimizer\n",
    "    if optimizer_method.lower()=='sgd':\n",
    "        optimizer = torch.optim.SGD(model.parameters(), lr=learning_rate, momentum=0.9, weight_decay=5e-4)\n",
    "    elif optimizer_method.lower()=='adamw':\n",
    "        optimizer = torch.optim.AdamW(model.parameters(), lr=learning_rate, betas=(0.9, 0.999), eps=1e-08, weight_decay=5e-4)\n",
    "    else:\n",
    "        raise NotImplementedError\n",
    "    \n",
    "    # lr_scheduler\n",
    "    if scheduler_method.lower()=='lambda':\n",
    "        #exponentially increase learning rate from low to high\n",
    "        def lrs(batch):\n",
    "            low = math.log2(1e-5)\n",
    "            high = math.log2(10)\n",
    "            return 2**(low+(high-low)*batch/len(train_dataloader)/gpc.config.NUM_EPOCHS)\n",
    "        lr_scheduler = torch.optim.lr_scheduler.LambdaLR(optimizer, lrs)\n",
    "    elif scheduler_method.lower()=='multistep':\n",
    "        lr_scheduler = torch.optim.lr_scheduler.MultiStepLR(\n",
    "            optimizer, milestones=[i*len(train_dataloader)/2 for i in range(gpc.config.NUM_EPOCHS*2)], gamma=1.5)\n",
    "    elif scheduler_method.lower()=='onecycle':\n",
    "        lr_scheduler = torch.optim.lr_scheduler.OneCycleLR(\n",
    "            optimizer, max_lr=learning_rate/10,\n",
    "            base_momentum=2, max_momentum=2,\n",
    "            steps_per_epoch=len(train_dataloader),\n",
    "            epochs=gpc.config.NUM_EPOCHS\n",
    "        )\n",
    "    else:\n",
    "        raise NotImplementedError\n",
    "    \n",
    "    engine, train_dataloader, test_dataloader, _ = colossalai.initialize(\n",
    "        model, optimizer, criterion, train_dataloader, test_dataloader\n",
    "    )\n",
    "    \n",
    "    # build a timer to measure time\n",
    "    timer = MultiTimer()\n",
    "\n",
    "    # create a trainer object\n",
    "    trainer = Trainer(\n",
    "        engine=engine,\n",
    "        timer=timer,\n",
    "        logger=logger\n",
    "    )\n",
    "\n",
    "    # define the hooks to attach to the trainer\n",
    "    hook_list = [\n",
    "        hooks.LossHook(),\n",
    "        hooks.LRSchedulerHook(lr_scheduler=lr_scheduler, by_epoch=False),\n",
    "        # hooks.AccuracyHook(accuracy_func=Accuracy()),\n",
    "        hooks.LogMetricByEpochHook(logger),\n",
    "        hooks.LogMemoryByEpochHook(logger),\n",
    "        hooks.LogTimingByEpochHook(timer, logger),\n",
    "\n",
    "        # you can uncomment these lines if you wish to use them\n",
    "        hooks.TensorboardHook(log_dir=f'./tb_logs/{d_name}', ranks=[0]),\n",
    "        # hooks.SaveCheckpointHook(checkpoint_dir='./ckpt')\n",
    "    ]\n",
    "\n",
    "    # start training\n",
    "    trainer.fit(\n",
    "        train_dataloader=train_dataloader,\n",
    "        epochs=gpc.config.NUM_EPOCHS,\n",
    "        test_dataloader=test_dataloader,\n",
    "        test_interval=1,\n",
    "        hooks=hook_list,\n",
    "        display_progress=True\n",
    "    )\n",
    "    \n",
    "    logger.log_to_file(f'./tb_logs/{d_name}')"
   ]
  },
  {
   "cell_type": "code",
   "execution_count": 10,
   "id": "c09c1cc4",
   "metadata": {
    "scrolled": true
   },
   "outputs": [
    {
     "name": "stdout",
     "output_type": "stream",
     "text": [
      ">>>>>> sgd onecycle 0.1\n"
     ]
    },
    {
     "data": {
      "text/html": [
       "<pre style=\"white-space:pre;overflow-x:auto;line-height:normal;font-family:Menlo,'DejaVu Sans Mono',consolas,'Courier New',monospace\"><span style=\"color: #7fbfbf; text-decoration-color: #7fbfbf\">[03/29/22 03:07:01] </span><span style=\"color: #000080; text-decoration-color: #000080\">INFO    </span> colossalai - colossalai - <span style=\"color: #008080; text-decoration-color: #008080; font-weight: bold\">2022</span>-<span style=\"color: #008080; text-decoration-color: #008080; font-weight: bold\">03</span>-<span style=\"color: #008080; text-decoration-color: #008080; font-weight: bold\">29</span> <span style=\"color: #00ff00; text-decoration-color: #00ff00; font-weight: bold\">03:07:01</span>,<span style=\"color: #008080; text-decoration-color: #008080; font-weight: bold\">521</span> <a href=\"file:///home/fiona/anaconda3/envs/pytorch/lib/python3.9/site-packages/colossalai/logging/logging.py\" target=\"_blank\"><span style=\"color: #7f7f7f; text-decoration-color: #7f7f7f\">logging.py</span></a><span style=\"color: #7f7f7f; text-decoration-color: #7f7f7f\">:</span><a href=\"file:///home/fiona/anaconda3/envs/pytorch/lib/python3.9/site-packages/colossalai/logging/logging.py#109\" target=\"_blank\"><span style=\"color: #7f7f7f; text-decoration-color: #7f7f7f\">109</span></a>\n",
       "<span style=\"color: #7fbfbf; text-decoration-color: #7fbfbf\">                    </span>         INFO:                                             <span style=\"color: #7f7f7f; text-decoration-color: #7f7f7f\">              </span>\n",
       "<span style=\"color: #7fbfbf; text-decoration-color: #7fbfbf\">                    </span>         ========== Your Config ========                   <span style=\"color: #7f7f7f; text-decoration-color: #7f7f7f\">              </span>\n",
       "<span style=\"color: #7fbfbf; text-decoration-color: #7fbfbf\">                    </span>         <span style=\"font-weight: bold\">{</span><span style=\"color: #008000; text-decoration-color: #008000\">'BATCH_SIZE'</span>: <span style=\"color: #008080; text-decoration-color: #008080; font-weight: bold\">128</span>, <span style=\"color: #008000; text-decoration-color: #008000\">'NUM_EPOCHS'</span>: <span style=\"color: #008080; text-decoration-color: #008080; font-weight: bold\">10</span><span style=\"font-weight: bold\">}</span>             <span style=\"color: #7f7f7f; text-decoration-color: #7f7f7f\">              </span>\n",
       "<span style=\"color: #7fbfbf; text-decoration-color: #7fbfbf\">                    </span>         ================================                  <span style=\"color: #7f7f7f; text-decoration-color: #7f7f7f\">              </span>\n",
       "<span style=\"color: #7fbfbf; text-decoration-color: #7fbfbf\">                    </span>                                                           <span style=\"color: #7f7f7f; text-decoration-color: #7f7f7f\">              </span>\n",
       "</pre>\n"
      ],
      "text/plain": [
       "\u001b[2;36m[03/29/22 03:07:01]\u001b[0m\u001b[2;36m \u001b[0m\u001b[34mINFO    \u001b[0m colossalai - colossalai - \u001b[1;36m2022\u001b[0m-\u001b[1;36m03\u001b[0m-\u001b[1;36m29\u001b[0m \u001b[1;92m03:07:01\u001b[0m,\u001b[1;36m521\u001b[0m \u001b]8;id=746834;file:///home/fiona/anaconda3/envs/pytorch/lib/python3.9/site-packages/colossalai/logging/logging.py\u001b\\\u001b[2mlogging.py\u001b[0m\u001b]8;;\u001b\\\u001b[2m:\u001b[0m\u001b]8;id=287968;file:///home/fiona/anaconda3/envs/pytorch/lib/python3.9/site-packages/colossalai/logging/logging.py#109\u001b\\\u001b[2m109\u001b[0m\u001b]8;;\u001b\\\n",
       "\u001b[2;36m                    \u001b[0m         INFO:                                             \u001b[2m              \u001b[0m\n",
       "\u001b[2;36m                    \u001b[0m         ========== Your Config ========                   \u001b[2m              \u001b[0m\n",
       "\u001b[2;36m                    \u001b[0m         \u001b[1m{\u001b[0m\u001b[32m'BATCH_SIZE'\u001b[0m: \u001b[1;36m128\u001b[0m, \u001b[32m'NUM_EPOCHS'\u001b[0m: \u001b[1;36m10\u001b[0m\u001b[1m}\u001b[0m             \u001b[2m              \u001b[0m\n",
       "\u001b[2;36m                    \u001b[0m         ================================                  \u001b[2m              \u001b[0m\n",
       "\u001b[2;36m                    \u001b[0m                                                           \u001b[2m              \u001b[0m\n"
      ]
     },
     "metadata": {},
     "output_type": "display_data"
    },
    {
     "data": {
      "text/html": [
       "<pre style=\"white-space:pre;overflow-x:auto;line-height:normal;font-family:Menlo,'DejaVu Sans Mono',consolas,'Courier New',monospace\"><span style=\"color: #7fbfbf; text-decoration-color: #7fbfbf\">                    </span><span style=\"color: #000080; text-decoration-color: #000080\">INFO    </span> colossalai - colossalai - <span style=\"color: #008080; text-decoration-color: #008080; font-weight: bold\">2022</span>-<span style=\"color: #008080; text-decoration-color: #008080; font-weight: bold\">03</span>-<span style=\"color: #008080; text-decoration-color: #008080; font-weight: bold\">29</span> <span style=\"color: #00ff00; text-decoration-color: #00ff00; font-weight: bold\">03:07:01</span>,<span style=\"color: #008080; text-decoration-color: #008080; font-weight: bold\">526</span> <a href=\"file:///home/fiona/anaconda3/envs/pytorch/lib/python3.9/site-packages/colossalai/logging/logging.py\" target=\"_blank\"><span style=\"color: #7f7f7f; text-decoration-color: #7f7f7f\">logging.py</span></a><span style=\"color: #7f7f7f; text-decoration-color: #7f7f7f\">:</span><a href=\"file:///home/fiona/anaconda3/envs/pytorch/lib/python3.9/site-packages/colossalai/logging/logging.py#109\" target=\"_blank\"><span style=\"color: #7f7f7f; text-decoration-color: #7f7f7f\">109</span></a>\n",
       "<span style=\"color: #7fbfbf; text-decoration-color: #7fbfbf\">                    </span>         INFO: cuDNN benchmark = <span style=\"color: #00ff00; text-decoration-color: #00ff00; font-style: italic\">True</span>, deterministic =     <span style=\"color: #7f7f7f; text-decoration-color: #7f7f7f\">              </span>\n",
       "<span style=\"color: #7fbfbf; text-decoration-color: #7fbfbf\">                    </span>         <span style=\"color: #ff0000; text-decoration-color: #ff0000; font-style: italic\">False</span>                                             <span style=\"color: #7f7f7f; text-decoration-color: #7f7f7f\">              </span>\n",
       "</pre>\n"
      ],
      "text/plain": [
       "\u001b[2;36m                   \u001b[0m\u001b[2;36m \u001b[0m\u001b[34mINFO    \u001b[0m colossalai - colossalai - \u001b[1;36m2022\u001b[0m-\u001b[1;36m03\u001b[0m-\u001b[1;36m29\u001b[0m \u001b[1;92m03:07:01\u001b[0m,\u001b[1;36m526\u001b[0m \u001b]8;id=648262;file:///home/fiona/anaconda3/envs/pytorch/lib/python3.9/site-packages/colossalai/logging/logging.py\u001b\\\u001b[2mlogging.py\u001b[0m\u001b]8;;\u001b\\\u001b[2m:\u001b[0m\u001b]8;id=293625;file:///home/fiona/anaconda3/envs/pytorch/lib/python3.9/site-packages/colossalai/logging/logging.py#109\u001b\\\u001b[2m109\u001b[0m\u001b]8;;\u001b\\\n",
       "\u001b[2;36m                    \u001b[0m         INFO: cuDNN benchmark = \u001b[3;92mTrue\u001b[0m, deterministic =     \u001b[2m              \u001b[0m\n",
       "\u001b[2;36m                    \u001b[0m         \u001b[3;91mFalse\u001b[0m                                             \u001b[2m              \u001b[0m\n"
      ]
     },
     "metadata": {},
     "output_type": "display_data"
    },
    {
     "data": {
      "text/html": [
       "<pre style=\"white-space:pre;overflow-x:auto;line-height:normal;font-family:Menlo,'DejaVu Sans Mono',consolas,'Courier New',monospace\"><span style=\"color: #7fbfbf; text-decoration-color: #7fbfbf\">                    </span><span style=\"color: #800000; text-decoration-color: #800000\">WARNING </span> colossalai - colossalai - <span style=\"color: #008080; text-decoration-color: #008080; font-weight: bold\">2022</span>-<span style=\"color: #008080; text-decoration-color: #008080; font-weight: bold\">03</span>-<span style=\"color: #008080; text-decoration-color: #008080; font-weight: bold\">29</span> <span style=\"color: #00ff00; text-decoration-color: #00ff00; font-weight: bold\">03:07:01</span>,<span style=\"color: #008080; text-decoration-color: #008080; font-weight: bold\">530</span> <a href=\"file:///home/fiona/anaconda3/envs/pytorch/lib/python3.9/site-packages/colossalai/logging/logging.py\" target=\"_blank\"><span style=\"color: #7f7f7f; text-decoration-color: #7f7f7f\">logging.py</span></a><span style=\"color: #7f7f7f; text-decoration-color: #7f7f7f\">:</span><a href=\"file:///home/fiona/anaconda3/envs/pytorch/lib/python3.9/site-packages/colossalai/logging/logging.py#105\" target=\"_blank\"><span style=\"color: #7f7f7f; text-decoration-color: #7f7f7f\">105</span></a>\n",
       "<span style=\"color: #7fbfbf; text-decoration-color: #7fbfbf\">                    </span>         WARNING: Initializing an non ZeRO model with      <span style=\"color: #7f7f7f; text-decoration-color: #7f7f7f\">              </span>\n",
       "<span style=\"color: #7fbfbf; text-decoration-color: #7fbfbf\">                    </span>         optimizer class                                   <span style=\"color: #7f7f7f; text-decoration-color: #7f7f7f\">              </span>\n",
       "</pre>\n"
      ],
      "text/plain": [
       "\u001b[2;36m                   \u001b[0m\u001b[2;36m \u001b[0m\u001b[31mWARNING \u001b[0m colossalai - colossalai - \u001b[1;36m2022\u001b[0m-\u001b[1;36m03\u001b[0m-\u001b[1;36m29\u001b[0m \u001b[1;92m03:07:01\u001b[0m,\u001b[1;36m530\u001b[0m \u001b]8;id=42284;file:///home/fiona/anaconda3/envs/pytorch/lib/python3.9/site-packages/colossalai/logging/logging.py\u001b\\\u001b[2mlogging.py\u001b[0m\u001b]8;;\u001b\\\u001b[2m:\u001b[0m\u001b]8;id=738505;file:///home/fiona/anaconda3/envs/pytorch/lib/python3.9/site-packages/colossalai/logging/logging.py#105\u001b\\\u001b[2m105\u001b[0m\u001b]8;;\u001b\\\n",
       "\u001b[2;36m                    \u001b[0m         WARNING: Initializing an non ZeRO model with      \u001b[2m              \u001b[0m\n",
       "\u001b[2;36m                    \u001b[0m         optimizer class                                   \u001b[2m              \u001b[0m\n"
      ]
     },
     "metadata": {},
     "output_type": "display_data"
    },
    {
     "data": {
      "text/html": [
       "<pre style=\"white-space:pre;overflow-x:auto;line-height:normal;font-family:Menlo,'DejaVu Sans Mono',consolas,'Courier New',monospace\"><span style=\"color: #7fbfbf; text-decoration-color: #7fbfbf\">                    </span><span style=\"color: #800000; text-decoration-color: #800000\">WARNING </span> colossalai - colossalai - <span style=\"color: #008080; text-decoration-color: #008080; font-weight: bold\">2022</span>-<span style=\"color: #008080; text-decoration-color: #008080; font-weight: bold\">03</span>-<span style=\"color: #008080; text-decoration-color: #008080; font-weight: bold\">29</span> <span style=\"color: #00ff00; text-decoration-color: #00ff00; font-weight: bold\">03:07:01</span>,<span style=\"color: #008080; text-decoration-color: #008080; font-weight: bold\">533</span> <a href=\"file:///home/fiona/anaconda3/envs/pytorch/lib/python3.9/site-packages/colossalai/logging/logging.py\" target=\"_blank\"><span style=\"color: #7f7f7f; text-decoration-color: #7f7f7f\">logging.py</span></a><span style=\"color: #7f7f7f; text-decoration-color: #7f7f7f\">:</span><a href=\"file:///home/fiona/anaconda3/envs/pytorch/lib/python3.9/site-packages/colossalai/logging/logging.py#109\" target=\"_blank\"><span style=\"color: #7f7f7f; text-decoration-color: #7f7f7f\">109</span></a>\n",
       "<span style=\"color: #7fbfbf; text-decoration-color: #7fbfbf\">                    </span>         WARNING: No PyTorch DDP or gradient handler is    <span style=\"color: #7f7f7f; text-decoration-color: #7f7f7f\">              </span>\n",
       "<span style=\"color: #7fbfbf; text-decoration-color: #7fbfbf\">                    </span>         set up, please make sure you do not need to       <span style=\"color: #7f7f7f; text-decoration-color: #7f7f7f\">              </span>\n",
       "<span style=\"color: #7fbfbf; text-decoration-color: #7fbfbf\">                    </span>         all-reduce the gradients after a training step.   <span style=\"color: #7f7f7f; text-decoration-color: #7f7f7f\">              </span>\n",
       "</pre>\n"
      ],
      "text/plain": [
       "\u001b[2;36m                   \u001b[0m\u001b[2;36m \u001b[0m\u001b[31mWARNING \u001b[0m colossalai - colossalai - \u001b[1;36m2022\u001b[0m-\u001b[1;36m03\u001b[0m-\u001b[1;36m29\u001b[0m \u001b[1;92m03:07:01\u001b[0m,\u001b[1;36m533\u001b[0m \u001b]8;id=246596;file:///home/fiona/anaconda3/envs/pytorch/lib/python3.9/site-packages/colossalai/logging/logging.py\u001b\\\u001b[2mlogging.py\u001b[0m\u001b]8;;\u001b\\\u001b[2m:\u001b[0m\u001b]8;id=12237;file:///home/fiona/anaconda3/envs/pytorch/lib/python3.9/site-packages/colossalai/logging/logging.py#109\u001b\\\u001b[2m109\u001b[0m\u001b]8;;\u001b\\\n",
       "\u001b[2;36m                    \u001b[0m         WARNING: No PyTorch DDP or gradient handler is    \u001b[2m              \u001b[0m\n",
       "\u001b[2;36m                    \u001b[0m         set up, please make sure you do not need to       \u001b[2m              \u001b[0m\n",
       "\u001b[2;36m                    \u001b[0m         all-reduce the gradients after a training step.   \u001b[2m              \u001b[0m\n"
      ]
     },
     "metadata": {},
     "output_type": "display_data"
    },
    {
     "data": {
      "text/html": [
       "<pre style=\"white-space:pre;overflow-x:auto;line-height:normal;font-family:Menlo,'DejaVu Sans Mono',consolas,'Courier New',monospace\"><span style=\"color: #7fbfbf; text-decoration-color: #7fbfbf\">                    </span><span style=\"color: #000080; text-decoration-color: #000080\">INFO    </span> colossalai - colossalai - <span style=\"color: #008080; text-decoration-color: #008080; font-weight: bold\">2022</span>-<span style=\"color: #008080; text-decoration-color: #008080; font-weight: bold\">03</span>-<span style=\"color: #008080; text-decoration-color: #008080; font-weight: bold\">29</span> <span style=\"color: #00ff00; text-decoration-color: #00ff00; font-weight: bold\">03:07:01</span>,<span style=\"color: #008080; text-decoration-color: #008080; font-weight: bold\">538</span> <a href=\"file:///home/fiona/anaconda3/envs/pytorch/lib/python3.9/site-packages/colossalai/logging/logging.py\" target=\"_blank\"><span style=\"color: #7f7f7f; text-decoration-color: #7f7f7f\">logging.py</span></a><span style=\"color: #7f7f7f; text-decoration-color: #7f7f7f\">:</span><a href=\"file:///home/fiona/anaconda3/envs/pytorch/lib/python3.9/site-packages/colossalai/logging/logging.py#109\" target=\"_blank\"><span style=\"color: #7f7f7f; text-decoration-color: #7f7f7f\">109</span></a>\n",
       "<span style=\"color: #7fbfbf; text-decoration-color: #7fbfbf\">                    </span>         INFO: Using LossHook for training, priority = <span style=\"color: #008080; text-decoration-color: #008080; font-weight: bold\">0</span>   <span style=\"color: #7f7f7f; text-decoration-color: #7f7f7f\">              </span>\n",
       "</pre>\n"
      ],
      "text/plain": [
       "\u001b[2;36m                   \u001b[0m\u001b[2;36m \u001b[0m\u001b[34mINFO    \u001b[0m colossalai - colossalai - \u001b[1;36m2022\u001b[0m-\u001b[1;36m03\u001b[0m-\u001b[1;36m29\u001b[0m \u001b[1;92m03:07:01\u001b[0m,\u001b[1;36m538\u001b[0m \u001b]8;id=485188;file:///home/fiona/anaconda3/envs/pytorch/lib/python3.9/site-packages/colossalai/logging/logging.py\u001b\\\u001b[2mlogging.py\u001b[0m\u001b]8;;\u001b\\\u001b[2m:\u001b[0m\u001b]8;id=205452;file:///home/fiona/anaconda3/envs/pytorch/lib/python3.9/site-packages/colossalai/logging/logging.py#109\u001b\\\u001b[2m109\u001b[0m\u001b]8;;\u001b\\\n",
       "\u001b[2;36m                    \u001b[0m         INFO: Using LossHook for training, priority = \u001b[1;36m0\u001b[0m   \u001b[2m              \u001b[0m\n"
      ]
     },
     "metadata": {},
     "output_type": "display_data"
    },
    {
     "data": {
      "text/html": [
       "<pre style=\"white-space:pre;overflow-x:auto;line-height:normal;font-family:Menlo,'DejaVu Sans Mono',consolas,'Courier New',monospace\"><span style=\"color: #7fbfbf; text-decoration-color: #7fbfbf\">                    </span><span style=\"color: #000080; text-decoration-color: #000080\">INFO    </span> colossalai - colossalai - <span style=\"color: #008080; text-decoration-color: #008080; font-weight: bold\">2022</span>-<span style=\"color: #008080; text-decoration-color: #008080; font-weight: bold\">03</span>-<span style=\"color: #008080; text-decoration-color: #008080; font-weight: bold\">29</span> <span style=\"color: #00ff00; text-decoration-color: #00ff00; font-weight: bold\">03:07:01</span>,<span style=\"color: #008080; text-decoration-color: #008080; font-weight: bold\">541</span> <a href=\"file:///home/fiona/anaconda3/envs/pytorch/lib/python3.9/site-packages/colossalai/logging/logging.py\" target=\"_blank\"><span style=\"color: #7f7f7f; text-decoration-color: #7f7f7f\">logging.py</span></a><span style=\"color: #7f7f7f; text-decoration-color: #7f7f7f\">:</span><a href=\"file:///home/fiona/anaconda3/envs/pytorch/lib/python3.9/site-packages/colossalai/logging/logging.py#109\" target=\"_blank\"><span style=\"color: #7f7f7f; text-decoration-color: #7f7f7f\">109</span></a>\n",
       "<span style=\"color: #7fbfbf; text-decoration-color: #7fbfbf\">                    </span>         INFO: Using LRSchedulerHook for training,         <span style=\"color: #7f7f7f; text-decoration-color: #7f7f7f\">              </span>\n",
       "<span style=\"color: #7fbfbf; text-decoration-color: #7fbfbf\">                    </span>         priority = <span style=\"color: #008080; text-decoration-color: #008080; font-weight: bold\">1</span>                                      <span style=\"color: #7f7f7f; text-decoration-color: #7f7f7f\">              </span>\n",
       "</pre>\n"
      ],
      "text/plain": [
       "\u001b[2;36m                   \u001b[0m\u001b[2;36m \u001b[0m\u001b[34mINFO    \u001b[0m colossalai - colossalai - \u001b[1;36m2022\u001b[0m-\u001b[1;36m03\u001b[0m-\u001b[1;36m29\u001b[0m \u001b[1;92m03:07:01\u001b[0m,\u001b[1;36m541\u001b[0m \u001b]8;id=30823;file:///home/fiona/anaconda3/envs/pytorch/lib/python3.9/site-packages/colossalai/logging/logging.py\u001b\\\u001b[2mlogging.py\u001b[0m\u001b]8;;\u001b\\\u001b[2m:\u001b[0m\u001b]8;id=317704;file:///home/fiona/anaconda3/envs/pytorch/lib/python3.9/site-packages/colossalai/logging/logging.py#109\u001b\\\u001b[2m109\u001b[0m\u001b]8;;\u001b\\\n",
       "\u001b[2;36m                    \u001b[0m         INFO: Using LRSchedulerHook for training,         \u001b[2m              \u001b[0m\n",
       "\u001b[2;36m                    \u001b[0m         priority = \u001b[1;36m1\u001b[0m                                      \u001b[2m              \u001b[0m\n"
      ]
     },
     "metadata": {},
     "output_type": "display_data"
    },
    {
     "data": {
      "text/html": [
       "<pre style=\"white-space:pre;overflow-x:auto;line-height:normal;font-family:Menlo,'DejaVu Sans Mono',consolas,'Courier New',monospace\"><span style=\"color: #7fbfbf; text-decoration-color: #7fbfbf\">                    </span><span style=\"color: #000080; text-decoration-color: #000080\">INFO    </span> colossalai - colossalai - <span style=\"color: #008080; text-decoration-color: #008080; font-weight: bold\">2022</span>-<span style=\"color: #008080; text-decoration-color: #008080; font-weight: bold\">03</span>-<span style=\"color: #008080; text-decoration-color: #008080; font-weight: bold\">29</span> <span style=\"color: #00ff00; text-decoration-color: #00ff00; font-weight: bold\">03:07:01</span>,<span style=\"color: #008080; text-decoration-color: #008080; font-weight: bold\">544</span> <a href=\"file:///home/fiona/anaconda3/envs/pytorch/lib/python3.9/site-packages/colossalai/logging/logging.py\" target=\"_blank\"><span style=\"color: #7f7f7f; text-decoration-color: #7f7f7f\">logging.py</span></a><span style=\"color: #7f7f7f; text-decoration-color: #7f7f7f\">:</span><a href=\"file:///home/fiona/anaconda3/envs/pytorch/lib/python3.9/site-packages/colossalai/logging/logging.py#109\" target=\"_blank\"><span style=\"color: #7f7f7f; text-decoration-color: #7f7f7f\">109</span></a>\n",
       "<span style=\"color: #7fbfbf; text-decoration-color: #7fbfbf\">                    </span>         INFO: Using LogMetricByEpochHook for training,    <span style=\"color: #7f7f7f; text-decoration-color: #7f7f7f\">              </span>\n",
       "<span style=\"color: #7fbfbf; text-decoration-color: #7fbfbf\">                    </span>         priority = <span style=\"color: #008080; text-decoration-color: #008080; font-weight: bold\">10</span>                                     <span style=\"color: #7f7f7f; text-decoration-color: #7f7f7f\">              </span>\n",
       "</pre>\n"
      ],
      "text/plain": [
       "\u001b[2;36m                   \u001b[0m\u001b[2;36m \u001b[0m\u001b[34mINFO    \u001b[0m colossalai - colossalai - \u001b[1;36m2022\u001b[0m-\u001b[1;36m03\u001b[0m-\u001b[1;36m29\u001b[0m \u001b[1;92m03:07:01\u001b[0m,\u001b[1;36m544\u001b[0m \u001b]8;id=694339;file:///home/fiona/anaconda3/envs/pytorch/lib/python3.9/site-packages/colossalai/logging/logging.py\u001b\\\u001b[2mlogging.py\u001b[0m\u001b]8;;\u001b\\\u001b[2m:\u001b[0m\u001b]8;id=166280;file:///home/fiona/anaconda3/envs/pytorch/lib/python3.9/site-packages/colossalai/logging/logging.py#109\u001b\\\u001b[2m109\u001b[0m\u001b]8;;\u001b\\\n",
       "\u001b[2;36m                    \u001b[0m         INFO: Using LogMetricByEpochHook for training,    \u001b[2m              \u001b[0m\n",
       "\u001b[2;36m                    \u001b[0m         priority = \u001b[1;36m10\u001b[0m                                     \u001b[2m              \u001b[0m\n"
      ]
     },
     "metadata": {},
     "output_type": "display_data"
    },
    {
     "data": {
      "text/html": [
       "<pre style=\"white-space:pre;overflow-x:auto;line-height:normal;font-family:Menlo,'DejaVu Sans Mono',consolas,'Courier New',monospace\"><span style=\"color: #7fbfbf; text-decoration-color: #7fbfbf\">                    </span><span style=\"color: #000080; text-decoration-color: #000080\">INFO    </span> colossalai - colossalai - <span style=\"color: #008080; text-decoration-color: #008080; font-weight: bold\">2022</span>-<span style=\"color: #008080; text-decoration-color: #008080; font-weight: bold\">03</span>-<span style=\"color: #008080; text-decoration-color: #008080; font-weight: bold\">29</span> <span style=\"color: #00ff00; text-decoration-color: #00ff00; font-weight: bold\">03:07:01</span>,<span style=\"color: #008080; text-decoration-color: #008080; font-weight: bold\">547</span> <a href=\"file:///home/fiona/anaconda3/envs/pytorch/lib/python3.9/site-packages/colossalai/logging/logging.py\" target=\"_blank\"><span style=\"color: #7f7f7f; text-decoration-color: #7f7f7f\">logging.py</span></a><span style=\"color: #7f7f7f; text-decoration-color: #7f7f7f\">:</span><a href=\"file:///home/fiona/anaconda3/envs/pytorch/lib/python3.9/site-packages/colossalai/logging/logging.py#109\" target=\"_blank\"><span style=\"color: #7f7f7f; text-decoration-color: #7f7f7f\">109</span></a>\n",
       "<span style=\"color: #7fbfbf; text-decoration-color: #7fbfbf\">                    </span>         INFO: Using LogMemoryByEpochHook for training,    <span style=\"color: #7f7f7f; text-decoration-color: #7f7f7f\">              </span>\n",
       "<span style=\"color: #7fbfbf; text-decoration-color: #7fbfbf\">                    </span>         priority = <span style=\"color: #008080; text-decoration-color: #008080; font-weight: bold\">10</span>                                     <span style=\"color: #7f7f7f; text-decoration-color: #7f7f7f\">              </span>\n",
       "</pre>\n"
      ],
      "text/plain": [
       "\u001b[2;36m                   \u001b[0m\u001b[2;36m \u001b[0m\u001b[34mINFO    \u001b[0m colossalai - colossalai - \u001b[1;36m2022\u001b[0m-\u001b[1;36m03\u001b[0m-\u001b[1;36m29\u001b[0m \u001b[1;92m03:07:01\u001b[0m,\u001b[1;36m547\u001b[0m \u001b]8;id=942204;file:///home/fiona/anaconda3/envs/pytorch/lib/python3.9/site-packages/colossalai/logging/logging.py\u001b\\\u001b[2mlogging.py\u001b[0m\u001b]8;;\u001b\\\u001b[2m:\u001b[0m\u001b]8;id=662734;file:///home/fiona/anaconda3/envs/pytorch/lib/python3.9/site-packages/colossalai/logging/logging.py#109\u001b\\\u001b[2m109\u001b[0m\u001b]8;;\u001b\\\n",
       "\u001b[2;36m                    \u001b[0m         INFO: Using LogMemoryByEpochHook for training,    \u001b[2m              \u001b[0m\n",
       "\u001b[2;36m                    \u001b[0m         priority = \u001b[1;36m10\u001b[0m                                     \u001b[2m              \u001b[0m\n"
      ]
     },
     "metadata": {},
     "output_type": "display_data"
    },
    {
     "data": {
      "text/html": [
       "<pre style=\"white-space:pre;overflow-x:auto;line-height:normal;font-family:Menlo,'DejaVu Sans Mono',consolas,'Courier New',monospace\"><span style=\"color: #7fbfbf; text-decoration-color: #7fbfbf\">                    </span><span style=\"color: #000080; text-decoration-color: #000080\">INFO    </span> colossalai - colossalai - <span style=\"color: #008080; text-decoration-color: #008080; font-weight: bold\">2022</span>-<span style=\"color: #008080; text-decoration-color: #008080; font-weight: bold\">03</span>-<span style=\"color: #008080; text-decoration-color: #008080; font-weight: bold\">29</span> <span style=\"color: #00ff00; text-decoration-color: #00ff00; font-weight: bold\">03:07:01</span>,<span style=\"color: #008080; text-decoration-color: #008080; font-weight: bold\">550</span> <a href=\"file:///home/fiona/anaconda3/envs/pytorch/lib/python3.9/site-packages/colossalai/logging/logging.py\" target=\"_blank\"><span style=\"color: #7f7f7f; text-decoration-color: #7f7f7f\">logging.py</span></a><span style=\"color: #7f7f7f; text-decoration-color: #7f7f7f\">:</span><a href=\"file:///home/fiona/anaconda3/envs/pytorch/lib/python3.9/site-packages/colossalai/logging/logging.py#109\" target=\"_blank\"><span style=\"color: #7f7f7f; text-decoration-color: #7f7f7f\">109</span></a>\n",
       "<span style=\"color: #7fbfbf; text-decoration-color: #7fbfbf\">                    </span>         INFO: Using LogTimingByEpochHook for training,    <span style=\"color: #7f7f7f; text-decoration-color: #7f7f7f\">              </span>\n",
       "<span style=\"color: #7fbfbf; text-decoration-color: #7fbfbf\">                    </span>         priority = <span style=\"color: #008080; text-decoration-color: #008080; font-weight: bold\">10</span>                                     <span style=\"color: #7f7f7f; text-decoration-color: #7f7f7f\">              </span>\n",
       "</pre>\n"
      ],
      "text/plain": [
       "\u001b[2;36m                   \u001b[0m\u001b[2;36m \u001b[0m\u001b[34mINFO    \u001b[0m colossalai - colossalai - \u001b[1;36m2022\u001b[0m-\u001b[1;36m03\u001b[0m-\u001b[1;36m29\u001b[0m \u001b[1;92m03:07:01\u001b[0m,\u001b[1;36m550\u001b[0m \u001b]8;id=989603;file:///home/fiona/anaconda3/envs/pytorch/lib/python3.9/site-packages/colossalai/logging/logging.py\u001b\\\u001b[2mlogging.py\u001b[0m\u001b]8;;\u001b\\\u001b[2m:\u001b[0m\u001b]8;id=636261;file:///home/fiona/anaconda3/envs/pytorch/lib/python3.9/site-packages/colossalai/logging/logging.py#109\u001b\\\u001b[2m109\u001b[0m\u001b]8;;\u001b\\\n",
       "\u001b[2;36m                    \u001b[0m         INFO: Using LogTimingByEpochHook for training,    \u001b[2m              \u001b[0m\n",
       "\u001b[2;36m                    \u001b[0m         priority = \u001b[1;36m10\u001b[0m                                     \u001b[2m              \u001b[0m\n"
      ]
     },
     "metadata": {},
     "output_type": "display_data"
    },
    {
     "data": {
      "text/html": [
       "<pre style=\"white-space:pre;overflow-x:auto;line-height:normal;font-family:Menlo,'DejaVu Sans Mono',consolas,'Courier New',monospace\"><span style=\"color: #7fbfbf; text-decoration-color: #7fbfbf\">                    </span><span style=\"color: #000080; text-decoration-color: #000080\">INFO    </span> colossalai - colossalai - <span style=\"color: #008080; text-decoration-color: #008080; font-weight: bold\">2022</span>-<span style=\"color: #008080; text-decoration-color: #008080; font-weight: bold\">03</span>-<span style=\"color: #008080; text-decoration-color: #008080; font-weight: bold\">29</span> <span style=\"color: #00ff00; text-decoration-color: #00ff00; font-weight: bold\">03:07:01</span>,<span style=\"color: #008080; text-decoration-color: #008080; font-weight: bold\">554</span> <a href=\"file:///home/fiona/anaconda3/envs/pytorch/lib/python3.9/site-packages/colossalai/logging/logging.py\" target=\"_blank\"><span style=\"color: #7f7f7f; text-decoration-color: #7f7f7f\">logging.py</span></a><span style=\"color: #7f7f7f; text-decoration-color: #7f7f7f\">:</span><a href=\"file:///home/fiona/anaconda3/envs/pytorch/lib/python3.9/site-packages/colossalai/logging/logging.py#109\" target=\"_blank\"><span style=\"color: #7f7f7f; text-decoration-color: #7f7f7f\">109</span></a>\n",
       "<span style=\"color: #7fbfbf; text-decoration-color: #7fbfbf\">                    </span>         INFO: Using TensorboardHook for training,         <span style=\"color: #7f7f7f; text-decoration-color: #7f7f7f\">              </span>\n",
       "<span style=\"color: #7fbfbf; text-decoration-color: #7fbfbf\">                    </span>         priority = <span style=\"color: #008080; text-decoration-color: #008080; font-weight: bold\">10</span>                                     <span style=\"color: #7f7f7f; text-decoration-color: #7f7f7f\">              </span>\n",
       "</pre>\n"
      ],
      "text/plain": [
       "\u001b[2;36m                   \u001b[0m\u001b[2;36m \u001b[0m\u001b[34mINFO    \u001b[0m colossalai - colossalai - \u001b[1;36m2022\u001b[0m-\u001b[1;36m03\u001b[0m-\u001b[1;36m29\u001b[0m \u001b[1;92m03:07:01\u001b[0m,\u001b[1;36m554\u001b[0m \u001b]8;id=671211;file:///home/fiona/anaconda3/envs/pytorch/lib/python3.9/site-packages/colossalai/logging/logging.py\u001b\\\u001b[2mlogging.py\u001b[0m\u001b]8;;\u001b\\\u001b[2m:\u001b[0m\u001b]8;id=224826;file:///home/fiona/anaconda3/envs/pytorch/lib/python3.9/site-packages/colossalai/logging/logging.py#109\u001b\\\u001b[2m109\u001b[0m\u001b]8;;\u001b\\\n",
       "\u001b[2;36m                    \u001b[0m         INFO: Using TensorboardHook for training,         \u001b[2m              \u001b[0m\n",
       "\u001b[2;36m                    \u001b[0m         priority = \u001b[1;36m10\u001b[0m                                     \u001b[2m              \u001b[0m\n"
      ]
     },
     "metadata": {},
     "output_type": "display_data"
    },
    {
     "data": {
      "text/html": [
       "<pre style=\"white-space:pre;overflow-x:auto;line-height:normal;font-family:Menlo,'DejaVu Sans Mono',consolas,'Courier New',monospace\"><span style=\"color: #7fbfbf; text-decoration-color: #7fbfbf\">                    </span><span style=\"color: #000080; text-decoration-color: #000080\">INFO    </span> colossalai - colossalai - <span style=\"color: #008080; text-decoration-color: #008080; font-weight: bold\">2022</span>-<span style=\"color: #008080; text-decoration-color: #008080; font-weight: bold\">03</span>-<span style=\"color: #008080; text-decoration-color: #008080; font-weight: bold\">29</span> <span style=\"color: #00ff00; text-decoration-color: #00ff00; font-weight: bold\">03:07:01</span>,<span style=\"color: #008080; text-decoration-color: #008080; font-weight: bold\">557</span> <a href=\"file:///home/fiona/anaconda3/envs/pytorch/lib/python3.9/site-packages/colossalai/logging/logging.py\" target=\"_blank\"><span style=\"color: #7f7f7f; text-decoration-color: #7f7f7f\">logging.py</span></a><span style=\"color: #7f7f7f; text-decoration-color: #7f7f7f\">:</span><a href=\"file:///home/fiona/anaconda3/envs/pytorch/lib/python3.9/site-packages/colossalai/logging/logging.py#109\" target=\"_blank\"><span style=\"color: #7f7f7f; text-decoration-color: #7f7f7f\">109</span></a>\n",
       "<span style=\"color: #7fbfbf; text-decoration-color: #7fbfbf\">                    </span>         INFO: Lower value means higher priority for       <span style=\"color: #7f7f7f; text-decoration-color: #7f7f7f\">              </span>\n",
       "<span style=\"color: #7fbfbf; text-decoration-color: #7fbfbf\">                    </span>         calling hook function                             <span style=\"color: #7f7f7f; text-decoration-color: #7f7f7f\">              </span>\n",
       "</pre>\n"
      ],
      "text/plain": [
       "\u001b[2;36m                   \u001b[0m\u001b[2;36m \u001b[0m\u001b[34mINFO    \u001b[0m colossalai - colossalai - \u001b[1;36m2022\u001b[0m-\u001b[1;36m03\u001b[0m-\u001b[1;36m29\u001b[0m \u001b[1;92m03:07:01\u001b[0m,\u001b[1;36m557\u001b[0m \u001b]8;id=949201;file:///home/fiona/anaconda3/envs/pytorch/lib/python3.9/site-packages/colossalai/logging/logging.py\u001b\\\u001b[2mlogging.py\u001b[0m\u001b]8;;\u001b\\\u001b[2m:\u001b[0m\u001b]8;id=951387;file:///home/fiona/anaconda3/envs/pytorch/lib/python3.9/site-packages/colossalai/logging/logging.py#109\u001b\\\u001b[2m109\u001b[0m\u001b]8;;\u001b\\\n",
       "\u001b[2;36m                    \u001b[0m         INFO: Lower value means higher priority for       \u001b[2m              \u001b[0m\n",
       "\u001b[2;36m                    \u001b[0m         calling hook function                             \u001b[2m              \u001b[0m\n"
      ]
     },
     "metadata": {},
     "output_type": "display_data"
    },
    {
     "data": {
      "text/html": [
       "<pre style=\"white-space:pre;overflow-x:auto;line-height:normal;font-family:Menlo,'DejaVu Sans Mono',consolas,'Courier New',monospace\"><span style=\"color: #7fbfbf; text-decoration-color: #7fbfbf\">                    </span><span style=\"color: #000080; text-decoration-color: #000080\">INFO    </span> colossalai - colossalai - <span style=\"color: #008080; text-decoration-color: #008080; font-weight: bold\">2022</span>-<span style=\"color: #008080; text-decoration-color: #008080; font-weight: bold\">03</span>-<span style=\"color: #008080; text-decoration-color: #008080; font-weight: bold\">29</span> <span style=\"color: #00ff00; text-decoration-color: #00ff00; font-weight: bold\">03:07:01</span>,<span style=\"color: #008080; text-decoration-color: #008080; font-weight: bold\">561</span> <a href=\"file:///home/fiona/anaconda3/envs/pytorch/lib/python3.9/site-packages/colossalai/logging/logging.py\" target=\"_blank\"><span style=\"color: #7f7f7f; text-decoration-color: #7f7f7f\">logging.py</span></a><span style=\"color: #7f7f7f; text-decoration-color: #7f7f7f\">:</span><a href=\"file:///home/fiona/anaconda3/envs/pytorch/lib/python3.9/site-packages/colossalai/logging/logging.py#105\" target=\"_blank\"><span style=\"color: #7f7f7f; text-decoration-color: #7f7f7f\">105</span></a>\n",
       "<span style=\"color: #7fbfbf; text-decoration-color: #7fbfbf\">                    </span>         INFO: Before-train: GPU: allocated <span style=\"color: #008080; text-decoration-color: #008080; font-weight: bold\">10.78</span> MB, max  <span style=\"color: #7f7f7f; text-decoration-color: #7f7f7f\">              </span>\n",
       "<span style=\"color: #7fbfbf; text-decoration-color: #7fbfbf\">                    </span>         allocated <span style=\"color: #008080; text-decoration-color: #008080; font-weight: bold\">56.57</span> MB, cached: <span style=\"color: #008080; text-decoration-color: #008080; font-weight: bold\">74.0</span> MB, max cached:  <span style=\"color: #7f7f7f; text-decoration-color: #7f7f7f\">              </span>\n",
       "<span style=\"color: #7fbfbf; text-decoration-color: #7fbfbf\">                    </span>         <span style=\"color: #008080; text-decoration-color: #008080; font-weight: bold\">74.0</span> MB                                           <span style=\"color: #7f7f7f; text-decoration-color: #7f7f7f\">              </span>\n",
       "</pre>\n"
      ],
      "text/plain": [
       "\u001b[2;36m                   \u001b[0m\u001b[2;36m \u001b[0m\u001b[34mINFO    \u001b[0m colossalai - colossalai - \u001b[1;36m2022\u001b[0m-\u001b[1;36m03\u001b[0m-\u001b[1;36m29\u001b[0m \u001b[1;92m03:07:01\u001b[0m,\u001b[1;36m561\u001b[0m \u001b]8;id=754000;file:///home/fiona/anaconda3/envs/pytorch/lib/python3.9/site-packages/colossalai/logging/logging.py\u001b\\\u001b[2mlogging.py\u001b[0m\u001b]8;;\u001b\\\u001b[2m:\u001b[0m\u001b]8;id=969499;file:///home/fiona/anaconda3/envs/pytorch/lib/python3.9/site-packages/colossalai/logging/logging.py#105\u001b\\\u001b[2m105\u001b[0m\u001b]8;;\u001b\\\n",
       "\u001b[2;36m                    \u001b[0m         INFO: Before-train: GPU: allocated \u001b[1;36m10.78\u001b[0m MB, max  \u001b[2m              \u001b[0m\n",
       "\u001b[2;36m                    \u001b[0m         allocated \u001b[1;36m56.57\u001b[0m MB, cached: \u001b[1;36m74.0\u001b[0m MB, max cached:  \u001b[2m              \u001b[0m\n",
       "\u001b[2;36m                    \u001b[0m         \u001b[1;36m74.0\u001b[0m MB                                           \u001b[2m              \u001b[0m\n"
      ]
     },
     "metadata": {},
     "output_type": "display_data"
    },
    {
     "name": "stderr",
     "output_type": "stream",
     "text": [
      "[Epoch 0 / Train]: 100%|██████████████████████████████████████████████████████████████| 469/469 [00:09<00:00, 46.90it/s]\n"
     ]
    },
    {
     "data": {
      "text/html": [
       "<pre style=\"white-space:pre;overflow-x:auto;line-height:normal;font-family:Menlo,'DejaVu Sans Mono',consolas,'Courier New',monospace\"><span style=\"color: #7fbfbf; text-decoration-color: #7fbfbf\">[03/29/22 03:07:11] </span><span style=\"color: #000080; text-decoration-color: #000080\">INFO    </span> colossalai - colossalai - <span style=\"color: #008080; text-decoration-color: #008080; font-weight: bold\">2022</span>-<span style=\"color: #008080; text-decoration-color: #008080; font-weight: bold\">03</span>-<span style=\"color: #008080; text-decoration-color: #008080; font-weight: bold\">29</span> <span style=\"color: #00ff00; text-decoration-color: #00ff00; font-weight: bold\">03:07:11</span>,<span style=\"color: #008080; text-decoration-color: #008080; font-weight: bold\">653</span> <a href=\"file:///home/fiona/anaconda3/envs/pytorch/lib/python3.9/site-packages/colossalai/logging/logging.py\" target=\"_blank\"><span style=\"color: #7f7f7f; text-decoration-color: #7f7f7f\">logging.py</span></a><span style=\"color: #7f7f7f; text-decoration-color: #7f7f7f\">:</span><a href=\"file:///home/fiona/anaconda3/envs/pytorch/lib/python3.9/site-packages/colossalai/logging/logging.py#105\" target=\"_blank\"><span style=\"color: #7f7f7f; text-decoration-color: #7f7f7f\">105</span></a>\n",
       "<span style=\"color: #7fbfbf; text-decoration-color: #7fbfbf\">                    </span>         INFO: <span style=\"font-weight: bold\">[</span>Epoch <span style=\"color: #008080; text-decoration-color: #008080; font-weight: bold\">0</span> <span style=\"color: #800080; text-decoration-color: #800080\">/</span> Train<span style=\"font-weight: bold\">]</span>: Loss = nan | LR =        <span style=\"color: #7f7f7f; text-decoration-color: #7f7f7f\">              </span>\n",
       "<span style=\"color: #7fbfbf; text-decoration-color: #7fbfbf\">                    </span>         <span style=\"color: #008080; text-decoration-color: #008080; font-weight: bold\">0.0028031</span>                                         <span style=\"color: #7f7f7f; text-decoration-color: #7f7f7f\">              </span>\n",
       "</pre>\n"
      ],
      "text/plain": [
       "\u001b[2;36m[03/29/22 03:07:11]\u001b[0m\u001b[2;36m \u001b[0m\u001b[34mINFO    \u001b[0m colossalai - colossalai - \u001b[1;36m2022\u001b[0m-\u001b[1;36m03\u001b[0m-\u001b[1;36m29\u001b[0m \u001b[1;92m03:07:11\u001b[0m,\u001b[1;36m653\u001b[0m \u001b]8;id=421241;file:///home/fiona/anaconda3/envs/pytorch/lib/python3.9/site-packages/colossalai/logging/logging.py\u001b\\\u001b[2mlogging.py\u001b[0m\u001b]8;;\u001b\\\u001b[2m:\u001b[0m\u001b]8;id=975936;file:///home/fiona/anaconda3/envs/pytorch/lib/python3.9/site-packages/colossalai/logging/logging.py#105\u001b\\\u001b[2m105\u001b[0m\u001b]8;;\u001b\\\n",
       "\u001b[2;36m                    \u001b[0m         INFO: \u001b[1m[\u001b[0mEpoch \u001b[1;36m0\u001b[0m \u001b[35m/\u001b[0m Train\u001b[1m]\u001b[0m: Loss = nan | LR =        \u001b[2m              \u001b[0m\n",
       "\u001b[2;36m                    \u001b[0m         \u001b[1;36m0.0028031\u001b[0m                                         \u001b[2m              \u001b[0m\n"
      ]
     },
     "metadata": {},
     "output_type": "display_data"
    },
    {
     "data": {
      "text/html": [
       "<pre style=\"white-space:pre;overflow-x:auto;line-height:normal;font-family:Menlo,'DejaVu Sans Mono',consolas,'Courier New',monospace\"><span style=\"color: #7fbfbf; text-decoration-color: #7fbfbf\">                    </span><span style=\"color: #000080; text-decoration-color: #000080\">INFO    </span> colossalai - colossalai - <span style=\"color: #008080; text-decoration-color: #008080; font-weight: bold\">2022</span>-<span style=\"color: #008080; text-decoration-color: #008080; font-weight: bold\">03</span>-<span style=\"color: #008080; text-decoration-color: #008080; font-weight: bold\">29</span> <span style=\"color: #00ff00; text-decoration-color: #00ff00; font-weight: bold\">03:07:11</span>,<span style=\"color: #008080; text-decoration-color: #008080; font-weight: bold\">660</span> <a href=\"file:///home/fiona/anaconda3/envs/pytorch/lib/python3.9/site-packages/colossalai/logging/logging.py\" target=\"_blank\"><span style=\"color: #7f7f7f; text-decoration-color: #7f7f7f\">logging.py</span></a><span style=\"color: #7f7f7f; text-decoration-color: #7f7f7f\">:</span><a href=\"file:///home/fiona/anaconda3/envs/pytorch/lib/python3.9/site-packages/colossalai/logging/logging.py#105\" target=\"_blank\"><span style=\"color: #7f7f7f; text-decoration-color: #7f7f7f\">105</span></a>\n",
       "<span style=\"color: #7fbfbf; text-decoration-color: #7fbfbf\">                    </span>         INFO: <span style=\"font-weight: bold\">[</span>Epoch <span style=\"color: #008080; text-decoration-color: #008080; font-weight: bold\">0</span> <span style=\"color: #800080; text-decoration-color: #800080\">/</span> Train<span style=\"font-weight: bold\">]</span>: GPU: allocated <span style=\"color: #008080; text-decoration-color: #008080; font-weight: bold\">15.24</span> MB, <span style=\"color: #7f7f7f; text-decoration-color: #7f7f7f\">              </span>\n",
       "<span style=\"color: #7fbfbf; text-decoration-color: #7fbfbf\">                    </span>         max allocated <span style=\"color: #008080; text-decoration-color: #008080; font-weight: bold\">61.84</span> MB, cached: <span style=\"color: #008080; text-decoration-color: #008080; font-weight: bold\">76.0</span> MB, max      <span style=\"color: #7f7f7f; text-decoration-color: #7f7f7f\">              </span>\n",
       "<span style=\"color: #7fbfbf; text-decoration-color: #7fbfbf\">                    </span>         cached: <span style=\"color: #008080; text-decoration-color: #008080; font-weight: bold\">76.0</span> MB                                   <span style=\"color: #7f7f7f; text-decoration-color: #7f7f7f\">              </span>\n",
       "</pre>\n"
      ],
      "text/plain": [
       "\u001b[2;36m                   \u001b[0m\u001b[2;36m \u001b[0m\u001b[34mINFO    \u001b[0m colossalai - colossalai - \u001b[1;36m2022\u001b[0m-\u001b[1;36m03\u001b[0m-\u001b[1;36m29\u001b[0m \u001b[1;92m03:07:11\u001b[0m,\u001b[1;36m660\u001b[0m \u001b]8;id=203347;file:///home/fiona/anaconda3/envs/pytorch/lib/python3.9/site-packages/colossalai/logging/logging.py\u001b\\\u001b[2mlogging.py\u001b[0m\u001b]8;;\u001b\\\u001b[2m:\u001b[0m\u001b]8;id=691837;file:///home/fiona/anaconda3/envs/pytorch/lib/python3.9/site-packages/colossalai/logging/logging.py#105\u001b\\\u001b[2m105\u001b[0m\u001b]8;;\u001b\\\n",
       "\u001b[2;36m                    \u001b[0m         INFO: \u001b[1m[\u001b[0mEpoch \u001b[1;36m0\u001b[0m \u001b[35m/\u001b[0m Train\u001b[1m]\u001b[0m: GPU: allocated \u001b[1;36m15.24\u001b[0m MB, \u001b[2m              \u001b[0m\n",
       "\u001b[2;36m                    \u001b[0m         max allocated \u001b[1;36m61.84\u001b[0m MB, cached: \u001b[1;36m76.0\u001b[0m MB, max      \u001b[2m              \u001b[0m\n",
       "\u001b[2;36m                    \u001b[0m         cached: \u001b[1;36m76.0\u001b[0m MB                                   \u001b[2m              \u001b[0m\n"
      ]
     },
     "metadata": {},
     "output_type": "display_data"
    },
    {
     "data": {
      "text/html": [
       "<pre style=\"white-space:pre;overflow-x:auto;line-height:normal;font-family:Menlo,'DejaVu Sans Mono',consolas,'Courier New',monospace\"><span style=\"color: #7fbfbf; text-decoration-color: #7fbfbf\">                    </span><span style=\"color: #000080; text-decoration-color: #000080\">INFO    </span> colossalai - colossalai - <span style=\"color: #008080; text-decoration-color: #008080; font-weight: bold\">2022</span>-<span style=\"color: #008080; text-decoration-color: #008080; font-weight: bold\">03</span>-<span style=\"color: #008080; text-decoration-color: #008080; font-weight: bold\">29</span> <span style=\"color: #00ff00; text-decoration-color: #00ff00; font-weight: bold\">03:07:11</span>,<span style=\"color: #008080; text-decoration-color: #008080; font-weight: bold\">664</span> <a href=\"file:///home/fiona/anaconda3/envs/pytorch/lib/python3.9/site-packages/colossalai/logging/logging.py\" target=\"_blank\"><span style=\"color: #7f7f7f; text-decoration-color: #7f7f7f\">logging.py</span></a><span style=\"color: #7f7f7f; text-decoration-color: #7f7f7f\">:</span><a href=\"file:///home/fiona/anaconda3/envs/pytorch/lib/python3.9/site-packages/colossalai/logging/logging.py#105\" target=\"_blank\"><span style=\"color: #7f7f7f; text-decoration-color: #7f7f7f\">105</span></a>\n",
       "<span style=\"color: #7fbfbf; text-decoration-color: #7fbfbf\">                    </span>         INFO: <span style=\"font-weight: bold\">[</span>Epoch <span style=\"color: #008080; text-decoration-color: #008080; font-weight: bold\">0</span> <span style=\"color: #800080; text-decoration-color: #800080\">/</span> Train<span style=\"font-weight: bold\">]</span>: Train-epoch: last =      <span style=\"color: #7f7f7f; text-decoration-color: #7f7f7f\">              </span>\n",
       "<span style=\"color: #7fbfbf; text-decoration-color: #7fbfbf\">                    </span>         <span style=\"color: #008080; text-decoration-color: #008080; font-weight: bold\">9.9995</span> s, mean = <span style=\"color: #008080; text-decoration-color: #008080; font-weight: bold\">9.9995</span> s | Train-step: last =    <span style=\"color: #7f7f7f; text-decoration-color: #7f7f7f\">              </span>\n",
       "<span style=\"color: #7fbfbf; text-decoration-color: #7fbfbf\">                    </span>         <span style=\"color: #008080; text-decoration-color: #008080; font-weight: bold\">0.014911</span> s, mean = <span style=\"color: #008080; text-decoration-color: #008080; font-weight: bold\">0.020866</span> s | #steps/epoch =    <span style=\"color: #7f7f7f; text-decoration-color: #7f7f7f\">              </span>\n",
       "<span style=\"color: #7fbfbf; text-decoration-color: #7fbfbf\">                    </span>         <span style=\"color: #008080; text-decoration-color: #008080; font-weight: bold\">469</span>                                               <span style=\"color: #7f7f7f; text-decoration-color: #7f7f7f\">              </span>\n",
       "</pre>\n"
      ],
      "text/plain": [
       "\u001b[2;36m                   \u001b[0m\u001b[2;36m \u001b[0m\u001b[34mINFO    \u001b[0m colossalai - colossalai - \u001b[1;36m2022\u001b[0m-\u001b[1;36m03\u001b[0m-\u001b[1;36m29\u001b[0m \u001b[1;92m03:07:11\u001b[0m,\u001b[1;36m664\u001b[0m \u001b]8;id=782159;file:///home/fiona/anaconda3/envs/pytorch/lib/python3.9/site-packages/colossalai/logging/logging.py\u001b\\\u001b[2mlogging.py\u001b[0m\u001b]8;;\u001b\\\u001b[2m:\u001b[0m\u001b]8;id=188596;file:///home/fiona/anaconda3/envs/pytorch/lib/python3.9/site-packages/colossalai/logging/logging.py#105\u001b\\\u001b[2m105\u001b[0m\u001b]8;;\u001b\\\n",
       "\u001b[2;36m                    \u001b[0m         INFO: \u001b[1m[\u001b[0mEpoch \u001b[1;36m0\u001b[0m \u001b[35m/\u001b[0m Train\u001b[1m]\u001b[0m: Train-epoch: last =      \u001b[2m              \u001b[0m\n",
       "\u001b[2;36m                    \u001b[0m         \u001b[1;36m9.9995\u001b[0m s, mean = \u001b[1;36m9.9995\u001b[0m s | Train-step: last =    \u001b[2m              \u001b[0m\n",
       "\u001b[2;36m                    \u001b[0m         \u001b[1;36m0.014911\u001b[0m s, mean = \u001b[1;36m0.020866\u001b[0m s | #steps/epoch =    \u001b[2m              \u001b[0m\n",
       "\u001b[2;36m                    \u001b[0m         \u001b[1;36m469\u001b[0m                                               \u001b[2m              \u001b[0m\n"
      ]
     },
     "metadata": {},
     "output_type": "display_data"
    },
    {
     "name": "stderr",
     "output_type": "stream",
     "text": [
      "[Epoch 0 / Test]: 100%|█████████████████████████████████████████████████████████████████| 79/79 [00:01<00:00, 48.90it/s]\n"
     ]
    },
    {
     "data": {
      "text/html": [
       "<pre style=\"white-space:pre;overflow-x:auto;line-height:normal;font-family:Menlo,'DejaVu Sans Mono',consolas,'Courier New',monospace\"><span style=\"color: #7fbfbf; text-decoration-color: #7fbfbf\">[03/29/22 03:07:13] </span><span style=\"color: #000080; text-decoration-color: #000080\">INFO    </span> colossalai - colossalai - <span style=\"color: #008080; text-decoration-color: #008080; font-weight: bold\">2022</span>-<span style=\"color: #008080; text-decoration-color: #008080; font-weight: bold\">03</span>-<span style=\"color: #008080; text-decoration-color: #008080; font-weight: bold\">29</span> <span style=\"color: #00ff00; text-decoration-color: #00ff00; font-weight: bold\">03:07:13</span>,<span style=\"color: #008080; text-decoration-color: #008080; font-weight: bold\">419</span> <a href=\"file:///home/fiona/anaconda3/envs/pytorch/lib/python3.9/site-packages/colossalai/logging/logging.py\" target=\"_blank\"><span style=\"color: #7f7f7f; text-decoration-color: #7f7f7f\">logging.py</span></a><span style=\"color: #7f7f7f; text-decoration-color: #7f7f7f\">:</span><a href=\"file:///home/fiona/anaconda3/envs/pytorch/lib/python3.9/site-packages/colossalai/logging/logging.py#105\" target=\"_blank\"><span style=\"color: #7f7f7f; text-decoration-color: #7f7f7f\">105</span></a>\n",
       "<span style=\"color: #7fbfbf; text-decoration-color: #7fbfbf\">                    </span>         INFO: <span style=\"font-weight: bold\">[</span>Epoch <span style=\"color: #008080; text-decoration-color: #008080; font-weight: bold\">0</span> <span style=\"color: #800080; text-decoration-color: #800080\">/</span> Test<span style=\"font-weight: bold\">]</span>: Loss = nan                <span style=\"color: #7f7f7f; text-decoration-color: #7f7f7f\">              </span>\n",
       "</pre>\n"
      ],
      "text/plain": [
       "\u001b[2;36m[03/29/22 03:07:13]\u001b[0m\u001b[2;36m \u001b[0m\u001b[34mINFO    \u001b[0m colossalai - colossalai - \u001b[1;36m2022\u001b[0m-\u001b[1;36m03\u001b[0m-\u001b[1;36m29\u001b[0m \u001b[1;92m03:07:13\u001b[0m,\u001b[1;36m419\u001b[0m \u001b]8;id=644739;file:///home/fiona/anaconda3/envs/pytorch/lib/python3.9/site-packages/colossalai/logging/logging.py\u001b\\\u001b[2mlogging.py\u001b[0m\u001b]8;;\u001b\\\u001b[2m:\u001b[0m\u001b]8;id=464854;file:///home/fiona/anaconda3/envs/pytorch/lib/python3.9/site-packages/colossalai/logging/logging.py#105\u001b\\\u001b[2m105\u001b[0m\u001b]8;;\u001b\\\n",
       "\u001b[2;36m                    \u001b[0m         INFO: \u001b[1m[\u001b[0mEpoch \u001b[1;36m0\u001b[0m \u001b[35m/\u001b[0m Test\u001b[1m]\u001b[0m: Loss = nan                \u001b[2m              \u001b[0m\n"
      ]
     },
     "metadata": {},
     "output_type": "display_data"
    },
    {
     "data": {
      "text/html": [
       "<pre style=\"white-space:pre;overflow-x:auto;line-height:normal;font-family:Menlo,'DejaVu Sans Mono',consolas,'Courier New',monospace\"><span style=\"color: #7fbfbf; text-decoration-color: #7fbfbf\">                    </span><span style=\"color: #000080; text-decoration-color: #000080\">INFO    </span> colossalai - colossalai - <span style=\"color: #008080; text-decoration-color: #008080; font-weight: bold\">2022</span>-<span style=\"color: #008080; text-decoration-color: #008080; font-weight: bold\">03</span>-<span style=\"color: #008080; text-decoration-color: #008080; font-weight: bold\">29</span> <span style=\"color: #00ff00; text-decoration-color: #00ff00; font-weight: bold\">03:07:13</span>,<span style=\"color: #008080; text-decoration-color: #008080; font-weight: bold\">424</span> <a href=\"file:///home/fiona/anaconda3/envs/pytorch/lib/python3.9/site-packages/colossalai/logging/logging.py\" target=\"_blank\"><span style=\"color: #7f7f7f; text-decoration-color: #7f7f7f\">logging.py</span></a><span style=\"color: #7f7f7f; text-decoration-color: #7f7f7f\">:</span><a href=\"file:///home/fiona/anaconda3/envs/pytorch/lib/python3.9/site-packages/colossalai/logging/logging.py#105\" target=\"_blank\"><span style=\"color: #7f7f7f; text-decoration-color: #7f7f7f\">105</span></a>\n",
       "<span style=\"color: #7fbfbf; text-decoration-color: #7fbfbf\">                    </span>         INFO: <span style=\"font-weight: bold\">[</span>Epoch <span style=\"color: #008080; text-decoration-color: #008080; font-weight: bold\">0</span> <span style=\"color: #800080; text-decoration-color: #800080\">/</span> Test<span style=\"font-weight: bold\">]</span>: Test-epoch: last = <span style=\"color: #008080; text-decoration-color: #008080; font-weight: bold\">1.6159</span> <span style=\"color: #7f7f7f; text-decoration-color: #7f7f7f\">              </span>\n",
       "<span style=\"color: #7fbfbf; text-decoration-color: #7fbfbf\">                    </span>         s, mean = <span style=\"color: #008080; text-decoration-color: #008080; font-weight: bold\">1.6159</span> s | Test-step: last = <span style=\"color: #008080; text-decoration-color: #008080; font-weight: bold\">0.0030608</span>  <span style=\"color: #7f7f7f; text-decoration-color: #7f7f7f\">              </span>\n",
       "<span style=\"color: #7fbfbf; text-decoration-color: #7fbfbf\">                    </span>         s, mean = <span style=\"color: #008080; text-decoration-color: #008080; font-weight: bold\">0.020243</span> s                              <span style=\"color: #7f7f7f; text-decoration-color: #7f7f7f\">              </span>\n",
       "</pre>\n"
      ],
      "text/plain": [
       "\u001b[2;36m                   \u001b[0m\u001b[2;36m \u001b[0m\u001b[34mINFO    \u001b[0m colossalai - colossalai - \u001b[1;36m2022\u001b[0m-\u001b[1;36m03\u001b[0m-\u001b[1;36m29\u001b[0m \u001b[1;92m03:07:13\u001b[0m,\u001b[1;36m424\u001b[0m \u001b]8;id=223933;file:///home/fiona/anaconda3/envs/pytorch/lib/python3.9/site-packages/colossalai/logging/logging.py\u001b\\\u001b[2mlogging.py\u001b[0m\u001b]8;;\u001b\\\u001b[2m:\u001b[0m\u001b]8;id=366346;file:///home/fiona/anaconda3/envs/pytorch/lib/python3.9/site-packages/colossalai/logging/logging.py#105\u001b\\\u001b[2m105\u001b[0m\u001b]8;;\u001b\\\n",
       "\u001b[2;36m                    \u001b[0m         INFO: \u001b[1m[\u001b[0mEpoch \u001b[1;36m0\u001b[0m \u001b[35m/\u001b[0m Test\u001b[1m]\u001b[0m: Test-epoch: last = \u001b[1;36m1.6159\u001b[0m \u001b[2m              \u001b[0m\n",
       "\u001b[2;36m                    \u001b[0m         s, mean = \u001b[1;36m1.6159\u001b[0m s | Test-step: last = \u001b[1;36m0.0030608\u001b[0m  \u001b[2m              \u001b[0m\n",
       "\u001b[2;36m                    \u001b[0m         s, mean = \u001b[1;36m0.020243\u001b[0m s                              \u001b[2m              \u001b[0m\n"
      ]
     },
     "metadata": {},
     "output_type": "display_data"
    },
    {
     "data": {
      "text/html": [
       "<pre style=\"white-space:pre;overflow-x:auto;line-height:normal;font-family:Menlo,'DejaVu Sans Mono',consolas,'Courier New',monospace\"><span style=\"color: #7fbfbf; text-decoration-color: #7fbfbf\">                    </span><span style=\"color: #000080; text-decoration-color: #000080\">INFO    </span> colossalai - colossalai - <span style=\"color: #008080; text-decoration-color: #008080; font-weight: bold\">2022</span>-<span style=\"color: #008080; text-decoration-color: #008080; font-weight: bold\">03</span>-<span style=\"color: #008080; text-decoration-color: #008080; font-weight: bold\">29</span> <span style=\"color: #00ff00; text-decoration-color: #00ff00; font-weight: bold\">03:07:13</span>,<span style=\"color: #008080; text-decoration-color: #008080; font-weight: bold\">430</span> <a href=\"file:///home/fiona/anaconda3/envs/pytorch/lib/python3.9/site-packages/colossalai/logging/logging.py\" target=\"_blank\"><span style=\"color: #7f7f7f; text-decoration-color: #7f7f7f\">logging.py</span></a><span style=\"color: #7f7f7f; text-decoration-color: #7f7f7f\">:</span><a href=\"file:///home/fiona/anaconda3/envs/pytorch/lib/python3.9/site-packages/colossalai/logging/logging.py#105\" target=\"_blank\"><span style=\"color: #7f7f7f; text-decoration-color: #7f7f7f\">105</span></a>\n",
       "<span style=\"color: #7fbfbf; text-decoration-color: #7fbfbf\">                    </span>         INFO: <span style=\"font-weight: bold\">[</span>Epoch <span style=\"color: #008080; text-decoration-color: #008080; font-weight: bold\">0</span> <span style=\"color: #800080; text-decoration-color: #800080\">/</span> Test<span style=\"font-weight: bold\">]</span>: GPU: allocated <span style=\"color: #008080; text-decoration-color: #008080; font-weight: bold\">11.25</span> MB,  <span style=\"color: #7f7f7f; text-decoration-color: #7f7f7f\">              </span>\n",
       "<span style=\"color: #7fbfbf; text-decoration-color: #7fbfbf\">                    </span>         max allocated <span style=\"color: #008080; text-decoration-color: #008080; font-weight: bold\">16.35</span> MB, cached: <span style=\"color: #008080; text-decoration-color: #008080; font-weight: bold\">76.0</span> MB, max      <span style=\"color: #7f7f7f; text-decoration-color: #7f7f7f\">              </span>\n",
       "<span style=\"color: #7fbfbf; text-decoration-color: #7fbfbf\">                    </span>         cached: <span style=\"color: #008080; text-decoration-color: #008080; font-weight: bold\">76.0</span> MB                                   <span style=\"color: #7f7f7f; text-decoration-color: #7f7f7f\">              </span>\n",
       "</pre>\n"
      ],
      "text/plain": [
       "\u001b[2;36m                   \u001b[0m\u001b[2;36m \u001b[0m\u001b[34mINFO    \u001b[0m colossalai - colossalai - \u001b[1;36m2022\u001b[0m-\u001b[1;36m03\u001b[0m-\u001b[1;36m29\u001b[0m \u001b[1;92m03:07:13\u001b[0m,\u001b[1;36m430\u001b[0m \u001b]8;id=615496;file:///home/fiona/anaconda3/envs/pytorch/lib/python3.9/site-packages/colossalai/logging/logging.py\u001b\\\u001b[2mlogging.py\u001b[0m\u001b]8;;\u001b\\\u001b[2m:\u001b[0m\u001b]8;id=779856;file:///home/fiona/anaconda3/envs/pytorch/lib/python3.9/site-packages/colossalai/logging/logging.py#105\u001b\\\u001b[2m105\u001b[0m\u001b]8;;\u001b\\\n",
       "\u001b[2;36m                    \u001b[0m         INFO: \u001b[1m[\u001b[0mEpoch \u001b[1;36m0\u001b[0m \u001b[35m/\u001b[0m Test\u001b[1m]\u001b[0m: GPU: allocated \u001b[1;36m11.25\u001b[0m MB,  \u001b[2m              \u001b[0m\n",
       "\u001b[2;36m                    \u001b[0m         max allocated \u001b[1;36m16.35\u001b[0m MB, cached: \u001b[1;36m76.0\u001b[0m MB, max      \u001b[2m              \u001b[0m\n",
       "\u001b[2;36m                    \u001b[0m         cached: \u001b[1;36m76.0\u001b[0m MB                                   \u001b[2m              \u001b[0m\n"
      ]
     },
     "metadata": {},
     "output_type": "display_data"
    },
    {
     "name": "stderr",
     "output_type": "stream",
     "text": [
      "[Epoch 1 / Train]: 100%|██████████████████████████████████████████████████████████████| 469/469 [00:10<00:00, 46.00it/s]\n"
     ]
    },
    {
     "data": {
      "text/html": [
       "<pre style=\"white-space:pre;overflow-x:auto;line-height:normal;font-family:Menlo,'DejaVu Sans Mono',consolas,'Courier New',monospace\"><span style=\"color: #7fbfbf; text-decoration-color: #7fbfbf\">[03/29/22 03:07:23] </span><span style=\"color: #000080; text-decoration-color: #000080\">INFO    </span> colossalai - colossalai - <span style=\"color: #008080; text-decoration-color: #008080; font-weight: bold\">2022</span>-<span style=\"color: #008080; text-decoration-color: #008080; font-weight: bold\">03</span>-<span style=\"color: #008080; text-decoration-color: #008080; font-weight: bold\">29</span> <span style=\"color: #00ff00; text-decoration-color: #00ff00; font-weight: bold\">03:07:23</span>,<span style=\"color: #008080; text-decoration-color: #008080; font-weight: bold\">781</span> <a href=\"file:///home/fiona/anaconda3/envs/pytorch/lib/python3.9/site-packages/colossalai/logging/logging.py\" target=\"_blank\"><span style=\"color: #7f7f7f; text-decoration-color: #7f7f7f\">logging.py</span></a><span style=\"color: #7f7f7f; text-decoration-color: #7f7f7f\">:</span><a href=\"file:///home/fiona/anaconda3/envs/pytorch/lib/python3.9/site-packages/colossalai/logging/logging.py#105\" target=\"_blank\"><span style=\"color: #7f7f7f; text-decoration-color: #7f7f7f\">105</span></a>\n",
       "<span style=\"color: #7fbfbf; text-decoration-color: #7fbfbf\">                    </span>         INFO: <span style=\"font-weight: bold\">[</span>Epoch <span style=\"color: #008080; text-decoration-color: #008080; font-weight: bold\">1</span> <span style=\"color: #800080; text-decoration-color: #800080\">/</span> Train<span style=\"font-weight: bold\">]</span>: Loss = nan | LR =        <span style=\"color: #7f7f7f; text-decoration-color: #7f7f7f\">              </span>\n",
       "<span style=\"color: #7fbfbf; text-decoration-color: #7fbfbf\">                    </span>         <span style=\"color: #008080; text-decoration-color: #008080; font-weight: bold\">0.0076062</span>                                         <span style=\"color: #7f7f7f; text-decoration-color: #7f7f7f\">              </span>\n",
       "</pre>\n"
      ],
      "text/plain": [
       "\u001b[2;36m[03/29/22 03:07:23]\u001b[0m\u001b[2;36m \u001b[0m\u001b[34mINFO    \u001b[0m colossalai - colossalai - \u001b[1;36m2022\u001b[0m-\u001b[1;36m03\u001b[0m-\u001b[1;36m29\u001b[0m \u001b[1;92m03:07:23\u001b[0m,\u001b[1;36m781\u001b[0m \u001b]8;id=691681;file:///home/fiona/anaconda3/envs/pytorch/lib/python3.9/site-packages/colossalai/logging/logging.py\u001b\\\u001b[2mlogging.py\u001b[0m\u001b]8;;\u001b\\\u001b[2m:\u001b[0m\u001b]8;id=293093;file:///home/fiona/anaconda3/envs/pytorch/lib/python3.9/site-packages/colossalai/logging/logging.py#105\u001b\\\u001b[2m105\u001b[0m\u001b]8;;\u001b\\\n",
       "\u001b[2;36m                    \u001b[0m         INFO: \u001b[1m[\u001b[0mEpoch \u001b[1;36m1\u001b[0m \u001b[35m/\u001b[0m Train\u001b[1m]\u001b[0m: Loss = nan | LR =        \u001b[2m              \u001b[0m\n",
       "\u001b[2;36m                    \u001b[0m         \u001b[1;36m0.0076062\u001b[0m                                         \u001b[2m              \u001b[0m\n"
      ]
     },
     "metadata": {},
     "output_type": "display_data"
    },
    {
     "data": {
      "text/html": [
       "<pre style=\"white-space:pre;overflow-x:auto;line-height:normal;font-family:Menlo,'DejaVu Sans Mono',consolas,'Courier New',monospace\"><span style=\"color: #7fbfbf; text-decoration-color: #7fbfbf\">                    </span><span style=\"color: #000080; text-decoration-color: #000080\">INFO    </span> colossalai - colossalai - <span style=\"color: #008080; text-decoration-color: #008080; font-weight: bold\">2022</span>-<span style=\"color: #008080; text-decoration-color: #008080; font-weight: bold\">03</span>-<span style=\"color: #008080; text-decoration-color: #008080; font-weight: bold\">29</span> <span style=\"color: #00ff00; text-decoration-color: #00ff00; font-weight: bold\">03:07:23</span>,<span style=\"color: #008080; text-decoration-color: #008080; font-weight: bold\">787</span> <a href=\"file:///home/fiona/anaconda3/envs/pytorch/lib/python3.9/site-packages/colossalai/logging/logging.py\" target=\"_blank\"><span style=\"color: #7f7f7f; text-decoration-color: #7f7f7f\">logging.py</span></a><span style=\"color: #7f7f7f; text-decoration-color: #7f7f7f\">:</span><a href=\"file:///home/fiona/anaconda3/envs/pytorch/lib/python3.9/site-packages/colossalai/logging/logging.py#105\" target=\"_blank\"><span style=\"color: #7f7f7f; text-decoration-color: #7f7f7f\">105</span></a>\n",
       "<span style=\"color: #7fbfbf; text-decoration-color: #7fbfbf\">                    </span>         INFO: <span style=\"font-weight: bold\">[</span>Epoch <span style=\"color: #008080; text-decoration-color: #008080; font-weight: bold\">1</span> <span style=\"color: #800080; text-decoration-color: #800080\">/</span> Train<span style=\"font-weight: bold\">]</span>: GPU: allocated <span style=\"color: #008080; text-decoration-color: #008080; font-weight: bold\">15.24</span> MB, <span style=\"color: #7f7f7f; text-decoration-color: #7f7f7f\">              </span>\n",
       "<span style=\"color: #7fbfbf; text-decoration-color: #7fbfbf\">                    </span>         max allocated <span style=\"color: #008080; text-decoration-color: #008080; font-weight: bold\">61.84</span> MB, cached: <span style=\"color: #008080; text-decoration-color: #008080; font-weight: bold\">76.0</span> MB, max      <span style=\"color: #7f7f7f; text-decoration-color: #7f7f7f\">              </span>\n",
       "<span style=\"color: #7fbfbf; text-decoration-color: #7fbfbf\">                    </span>         cached: <span style=\"color: #008080; text-decoration-color: #008080; font-weight: bold\">76.0</span> MB                                   <span style=\"color: #7f7f7f; text-decoration-color: #7f7f7f\">              </span>\n",
       "</pre>\n"
      ],
      "text/plain": [
       "\u001b[2;36m                   \u001b[0m\u001b[2;36m \u001b[0m\u001b[34mINFO    \u001b[0m colossalai - colossalai - \u001b[1;36m2022\u001b[0m-\u001b[1;36m03\u001b[0m-\u001b[1;36m29\u001b[0m \u001b[1;92m03:07:23\u001b[0m,\u001b[1;36m787\u001b[0m \u001b]8;id=637258;file:///home/fiona/anaconda3/envs/pytorch/lib/python3.9/site-packages/colossalai/logging/logging.py\u001b\\\u001b[2mlogging.py\u001b[0m\u001b]8;;\u001b\\\u001b[2m:\u001b[0m\u001b]8;id=779581;file:///home/fiona/anaconda3/envs/pytorch/lib/python3.9/site-packages/colossalai/logging/logging.py#105\u001b\\\u001b[2m105\u001b[0m\u001b]8;;\u001b\\\n",
       "\u001b[2;36m                    \u001b[0m         INFO: \u001b[1m[\u001b[0mEpoch \u001b[1;36m1\u001b[0m \u001b[35m/\u001b[0m Train\u001b[1m]\u001b[0m: GPU: allocated \u001b[1;36m15.24\u001b[0m MB, \u001b[2m              \u001b[0m\n",
       "\u001b[2;36m                    \u001b[0m         max allocated \u001b[1;36m61.84\u001b[0m MB, cached: \u001b[1;36m76.0\u001b[0m MB, max      \u001b[2m              \u001b[0m\n",
       "\u001b[2;36m                    \u001b[0m         cached: \u001b[1;36m76.0\u001b[0m MB                                   \u001b[2m              \u001b[0m\n"
      ]
     },
     "metadata": {},
     "output_type": "display_data"
    },
    {
     "data": {
      "text/html": [
       "<pre style=\"white-space:pre;overflow-x:auto;line-height:normal;font-family:Menlo,'DejaVu Sans Mono',consolas,'Courier New',monospace\"><span style=\"color: #7fbfbf; text-decoration-color: #7fbfbf\">                    </span><span style=\"color: #000080; text-decoration-color: #000080\">INFO    </span> colossalai - colossalai - <span style=\"color: #008080; text-decoration-color: #008080; font-weight: bold\">2022</span>-<span style=\"color: #008080; text-decoration-color: #008080; font-weight: bold\">03</span>-<span style=\"color: #008080; text-decoration-color: #008080; font-weight: bold\">29</span> <span style=\"color: #00ff00; text-decoration-color: #00ff00; font-weight: bold\">03:07:23</span>,<span style=\"color: #008080; text-decoration-color: #008080; font-weight: bold\">791</span> <a href=\"file:///home/fiona/anaconda3/envs/pytorch/lib/python3.9/site-packages/colossalai/logging/logging.py\" target=\"_blank\"><span style=\"color: #7f7f7f; text-decoration-color: #7f7f7f\">logging.py</span></a><span style=\"color: #7f7f7f; text-decoration-color: #7f7f7f\">:</span><a href=\"file:///home/fiona/anaconda3/envs/pytorch/lib/python3.9/site-packages/colossalai/logging/logging.py#105\" target=\"_blank\"><span style=\"color: #7f7f7f; text-decoration-color: #7f7f7f\">105</span></a>\n",
       "<span style=\"color: #7fbfbf; text-decoration-color: #7fbfbf\">                    </span>         INFO: <span style=\"font-weight: bold\">[</span>Epoch <span style=\"color: #008080; text-decoration-color: #008080; font-weight: bold\">1</span> <span style=\"color: #800080; text-decoration-color: #800080\">/</span> Train<span style=\"font-weight: bold\">]</span>: Train-epoch: last =      <span style=\"color: #7f7f7f; text-decoration-color: #7f7f7f\">              </span>\n",
       "<span style=\"color: #7fbfbf; text-decoration-color: #7fbfbf\">                    </span>         <span style=\"color: #008080; text-decoration-color: #008080; font-weight: bold\">10.197</span> s, mean = <span style=\"color: #008080; text-decoration-color: #008080; font-weight: bold\">10.197</span> s | Train-step: last =    <span style=\"color: #7f7f7f; text-decoration-color: #7f7f7f\">              </span>\n",
       "<span style=\"color: #7fbfbf; text-decoration-color: #7fbfbf\">                    </span>         <span style=\"color: #008080; text-decoration-color: #008080; font-weight: bold\">0.015203</span> s, mean = <span style=\"color: #008080; text-decoration-color: #008080; font-weight: bold\">0.021059</span> s | #steps/epoch =    <span style=\"color: #7f7f7f; text-decoration-color: #7f7f7f\">              </span>\n",
       "<span style=\"color: #7fbfbf; text-decoration-color: #7fbfbf\">                    </span>         <span style=\"color: #008080; text-decoration-color: #008080; font-weight: bold\">469</span>                                               <span style=\"color: #7f7f7f; text-decoration-color: #7f7f7f\">              </span>\n",
       "</pre>\n"
      ],
      "text/plain": [
       "\u001b[2;36m                   \u001b[0m\u001b[2;36m \u001b[0m\u001b[34mINFO    \u001b[0m colossalai - colossalai - \u001b[1;36m2022\u001b[0m-\u001b[1;36m03\u001b[0m-\u001b[1;36m29\u001b[0m \u001b[1;92m03:07:23\u001b[0m,\u001b[1;36m791\u001b[0m \u001b]8;id=71280;file:///home/fiona/anaconda3/envs/pytorch/lib/python3.9/site-packages/colossalai/logging/logging.py\u001b\\\u001b[2mlogging.py\u001b[0m\u001b]8;;\u001b\\\u001b[2m:\u001b[0m\u001b]8;id=288358;file:///home/fiona/anaconda3/envs/pytorch/lib/python3.9/site-packages/colossalai/logging/logging.py#105\u001b\\\u001b[2m105\u001b[0m\u001b]8;;\u001b\\\n",
       "\u001b[2;36m                    \u001b[0m         INFO: \u001b[1m[\u001b[0mEpoch \u001b[1;36m1\u001b[0m \u001b[35m/\u001b[0m Train\u001b[1m]\u001b[0m: Train-epoch: last =      \u001b[2m              \u001b[0m\n",
       "\u001b[2;36m                    \u001b[0m         \u001b[1;36m10.197\u001b[0m s, mean = \u001b[1;36m10.197\u001b[0m s | Train-step: last =    \u001b[2m              \u001b[0m\n",
       "\u001b[2;36m                    \u001b[0m         \u001b[1;36m0.015203\u001b[0m s, mean = \u001b[1;36m0.021059\u001b[0m s | #steps/epoch =    \u001b[2m              \u001b[0m\n",
       "\u001b[2;36m                    \u001b[0m         \u001b[1;36m469\u001b[0m                                               \u001b[2m              \u001b[0m\n"
      ]
     },
     "metadata": {},
     "output_type": "display_data"
    },
    {
     "name": "stderr",
     "output_type": "stream",
     "text": [
      "[Epoch 1 / Test]: 100%|█████████████████████████████████████████████████████████████████| 79/79 [00:01<00:00, 47.81it/s]\n"
     ]
    },
    {
     "data": {
      "text/html": [
       "<pre style=\"white-space:pre;overflow-x:auto;line-height:normal;font-family:Menlo,'DejaVu Sans Mono',consolas,'Courier New',monospace\"><span style=\"color: #7fbfbf; text-decoration-color: #7fbfbf\">[03/29/22 03:07:25] </span><span style=\"color: #000080; text-decoration-color: #000080\">INFO    </span> colossalai - colossalai - <span style=\"color: #008080; text-decoration-color: #008080; font-weight: bold\">2022</span>-<span style=\"color: #008080; text-decoration-color: #008080; font-weight: bold\">03</span>-<span style=\"color: #008080; text-decoration-color: #008080; font-weight: bold\">29</span> <span style=\"color: #00ff00; text-decoration-color: #00ff00; font-weight: bold\">03:07:25</span>,<span style=\"color: #008080; text-decoration-color: #008080; font-weight: bold\">585</span> <a href=\"file:///home/fiona/anaconda3/envs/pytorch/lib/python3.9/site-packages/colossalai/logging/logging.py\" target=\"_blank\"><span style=\"color: #7f7f7f; text-decoration-color: #7f7f7f\">logging.py</span></a><span style=\"color: #7f7f7f; text-decoration-color: #7f7f7f\">:</span><a href=\"file:///home/fiona/anaconda3/envs/pytorch/lib/python3.9/site-packages/colossalai/logging/logging.py#105\" target=\"_blank\"><span style=\"color: #7f7f7f; text-decoration-color: #7f7f7f\">105</span></a>\n",
       "<span style=\"color: #7fbfbf; text-decoration-color: #7fbfbf\">                    </span>         INFO: <span style=\"font-weight: bold\">[</span>Epoch <span style=\"color: #008080; text-decoration-color: #008080; font-weight: bold\">1</span> <span style=\"color: #800080; text-decoration-color: #800080\">/</span> Test<span style=\"font-weight: bold\">]</span>: Loss = nan                <span style=\"color: #7f7f7f; text-decoration-color: #7f7f7f\">              </span>\n",
       "</pre>\n"
      ],
      "text/plain": [
       "\u001b[2;36m[03/29/22 03:07:25]\u001b[0m\u001b[2;36m \u001b[0m\u001b[34mINFO    \u001b[0m colossalai - colossalai - \u001b[1;36m2022\u001b[0m-\u001b[1;36m03\u001b[0m-\u001b[1;36m29\u001b[0m \u001b[1;92m03:07:25\u001b[0m,\u001b[1;36m585\u001b[0m \u001b]8;id=240383;file:///home/fiona/anaconda3/envs/pytorch/lib/python3.9/site-packages/colossalai/logging/logging.py\u001b\\\u001b[2mlogging.py\u001b[0m\u001b]8;;\u001b\\\u001b[2m:\u001b[0m\u001b]8;id=440967;file:///home/fiona/anaconda3/envs/pytorch/lib/python3.9/site-packages/colossalai/logging/logging.py#105\u001b\\\u001b[2m105\u001b[0m\u001b]8;;\u001b\\\n",
       "\u001b[2;36m                    \u001b[0m         INFO: \u001b[1m[\u001b[0mEpoch \u001b[1;36m1\u001b[0m \u001b[35m/\u001b[0m Test\u001b[1m]\u001b[0m: Loss = nan                \u001b[2m              \u001b[0m\n"
      ]
     },
     "metadata": {},
     "output_type": "display_data"
    },
    {
     "data": {
      "text/html": [
       "<pre style=\"white-space:pre;overflow-x:auto;line-height:normal;font-family:Menlo,'DejaVu Sans Mono',consolas,'Courier New',monospace\"><span style=\"color: #7fbfbf; text-decoration-color: #7fbfbf\">                    </span><span style=\"color: #000080; text-decoration-color: #000080\">INFO    </span> colossalai - colossalai - <span style=\"color: #008080; text-decoration-color: #008080; font-weight: bold\">2022</span>-<span style=\"color: #008080; text-decoration-color: #008080; font-weight: bold\">03</span>-<span style=\"color: #008080; text-decoration-color: #008080; font-weight: bold\">29</span> <span style=\"color: #00ff00; text-decoration-color: #00ff00; font-weight: bold\">03:07:25</span>,<span style=\"color: #008080; text-decoration-color: #008080; font-weight: bold\">591</span> <a href=\"file:///home/fiona/anaconda3/envs/pytorch/lib/python3.9/site-packages/colossalai/logging/logging.py\" target=\"_blank\"><span style=\"color: #7f7f7f; text-decoration-color: #7f7f7f\">logging.py</span></a><span style=\"color: #7f7f7f; text-decoration-color: #7f7f7f\">:</span><a href=\"file:///home/fiona/anaconda3/envs/pytorch/lib/python3.9/site-packages/colossalai/logging/logging.py#105\" target=\"_blank\"><span style=\"color: #7f7f7f; text-decoration-color: #7f7f7f\">105</span></a>\n",
       "<span style=\"color: #7fbfbf; text-decoration-color: #7fbfbf\">                    </span>         INFO: <span style=\"font-weight: bold\">[</span>Epoch <span style=\"color: #008080; text-decoration-color: #008080; font-weight: bold\">1</span> <span style=\"color: #800080; text-decoration-color: #800080\">/</span> Test<span style=\"font-weight: bold\">]</span>: Test-epoch: last = <span style=\"color: #008080; text-decoration-color: #008080; font-weight: bold\">1.6524</span> <span style=\"color: #7f7f7f; text-decoration-color: #7f7f7f\">              </span>\n",
       "<span style=\"color: #7fbfbf; text-decoration-color: #7fbfbf\">                    </span>         s, mean = <span style=\"color: #008080; text-decoration-color: #008080; font-weight: bold\">1.6524</span> s | Test-step: last = <span style=\"color: #008080; text-decoration-color: #008080; font-weight: bold\">0.0032814</span>  <span style=\"color: #7f7f7f; text-decoration-color: #7f7f7f\">              </span>\n",
       "<span style=\"color: #7fbfbf; text-decoration-color: #7fbfbf\">                    </span>         s, mean = <span style=\"color: #008080; text-decoration-color: #008080; font-weight: bold\">0.02067</span> s                               <span style=\"color: #7f7f7f; text-decoration-color: #7f7f7f\">              </span>\n",
       "</pre>\n"
      ],
      "text/plain": [
       "\u001b[2;36m                   \u001b[0m\u001b[2;36m \u001b[0m\u001b[34mINFO    \u001b[0m colossalai - colossalai - \u001b[1;36m2022\u001b[0m-\u001b[1;36m03\u001b[0m-\u001b[1;36m29\u001b[0m \u001b[1;92m03:07:25\u001b[0m,\u001b[1;36m591\u001b[0m \u001b]8;id=45826;file:///home/fiona/anaconda3/envs/pytorch/lib/python3.9/site-packages/colossalai/logging/logging.py\u001b\\\u001b[2mlogging.py\u001b[0m\u001b]8;;\u001b\\\u001b[2m:\u001b[0m\u001b]8;id=888088;file:///home/fiona/anaconda3/envs/pytorch/lib/python3.9/site-packages/colossalai/logging/logging.py#105\u001b\\\u001b[2m105\u001b[0m\u001b]8;;\u001b\\\n",
       "\u001b[2;36m                    \u001b[0m         INFO: \u001b[1m[\u001b[0mEpoch \u001b[1;36m1\u001b[0m \u001b[35m/\u001b[0m Test\u001b[1m]\u001b[0m: Test-epoch: last = \u001b[1;36m1.6524\u001b[0m \u001b[2m              \u001b[0m\n",
       "\u001b[2;36m                    \u001b[0m         s, mean = \u001b[1;36m1.6524\u001b[0m s | Test-step: last = \u001b[1;36m0.0032814\u001b[0m  \u001b[2m              \u001b[0m\n",
       "\u001b[2;36m                    \u001b[0m         s, mean = \u001b[1;36m0.02067\u001b[0m s                               \u001b[2m              \u001b[0m\n"
      ]
     },
     "metadata": {},
     "output_type": "display_data"
    },
    {
     "data": {
      "text/html": [
       "<pre style=\"white-space:pre;overflow-x:auto;line-height:normal;font-family:Menlo,'DejaVu Sans Mono',consolas,'Courier New',monospace\"><span style=\"color: #7fbfbf; text-decoration-color: #7fbfbf\">                    </span><span style=\"color: #000080; text-decoration-color: #000080\">INFO    </span> colossalai - colossalai - <span style=\"color: #008080; text-decoration-color: #008080; font-weight: bold\">2022</span>-<span style=\"color: #008080; text-decoration-color: #008080; font-weight: bold\">03</span>-<span style=\"color: #008080; text-decoration-color: #008080; font-weight: bold\">29</span> <span style=\"color: #00ff00; text-decoration-color: #00ff00; font-weight: bold\">03:07:25</span>,<span style=\"color: #008080; text-decoration-color: #008080; font-weight: bold\">596</span> <a href=\"file:///home/fiona/anaconda3/envs/pytorch/lib/python3.9/site-packages/colossalai/logging/logging.py\" target=\"_blank\"><span style=\"color: #7f7f7f; text-decoration-color: #7f7f7f\">logging.py</span></a><span style=\"color: #7f7f7f; text-decoration-color: #7f7f7f\">:</span><a href=\"file:///home/fiona/anaconda3/envs/pytorch/lib/python3.9/site-packages/colossalai/logging/logging.py#105\" target=\"_blank\"><span style=\"color: #7f7f7f; text-decoration-color: #7f7f7f\">105</span></a>\n",
       "<span style=\"color: #7fbfbf; text-decoration-color: #7fbfbf\">                    </span>         INFO: <span style=\"font-weight: bold\">[</span>Epoch <span style=\"color: #008080; text-decoration-color: #008080; font-weight: bold\">1</span> <span style=\"color: #800080; text-decoration-color: #800080\">/</span> Test<span style=\"font-weight: bold\">]</span>: GPU: allocated <span style=\"color: #008080; text-decoration-color: #008080; font-weight: bold\">11.25</span> MB,  <span style=\"color: #7f7f7f; text-decoration-color: #7f7f7f\">              </span>\n",
       "<span style=\"color: #7fbfbf; text-decoration-color: #7fbfbf\">                    </span>         max allocated <span style=\"color: #008080; text-decoration-color: #008080; font-weight: bold\">16.35</span> MB, cached: <span style=\"color: #008080; text-decoration-color: #008080; font-weight: bold\">76.0</span> MB, max      <span style=\"color: #7f7f7f; text-decoration-color: #7f7f7f\">              </span>\n",
       "<span style=\"color: #7fbfbf; text-decoration-color: #7fbfbf\">                    </span>         cached: <span style=\"color: #008080; text-decoration-color: #008080; font-weight: bold\">76.0</span> MB                                   <span style=\"color: #7f7f7f; text-decoration-color: #7f7f7f\">              </span>\n",
       "</pre>\n"
      ],
      "text/plain": [
       "\u001b[2;36m                   \u001b[0m\u001b[2;36m \u001b[0m\u001b[34mINFO    \u001b[0m colossalai - colossalai - \u001b[1;36m2022\u001b[0m-\u001b[1;36m03\u001b[0m-\u001b[1;36m29\u001b[0m \u001b[1;92m03:07:25\u001b[0m,\u001b[1;36m596\u001b[0m \u001b]8;id=23148;file:///home/fiona/anaconda3/envs/pytorch/lib/python3.9/site-packages/colossalai/logging/logging.py\u001b\\\u001b[2mlogging.py\u001b[0m\u001b]8;;\u001b\\\u001b[2m:\u001b[0m\u001b]8;id=894948;file:///home/fiona/anaconda3/envs/pytorch/lib/python3.9/site-packages/colossalai/logging/logging.py#105\u001b\\\u001b[2m105\u001b[0m\u001b]8;;\u001b\\\n",
       "\u001b[2;36m                    \u001b[0m         INFO: \u001b[1m[\u001b[0mEpoch \u001b[1;36m1\u001b[0m \u001b[35m/\u001b[0m Test\u001b[1m]\u001b[0m: GPU: allocated \u001b[1;36m11.25\u001b[0m MB,  \u001b[2m              \u001b[0m\n",
       "\u001b[2;36m                    \u001b[0m         max allocated \u001b[1;36m16.35\u001b[0m MB, cached: \u001b[1;36m76.0\u001b[0m MB, max      \u001b[2m              \u001b[0m\n",
       "\u001b[2;36m                    \u001b[0m         cached: \u001b[1;36m76.0\u001b[0m MB                                   \u001b[2m              \u001b[0m\n"
      ]
     },
     "metadata": {},
     "output_type": "display_data"
    },
    {
     "name": "stderr",
     "output_type": "stream",
     "text": [
      "[Epoch 2 / Train]: 100%|██████████████████████████████████████████████████████████████| 469/469 [00:10<00:00, 46.01it/s]\n"
     ]
    },
    {
     "data": {
      "text/html": [
       "<pre style=\"white-space:pre;overflow-x:auto;line-height:normal;font-family:Menlo,'DejaVu Sans Mono',consolas,'Courier New',monospace\"><span style=\"color: #7fbfbf; text-decoration-color: #7fbfbf\">[03/29/22 03:07:35] </span><span style=\"color: #000080; text-decoration-color: #000080\">INFO    </span> colossalai - colossalai - <span style=\"color: #008080; text-decoration-color: #008080; font-weight: bold\">2022</span>-<span style=\"color: #008080; text-decoration-color: #008080; font-weight: bold\">03</span>-<span style=\"color: #008080; text-decoration-color: #008080; font-weight: bold\">29</span> <span style=\"color: #00ff00; text-decoration-color: #00ff00; font-weight: bold\">03:07:35</span>,<span style=\"color: #008080; text-decoration-color: #008080; font-weight: bold\">942</span> <a href=\"file:///home/fiona/anaconda3/envs/pytorch/lib/python3.9/site-packages/colossalai/logging/logging.py\" target=\"_blank\"><span style=\"color: #7f7f7f; text-decoration-color: #7f7f7f\">logging.py</span></a><span style=\"color: #7f7f7f; text-decoration-color: #7f7f7f\">:</span><a href=\"file:///home/fiona/anaconda3/envs/pytorch/lib/python3.9/site-packages/colossalai/logging/logging.py#105\" target=\"_blank\"><span style=\"color: #7f7f7f; text-decoration-color: #7f7f7f\">105</span></a>\n",
       "<span style=\"color: #7fbfbf; text-decoration-color: #7fbfbf\">                    </span>         INFO: <span style=\"font-weight: bold\">[</span>Epoch <span style=\"color: #008080; text-decoration-color: #008080; font-weight: bold\">2</span> <span style=\"color: #800080; text-decoration-color: #800080\">/</span> Train<span style=\"font-weight: bold\">]</span>: Loss = nan | LR = <span style=\"color: #008080; text-decoration-color: #008080; font-weight: bold\">0.01</span>   <span style=\"color: #7f7f7f; text-decoration-color: #7f7f7f\">              </span>\n",
       "</pre>\n"
      ],
      "text/plain": [
       "\u001b[2;36m[03/29/22 03:07:35]\u001b[0m\u001b[2;36m \u001b[0m\u001b[34mINFO    \u001b[0m colossalai - colossalai - \u001b[1;36m2022\u001b[0m-\u001b[1;36m03\u001b[0m-\u001b[1;36m29\u001b[0m \u001b[1;92m03:07:35\u001b[0m,\u001b[1;36m942\u001b[0m \u001b]8;id=178750;file:///home/fiona/anaconda3/envs/pytorch/lib/python3.9/site-packages/colossalai/logging/logging.py\u001b\\\u001b[2mlogging.py\u001b[0m\u001b]8;;\u001b\\\u001b[2m:\u001b[0m\u001b]8;id=225399;file:///home/fiona/anaconda3/envs/pytorch/lib/python3.9/site-packages/colossalai/logging/logging.py#105\u001b\\\u001b[2m105\u001b[0m\u001b]8;;\u001b\\\n",
       "\u001b[2;36m                    \u001b[0m         INFO: \u001b[1m[\u001b[0mEpoch \u001b[1;36m2\u001b[0m \u001b[35m/\u001b[0m Train\u001b[1m]\u001b[0m: Loss = nan | LR = \u001b[1;36m0.01\u001b[0m   \u001b[2m              \u001b[0m\n"
      ]
     },
     "metadata": {},
     "output_type": "display_data"
    },
    {
     "data": {
      "text/html": [
       "<pre style=\"white-space:pre;overflow-x:auto;line-height:normal;font-family:Menlo,'DejaVu Sans Mono',consolas,'Courier New',monospace\"><span style=\"color: #7fbfbf; text-decoration-color: #7fbfbf\">                    </span><span style=\"color: #000080; text-decoration-color: #000080\">INFO    </span> colossalai - colossalai - <span style=\"color: #008080; text-decoration-color: #008080; font-weight: bold\">2022</span>-<span style=\"color: #008080; text-decoration-color: #008080; font-weight: bold\">03</span>-<span style=\"color: #008080; text-decoration-color: #008080; font-weight: bold\">29</span> <span style=\"color: #00ff00; text-decoration-color: #00ff00; font-weight: bold\">03:07:35</span>,<span style=\"color: #008080; text-decoration-color: #008080; font-weight: bold\">950</span> <a href=\"file:///home/fiona/anaconda3/envs/pytorch/lib/python3.9/site-packages/colossalai/logging/logging.py\" target=\"_blank\"><span style=\"color: #7f7f7f; text-decoration-color: #7f7f7f\">logging.py</span></a><span style=\"color: #7f7f7f; text-decoration-color: #7f7f7f\">:</span><a href=\"file:///home/fiona/anaconda3/envs/pytorch/lib/python3.9/site-packages/colossalai/logging/logging.py#105\" target=\"_blank\"><span style=\"color: #7f7f7f; text-decoration-color: #7f7f7f\">105</span></a>\n",
       "<span style=\"color: #7fbfbf; text-decoration-color: #7fbfbf\">                    </span>         INFO: <span style=\"font-weight: bold\">[</span>Epoch <span style=\"color: #008080; text-decoration-color: #008080; font-weight: bold\">2</span> <span style=\"color: #800080; text-decoration-color: #800080\">/</span> Train<span style=\"font-weight: bold\">]</span>: GPU: allocated <span style=\"color: #008080; text-decoration-color: #008080; font-weight: bold\">15.24</span> MB, <span style=\"color: #7f7f7f; text-decoration-color: #7f7f7f\">              </span>\n",
       "<span style=\"color: #7fbfbf; text-decoration-color: #7fbfbf\">                    </span>         max allocated <span style=\"color: #008080; text-decoration-color: #008080; font-weight: bold\">61.84</span> MB, cached: <span style=\"color: #008080; text-decoration-color: #008080; font-weight: bold\">76.0</span> MB, max      <span style=\"color: #7f7f7f; text-decoration-color: #7f7f7f\">              </span>\n",
       "<span style=\"color: #7fbfbf; text-decoration-color: #7fbfbf\">                    </span>         cached: <span style=\"color: #008080; text-decoration-color: #008080; font-weight: bold\">76.0</span> MB                                   <span style=\"color: #7f7f7f; text-decoration-color: #7f7f7f\">              </span>\n",
       "</pre>\n"
      ],
      "text/plain": [
       "\u001b[2;36m                   \u001b[0m\u001b[2;36m \u001b[0m\u001b[34mINFO    \u001b[0m colossalai - colossalai - \u001b[1;36m2022\u001b[0m-\u001b[1;36m03\u001b[0m-\u001b[1;36m29\u001b[0m \u001b[1;92m03:07:35\u001b[0m,\u001b[1;36m950\u001b[0m \u001b]8;id=80380;file:///home/fiona/anaconda3/envs/pytorch/lib/python3.9/site-packages/colossalai/logging/logging.py\u001b\\\u001b[2mlogging.py\u001b[0m\u001b]8;;\u001b\\\u001b[2m:\u001b[0m\u001b]8;id=588124;file:///home/fiona/anaconda3/envs/pytorch/lib/python3.9/site-packages/colossalai/logging/logging.py#105\u001b\\\u001b[2m105\u001b[0m\u001b]8;;\u001b\\\n",
       "\u001b[2;36m                    \u001b[0m         INFO: \u001b[1m[\u001b[0mEpoch \u001b[1;36m2\u001b[0m \u001b[35m/\u001b[0m Train\u001b[1m]\u001b[0m: GPU: allocated \u001b[1;36m15.24\u001b[0m MB, \u001b[2m              \u001b[0m\n",
       "\u001b[2;36m                    \u001b[0m         max allocated \u001b[1;36m61.84\u001b[0m MB, cached: \u001b[1;36m76.0\u001b[0m MB, max      \u001b[2m              \u001b[0m\n",
       "\u001b[2;36m                    \u001b[0m         cached: \u001b[1;36m76.0\u001b[0m MB                                   \u001b[2m              \u001b[0m\n"
      ]
     },
     "metadata": {},
     "output_type": "display_data"
    },
    {
     "data": {
      "text/html": [
       "<pre style=\"white-space:pre;overflow-x:auto;line-height:normal;font-family:Menlo,'DejaVu Sans Mono',consolas,'Courier New',monospace\"><span style=\"color: #7fbfbf; text-decoration-color: #7fbfbf\">                    </span><span style=\"color: #000080; text-decoration-color: #000080\">INFO    </span> colossalai - colossalai - <span style=\"color: #008080; text-decoration-color: #008080; font-weight: bold\">2022</span>-<span style=\"color: #008080; text-decoration-color: #008080; font-weight: bold\">03</span>-<span style=\"color: #008080; text-decoration-color: #008080; font-weight: bold\">29</span> <span style=\"color: #00ff00; text-decoration-color: #00ff00; font-weight: bold\">03:07:35</span>,<span style=\"color: #008080; text-decoration-color: #008080; font-weight: bold\">954</span> <a href=\"file:///home/fiona/anaconda3/envs/pytorch/lib/python3.9/site-packages/colossalai/logging/logging.py\" target=\"_blank\"><span style=\"color: #7f7f7f; text-decoration-color: #7f7f7f\">logging.py</span></a><span style=\"color: #7f7f7f; text-decoration-color: #7f7f7f\">:</span><a href=\"file:///home/fiona/anaconda3/envs/pytorch/lib/python3.9/site-packages/colossalai/logging/logging.py#105\" target=\"_blank\"><span style=\"color: #7f7f7f; text-decoration-color: #7f7f7f\">105</span></a>\n",
       "<span style=\"color: #7fbfbf; text-decoration-color: #7fbfbf\">                    </span>         INFO: <span style=\"font-weight: bold\">[</span>Epoch <span style=\"color: #008080; text-decoration-color: #008080; font-weight: bold\">2</span> <span style=\"color: #800080; text-decoration-color: #800080\">/</span> Train<span style=\"font-weight: bold\">]</span>: Train-epoch: last =      <span style=\"color: #7f7f7f; text-decoration-color: #7f7f7f\">              </span>\n",
       "<span style=\"color: #7fbfbf; text-decoration-color: #7fbfbf\">                    </span>         <span style=\"color: #008080; text-decoration-color: #008080; font-weight: bold\">10.193</span> s, mean = <span style=\"color: #008080; text-decoration-color: #008080; font-weight: bold\">10.193</span> s | Train-step: last =    <span style=\"color: #7f7f7f; text-decoration-color: #7f7f7f\">              </span>\n",
       "<span style=\"color: #7fbfbf; text-decoration-color: #7fbfbf\">                    </span>         <span style=\"color: #008080; text-decoration-color: #008080; font-weight: bold\">0.016329</span> s, mean = <span style=\"color: #008080; text-decoration-color: #008080; font-weight: bold\">0.021118</span> s | #steps/epoch =    <span style=\"color: #7f7f7f; text-decoration-color: #7f7f7f\">              </span>\n",
       "<span style=\"color: #7fbfbf; text-decoration-color: #7fbfbf\">                    </span>         <span style=\"color: #008080; text-decoration-color: #008080; font-weight: bold\">469</span>                                               <span style=\"color: #7f7f7f; text-decoration-color: #7f7f7f\">              </span>\n",
       "</pre>\n"
      ],
      "text/plain": [
       "\u001b[2;36m                   \u001b[0m\u001b[2;36m \u001b[0m\u001b[34mINFO    \u001b[0m colossalai - colossalai - \u001b[1;36m2022\u001b[0m-\u001b[1;36m03\u001b[0m-\u001b[1;36m29\u001b[0m \u001b[1;92m03:07:35\u001b[0m,\u001b[1;36m954\u001b[0m \u001b]8;id=966889;file:///home/fiona/anaconda3/envs/pytorch/lib/python3.9/site-packages/colossalai/logging/logging.py\u001b\\\u001b[2mlogging.py\u001b[0m\u001b]8;;\u001b\\\u001b[2m:\u001b[0m\u001b]8;id=447686;file:///home/fiona/anaconda3/envs/pytorch/lib/python3.9/site-packages/colossalai/logging/logging.py#105\u001b\\\u001b[2m105\u001b[0m\u001b]8;;\u001b\\\n",
       "\u001b[2;36m                    \u001b[0m         INFO: \u001b[1m[\u001b[0mEpoch \u001b[1;36m2\u001b[0m \u001b[35m/\u001b[0m Train\u001b[1m]\u001b[0m: Train-epoch: last =      \u001b[2m              \u001b[0m\n",
       "\u001b[2;36m                    \u001b[0m         \u001b[1;36m10.193\u001b[0m s, mean = \u001b[1;36m10.193\u001b[0m s | Train-step: last =    \u001b[2m              \u001b[0m\n",
       "\u001b[2;36m                    \u001b[0m         \u001b[1;36m0.016329\u001b[0m s, mean = \u001b[1;36m0.021118\u001b[0m s | #steps/epoch =    \u001b[2m              \u001b[0m\n",
       "\u001b[2;36m                    \u001b[0m         \u001b[1;36m469\u001b[0m                                               \u001b[2m              \u001b[0m\n"
      ]
     },
     "metadata": {},
     "output_type": "display_data"
    },
    {
     "name": "stderr",
     "output_type": "stream",
     "text": [
      "[Epoch 2 / Test]: 100%|█████████████████████████████████████████████████████████████████| 79/79 [00:01<00:00, 46.41it/s]\n"
     ]
    },
    {
     "data": {
      "text/html": [
       "<pre style=\"white-space:pre;overflow-x:auto;line-height:normal;font-family:Menlo,'DejaVu Sans Mono',consolas,'Courier New',monospace\"><span style=\"color: #7fbfbf; text-decoration-color: #7fbfbf\">[03/29/22 03:07:37] </span><span style=\"color: #000080; text-decoration-color: #000080\">INFO    </span> colossalai - colossalai - <span style=\"color: #008080; text-decoration-color: #008080; font-weight: bold\">2022</span>-<span style=\"color: #008080; text-decoration-color: #008080; font-weight: bold\">03</span>-<span style=\"color: #008080; text-decoration-color: #008080; font-weight: bold\">29</span> <span style=\"color: #00ff00; text-decoration-color: #00ff00; font-weight: bold\">03:07:37</span>,<span style=\"color: #008080; text-decoration-color: #008080; font-weight: bold\">801</span> <a href=\"file:///home/fiona/anaconda3/envs/pytorch/lib/python3.9/site-packages/colossalai/logging/logging.py\" target=\"_blank\"><span style=\"color: #7f7f7f; text-decoration-color: #7f7f7f\">logging.py</span></a><span style=\"color: #7f7f7f; text-decoration-color: #7f7f7f\">:</span><a href=\"file:///home/fiona/anaconda3/envs/pytorch/lib/python3.9/site-packages/colossalai/logging/logging.py#105\" target=\"_blank\"><span style=\"color: #7f7f7f; text-decoration-color: #7f7f7f\">105</span></a>\n",
       "<span style=\"color: #7fbfbf; text-decoration-color: #7fbfbf\">                    </span>         INFO: <span style=\"font-weight: bold\">[</span>Epoch <span style=\"color: #008080; text-decoration-color: #008080; font-weight: bold\">2</span> <span style=\"color: #800080; text-decoration-color: #800080\">/</span> Test<span style=\"font-weight: bold\">]</span>: Loss = nan                <span style=\"color: #7f7f7f; text-decoration-color: #7f7f7f\">              </span>\n",
       "</pre>\n"
      ],
      "text/plain": [
       "\u001b[2;36m[03/29/22 03:07:37]\u001b[0m\u001b[2;36m \u001b[0m\u001b[34mINFO    \u001b[0m colossalai - colossalai - \u001b[1;36m2022\u001b[0m-\u001b[1;36m03\u001b[0m-\u001b[1;36m29\u001b[0m \u001b[1;92m03:07:37\u001b[0m,\u001b[1;36m801\u001b[0m \u001b]8;id=155755;file:///home/fiona/anaconda3/envs/pytorch/lib/python3.9/site-packages/colossalai/logging/logging.py\u001b\\\u001b[2mlogging.py\u001b[0m\u001b]8;;\u001b\\\u001b[2m:\u001b[0m\u001b]8;id=665962;file:///home/fiona/anaconda3/envs/pytorch/lib/python3.9/site-packages/colossalai/logging/logging.py#105\u001b\\\u001b[2m105\u001b[0m\u001b]8;;\u001b\\\n",
       "\u001b[2;36m                    \u001b[0m         INFO: \u001b[1m[\u001b[0mEpoch \u001b[1;36m2\u001b[0m \u001b[35m/\u001b[0m Test\u001b[1m]\u001b[0m: Loss = nan                \u001b[2m              \u001b[0m\n"
      ]
     },
     "metadata": {},
     "output_type": "display_data"
    },
    {
     "data": {
      "text/html": [
       "<pre style=\"white-space:pre;overflow-x:auto;line-height:normal;font-family:Menlo,'DejaVu Sans Mono',consolas,'Courier New',monospace\"><span style=\"color: #7fbfbf; text-decoration-color: #7fbfbf\">                    </span><span style=\"color: #000080; text-decoration-color: #000080\">INFO    </span> colossalai - colossalai - <span style=\"color: #008080; text-decoration-color: #008080; font-weight: bold\">2022</span>-<span style=\"color: #008080; text-decoration-color: #008080; font-weight: bold\">03</span>-<span style=\"color: #008080; text-decoration-color: #008080; font-weight: bold\">29</span> <span style=\"color: #00ff00; text-decoration-color: #00ff00; font-weight: bold\">03:07:37</span>,<span style=\"color: #008080; text-decoration-color: #008080; font-weight: bold\">807</span> <a href=\"file:///home/fiona/anaconda3/envs/pytorch/lib/python3.9/site-packages/colossalai/logging/logging.py\" target=\"_blank\"><span style=\"color: #7f7f7f; text-decoration-color: #7f7f7f\">logging.py</span></a><span style=\"color: #7f7f7f; text-decoration-color: #7f7f7f\">:</span><a href=\"file:///home/fiona/anaconda3/envs/pytorch/lib/python3.9/site-packages/colossalai/logging/logging.py#105\" target=\"_blank\"><span style=\"color: #7f7f7f; text-decoration-color: #7f7f7f\">105</span></a>\n",
       "<span style=\"color: #7fbfbf; text-decoration-color: #7fbfbf\">                    </span>         INFO: <span style=\"font-weight: bold\">[</span>Epoch <span style=\"color: #008080; text-decoration-color: #008080; font-weight: bold\">2</span> <span style=\"color: #800080; text-decoration-color: #800080\">/</span> Test<span style=\"font-weight: bold\">]</span>: Test-epoch: last = <span style=\"color: #008080; text-decoration-color: #008080; font-weight: bold\">1.7023</span> <span style=\"color: #7f7f7f; text-decoration-color: #7f7f7f\">              </span>\n",
       "<span style=\"color: #7fbfbf; text-decoration-color: #7fbfbf\">                    </span>         s, mean = <span style=\"color: #008080; text-decoration-color: #008080; font-weight: bold\">1.7023</span> s | Test-step: last = <span style=\"color: #008080; text-decoration-color: #008080; font-weight: bold\">0.0031512</span>  <span style=\"color: #7f7f7f; text-decoration-color: #7f7f7f\">              </span>\n",
       "<span style=\"color: #7fbfbf; text-decoration-color: #7fbfbf\">                    </span>         s, mean = <span style=\"color: #008080; text-decoration-color: #008080; font-weight: bold\">0.021331</span> s                              <span style=\"color: #7f7f7f; text-decoration-color: #7f7f7f\">              </span>\n",
       "</pre>\n"
      ],
      "text/plain": [
       "\u001b[2;36m                   \u001b[0m\u001b[2;36m \u001b[0m\u001b[34mINFO    \u001b[0m colossalai - colossalai - \u001b[1;36m2022\u001b[0m-\u001b[1;36m03\u001b[0m-\u001b[1;36m29\u001b[0m \u001b[1;92m03:07:37\u001b[0m,\u001b[1;36m807\u001b[0m \u001b]8;id=246409;file:///home/fiona/anaconda3/envs/pytorch/lib/python3.9/site-packages/colossalai/logging/logging.py\u001b\\\u001b[2mlogging.py\u001b[0m\u001b]8;;\u001b\\\u001b[2m:\u001b[0m\u001b]8;id=274408;file:///home/fiona/anaconda3/envs/pytorch/lib/python3.9/site-packages/colossalai/logging/logging.py#105\u001b\\\u001b[2m105\u001b[0m\u001b]8;;\u001b\\\n",
       "\u001b[2;36m                    \u001b[0m         INFO: \u001b[1m[\u001b[0mEpoch \u001b[1;36m2\u001b[0m \u001b[35m/\u001b[0m Test\u001b[1m]\u001b[0m: Test-epoch: last = \u001b[1;36m1.7023\u001b[0m \u001b[2m              \u001b[0m\n",
       "\u001b[2;36m                    \u001b[0m         s, mean = \u001b[1;36m1.7023\u001b[0m s | Test-step: last = \u001b[1;36m0.0031512\u001b[0m  \u001b[2m              \u001b[0m\n",
       "\u001b[2;36m                    \u001b[0m         s, mean = \u001b[1;36m0.021331\u001b[0m s                              \u001b[2m              \u001b[0m\n"
      ]
     },
     "metadata": {},
     "output_type": "display_data"
    },
    {
     "data": {
      "text/html": [
       "<pre style=\"white-space:pre;overflow-x:auto;line-height:normal;font-family:Menlo,'DejaVu Sans Mono',consolas,'Courier New',monospace\"><span style=\"color: #7fbfbf; text-decoration-color: #7fbfbf\">                    </span><span style=\"color: #000080; text-decoration-color: #000080\">INFO    </span> colossalai - colossalai - <span style=\"color: #008080; text-decoration-color: #008080; font-weight: bold\">2022</span>-<span style=\"color: #008080; text-decoration-color: #008080; font-weight: bold\">03</span>-<span style=\"color: #008080; text-decoration-color: #008080; font-weight: bold\">29</span> <span style=\"color: #00ff00; text-decoration-color: #00ff00; font-weight: bold\">03:07:37</span>,<span style=\"color: #008080; text-decoration-color: #008080; font-weight: bold\">812</span> <a href=\"file:///home/fiona/anaconda3/envs/pytorch/lib/python3.9/site-packages/colossalai/logging/logging.py\" target=\"_blank\"><span style=\"color: #7f7f7f; text-decoration-color: #7f7f7f\">logging.py</span></a><span style=\"color: #7f7f7f; text-decoration-color: #7f7f7f\">:</span><a href=\"file:///home/fiona/anaconda3/envs/pytorch/lib/python3.9/site-packages/colossalai/logging/logging.py#105\" target=\"_blank\"><span style=\"color: #7f7f7f; text-decoration-color: #7f7f7f\">105</span></a>\n",
       "<span style=\"color: #7fbfbf; text-decoration-color: #7fbfbf\">                    </span>         INFO: <span style=\"font-weight: bold\">[</span>Epoch <span style=\"color: #008080; text-decoration-color: #008080; font-weight: bold\">2</span> <span style=\"color: #800080; text-decoration-color: #800080\">/</span> Test<span style=\"font-weight: bold\">]</span>: GPU: allocated <span style=\"color: #008080; text-decoration-color: #008080; font-weight: bold\">11.25</span> MB,  <span style=\"color: #7f7f7f; text-decoration-color: #7f7f7f\">              </span>\n",
       "<span style=\"color: #7fbfbf; text-decoration-color: #7fbfbf\">                    </span>         max allocated <span style=\"color: #008080; text-decoration-color: #008080; font-weight: bold\">16.35</span> MB, cached: <span style=\"color: #008080; text-decoration-color: #008080; font-weight: bold\">76.0</span> MB, max      <span style=\"color: #7f7f7f; text-decoration-color: #7f7f7f\">              </span>\n",
       "<span style=\"color: #7fbfbf; text-decoration-color: #7fbfbf\">                    </span>         cached: <span style=\"color: #008080; text-decoration-color: #008080; font-weight: bold\">76.0</span> MB                                   <span style=\"color: #7f7f7f; text-decoration-color: #7f7f7f\">              </span>\n",
       "</pre>\n"
      ],
      "text/plain": [
       "\u001b[2;36m                   \u001b[0m\u001b[2;36m \u001b[0m\u001b[34mINFO    \u001b[0m colossalai - colossalai - \u001b[1;36m2022\u001b[0m-\u001b[1;36m03\u001b[0m-\u001b[1;36m29\u001b[0m \u001b[1;92m03:07:37\u001b[0m,\u001b[1;36m812\u001b[0m \u001b]8;id=7432;file:///home/fiona/anaconda3/envs/pytorch/lib/python3.9/site-packages/colossalai/logging/logging.py\u001b\\\u001b[2mlogging.py\u001b[0m\u001b]8;;\u001b\\\u001b[2m:\u001b[0m\u001b]8;id=839648;file:///home/fiona/anaconda3/envs/pytorch/lib/python3.9/site-packages/colossalai/logging/logging.py#105\u001b\\\u001b[2m105\u001b[0m\u001b]8;;\u001b\\\n",
       "\u001b[2;36m                    \u001b[0m         INFO: \u001b[1m[\u001b[0mEpoch \u001b[1;36m2\u001b[0m \u001b[35m/\u001b[0m Test\u001b[1m]\u001b[0m: GPU: allocated \u001b[1;36m11.25\u001b[0m MB,  \u001b[2m              \u001b[0m\n",
       "\u001b[2;36m                    \u001b[0m         max allocated \u001b[1;36m16.35\u001b[0m MB, cached: \u001b[1;36m76.0\u001b[0m MB, max      \u001b[2m              \u001b[0m\n",
       "\u001b[2;36m                    \u001b[0m         cached: \u001b[1;36m76.0\u001b[0m MB                                   \u001b[2m              \u001b[0m\n"
      ]
     },
     "metadata": {},
     "output_type": "display_data"
    },
    {
     "name": "stderr",
     "output_type": "stream",
     "text": [
      "[Epoch 3 / Train]: 100%|██████████████████████████████████████████████████████████████| 469/469 [00:10<00:00, 45.35it/s]\n"
     ]
    },
    {
     "data": {
      "text/html": [
       "<pre style=\"white-space:pre;overflow-x:auto;line-height:normal;font-family:Menlo,'DejaVu Sans Mono',consolas,'Courier New',monospace\"><span style=\"color: #7fbfbf; text-decoration-color: #7fbfbf\">[03/29/22 03:07:48] </span><span style=\"color: #000080; text-decoration-color: #000080\">INFO    </span> colossalai - colossalai - <span style=\"color: #008080; text-decoration-color: #008080; font-weight: bold\">2022</span>-<span style=\"color: #008080; text-decoration-color: #008080; font-weight: bold\">03</span>-<span style=\"color: #008080; text-decoration-color: #008080; font-weight: bold\">29</span> <span style=\"color: #00ff00; text-decoration-color: #00ff00; font-weight: bold\">03:07:48</span>,<span style=\"color: #008080; text-decoration-color: #008080; font-weight: bold\">305</span> <a href=\"file:///home/fiona/anaconda3/envs/pytorch/lib/python3.9/site-packages/colossalai/logging/logging.py\" target=\"_blank\"><span style=\"color: #7f7f7f; text-decoration-color: #7f7f7f\">logging.py</span></a><span style=\"color: #7f7f7f; text-decoration-color: #7f7f7f\">:</span><a href=\"file:///home/fiona/anaconda3/envs/pytorch/lib/python3.9/site-packages/colossalai/logging/logging.py#105\" target=\"_blank\"><span style=\"color: #7f7f7f; text-decoration-color: #7f7f7f\">105</span></a>\n",
       "<span style=\"color: #7fbfbf; text-decoration-color: #7fbfbf\">                    </span>         INFO: <span style=\"font-weight: bold\">[</span>Epoch <span style=\"color: #008080; text-decoration-color: #008080; font-weight: bold\">3</span> <span style=\"color: #800080; text-decoration-color: #800080\">/</span> Train<span style=\"font-weight: bold\">]</span>: Loss = nan | LR =        <span style=\"color: #7f7f7f; text-decoration-color: #7f7f7f\">              </span>\n",
       "<span style=\"color: #7fbfbf; text-decoration-color: #7fbfbf\">                    </span>         <span style=\"color: #008080; text-decoration-color: #008080; font-weight: bold\">0.0095028</span>                                         <span style=\"color: #7f7f7f; text-decoration-color: #7f7f7f\">              </span>\n",
       "</pre>\n"
      ],
      "text/plain": [
       "\u001b[2;36m[03/29/22 03:07:48]\u001b[0m\u001b[2;36m \u001b[0m\u001b[34mINFO    \u001b[0m colossalai - colossalai - \u001b[1;36m2022\u001b[0m-\u001b[1;36m03\u001b[0m-\u001b[1;36m29\u001b[0m \u001b[1;92m03:07:48\u001b[0m,\u001b[1;36m305\u001b[0m \u001b]8;id=27905;file:///home/fiona/anaconda3/envs/pytorch/lib/python3.9/site-packages/colossalai/logging/logging.py\u001b\\\u001b[2mlogging.py\u001b[0m\u001b]8;;\u001b\\\u001b[2m:\u001b[0m\u001b]8;id=672865;file:///home/fiona/anaconda3/envs/pytorch/lib/python3.9/site-packages/colossalai/logging/logging.py#105\u001b\\\u001b[2m105\u001b[0m\u001b]8;;\u001b\\\n",
       "\u001b[2;36m                    \u001b[0m         INFO: \u001b[1m[\u001b[0mEpoch \u001b[1;36m3\u001b[0m \u001b[35m/\u001b[0m Train\u001b[1m]\u001b[0m: Loss = nan | LR =        \u001b[2m              \u001b[0m\n",
       "\u001b[2;36m                    \u001b[0m         \u001b[1;36m0.0095028\u001b[0m                                         \u001b[2m              \u001b[0m\n"
      ]
     },
     "metadata": {},
     "output_type": "display_data"
    },
    {
     "data": {
      "text/html": [
       "<pre style=\"white-space:pre;overflow-x:auto;line-height:normal;font-family:Menlo,'DejaVu Sans Mono',consolas,'Courier New',monospace\"><span style=\"color: #7fbfbf; text-decoration-color: #7fbfbf\">                    </span><span style=\"color: #000080; text-decoration-color: #000080\">INFO    </span> colossalai - colossalai - <span style=\"color: #008080; text-decoration-color: #008080; font-weight: bold\">2022</span>-<span style=\"color: #008080; text-decoration-color: #008080; font-weight: bold\">03</span>-<span style=\"color: #008080; text-decoration-color: #008080; font-weight: bold\">29</span> <span style=\"color: #00ff00; text-decoration-color: #00ff00; font-weight: bold\">03:07:48</span>,<span style=\"color: #008080; text-decoration-color: #008080; font-weight: bold\">311</span> <a href=\"file:///home/fiona/anaconda3/envs/pytorch/lib/python3.9/site-packages/colossalai/logging/logging.py\" target=\"_blank\"><span style=\"color: #7f7f7f; text-decoration-color: #7f7f7f\">logging.py</span></a><span style=\"color: #7f7f7f; text-decoration-color: #7f7f7f\">:</span><a href=\"file:///home/fiona/anaconda3/envs/pytorch/lib/python3.9/site-packages/colossalai/logging/logging.py#105\" target=\"_blank\"><span style=\"color: #7f7f7f; text-decoration-color: #7f7f7f\">105</span></a>\n",
       "<span style=\"color: #7fbfbf; text-decoration-color: #7fbfbf\">                    </span>         INFO: <span style=\"font-weight: bold\">[</span>Epoch <span style=\"color: #008080; text-decoration-color: #008080; font-weight: bold\">3</span> <span style=\"color: #800080; text-decoration-color: #800080\">/</span> Train<span style=\"font-weight: bold\">]</span>: GPU: allocated <span style=\"color: #008080; text-decoration-color: #008080; font-weight: bold\">15.24</span> MB, <span style=\"color: #7f7f7f; text-decoration-color: #7f7f7f\">              </span>\n",
       "<span style=\"color: #7fbfbf; text-decoration-color: #7fbfbf\">                    </span>         max allocated <span style=\"color: #008080; text-decoration-color: #008080; font-weight: bold\">61.84</span> MB, cached: <span style=\"color: #008080; text-decoration-color: #008080; font-weight: bold\">76.0</span> MB, max      <span style=\"color: #7f7f7f; text-decoration-color: #7f7f7f\">              </span>\n",
       "<span style=\"color: #7fbfbf; text-decoration-color: #7fbfbf\">                    </span>         cached: <span style=\"color: #008080; text-decoration-color: #008080; font-weight: bold\">76.0</span> MB                                   <span style=\"color: #7f7f7f; text-decoration-color: #7f7f7f\">              </span>\n",
       "</pre>\n"
      ],
      "text/plain": [
       "\u001b[2;36m                   \u001b[0m\u001b[2;36m \u001b[0m\u001b[34mINFO    \u001b[0m colossalai - colossalai - \u001b[1;36m2022\u001b[0m-\u001b[1;36m03\u001b[0m-\u001b[1;36m29\u001b[0m \u001b[1;92m03:07:48\u001b[0m,\u001b[1;36m311\u001b[0m \u001b]8;id=526003;file:///home/fiona/anaconda3/envs/pytorch/lib/python3.9/site-packages/colossalai/logging/logging.py\u001b\\\u001b[2mlogging.py\u001b[0m\u001b]8;;\u001b\\\u001b[2m:\u001b[0m\u001b]8;id=768719;file:///home/fiona/anaconda3/envs/pytorch/lib/python3.9/site-packages/colossalai/logging/logging.py#105\u001b\\\u001b[2m105\u001b[0m\u001b]8;;\u001b\\\n",
       "\u001b[2;36m                    \u001b[0m         INFO: \u001b[1m[\u001b[0mEpoch \u001b[1;36m3\u001b[0m \u001b[35m/\u001b[0m Train\u001b[1m]\u001b[0m: GPU: allocated \u001b[1;36m15.24\u001b[0m MB, \u001b[2m              \u001b[0m\n",
       "\u001b[2;36m                    \u001b[0m         max allocated \u001b[1;36m61.84\u001b[0m MB, cached: \u001b[1;36m76.0\u001b[0m MB, max      \u001b[2m              \u001b[0m\n",
       "\u001b[2;36m                    \u001b[0m         cached: \u001b[1;36m76.0\u001b[0m MB                                   \u001b[2m              \u001b[0m\n"
      ]
     },
     "metadata": {},
     "output_type": "display_data"
    },
    {
     "data": {
      "text/html": [
       "<pre style=\"white-space:pre;overflow-x:auto;line-height:normal;font-family:Menlo,'DejaVu Sans Mono',consolas,'Courier New',monospace\"><span style=\"color: #7fbfbf; text-decoration-color: #7fbfbf\">                    </span><span style=\"color: #000080; text-decoration-color: #000080\">INFO    </span> colossalai - colossalai - <span style=\"color: #008080; text-decoration-color: #008080; font-weight: bold\">2022</span>-<span style=\"color: #008080; text-decoration-color: #008080; font-weight: bold\">03</span>-<span style=\"color: #008080; text-decoration-color: #008080; font-weight: bold\">29</span> <span style=\"color: #00ff00; text-decoration-color: #00ff00; font-weight: bold\">03:07:48</span>,<span style=\"color: #008080; text-decoration-color: #008080; font-weight: bold\">315</span> <a href=\"file:///home/fiona/anaconda3/envs/pytorch/lib/python3.9/site-packages/colossalai/logging/logging.py\" target=\"_blank\"><span style=\"color: #7f7f7f; text-decoration-color: #7f7f7f\">logging.py</span></a><span style=\"color: #7f7f7f; text-decoration-color: #7f7f7f\">:</span><a href=\"file:///home/fiona/anaconda3/envs/pytorch/lib/python3.9/site-packages/colossalai/logging/logging.py#105\" target=\"_blank\"><span style=\"color: #7f7f7f; text-decoration-color: #7f7f7f\">105</span></a>\n",
       "<span style=\"color: #7fbfbf; text-decoration-color: #7fbfbf\">                    </span>         INFO: <span style=\"font-weight: bold\">[</span>Epoch <span style=\"color: #008080; text-decoration-color: #008080; font-weight: bold\">3</span> <span style=\"color: #800080; text-decoration-color: #800080\">/</span> Train<span style=\"font-weight: bold\">]</span>: Train-epoch: last =      <span style=\"color: #7f7f7f; text-decoration-color: #7f7f7f\">              </span>\n",
       "<span style=\"color: #7fbfbf; text-decoration-color: #7fbfbf\">                    </span>         <span style=\"color: #008080; text-decoration-color: #008080; font-weight: bold\">10.341</span> s, mean = <span style=\"color: #008080; text-decoration-color: #008080; font-weight: bold\">10.341</span> s | Train-step: last =    <span style=\"color: #7f7f7f; text-decoration-color: #7f7f7f\">              </span>\n",
       "<span style=\"color: #7fbfbf; text-decoration-color: #7fbfbf\">                    </span>         <span style=\"color: #008080; text-decoration-color: #008080; font-weight: bold\">0.015612</span> s, mean = <span style=\"color: #008080; text-decoration-color: #008080; font-weight: bold\">0.02123</span> s | #steps/epoch = <span style=\"color: #008080; text-decoration-color: #008080; font-weight: bold\">469</span> <span style=\"color: #7f7f7f; text-decoration-color: #7f7f7f\">              </span>\n",
       "</pre>\n"
      ],
      "text/plain": [
       "\u001b[2;36m                   \u001b[0m\u001b[2;36m \u001b[0m\u001b[34mINFO    \u001b[0m colossalai - colossalai - \u001b[1;36m2022\u001b[0m-\u001b[1;36m03\u001b[0m-\u001b[1;36m29\u001b[0m \u001b[1;92m03:07:48\u001b[0m,\u001b[1;36m315\u001b[0m \u001b]8;id=304200;file:///home/fiona/anaconda3/envs/pytorch/lib/python3.9/site-packages/colossalai/logging/logging.py\u001b\\\u001b[2mlogging.py\u001b[0m\u001b]8;;\u001b\\\u001b[2m:\u001b[0m\u001b]8;id=777735;file:///home/fiona/anaconda3/envs/pytorch/lib/python3.9/site-packages/colossalai/logging/logging.py#105\u001b\\\u001b[2m105\u001b[0m\u001b]8;;\u001b\\\n",
       "\u001b[2;36m                    \u001b[0m         INFO: \u001b[1m[\u001b[0mEpoch \u001b[1;36m3\u001b[0m \u001b[35m/\u001b[0m Train\u001b[1m]\u001b[0m: Train-epoch: last =      \u001b[2m              \u001b[0m\n",
       "\u001b[2;36m                    \u001b[0m         \u001b[1;36m10.341\u001b[0m s, mean = \u001b[1;36m10.341\u001b[0m s | Train-step: last =    \u001b[2m              \u001b[0m\n",
       "\u001b[2;36m                    \u001b[0m         \u001b[1;36m0.015612\u001b[0m s, mean = \u001b[1;36m0.02123\u001b[0m s | #steps/epoch = \u001b[1;36m469\u001b[0m \u001b[2m              \u001b[0m\n"
      ]
     },
     "metadata": {},
     "output_type": "display_data"
    },
    {
     "name": "stderr",
     "output_type": "stream",
     "text": [
      "[Epoch 3 / Test]: 100%|█████████████████████████████████████████████████████████████████| 79/79 [00:01<00:00, 48.12it/s]\n"
     ]
    },
    {
     "data": {
      "text/html": [
       "<pre style=\"white-space:pre;overflow-x:auto;line-height:normal;font-family:Menlo,'DejaVu Sans Mono',consolas,'Courier New',monospace\"><span style=\"color: #7fbfbf; text-decoration-color: #7fbfbf\">[03/29/22 03:07:50] </span><span style=\"color: #000080; text-decoration-color: #000080\">INFO    </span> colossalai - colossalai - <span style=\"color: #008080; text-decoration-color: #008080; font-weight: bold\">2022</span>-<span style=\"color: #008080; text-decoration-color: #008080; font-weight: bold\">03</span>-<span style=\"color: #008080; text-decoration-color: #008080; font-weight: bold\">29</span> <span style=\"color: #00ff00; text-decoration-color: #00ff00; font-weight: bold\">03:07:50</span>,<span style=\"color: #008080; text-decoration-color: #008080; font-weight: bold\">108</span> <a href=\"file:///home/fiona/anaconda3/envs/pytorch/lib/python3.9/site-packages/colossalai/logging/logging.py\" target=\"_blank\"><span style=\"color: #7f7f7f; text-decoration-color: #7f7f7f\">logging.py</span></a><span style=\"color: #7f7f7f; text-decoration-color: #7f7f7f\">:</span><a href=\"file:///home/fiona/anaconda3/envs/pytorch/lib/python3.9/site-packages/colossalai/logging/logging.py#105\" target=\"_blank\"><span style=\"color: #7f7f7f; text-decoration-color: #7f7f7f\">105</span></a>\n",
       "<span style=\"color: #7fbfbf; text-decoration-color: #7fbfbf\">                    </span>         INFO: <span style=\"font-weight: bold\">[</span>Epoch <span style=\"color: #008080; text-decoration-color: #008080; font-weight: bold\">3</span> <span style=\"color: #800080; text-decoration-color: #800080\">/</span> Test<span style=\"font-weight: bold\">]</span>: Loss = nan                <span style=\"color: #7f7f7f; text-decoration-color: #7f7f7f\">              </span>\n",
       "</pre>\n"
      ],
      "text/plain": [
       "\u001b[2;36m[03/29/22 03:07:50]\u001b[0m\u001b[2;36m \u001b[0m\u001b[34mINFO    \u001b[0m colossalai - colossalai - \u001b[1;36m2022\u001b[0m-\u001b[1;36m03\u001b[0m-\u001b[1;36m29\u001b[0m \u001b[1;92m03:07:50\u001b[0m,\u001b[1;36m108\u001b[0m \u001b]8;id=418860;file:///home/fiona/anaconda3/envs/pytorch/lib/python3.9/site-packages/colossalai/logging/logging.py\u001b\\\u001b[2mlogging.py\u001b[0m\u001b]8;;\u001b\\\u001b[2m:\u001b[0m\u001b]8;id=101935;file:///home/fiona/anaconda3/envs/pytorch/lib/python3.9/site-packages/colossalai/logging/logging.py#105\u001b\\\u001b[2m105\u001b[0m\u001b]8;;\u001b\\\n",
       "\u001b[2;36m                    \u001b[0m         INFO: \u001b[1m[\u001b[0mEpoch \u001b[1;36m3\u001b[0m \u001b[35m/\u001b[0m Test\u001b[1m]\u001b[0m: Loss = nan                \u001b[2m              \u001b[0m\n"
      ]
     },
     "metadata": {},
     "output_type": "display_data"
    },
    {
     "data": {
      "text/html": [
       "<pre style=\"white-space:pre;overflow-x:auto;line-height:normal;font-family:Menlo,'DejaVu Sans Mono',consolas,'Courier New',monospace\"><span style=\"color: #7fbfbf; text-decoration-color: #7fbfbf\">                    </span><span style=\"color: #000080; text-decoration-color: #000080\">INFO    </span> colossalai - colossalai - <span style=\"color: #008080; text-decoration-color: #008080; font-weight: bold\">2022</span>-<span style=\"color: #008080; text-decoration-color: #008080; font-weight: bold\">03</span>-<span style=\"color: #008080; text-decoration-color: #008080; font-weight: bold\">29</span> <span style=\"color: #00ff00; text-decoration-color: #00ff00; font-weight: bold\">03:07:50</span>,<span style=\"color: #008080; text-decoration-color: #008080; font-weight: bold\">114</span> <a href=\"file:///home/fiona/anaconda3/envs/pytorch/lib/python3.9/site-packages/colossalai/logging/logging.py\" target=\"_blank\"><span style=\"color: #7f7f7f; text-decoration-color: #7f7f7f\">logging.py</span></a><span style=\"color: #7f7f7f; text-decoration-color: #7f7f7f\">:</span><a href=\"file:///home/fiona/anaconda3/envs/pytorch/lib/python3.9/site-packages/colossalai/logging/logging.py#105\" target=\"_blank\"><span style=\"color: #7f7f7f; text-decoration-color: #7f7f7f\">105</span></a>\n",
       "<span style=\"color: #7fbfbf; text-decoration-color: #7fbfbf\">                    </span>         INFO: <span style=\"font-weight: bold\">[</span>Epoch <span style=\"color: #008080; text-decoration-color: #008080; font-weight: bold\">3</span> <span style=\"color: #800080; text-decoration-color: #800080\">/</span> Test<span style=\"font-weight: bold\">]</span>: Test-epoch: last = <span style=\"color: #008080; text-decoration-color: #008080; font-weight: bold\">1.6416</span> <span style=\"color: #7f7f7f; text-decoration-color: #7f7f7f\">              </span>\n",
       "<span style=\"color: #7fbfbf; text-decoration-color: #7fbfbf\">                    </span>         s, mean = <span style=\"color: #008080; text-decoration-color: #008080; font-weight: bold\">1.6416</span> s | Test-step: last = <span style=\"color: #008080; text-decoration-color: #008080; font-weight: bold\">0.0031338</span>  <span style=\"color: #7f7f7f; text-decoration-color: #7f7f7f\">              </span>\n",
       "<span style=\"color: #7fbfbf; text-decoration-color: #7fbfbf\">                    </span>         s, mean = <span style=\"color: #008080; text-decoration-color: #008080; font-weight: bold\">0.02055</span> s                               <span style=\"color: #7f7f7f; text-decoration-color: #7f7f7f\">              </span>\n",
       "</pre>\n"
      ],
      "text/plain": [
       "\u001b[2;36m                   \u001b[0m\u001b[2;36m \u001b[0m\u001b[34mINFO    \u001b[0m colossalai - colossalai - \u001b[1;36m2022\u001b[0m-\u001b[1;36m03\u001b[0m-\u001b[1;36m29\u001b[0m \u001b[1;92m03:07:50\u001b[0m,\u001b[1;36m114\u001b[0m \u001b]8;id=579081;file:///home/fiona/anaconda3/envs/pytorch/lib/python3.9/site-packages/colossalai/logging/logging.py\u001b\\\u001b[2mlogging.py\u001b[0m\u001b]8;;\u001b\\\u001b[2m:\u001b[0m\u001b]8;id=849077;file:///home/fiona/anaconda3/envs/pytorch/lib/python3.9/site-packages/colossalai/logging/logging.py#105\u001b\\\u001b[2m105\u001b[0m\u001b]8;;\u001b\\\n",
       "\u001b[2;36m                    \u001b[0m         INFO: \u001b[1m[\u001b[0mEpoch \u001b[1;36m3\u001b[0m \u001b[35m/\u001b[0m Test\u001b[1m]\u001b[0m: Test-epoch: last = \u001b[1;36m1.6416\u001b[0m \u001b[2m              \u001b[0m\n",
       "\u001b[2;36m                    \u001b[0m         s, mean = \u001b[1;36m1.6416\u001b[0m s | Test-step: last = \u001b[1;36m0.0031338\u001b[0m  \u001b[2m              \u001b[0m\n",
       "\u001b[2;36m                    \u001b[0m         s, mean = \u001b[1;36m0.02055\u001b[0m s                               \u001b[2m              \u001b[0m\n"
      ]
     },
     "metadata": {},
     "output_type": "display_data"
    },
    {
     "data": {
      "text/html": [
       "<pre style=\"white-space:pre;overflow-x:auto;line-height:normal;font-family:Menlo,'DejaVu Sans Mono',consolas,'Courier New',monospace\"><span style=\"color: #7fbfbf; text-decoration-color: #7fbfbf\">                    </span><span style=\"color: #000080; text-decoration-color: #000080\">INFO    </span> colossalai - colossalai - <span style=\"color: #008080; text-decoration-color: #008080; font-weight: bold\">2022</span>-<span style=\"color: #008080; text-decoration-color: #008080; font-weight: bold\">03</span>-<span style=\"color: #008080; text-decoration-color: #008080; font-weight: bold\">29</span> <span style=\"color: #00ff00; text-decoration-color: #00ff00; font-weight: bold\">03:07:50</span>,<span style=\"color: #008080; text-decoration-color: #008080; font-weight: bold\">119</span> <a href=\"file:///home/fiona/anaconda3/envs/pytorch/lib/python3.9/site-packages/colossalai/logging/logging.py\" target=\"_blank\"><span style=\"color: #7f7f7f; text-decoration-color: #7f7f7f\">logging.py</span></a><span style=\"color: #7f7f7f; text-decoration-color: #7f7f7f\">:</span><a href=\"file:///home/fiona/anaconda3/envs/pytorch/lib/python3.9/site-packages/colossalai/logging/logging.py#105\" target=\"_blank\"><span style=\"color: #7f7f7f; text-decoration-color: #7f7f7f\">105</span></a>\n",
       "<span style=\"color: #7fbfbf; text-decoration-color: #7fbfbf\">                    </span>         INFO: <span style=\"font-weight: bold\">[</span>Epoch <span style=\"color: #008080; text-decoration-color: #008080; font-weight: bold\">3</span> <span style=\"color: #800080; text-decoration-color: #800080\">/</span> Test<span style=\"font-weight: bold\">]</span>: GPU: allocated <span style=\"color: #008080; text-decoration-color: #008080; font-weight: bold\">11.25</span> MB,  <span style=\"color: #7f7f7f; text-decoration-color: #7f7f7f\">              </span>\n",
       "<span style=\"color: #7fbfbf; text-decoration-color: #7fbfbf\">                    </span>         max allocated <span style=\"color: #008080; text-decoration-color: #008080; font-weight: bold\">16.35</span> MB, cached: <span style=\"color: #008080; text-decoration-color: #008080; font-weight: bold\">76.0</span> MB, max      <span style=\"color: #7f7f7f; text-decoration-color: #7f7f7f\">              </span>\n",
       "<span style=\"color: #7fbfbf; text-decoration-color: #7fbfbf\">                    </span>         cached: <span style=\"color: #008080; text-decoration-color: #008080; font-weight: bold\">76.0</span> MB                                   <span style=\"color: #7f7f7f; text-decoration-color: #7f7f7f\">              </span>\n",
       "</pre>\n"
      ],
      "text/plain": [
       "\u001b[2;36m                   \u001b[0m\u001b[2;36m \u001b[0m\u001b[34mINFO    \u001b[0m colossalai - colossalai - \u001b[1;36m2022\u001b[0m-\u001b[1;36m03\u001b[0m-\u001b[1;36m29\u001b[0m \u001b[1;92m03:07:50\u001b[0m,\u001b[1;36m119\u001b[0m \u001b]8;id=10442;file:///home/fiona/anaconda3/envs/pytorch/lib/python3.9/site-packages/colossalai/logging/logging.py\u001b\\\u001b[2mlogging.py\u001b[0m\u001b]8;;\u001b\\\u001b[2m:\u001b[0m\u001b]8;id=214279;file:///home/fiona/anaconda3/envs/pytorch/lib/python3.9/site-packages/colossalai/logging/logging.py#105\u001b\\\u001b[2m105\u001b[0m\u001b]8;;\u001b\\\n",
       "\u001b[2;36m                    \u001b[0m         INFO: \u001b[1m[\u001b[0mEpoch \u001b[1;36m3\u001b[0m \u001b[35m/\u001b[0m Test\u001b[1m]\u001b[0m: GPU: allocated \u001b[1;36m11.25\u001b[0m MB,  \u001b[2m              \u001b[0m\n",
       "\u001b[2;36m                    \u001b[0m         max allocated \u001b[1;36m16.35\u001b[0m MB, cached: \u001b[1;36m76.0\u001b[0m MB, max      \u001b[2m              \u001b[0m\n",
       "\u001b[2;36m                    \u001b[0m         cached: \u001b[1;36m76.0\u001b[0m MB                                   \u001b[2m              \u001b[0m\n"
      ]
     },
     "metadata": {},
     "output_type": "display_data"
    },
    {
     "name": "stderr",
     "output_type": "stream",
     "text": [
      "[Epoch 4 / Train]: 100%|██████████████████████████████████████████████████████████████| 469/469 [00:10<00:00, 46.42it/s]\n"
     ]
    },
    {
     "data": {
      "text/html": [
       "<pre style=\"white-space:pre;overflow-x:auto;line-height:normal;font-family:Menlo,'DejaVu Sans Mono',consolas,'Courier New',monospace\"><span style=\"color: #7fbfbf; text-decoration-color: #7fbfbf\">[03/29/22 03:08:00] </span><span style=\"color: #000080; text-decoration-color: #000080\">INFO    </span> colossalai - colossalai - <span style=\"color: #008080; text-decoration-color: #008080; font-weight: bold\">2022</span>-<span style=\"color: #008080; text-decoration-color: #008080; font-weight: bold\">03</span>-<span style=\"color: #008080; text-decoration-color: #008080; font-weight: bold\">29</span> <span style=\"color: #00ff00; text-decoration-color: #00ff00; font-weight: bold\">03:08:00</span>,<span style=\"color: #008080; text-decoration-color: #008080; font-weight: bold\">396</span> <a href=\"file:///home/fiona/anaconda3/envs/pytorch/lib/python3.9/site-packages/colossalai/logging/logging.py\" target=\"_blank\"><span style=\"color: #7f7f7f; text-decoration-color: #7f7f7f\">logging.py</span></a><span style=\"color: #7f7f7f; text-decoration-color: #7f7f7f\">:</span><a href=\"file:///home/fiona/anaconda3/envs/pytorch/lib/python3.9/site-packages/colossalai/logging/logging.py#105\" target=\"_blank\"><span style=\"color: #7f7f7f; text-decoration-color: #7f7f7f\">105</span></a>\n",
       "<span style=\"color: #7fbfbf; text-decoration-color: #7fbfbf\">                    </span>         INFO: <span style=\"font-weight: bold\">[</span>Epoch <span style=\"color: #008080; text-decoration-color: #008080; font-weight: bold\">4</span> <span style=\"color: #800080; text-decoration-color: #800080\">/</span> Train<span style=\"font-weight: bold\">]</span>: Loss = nan | LR =        <span style=\"color: #7f7f7f; text-decoration-color: #7f7f7f\">              </span>\n",
       "<span style=\"color: #7fbfbf; text-decoration-color: #7fbfbf\">                    </span>         <span style=\"color: #008080; text-decoration-color: #008080; font-weight: bold\">0.0081137</span>                                         <span style=\"color: #7f7f7f; text-decoration-color: #7f7f7f\">              </span>\n",
       "</pre>\n"
      ],
      "text/plain": [
       "\u001b[2;36m[03/29/22 03:08:00]\u001b[0m\u001b[2;36m \u001b[0m\u001b[34mINFO    \u001b[0m colossalai - colossalai - \u001b[1;36m2022\u001b[0m-\u001b[1;36m03\u001b[0m-\u001b[1;36m29\u001b[0m \u001b[1;92m03:08:00\u001b[0m,\u001b[1;36m396\u001b[0m \u001b]8;id=666017;file:///home/fiona/anaconda3/envs/pytorch/lib/python3.9/site-packages/colossalai/logging/logging.py\u001b\\\u001b[2mlogging.py\u001b[0m\u001b]8;;\u001b\\\u001b[2m:\u001b[0m\u001b]8;id=104383;file:///home/fiona/anaconda3/envs/pytorch/lib/python3.9/site-packages/colossalai/logging/logging.py#105\u001b\\\u001b[2m105\u001b[0m\u001b]8;;\u001b\\\n",
       "\u001b[2;36m                    \u001b[0m         INFO: \u001b[1m[\u001b[0mEpoch \u001b[1;36m4\u001b[0m \u001b[35m/\u001b[0m Train\u001b[1m]\u001b[0m: Loss = nan | LR =        \u001b[2m              \u001b[0m\n",
       "\u001b[2;36m                    \u001b[0m         \u001b[1;36m0.0081137\u001b[0m                                         \u001b[2m              \u001b[0m\n"
      ]
     },
     "metadata": {},
     "output_type": "display_data"
    },
    {
     "data": {
      "text/html": [
       "<pre style=\"white-space:pre;overflow-x:auto;line-height:normal;font-family:Menlo,'DejaVu Sans Mono',consolas,'Courier New',monospace\"><span style=\"color: #7fbfbf; text-decoration-color: #7fbfbf\">                    </span><span style=\"color: #000080; text-decoration-color: #000080\">INFO    </span> colossalai - colossalai - <span style=\"color: #008080; text-decoration-color: #008080; font-weight: bold\">2022</span>-<span style=\"color: #008080; text-decoration-color: #008080; font-weight: bold\">03</span>-<span style=\"color: #008080; text-decoration-color: #008080; font-weight: bold\">29</span> <span style=\"color: #00ff00; text-decoration-color: #00ff00; font-weight: bold\">03:08:00</span>,<span style=\"color: #008080; text-decoration-color: #008080; font-weight: bold\">403</span> <a href=\"file:///home/fiona/anaconda3/envs/pytorch/lib/python3.9/site-packages/colossalai/logging/logging.py\" target=\"_blank\"><span style=\"color: #7f7f7f; text-decoration-color: #7f7f7f\">logging.py</span></a><span style=\"color: #7f7f7f; text-decoration-color: #7f7f7f\">:</span><a href=\"file:///home/fiona/anaconda3/envs/pytorch/lib/python3.9/site-packages/colossalai/logging/logging.py#105\" target=\"_blank\"><span style=\"color: #7f7f7f; text-decoration-color: #7f7f7f\">105</span></a>\n",
       "<span style=\"color: #7fbfbf; text-decoration-color: #7fbfbf\">                    </span>         INFO: <span style=\"font-weight: bold\">[</span>Epoch <span style=\"color: #008080; text-decoration-color: #008080; font-weight: bold\">4</span> <span style=\"color: #800080; text-decoration-color: #800080\">/</span> Train<span style=\"font-weight: bold\">]</span>: GPU: allocated <span style=\"color: #008080; text-decoration-color: #008080; font-weight: bold\">15.24</span> MB, <span style=\"color: #7f7f7f; text-decoration-color: #7f7f7f\">              </span>\n",
       "<span style=\"color: #7fbfbf; text-decoration-color: #7fbfbf\">                    </span>         max allocated <span style=\"color: #008080; text-decoration-color: #008080; font-weight: bold\">61.84</span> MB, cached: <span style=\"color: #008080; text-decoration-color: #008080; font-weight: bold\">76.0</span> MB, max      <span style=\"color: #7f7f7f; text-decoration-color: #7f7f7f\">              </span>\n",
       "<span style=\"color: #7fbfbf; text-decoration-color: #7fbfbf\">                    </span>         cached: <span style=\"color: #008080; text-decoration-color: #008080; font-weight: bold\">76.0</span> MB                                   <span style=\"color: #7f7f7f; text-decoration-color: #7f7f7f\">              </span>\n",
       "</pre>\n"
      ],
      "text/plain": [
       "\u001b[2;36m                   \u001b[0m\u001b[2;36m \u001b[0m\u001b[34mINFO    \u001b[0m colossalai - colossalai - \u001b[1;36m2022\u001b[0m-\u001b[1;36m03\u001b[0m-\u001b[1;36m29\u001b[0m \u001b[1;92m03:08:00\u001b[0m,\u001b[1;36m403\u001b[0m \u001b]8;id=838655;file:///home/fiona/anaconda3/envs/pytorch/lib/python3.9/site-packages/colossalai/logging/logging.py\u001b\\\u001b[2mlogging.py\u001b[0m\u001b]8;;\u001b\\\u001b[2m:\u001b[0m\u001b]8;id=422323;file:///home/fiona/anaconda3/envs/pytorch/lib/python3.9/site-packages/colossalai/logging/logging.py#105\u001b\\\u001b[2m105\u001b[0m\u001b]8;;\u001b\\\n",
       "\u001b[2;36m                    \u001b[0m         INFO: \u001b[1m[\u001b[0mEpoch \u001b[1;36m4\u001b[0m \u001b[35m/\u001b[0m Train\u001b[1m]\u001b[0m: GPU: allocated \u001b[1;36m15.24\u001b[0m MB, \u001b[2m              \u001b[0m\n",
       "\u001b[2;36m                    \u001b[0m         max allocated \u001b[1;36m61.84\u001b[0m MB, cached: \u001b[1;36m76.0\u001b[0m MB, max      \u001b[2m              \u001b[0m\n",
       "\u001b[2;36m                    \u001b[0m         cached: \u001b[1;36m76.0\u001b[0m MB                                   \u001b[2m              \u001b[0m\n"
      ]
     },
     "metadata": {},
     "output_type": "display_data"
    },
    {
     "data": {
      "text/html": [
       "<pre style=\"white-space:pre;overflow-x:auto;line-height:normal;font-family:Menlo,'DejaVu Sans Mono',consolas,'Courier New',monospace\"><span style=\"color: #7fbfbf; text-decoration-color: #7fbfbf\">                    </span><span style=\"color: #000080; text-decoration-color: #000080\">INFO    </span> colossalai - colossalai - <span style=\"color: #008080; text-decoration-color: #008080; font-weight: bold\">2022</span>-<span style=\"color: #008080; text-decoration-color: #008080; font-weight: bold\">03</span>-<span style=\"color: #008080; text-decoration-color: #008080; font-weight: bold\">29</span> <span style=\"color: #00ff00; text-decoration-color: #00ff00; font-weight: bold\">03:08:00</span>,<span style=\"color: #008080; text-decoration-color: #008080; font-weight: bold\">407</span> <a href=\"file:///home/fiona/anaconda3/envs/pytorch/lib/python3.9/site-packages/colossalai/logging/logging.py\" target=\"_blank\"><span style=\"color: #7f7f7f; text-decoration-color: #7f7f7f\">logging.py</span></a><span style=\"color: #7f7f7f; text-decoration-color: #7f7f7f\">:</span><a href=\"file:///home/fiona/anaconda3/envs/pytorch/lib/python3.9/site-packages/colossalai/logging/logging.py#105\" target=\"_blank\"><span style=\"color: #7f7f7f; text-decoration-color: #7f7f7f\">105</span></a>\n",
       "<span style=\"color: #7fbfbf; text-decoration-color: #7fbfbf\">                    </span>         INFO: <span style=\"font-weight: bold\">[</span>Epoch <span style=\"color: #008080; text-decoration-color: #008080; font-weight: bold\">4</span> <span style=\"color: #800080; text-decoration-color: #800080\">/</span> Train<span style=\"font-weight: bold\">]</span>: Train-epoch: last =      <span style=\"color: #7f7f7f; text-decoration-color: #7f7f7f\">              </span>\n",
       "<span style=\"color: #7fbfbf; text-decoration-color: #7fbfbf\">                    </span>         <span style=\"color: #008080; text-decoration-color: #008080; font-weight: bold\">10.104</span> s, mean = <span style=\"color: #008080; text-decoration-color: #008080; font-weight: bold\">10.104</span> s | Train-step: last =    <span style=\"color: #7f7f7f; text-decoration-color: #7f7f7f\">              </span>\n",
       "<span style=\"color: #7fbfbf; text-decoration-color: #7fbfbf\">                    </span>         <span style=\"color: #008080; text-decoration-color: #008080; font-weight: bold\">0.015492</span> s, mean = <span style=\"color: #008080; text-decoration-color: #008080; font-weight: bold\">0.021193</span> s | #steps/epoch =    <span style=\"color: #7f7f7f; text-decoration-color: #7f7f7f\">              </span>\n",
       "<span style=\"color: #7fbfbf; text-decoration-color: #7fbfbf\">                    </span>         <span style=\"color: #008080; text-decoration-color: #008080; font-weight: bold\">469</span>                                               <span style=\"color: #7f7f7f; text-decoration-color: #7f7f7f\">              </span>\n",
       "</pre>\n"
      ],
      "text/plain": [
       "\u001b[2;36m                   \u001b[0m\u001b[2;36m \u001b[0m\u001b[34mINFO    \u001b[0m colossalai - colossalai - \u001b[1;36m2022\u001b[0m-\u001b[1;36m03\u001b[0m-\u001b[1;36m29\u001b[0m \u001b[1;92m03:08:00\u001b[0m,\u001b[1;36m407\u001b[0m \u001b]8;id=468383;file:///home/fiona/anaconda3/envs/pytorch/lib/python3.9/site-packages/colossalai/logging/logging.py\u001b\\\u001b[2mlogging.py\u001b[0m\u001b]8;;\u001b\\\u001b[2m:\u001b[0m\u001b]8;id=573592;file:///home/fiona/anaconda3/envs/pytorch/lib/python3.9/site-packages/colossalai/logging/logging.py#105\u001b\\\u001b[2m105\u001b[0m\u001b]8;;\u001b\\\n",
       "\u001b[2;36m                    \u001b[0m         INFO: \u001b[1m[\u001b[0mEpoch \u001b[1;36m4\u001b[0m \u001b[35m/\u001b[0m Train\u001b[1m]\u001b[0m: Train-epoch: last =      \u001b[2m              \u001b[0m\n",
       "\u001b[2;36m                    \u001b[0m         \u001b[1;36m10.104\u001b[0m s, mean = \u001b[1;36m10.104\u001b[0m s | Train-step: last =    \u001b[2m              \u001b[0m\n",
       "\u001b[2;36m                    \u001b[0m         \u001b[1;36m0.015492\u001b[0m s, mean = \u001b[1;36m0.021193\u001b[0m s | #steps/epoch =    \u001b[2m              \u001b[0m\n",
       "\u001b[2;36m                    \u001b[0m         \u001b[1;36m469\u001b[0m                                               \u001b[2m              \u001b[0m\n"
      ]
     },
     "metadata": {},
     "output_type": "display_data"
    },
    {
     "name": "stderr",
     "output_type": "stream",
     "text": [
      "[Epoch 4 / Test]: 100%|█████████████████████████████████████████████████████████████████| 79/79 [00:01<00:00, 47.79it/s]\n"
     ]
    },
    {
     "data": {
      "text/html": [
       "<pre style=\"white-space:pre;overflow-x:auto;line-height:normal;font-family:Menlo,'DejaVu Sans Mono',consolas,'Courier New',monospace\"><span style=\"color: #7fbfbf; text-decoration-color: #7fbfbf\">[03/29/22 03:08:02] </span><span style=\"color: #000080; text-decoration-color: #000080\">INFO    </span> colossalai - colossalai - <span style=\"color: #008080; text-decoration-color: #008080; font-weight: bold\">2022</span>-<span style=\"color: #008080; text-decoration-color: #008080; font-weight: bold\">03</span>-<span style=\"color: #008080; text-decoration-color: #008080; font-weight: bold\">29</span> <span style=\"color: #00ff00; text-decoration-color: #00ff00; font-weight: bold\">03:08:02</span>,<span style=\"color: #008080; text-decoration-color: #008080; font-weight: bold\">229</span> <a href=\"file:///home/fiona/anaconda3/envs/pytorch/lib/python3.9/site-packages/colossalai/logging/logging.py\" target=\"_blank\"><span style=\"color: #7f7f7f; text-decoration-color: #7f7f7f\">logging.py</span></a><span style=\"color: #7f7f7f; text-decoration-color: #7f7f7f\">:</span><a href=\"file:///home/fiona/anaconda3/envs/pytorch/lib/python3.9/site-packages/colossalai/logging/logging.py#105\" target=\"_blank\"><span style=\"color: #7f7f7f; text-decoration-color: #7f7f7f\">105</span></a>\n",
       "<span style=\"color: #7fbfbf; text-decoration-color: #7fbfbf\">                    </span>         INFO: <span style=\"font-weight: bold\">[</span>Epoch <span style=\"color: #008080; text-decoration-color: #008080; font-weight: bold\">4</span> <span style=\"color: #800080; text-decoration-color: #800080\">/</span> Test<span style=\"font-weight: bold\">]</span>: Loss = nan                <span style=\"color: #7f7f7f; text-decoration-color: #7f7f7f\">              </span>\n",
       "</pre>\n"
      ],
      "text/plain": [
       "\u001b[2;36m[03/29/22 03:08:02]\u001b[0m\u001b[2;36m \u001b[0m\u001b[34mINFO    \u001b[0m colossalai - colossalai - \u001b[1;36m2022\u001b[0m-\u001b[1;36m03\u001b[0m-\u001b[1;36m29\u001b[0m \u001b[1;92m03:08:02\u001b[0m,\u001b[1;36m229\u001b[0m \u001b]8;id=402571;file:///home/fiona/anaconda3/envs/pytorch/lib/python3.9/site-packages/colossalai/logging/logging.py\u001b\\\u001b[2mlogging.py\u001b[0m\u001b]8;;\u001b\\\u001b[2m:\u001b[0m\u001b]8;id=216119;file:///home/fiona/anaconda3/envs/pytorch/lib/python3.9/site-packages/colossalai/logging/logging.py#105\u001b\\\u001b[2m105\u001b[0m\u001b]8;;\u001b\\\n",
       "\u001b[2;36m                    \u001b[0m         INFO: \u001b[1m[\u001b[0mEpoch \u001b[1;36m4\u001b[0m \u001b[35m/\u001b[0m Test\u001b[1m]\u001b[0m: Loss = nan                \u001b[2m              \u001b[0m\n"
      ]
     },
     "metadata": {},
     "output_type": "display_data"
    },
    {
     "data": {
      "text/html": [
       "<pre style=\"white-space:pre;overflow-x:auto;line-height:normal;font-family:Menlo,'DejaVu Sans Mono',consolas,'Courier New',monospace\"><span style=\"color: #7fbfbf; text-decoration-color: #7fbfbf\">                    </span><span style=\"color: #000080; text-decoration-color: #000080\">INFO    </span> colossalai - colossalai - <span style=\"color: #008080; text-decoration-color: #008080; font-weight: bold\">2022</span>-<span style=\"color: #008080; text-decoration-color: #008080; font-weight: bold\">03</span>-<span style=\"color: #008080; text-decoration-color: #008080; font-weight: bold\">29</span> <span style=\"color: #00ff00; text-decoration-color: #00ff00; font-weight: bold\">03:08:02</span>,<span style=\"color: #008080; text-decoration-color: #008080; font-weight: bold\">234</span> <a href=\"file:///home/fiona/anaconda3/envs/pytorch/lib/python3.9/site-packages/colossalai/logging/logging.py\" target=\"_blank\"><span style=\"color: #7f7f7f; text-decoration-color: #7f7f7f\">logging.py</span></a><span style=\"color: #7f7f7f; text-decoration-color: #7f7f7f\">:</span><a href=\"file:///home/fiona/anaconda3/envs/pytorch/lib/python3.9/site-packages/colossalai/logging/logging.py#105\" target=\"_blank\"><span style=\"color: #7f7f7f; text-decoration-color: #7f7f7f\">105</span></a>\n",
       "<span style=\"color: #7fbfbf; text-decoration-color: #7fbfbf\">                    </span>         INFO: <span style=\"font-weight: bold\">[</span>Epoch <span style=\"color: #008080; text-decoration-color: #008080; font-weight: bold\">4</span> <span style=\"color: #800080; text-decoration-color: #800080\">/</span> Test<span style=\"font-weight: bold\">]</span>: Test-epoch: last = <span style=\"color: #008080; text-decoration-color: #008080; font-weight: bold\">1.6531</span> <span style=\"color: #7f7f7f; text-decoration-color: #7f7f7f\">              </span>\n",
       "<span style=\"color: #7fbfbf; text-decoration-color: #7fbfbf\">                    </span>         s, mean = <span style=\"color: #008080; text-decoration-color: #008080; font-weight: bold\">1.6531</span> s | Test-step: last = <span style=\"color: #008080; text-decoration-color: #008080; font-weight: bold\">0.0030518</span>  <span style=\"color: #7f7f7f; text-decoration-color: #7f7f7f\">              </span>\n",
       "<span style=\"color: #7fbfbf; text-decoration-color: #7fbfbf\">                    </span>         s, mean = <span style=\"color: #008080; text-decoration-color: #008080; font-weight: bold\">0.020724</span> s                              <span style=\"color: #7f7f7f; text-decoration-color: #7f7f7f\">              </span>\n",
       "</pre>\n"
      ],
      "text/plain": [
       "\u001b[2;36m                   \u001b[0m\u001b[2;36m \u001b[0m\u001b[34mINFO    \u001b[0m colossalai - colossalai - \u001b[1;36m2022\u001b[0m-\u001b[1;36m03\u001b[0m-\u001b[1;36m29\u001b[0m \u001b[1;92m03:08:02\u001b[0m,\u001b[1;36m234\u001b[0m \u001b]8;id=825323;file:///home/fiona/anaconda3/envs/pytorch/lib/python3.9/site-packages/colossalai/logging/logging.py\u001b\\\u001b[2mlogging.py\u001b[0m\u001b]8;;\u001b\\\u001b[2m:\u001b[0m\u001b]8;id=362546;file:///home/fiona/anaconda3/envs/pytorch/lib/python3.9/site-packages/colossalai/logging/logging.py#105\u001b\\\u001b[2m105\u001b[0m\u001b]8;;\u001b\\\n",
       "\u001b[2;36m                    \u001b[0m         INFO: \u001b[1m[\u001b[0mEpoch \u001b[1;36m4\u001b[0m \u001b[35m/\u001b[0m Test\u001b[1m]\u001b[0m: Test-epoch: last = \u001b[1;36m1.6531\u001b[0m \u001b[2m              \u001b[0m\n",
       "\u001b[2;36m                    \u001b[0m         s, mean = \u001b[1;36m1.6531\u001b[0m s | Test-step: last = \u001b[1;36m0.0030518\u001b[0m  \u001b[2m              \u001b[0m\n",
       "\u001b[2;36m                    \u001b[0m         s, mean = \u001b[1;36m0.020724\u001b[0m s                              \u001b[2m              \u001b[0m\n"
      ]
     },
     "metadata": {},
     "output_type": "display_data"
    },
    {
     "data": {
      "text/html": [
       "<pre style=\"white-space:pre;overflow-x:auto;line-height:normal;font-family:Menlo,'DejaVu Sans Mono',consolas,'Courier New',monospace\"><span style=\"color: #7fbfbf; text-decoration-color: #7fbfbf\">                    </span><span style=\"color: #000080; text-decoration-color: #000080\">INFO    </span> colossalai - colossalai - <span style=\"color: #008080; text-decoration-color: #008080; font-weight: bold\">2022</span>-<span style=\"color: #008080; text-decoration-color: #008080; font-weight: bold\">03</span>-<span style=\"color: #008080; text-decoration-color: #008080; font-weight: bold\">29</span> <span style=\"color: #00ff00; text-decoration-color: #00ff00; font-weight: bold\">03:08:02</span>,<span style=\"color: #008080; text-decoration-color: #008080; font-weight: bold\">240</span> <a href=\"file:///home/fiona/anaconda3/envs/pytorch/lib/python3.9/site-packages/colossalai/logging/logging.py\" target=\"_blank\"><span style=\"color: #7f7f7f; text-decoration-color: #7f7f7f\">logging.py</span></a><span style=\"color: #7f7f7f; text-decoration-color: #7f7f7f\">:</span><a href=\"file:///home/fiona/anaconda3/envs/pytorch/lib/python3.9/site-packages/colossalai/logging/logging.py#105\" target=\"_blank\"><span style=\"color: #7f7f7f; text-decoration-color: #7f7f7f\">105</span></a>\n",
       "<span style=\"color: #7fbfbf; text-decoration-color: #7fbfbf\">                    </span>         INFO: <span style=\"font-weight: bold\">[</span>Epoch <span style=\"color: #008080; text-decoration-color: #008080; font-weight: bold\">4</span> <span style=\"color: #800080; text-decoration-color: #800080\">/</span> Test<span style=\"font-weight: bold\">]</span>: GPU: allocated <span style=\"color: #008080; text-decoration-color: #008080; font-weight: bold\">11.25</span> MB,  <span style=\"color: #7f7f7f; text-decoration-color: #7f7f7f\">              </span>\n",
       "<span style=\"color: #7fbfbf; text-decoration-color: #7fbfbf\">                    </span>         max allocated <span style=\"color: #008080; text-decoration-color: #008080; font-weight: bold\">16.35</span> MB, cached: <span style=\"color: #008080; text-decoration-color: #008080; font-weight: bold\">76.0</span> MB, max      <span style=\"color: #7f7f7f; text-decoration-color: #7f7f7f\">              </span>\n",
       "<span style=\"color: #7fbfbf; text-decoration-color: #7fbfbf\">                    </span>         cached: <span style=\"color: #008080; text-decoration-color: #008080; font-weight: bold\">76.0</span> MB                                   <span style=\"color: #7f7f7f; text-decoration-color: #7f7f7f\">              </span>\n",
       "</pre>\n"
      ],
      "text/plain": [
       "\u001b[2;36m                   \u001b[0m\u001b[2;36m \u001b[0m\u001b[34mINFO    \u001b[0m colossalai - colossalai - \u001b[1;36m2022\u001b[0m-\u001b[1;36m03\u001b[0m-\u001b[1;36m29\u001b[0m \u001b[1;92m03:08:02\u001b[0m,\u001b[1;36m240\u001b[0m \u001b]8;id=395740;file:///home/fiona/anaconda3/envs/pytorch/lib/python3.9/site-packages/colossalai/logging/logging.py\u001b\\\u001b[2mlogging.py\u001b[0m\u001b]8;;\u001b\\\u001b[2m:\u001b[0m\u001b]8;id=229516;file:///home/fiona/anaconda3/envs/pytorch/lib/python3.9/site-packages/colossalai/logging/logging.py#105\u001b\\\u001b[2m105\u001b[0m\u001b]8;;\u001b\\\n",
       "\u001b[2;36m                    \u001b[0m         INFO: \u001b[1m[\u001b[0mEpoch \u001b[1;36m4\u001b[0m \u001b[35m/\u001b[0m Test\u001b[1m]\u001b[0m: GPU: allocated \u001b[1;36m11.25\u001b[0m MB,  \u001b[2m              \u001b[0m\n",
       "\u001b[2;36m                    \u001b[0m         max allocated \u001b[1;36m16.35\u001b[0m MB, cached: \u001b[1;36m76.0\u001b[0m MB, max      \u001b[2m              \u001b[0m\n",
       "\u001b[2;36m                    \u001b[0m         cached: \u001b[1;36m76.0\u001b[0m MB                                   \u001b[2m              \u001b[0m\n"
      ]
     },
     "metadata": {},
     "output_type": "display_data"
    },
    {
     "name": "stderr",
     "output_type": "stream",
     "text": [
      "[Epoch 5 / Train]: 100%|██████████████████████████████████████████████████████████████| 469/469 [00:09<00:00, 47.60it/s]\n"
     ]
    },
    {
     "data": {
      "text/html": [
       "<pre style=\"white-space:pre;overflow-x:auto;line-height:normal;font-family:Menlo,'DejaVu Sans Mono',consolas,'Courier New',monospace\"><span style=\"color: #7fbfbf; text-decoration-color: #7fbfbf\">[03/29/22 03:08:12] </span><span style=\"color: #000080; text-decoration-color: #000080\">INFO    </span> colossalai - colossalai - <span style=\"color: #008080; text-decoration-color: #008080; font-weight: bold\">2022</span>-<span style=\"color: #008080; text-decoration-color: #008080; font-weight: bold\">03</span>-<span style=\"color: #008080; text-decoration-color: #008080; font-weight: bold\">29</span> <span style=\"color: #00ff00; text-decoration-color: #00ff00; font-weight: bold\">03:08:12</span>,<span style=\"color: #008080; text-decoration-color: #008080; font-weight: bold\">245</span> <a href=\"file:///home/fiona/anaconda3/envs/pytorch/lib/python3.9/site-packages/colossalai/logging/logging.py\" target=\"_blank\"><span style=\"color: #7f7f7f; text-decoration-color: #7f7f7f\">logging.py</span></a><span style=\"color: #7f7f7f; text-decoration-color: #7f7f7f\">:</span><a href=\"file:///home/fiona/anaconda3/envs/pytorch/lib/python3.9/site-packages/colossalai/logging/logging.py#105\" target=\"_blank\"><span style=\"color: #7f7f7f; text-decoration-color: #7f7f7f\">105</span></a>\n",
       "<span style=\"color: #7fbfbf; text-decoration-color: #7fbfbf\">                    </span>         INFO: <span style=\"font-weight: bold\">[</span>Epoch <span style=\"color: #008080; text-decoration-color: #008080; font-weight: bold\">5</span> <span style=\"color: #800080; text-decoration-color: #800080\">/</span> Train<span style=\"font-weight: bold\">]</span>: Loss = nan | LR =        <span style=\"color: #7f7f7f; text-decoration-color: #7f7f7f\">              </span>\n",
       "<span style=\"color: #7fbfbf; text-decoration-color: #7fbfbf\">                    </span>         <span style=\"color: #008080; text-decoration-color: #008080; font-weight: bold\">0.006108</span>                                          <span style=\"color: #7f7f7f; text-decoration-color: #7f7f7f\">              </span>\n",
       "</pre>\n"
      ],
      "text/plain": [
       "\u001b[2;36m[03/29/22 03:08:12]\u001b[0m\u001b[2;36m \u001b[0m\u001b[34mINFO    \u001b[0m colossalai - colossalai - \u001b[1;36m2022\u001b[0m-\u001b[1;36m03\u001b[0m-\u001b[1;36m29\u001b[0m \u001b[1;92m03:08:12\u001b[0m,\u001b[1;36m245\u001b[0m \u001b]8;id=242986;file:///home/fiona/anaconda3/envs/pytorch/lib/python3.9/site-packages/colossalai/logging/logging.py\u001b\\\u001b[2mlogging.py\u001b[0m\u001b]8;;\u001b\\\u001b[2m:\u001b[0m\u001b]8;id=520055;file:///home/fiona/anaconda3/envs/pytorch/lib/python3.9/site-packages/colossalai/logging/logging.py#105\u001b\\\u001b[2m105\u001b[0m\u001b]8;;\u001b\\\n",
       "\u001b[2;36m                    \u001b[0m         INFO: \u001b[1m[\u001b[0mEpoch \u001b[1;36m5\u001b[0m \u001b[35m/\u001b[0m Train\u001b[1m]\u001b[0m: Loss = nan | LR =        \u001b[2m              \u001b[0m\n",
       "\u001b[2;36m                    \u001b[0m         \u001b[1;36m0.006108\u001b[0m                                          \u001b[2m              \u001b[0m\n"
      ]
     },
     "metadata": {},
     "output_type": "display_data"
    },
    {
     "data": {
      "text/html": [
       "<pre style=\"white-space:pre;overflow-x:auto;line-height:normal;font-family:Menlo,'DejaVu Sans Mono',consolas,'Courier New',monospace\"><span style=\"color: #7fbfbf; text-decoration-color: #7fbfbf\">                    </span><span style=\"color: #000080; text-decoration-color: #000080\">INFO    </span> colossalai - colossalai - <span style=\"color: #008080; text-decoration-color: #008080; font-weight: bold\">2022</span>-<span style=\"color: #008080; text-decoration-color: #008080; font-weight: bold\">03</span>-<span style=\"color: #008080; text-decoration-color: #008080; font-weight: bold\">29</span> <span style=\"color: #00ff00; text-decoration-color: #00ff00; font-weight: bold\">03:08:12</span>,<span style=\"color: #008080; text-decoration-color: #008080; font-weight: bold\">253</span> <a href=\"file:///home/fiona/anaconda3/envs/pytorch/lib/python3.9/site-packages/colossalai/logging/logging.py\" target=\"_blank\"><span style=\"color: #7f7f7f; text-decoration-color: #7f7f7f\">logging.py</span></a><span style=\"color: #7f7f7f; text-decoration-color: #7f7f7f\">:</span><a href=\"file:///home/fiona/anaconda3/envs/pytorch/lib/python3.9/site-packages/colossalai/logging/logging.py#105\" target=\"_blank\"><span style=\"color: #7f7f7f; text-decoration-color: #7f7f7f\">105</span></a>\n",
       "<span style=\"color: #7fbfbf; text-decoration-color: #7fbfbf\">                    </span>         INFO: <span style=\"font-weight: bold\">[</span>Epoch <span style=\"color: #008080; text-decoration-color: #008080; font-weight: bold\">5</span> <span style=\"color: #800080; text-decoration-color: #800080\">/</span> Train<span style=\"font-weight: bold\">]</span>: GPU: allocated <span style=\"color: #008080; text-decoration-color: #008080; font-weight: bold\">15.24</span> MB, <span style=\"color: #7f7f7f; text-decoration-color: #7f7f7f\">              </span>\n",
       "<span style=\"color: #7fbfbf; text-decoration-color: #7fbfbf\">                    </span>         max allocated <span style=\"color: #008080; text-decoration-color: #008080; font-weight: bold\">61.84</span> MB, cached: <span style=\"color: #008080; text-decoration-color: #008080; font-weight: bold\">76.0</span> MB, max      <span style=\"color: #7f7f7f; text-decoration-color: #7f7f7f\">              </span>\n",
       "<span style=\"color: #7fbfbf; text-decoration-color: #7fbfbf\">                    </span>         cached: <span style=\"color: #008080; text-decoration-color: #008080; font-weight: bold\">76.0</span> MB                                   <span style=\"color: #7f7f7f; text-decoration-color: #7f7f7f\">              </span>\n",
       "</pre>\n"
      ],
      "text/plain": [
       "\u001b[2;36m                   \u001b[0m\u001b[2;36m \u001b[0m\u001b[34mINFO    \u001b[0m colossalai - colossalai - \u001b[1;36m2022\u001b[0m-\u001b[1;36m03\u001b[0m-\u001b[1;36m29\u001b[0m \u001b[1;92m03:08:12\u001b[0m,\u001b[1;36m253\u001b[0m \u001b]8;id=970647;file:///home/fiona/anaconda3/envs/pytorch/lib/python3.9/site-packages/colossalai/logging/logging.py\u001b\\\u001b[2mlogging.py\u001b[0m\u001b]8;;\u001b\\\u001b[2m:\u001b[0m\u001b]8;id=735695;file:///home/fiona/anaconda3/envs/pytorch/lib/python3.9/site-packages/colossalai/logging/logging.py#105\u001b\\\u001b[2m105\u001b[0m\u001b]8;;\u001b\\\n",
       "\u001b[2;36m                    \u001b[0m         INFO: \u001b[1m[\u001b[0mEpoch \u001b[1;36m5\u001b[0m \u001b[35m/\u001b[0m Train\u001b[1m]\u001b[0m: GPU: allocated \u001b[1;36m15.24\u001b[0m MB, \u001b[2m              \u001b[0m\n",
       "\u001b[2;36m                    \u001b[0m         max allocated \u001b[1;36m61.84\u001b[0m MB, cached: \u001b[1;36m76.0\u001b[0m MB, max      \u001b[2m              \u001b[0m\n",
       "\u001b[2;36m                    \u001b[0m         cached: \u001b[1;36m76.0\u001b[0m MB                                   \u001b[2m              \u001b[0m\n"
      ]
     },
     "metadata": {},
     "output_type": "display_data"
    },
    {
     "data": {
      "text/html": [
       "<pre style=\"white-space:pre;overflow-x:auto;line-height:normal;font-family:Menlo,'DejaVu Sans Mono',consolas,'Courier New',monospace\"><span style=\"color: #7fbfbf; text-decoration-color: #7fbfbf\">                    </span><span style=\"color: #000080; text-decoration-color: #000080\">INFO    </span> colossalai - colossalai - <span style=\"color: #008080; text-decoration-color: #008080; font-weight: bold\">2022</span>-<span style=\"color: #008080; text-decoration-color: #008080; font-weight: bold\">03</span>-<span style=\"color: #008080; text-decoration-color: #008080; font-weight: bold\">29</span> <span style=\"color: #00ff00; text-decoration-color: #00ff00; font-weight: bold\">03:08:12</span>,<span style=\"color: #008080; text-decoration-color: #008080; font-weight: bold\">257</span> <a href=\"file:///home/fiona/anaconda3/envs/pytorch/lib/python3.9/site-packages/colossalai/logging/logging.py\" target=\"_blank\"><span style=\"color: #7f7f7f; text-decoration-color: #7f7f7f\">logging.py</span></a><span style=\"color: #7f7f7f; text-decoration-color: #7f7f7f\">:</span><a href=\"file:///home/fiona/anaconda3/envs/pytorch/lib/python3.9/site-packages/colossalai/logging/logging.py#105\" target=\"_blank\"><span style=\"color: #7f7f7f; text-decoration-color: #7f7f7f\">105</span></a>\n",
       "<span style=\"color: #7fbfbf; text-decoration-color: #7fbfbf\">                    </span>         INFO: <span style=\"font-weight: bold\">[</span>Epoch <span style=\"color: #008080; text-decoration-color: #008080; font-weight: bold\">5</span> <span style=\"color: #800080; text-decoration-color: #800080\">/</span> Train<span style=\"font-weight: bold\">]</span>: Train-epoch: last =      <span style=\"color: #7f7f7f; text-decoration-color: #7f7f7f\">              </span>\n",
       "<span style=\"color: #7fbfbf; text-decoration-color: #7fbfbf\">                    </span>         <span style=\"color: #008080; text-decoration-color: #008080; font-weight: bold\">9.8535</span> s, mean = <span style=\"color: #008080; text-decoration-color: #008080; font-weight: bold\">9.8535</span> s | Train-step: last =    <span style=\"color: #7f7f7f; text-decoration-color: #7f7f7f\">              </span>\n",
       "<span style=\"color: #7fbfbf; text-decoration-color: #7fbfbf\">                    </span>         <span style=\"color: #008080; text-decoration-color: #008080; font-weight: bold\">0.014927</span> s, mean = <span style=\"color: #008080; text-decoration-color: #008080; font-weight: bold\">0.021085</span> s | #steps/epoch =    <span style=\"color: #7f7f7f; text-decoration-color: #7f7f7f\">              </span>\n",
       "<span style=\"color: #7fbfbf; text-decoration-color: #7fbfbf\">                    </span>         <span style=\"color: #008080; text-decoration-color: #008080; font-weight: bold\">469</span>                                               <span style=\"color: #7f7f7f; text-decoration-color: #7f7f7f\">              </span>\n",
       "</pre>\n"
      ],
      "text/plain": [
       "\u001b[2;36m                   \u001b[0m\u001b[2;36m \u001b[0m\u001b[34mINFO    \u001b[0m colossalai - colossalai - \u001b[1;36m2022\u001b[0m-\u001b[1;36m03\u001b[0m-\u001b[1;36m29\u001b[0m \u001b[1;92m03:08:12\u001b[0m,\u001b[1;36m257\u001b[0m \u001b]8;id=841176;file:///home/fiona/anaconda3/envs/pytorch/lib/python3.9/site-packages/colossalai/logging/logging.py\u001b\\\u001b[2mlogging.py\u001b[0m\u001b]8;;\u001b\\\u001b[2m:\u001b[0m\u001b]8;id=95126;file:///home/fiona/anaconda3/envs/pytorch/lib/python3.9/site-packages/colossalai/logging/logging.py#105\u001b\\\u001b[2m105\u001b[0m\u001b]8;;\u001b\\\n",
       "\u001b[2;36m                    \u001b[0m         INFO: \u001b[1m[\u001b[0mEpoch \u001b[1;36m5\u001b[0m \u001b[35m/\u001b[0m Train\u001b[1m]\u001b[0m: Train-epoch: last =      \u001b[2m              \u001b[0m\n",
       "\u001b[2;36m                    \u001b[0m         \u001b[1;36m9.8535\u001b[0m s, mean = \u001b[1;36m9.8535\u001b[0m s | Train-step: last =    \u001b[2m              \u001b[0m\n",
       "\u001b[2;36m                    \u001b[0m         \u001b[1;36m0.014927\u001b[0m s, mean = \u001b[1;36m0.021085\u001b[0m s | #steps/epoch =    \u001b[2m              \u001b[0m\n",
       "\u001b[2;36m                    \u001b[0m         \u001b[1;36m469\u001b[0m                                               \u001b[2m              \u001b[0m\n"
      ]
     },
     "metadata": {},
     "output_type": "display_data"
    },
    {
     "name": "stderr",
     "output_type": "stream",
     "text": [
      "[Epoch 5 / Test]: 100%|█████████████████████████████████████████████████████████████████| 79/79 [00:01<00:00, 47.23it/s]\n"
     ]
    },
    {
     "data": {
      "text/html": [
       "<pre style=\"white-space:pre;overflow-x:auto;line-height:normal;font-family:Menlo,'DejaVu Sans Mono',consolas,'Courier New',monospace\"><span style=\"color: #7fbfbf; text-decoration-color: #7fbfbf\">[03/29/22 03:08:14] </span><span style=\"color: #000080; text-decoration-color: #000080\">INFO    </span> colossalai - colossalai - <span style=\"color: #008080; text-decoration-color: #008080; font-weight: bold\">2022</span>-<span style=\"color: #008080; text-decoration-color: #008080; font-weight: bold\">03</span>-<span style=\"color: #008080; text-decoration-color: #008080; font-weight: bold\">29</span> <span style=\"color: #00ff00; text-decoration-color: #00ff00; font-weight: bold\">03:08:14</span>,<span style=\"color: #008080; text-decoration-color: #008080; font-weight: bold\">076</span> <a href=\"file:///home/fiona/anaconda3/envs/pytorch/lib/python3.9/site-packages/colossalai/logging/logging.py\" target=\"_blank\"><span style=\"color: #7f7f7f; text-decoration-color: #7f7f7f\">logging.py</span></a><span style=\"color: #7f7f7f; text-decoration-color: #7f7f7f\">:</span><a href=\"file:///home/fiona/anaconda3/envs/pytorch/lib/python3.9/site-packages/colossalai/logging/logging.py#105\" target=\"_blank\"><span style=\"color: #7f7f7f; text-decoration-color: #7f7f7f\">105</span></a>\n",
       "<span style=\"color: #7fbfbf; text-decoration-color: #7fbfbf\">                    </span>         INFO: <span style=\"font-weight: bold\">[</span>Epoch <span style=\"color: #008080; text-decoration-color: #008080; font-weight: bold\">5</span> <span style=\"color: #800080; text-decoration-color: #800080\">/</span> Test<span style=\"font-weight: bold\">]</span>: Loss = nan                <span style=\"color: #7f7f7f; text-decoration-color: #7f7f7f\">              </span>\n",
       "</pre>\n"
      ],
      "text/plain": [
       "\u001b[2;36m[03/29/22 03:08:14]\u001b[0m\u001b[2;36m \u001b[0m\u001b[34mINFO    \u001b[0m colossalai - colossalai - \u001b[1;36m2022\u001b[0m-\u001b[1;36m03\u001b[0m-\u001b[1;36m29\u001b[0m \u001b[1;92m03:08:14\u001b[0m,\u001b[1;36m076\u001b[0m \u001b]8;id=256981;file:///home/fiona/anaconda3/envs/pytorch/lib/python3.9/site-packages/colossalai/logging/logging.py\u001b\\\u001b[2mlogging.py\u001b[0m\u001b]8;;\u001b\\\u001b[2m:\u001b[0m\u001b]8;id=613066;file:///home/fiona/anaconda3/envs/pytorch/lib/python3.9/site-packages/colossalai/logging/logging.py#105\u001b\\\u001b[2m105\u001b[0m\u001b]8;;\u001b\\\n",
       "\u001b[2;36m                    \u001b[0m         INFO: \u001b[1m[\u001b[0mEpoch \u001b[1;36m5\u001b[0m \u001b[35m/\u001b[0m Test\u001b[1m]\u001b[0m: Loss = nan                \u001b[2m              \u001b[0m\n"
      ]
     },
     "metadata": {},
     "output_type": "display_data"
    },
    {
     "data": {
      "text/html": [
       "<pre style=\"white-space:pre;overflow-x:auto;line-height:normal;font-family:Menlo,'DejaVu Sans Mono',consolas,'Courier New',monospace\"><span style=\"color: #7fbfbf; text-decoration-color: #7fbfbf\">                    </span><span style=\"color: #000080; text-decoration-color: #000080\">INFO    </span> colossalai - colossalai - <span style=\"color: #008080; text-decoration-color: #008080; font-weight: bold\">2022</span>-<span style=\"color: #008080; text-decoration-color: #008080; font-weight: bold\">03</span>-<span style=\"color: #008080; text-decoration-color: #008080; font-weight: bold\">29</span> <span style=\"color: #00ff00; text-decoration-color: #00ff00; font-weight: bold\">03:08:14</span>,<span style=\"color: #008080; text-decoration-color: #008080; font-weight: bold\">082</span> <a href=\"file:///home/fiona/anaconda3/envs/pytorch/lib/python3.9/site-packages/colossalai/logging/logging.py\" target=\"_blank\"><span style=\"color: #7f7f7f; text-decoration-color: #7f7f7f\">logging.py</span></a><span style=\"color: #7f7f7f; text-decoration-color: #7f7f7f\">:</span><a href=\"file:///home/fiona/anaconda3/envs/pytorch/lib/python3.9/site-packages/colossalai/logging/logging.py#105\" target=\"_blank\"><span style=\"color: #7f7f7f; text-decoration-color: #7f7f7f\">105</span></a>\n",
       "<span style=\"color: #7fbfbf; text-decoration-color: #7fbfbf\">                    </span>         INFO: <span style=\"font-weight: bold\">[</span>Epoch <span style=\"color: #008080; text-decoration-color: #008080; font-weight: bold\">5</span> <span style=\"color: #800080; text-decoration-color: #800080\">/</span> Test<span style=\"font-weight: bold\">]</span>: Test-epoch: last = <span style=\"color: #008080; text-decoration-color: #008080; font-weight: bold\">1.6726</span> <span style=\"color: #7f7f7f; text-decoration-color: #7f7f7f\">              </span>\n",
       "<span style=\"color: #7fbfbf; text-decoration-color: #7fbfbf\">                    </span>         s, mean = <span style=\"color: #008080; text-decoration-color: #008080; font-weight: bold\">1.6726</span> s | Test-step: last = <span style=\"color: #008080; text-decoration-color: #008080; font-weight: bold\">0.0032384</span>  <span style=\"color: #7f7f7f; text-decoration-color: #7f7f7f\">              </span>\n",
       "<span style=\"color: #7fbfbf; text-decoration-color: #7fbfbf\">                    </span>         s, mean = <span style=\"color: #008080; text-decoration-color: #008080; font-weight: bold\">0.020963</span> s                              <span style=\"color: #7f7f7f; text-decoration-color: #7f7f7f\">              </span>\n",
       "</pre>\n"
      ],
      "text/plain": [
       "\u001b[2;36m                   \u001b[0m\u001b[2;36m \u001b[0m\u001b[34mINFO    \u001b[0m colossalai - colossalai - \u001b[1;36m2022\u001b[0m-\u001b[1;36m03\u001b[0m-\u001b[1;36m29\u001b[0m \u001b[1;92m03:08:14\u001b[0m,\u001b[1;36m082\u001b[0m \u001b]8;id=104272;file:///home/fiona/anaconda3/envs/pytorch/lib/python3.9/site-packages/colossalai/logging/logging.py\u001b\\\u001b[2mlogging.py\u001b[0m\u001b]8;;\u001b\\\u001b[2m:\u001b[0m\u001b]8;id=246749;file:///home/fiona/anaconda3/envs/pytorch/lib/python3.9/site-packages/colossalai/logging/logging.py#105\u001b\\\u001b[2m105\u001b[0m\u001b]8;;\u001b\\\n",
       "\u001b[2;36m                    \u001b[0m         INFO: \u001b[1m[\u001b[0mEpoch \u001b[1;36m5\u001b[0m \u001b[35m/\u001b[0m Test\u001b[1m]\u001b[0m: Test-epoch: last = \u001b[1;36m1.6726\u001b[0m \u001b[2m              \u001b[0m\n",
       "\u001b[2;36m                    \u001b[0m         s, mean = \u001b[1;36m1.6726\u001b[0m s | Test-step: last = \u001b[1;36m0.0032384\u001b[0m  \u001b[2m              \u001b[0m\n",
       "\u001b[2;36m                    \u001b[0m         s, mean = \u001b[1;36m0.020963\u001b[0m s                              \u001b[2m              \u001b[0m\n"
      ]
     },
     "metadata": {},
     "output_type": "display_data"
    },
    {
     "data": {
      "text/html": [
       "<pre style=\"white-space:pre;overflow-x:auto;line-height:normal;font-family:Menlo,'DejaVu Sans Mono',consolas,'Courier New',monospace\"><span style=\"color: #7fbfbf; text-decoration-color: #7fbfbf\">                    </span><span style=\"color: #000080; text-decoration-color: #000080\">INFO    </span> colossalai - colossalai - <span style=\"color: #008080; text-decoration-color: #008080; font-weight: bold\">2022</span>-<span style=\"color: #008080; text-decoration-color: #008080; font-weight: bold\">03</span>-<span style=\"color: #008080; text-decoration-color: #008080; font-weight: bold\">29</span> <span style=\"color: #00ff00; text-decoration-color: #00ff00; font-weight: bold\">03:08:14</span>,<span style=\"color: #008080; text-decoration-color: #008080; font-weight: bold\">088</span> <a href=\"file:///home/fiona/anaconda3/envs/pytorch/lib/python3.9/site-packages/colossalai/logging/logging.py\" target=\"_blank\"><span style=\"color: #7f7f7f; text-decoration-color: #7f7f7f\">logging.py</span></a><span style=\"color: #7f7f7f; text-decoration-color: #7f7f7f\">:</span><a href=\"file:///home/fiona/anaconda3/envs/pytorch/lib/python3.9/site-packages/colossalai/logging/logging.py#105\" target=\"_blank\"><span style=\"color: #7f7f7f; text-decoration-color: #7f7f7f\">105</span></a>\n",
       "<span style=\"color: #7fbfbf; text-decoration-color: #7fbfbf\">                    </span>         INFO: <span style=\"font-weight: bold\">[</span>Epoch <span style=\"color: #008080; text-decoration-color: #008080; font-weight: bold\">5</span> <span style=\"color: #800080; text-decoration-color: #800080\">/</span> Test<span style=\"font-weight: bold\">]</span>: GPU: allocated <span style=\"color: #008080; text-decoration-color: #008080; font-weight: bold\">11.25</span> MB,  <span style=\"color: #7f7f7f; text-decoration-color: #7f7f7f\">              </span>\n",
       "<span style=\"color: #7fbfbf; text-decoration-color: #7fbfbf\">                    </span>         max allocated <span style=\"color: #008080; text-decoration-color: #008080; font-weight: bold\">16.35</span> MB, cached: <span style=\"color: #008080; text-decoration-color: #008080; font-weight: bold\">76.0</span> MB, max      <span style=\"color: #7f7f7f; text-decoration-color: #7f7f7f\">              </span>\n",
       "<span style=\"color: #7fbfbf; text-decoration-color: #7fbfbf\">                    </span>         cached: <span style=\"color: #008080; text-decoration-color: #008080; font-weight: bold\">76.0</span> MB                                   <span style=\"color: #7f7f7f; text-decoration-color: #7f7f7f\">              </span>\n",
       "</pre>\n"
      ],
      "text/plain": [
       "\u001b[2;36m                   \u001b[0m\u001b[2;36m \u001b[0m\u001b[34mINFO    \u001b[0m colossalai - colossalai - \u001b[1;36m2022\u001b[0m-\u001b[1;36m03\u001b[0m-\u001b[1;36m29\u001b[0m \u001b[1;92m03:08:14\u001b[0m,\u001b[1;36m088\u001b[0m \u001b]8;id=218303;file:///home/fiona/anaconda3/envs/pytorch/lib/python3.9/site-packages/colossalai/logging/logging.py\u001b\\\u001b[2mlogging.py\u001b[0m\u001b]8;;\u001b\\\u001b[2m:\u001b[0m\u001b]8;id=342744;file:///home/fiona/anaconda3/envs/pytorch/lib/python3.9/site-packages/colossalai/logging/logging.py#105\u001b\\\u001b[2m105\u001b[0m\u001b]8;;\u001b\\\n",
       "\u001b[2;36m                    \u001b[0m         INFO: \u001b[1m[\u001b[0mEpoch \u001b[1;36m5\u001b[0m \u001b[35m/\u001b[0m Test\u001b[1m]\u001b[0m: GPU: allocated \u001b[1;36m11.25\u001b[0m MB,  \u001b[2m              \u001b[0m\n",
       "\u001b[2;36m                    \u001b[0m         max allocated \u001b[1;36m16.35\u001b[0m MB, cached: \u001b[1;36m76.0\u001b[0m MB, max      \u001b[2m              \u001b[0m\n",
       "\u001b[2;36m                    \u001b[0m         cached: \u001b[1;36m76.0\u001b[0m MB                                   \u001b[2m              \u001b[0m\n"
      ]
     },
     "metadata": {},
     "output_type": "display_data"
    },
    {
     "name": "stderr",
     "output_type": "stream",
     "text": [
      "[Epoch 6 / Train]: 100%|██████████████████████████████████████████████████████████████| 469/469 [00:10<00:00, 46.43it/s]\n"
     ]
    },
    {
     "data": {
      "text/html": [
       "<pre style=\"white-space:pre;overflow-x:auto;line-height:normal;font-family:Menlo,'DejaVu Sans Mono',consolas,'Courier New',monospace\"><span style=\"color: #7fbfbf; text-decoration-color: #7fbfbf\">[03/29/22 03:08:24] </span><span style=\"color: #000080; text-decoration-color: #000080\">INFO    </span> colossalai - colossalai - <span style=\"color: #008080; text-decoration-color: #008080; font-weight: bold\">2022</span>-<span style=\"color: #008080; text-decoration-color: #008080; font-weight: bold\">03</span>-<span style=\"color: #008080; text-decoration-color: #008080; font-weight: bold\">29</span> <span style=\"color: #00ff00; text-decoration-color: #00ff00; font-weight: bold\">03:08:24</span>,<span style=\"color: #008080; text-decoration-color: #008080; font-weight: bold\">331</span> <a href=\"file:///home/fiona/anaconda3/envs/pytorch/lib/python3.9/site-packages/colossalai/logging/logging.py\" target=\"_blank\"><span style=\"color: #7f7f7f; text-decoration-color: #7f7f7f\">logging.py</span></a><span style=\"color: #7f7f7f; text-decoration-color: #7f7f7f\">:</span><a href=\"file:///home/fiona/anaconda3/envs/pytorch/lib/python3.9/site-packages/colossalai/logging/logging.py#105\" target=\"_blank\"><span style=\"color: #7f7f7f; text-decoration-color: #7f7f7f\">105</span></a>\n",
       "<span style=\"color: #7fbfbf; text-decoration-color: #7fbfbf\">                    </span>         INFO: <span style=\"font-weight: bold\">[</span>Epoch <span style=\"color: #008080; text-decoration-color: #008080; font-weight: bold\">6</span> <span style=\"color: #800080; text-decoration-color: #800080\">/</span> Train<span style=\"font-weight: bold\">]</span>: Loss = nan | LR =        <span style=\"color: #7f7f7f; text-decoration-color: #7f7f7f\">              </span>\n",
       "<span style=\"color: #7fbfbf; text-decoration-color: #7fbfbf\">                    </span>         <span style=\"color: #008080; text-decoration-color: #008080; font-weight: bold\">0.0038828</span>                                         <span style=\"color: #7f7f7f; text-decoration-color: #7f7f7f\">              </span>\n",
       "</pre>\n"
      ],
      "text/plain": [
       "\u001b[2;36m[03/29/22 03:08:24]\u001b[0m\u001b[2;36m \u001b[0m\u001b[34mINFO    \u001b[0m colossalai - colossalai - \u001b[1;36m2022\u001b[0m-\u001b[1;36m03\u001b[0m-\u001b[1;36m29\u001b[0m \u001b[1;92m03:08:24\u001b[0m,\u001b[1;36m331\u001b[0m \u001b]8;id=906813;file:///home/fiona/anaconda3/envs/pytorch/lib/python3.9/site-packages/colossalai/logging/logging.py\u001b\\\u001b[2mlogging.py\u001b[0m\u001b]8;;\u001b\\\u001b[2m:\u001b[0m\u001b]8;id=58871;file:///home/fiona/anaconda3/envs/pytorch/lib/python3.9/site-packages/colossalai/logging/logging.py#105\u001b\\\u001b[2m105\u001b[0m\u001b]8;;\u001b\\\n",
       "\u001b[2;36m                    \u001b[0m         INFO: \u001b[1m[\u001b[0mEpoch \u001b[1;36m6\u001b[0m \u001b[35m/\u001b[0m Train\u001b[1m]\u001b[0m: Loss = nan | LR =        \u001b[2m              \u001b[0m\n",
       "\u001b[2;36m                    \u001b[0m         \u001b[1;36m0.0038828\u001b[0m                                         \u001b[2m              \u001b[0m\n"
      ]
     },
     "metadata": {},
     "output_type": "display_data"
    },
    {
     "data": {
      "text/html": [
       "<pre style=\"white-space:pre;overflow-x:auto;line-height:normal;font-family:Menlo,'DejaVu Sans Mono',consolas,'Courier New',monospace\"><span style=\"color: #7fbfbf; text-decoration-color: #7fbfbf\">                    </span><span style=\"color: #000080; text-decoration-color: #000080\">INFO    </span> colossalai - colossalai - <span style=\"color: #008080; text-decoration-color: #008080; font-weight: bold\">2022</span>-<span style=\"color: #008080; text-decoration-color: #008080; font-weight: bold\">03</span>-<span style=\"color: #008080; text-decoration-color: #008080; font-weight: bold\">29</span> <span style=\"color: #00ff00; text-decoration-color: #00ff00; font-weight: bold\">03:08:24</span>,<span style=\"color: #008080; text-decoration-color: #008080; font-weight: bold\">338</span> <a href=\"file:///home/fiona/anaconda3/envs/pytorch/lib/python3.9/site-packages/colossalai/logging/logging.py\" target=\"_blank\"><span style=\"color: #7f7f7f; text-decoration-color: #7f7f7f\">logging.py</span></a><span style=\"color: #7f7f7f; text-decoration-color: #7f7f7f\">:</span><a href=\"file:///home/fiona/anaconda3/envs/pytorch/lib/python3.9/site-packages/colossalai/logging/logging.py#105\" target=\"_blank\"><span style=\"color: #7f7f7f; text-decoration-color: #7f7f7f\">105</span></a>\n",
       "<span style=\"color: #7fbfbf; text-decoration-color: #7fbfbf\">                    </span>         INFO: <span style=\"font-weight: bold\">[</span>Epoch <span style=\"color: #008080; text-decoration-color: #008080; font-weight: bold\">6</span> <span style=\"color: #800080; text-decoration-color: #800080\">/</span> Train<span style=\"font-weight: bold\">]</span>: GPU: allocated <span style=\"color: #008080; text-decoration-color: #008080; font-weight: bold\">15.24</span> MB, <span style=\"color: #7f7f7f; text-decoration-color: #7f7f7f\">              </span>\n",
       "<span style=\"color: #7fbfbf; text-decoration-color: #7fbfbf\">                    </span>         max allocated <span style=\"color: #008080; text-decoration-color: #008080; font-weight: bold\">61.84</span> MB, cached: <span style=\"color: #008080; text-decoration-color: #008080; font-weight: bold\">76.0</span> MB, max      <span style=\"color: #7f7f7f; text-decoration-color: #7f7f7f\">              </span>\n",
       "<span style=\"color: #7fbfbf; text-decoration-color: #7fbfbf\">                    </span>         cached: <span style=\"color: #008080; text-decoration-color: #008080; font-weight: bold\">76.0</span> MB                                   <span style=\"color: #7f7f7f; text-decoration-color: #7f7f7f\">              </span>\n",
       "</pre>\n"
      ],
      "text/plain": [
       "\u001b[2;36m                   \u001b[0m\u001b[2;36m \u001b[0m\u001b[34mINFO    \u001b[0m colossalai - colossalai - \u001b[1;36m2022\u001b[0m-\u001b[1;36m03\u001b[0m-\u001b[1;36m29\u001b[0m \u001b[1;92m03:08:24\u001b[0m,\u001b[1;36m338\u001b[0m \u001b]8;id=821150;file:///home/fiona/anaconda3/envs/pytorch/lib/python3.9/site-packages/colossalai/logging/logging.py\u001b\\\u001b[2mlogging.py\u001b[0m\u001b]8;;\u001b\\\u001b[2m:\u001b[0m\u001b]8;id=450400;file:///home/fiona/anaconda3/envs/pytorch/lib/python3.9/site-packages/colossalai/logging/logging.py#105\u001b\\\u001b[2m105\u001b[0m\u001b]8;;\u001b\\\n",
       "\u001b[2;36m                    \u001b[0m         INFO: \u001b[1m[\u001b[0mEpoch \u001b[1;36m6\u001b[0m \u001b[35m/\u001b[0m Train\u001b[1m]\u001b[0m: GPU: allocated \u001b[1;36m15.24\u001b[0m MB, \u001b[2m              \u001b[0m\n",
       "\u001b[2;36m                    \u001b[0m         max allocated \u001b[1;36m61.84\u001b[0m MB, cached: \u001b[1;36m76.0\u001b[0m MB, max      \u001b[2m              \u001b[0m\n",
       "\u001b[2;36m                    \u001b[0m         cached: \u001b[1;36m76.0\u001b[0m MB                                   \u001b[2m              \u001b[0m\n"
      ]
     },
     "metadata": {},
     "output_type": "display_data"
    },
    {
     "data": {
      "text/html": [
       "<pre style=\"white-space:pre;overflow-x:auto;line-height:normal;font-family:Menlo,'DejaVu Sans Mono',consolas,'Courier New',monospace\"><span style=\"color: #7fbfbf; text-decoration-color: #7fbfbf\">                    </span><span style=\"color: #000080; text-decoration-color: #000080\">INFO    </span> colossalai - colossalai - <span style=\"color: #008080; text-decoration-color: #008080; font-weight: bold\">2022</span>-<span style=\"color: #008080; text-decoration-color: #008080; font-weight: bold\">03</span>-<span style=\"color: #008080; text-decoration-color: #008080; font-weight: bold\">29</span> <span style=\"color: #00ff00; text-decoration-color: #00ff00; font-weight: bold\">03:08:24</span>,<span style=\"color: #008080; text-decoration-color: #008080; font-weight: bold\">341</span> <a href=\"file:///home/fiona/anaconda3/envs/pytorch/lib/python3.9/site-packages/colossalai/logging/logging.py\" target=\"_blank\"><span style=\"color: #7f7f7f; text-decoration-color: #7f7f7f\">logging.py</span></a><span style=\"color: #7f7f7f; text-decoration-color: #7f7f7f\">:</span><a href=\"file:///home/fiona/anaconda3/envs/pytorch/lib/python3.9/site-packages/colossalai/logging/logging.py#105\" target=\"_blank\"><span style=\"color: #7f7f7f; text-decoration-color: #7f7f7f\">105</span></a>\n",
       "<span style=\"color: #7fbfbf; text-decoration-color: #7fbfbf\">                    </span>         INFO: <span style=\"font-weight: bold\">[</span>Epoch <span style=\"color: #008080; text-decoration-color: #008080; font-weight: bold\">6</span> <span style=\"color: #800080; text-decoration-color: #800080\">/</span> Train<span style=\"font-weight: bold\">]</span>: Train-epoch: last = <span style=\"color: #008080; text-decoration-color: #008080; font-weight: bold\">10.1</span> <span style=\"color: #7f7f7f; text-decoration-color: #7f7f7f\">              </span>\n",
       "<span style=\"color: #7fbfbf; text-decoration-color: #7fbfbf\">                    </span>         s, mean = <span style=\"color: #008080; text-decoration-color: #008080; font-weight: bold\">10.1</span> s | Train-step: last = <span style=\"color: #008080; text-decoration-color: #008080; font-weight: bold\">0.015388</span> s, <span style=\"color: #7f7f7f; text-decoration-color: #7f7f7f\">              </span>\n",
       "<span style=\"color: #7fbfbf; text-decoration-color: #7fbfbf\">                    </span>         mean = <span style=\"color: #008080; text-decoration-color: #008080; font-weight: bold\">0.021085</span> s | #steps/epoch = <span style=\"color: #008080; text-decoration-color: #008080; font-weight: bold\">469</span>            <span style=\"color: #7f7f7f; text-decoration-color: #7f7f7f\">              </span>\n",
       "</pre>\n"
      ],
      "text/plain": [
       "\u001b[2;36m                   \u001b[0m\u001b[2;36m \u001b[0m\u001b[34mINFO    \u001b[0m colossalai - colossalai - \u001b[1;36m2022\u001b[0m-\u001b[1;36m03\u001b[0m-\u001b[1;36m29\u001b[0m \u001b[1;92m03:08:24\u001b[0m,\u001b[1;36m341\u001b[0m \u001b]8;id=156227;file:///home/fiona/anaconda3/envs/pytorch/lib/python3.9/site-packages/colossalai/logging/logging.py\u001b\\\u001b[2mlogging.py\u001b[0m\u001b]8;;\u001b\\\u001b[2m:\u001b[0m\u001b]8;id=639208;file:///home/fiona/anaconda3/envs/pytorch/lib/python3.9/site-packages/colossalai/logging/logging.py#105\u001b\\\u001b[2m105\u001b[0m\u001b]8;;\u001b\\\n",
       "\u001b[2;36m                    \u001b[0m         INFO: \u001b[1m[\u001b[0mEpoch \u001b[1;36m6\u001b[0m \u001b[35m/\u001b[0m Train\u001b[1m]\u001b[0m: Train-epoch: last = \u001b[1;36m10.1\u001b[0m \u001b[2m              \u001b[0m\n",
       "\u001b[2;36m                    \u001b[0m         s, mean = \u001b[1;36m10.1\u001b[0m s | Train-step: last = \u001b[1;36m0.015388\u001b[0m s, \u001b[2m              \u001b[0m\n",
       "\u001b[2;36m                    \u001b[0m         mean = \u001b[1;36m0.021085\u001b[0m s | #steps/epoch = \u001b[1;36m469\u001b[0m            \u001b[2m              \u001b[0m\n"
      ]
     },
     "metadata": {},
     "output_type": "display_data"
    },
    {
     "name": "stderr",
     "output_type": "stream",
     "text": [
      "[Epoch 6 / Test]: 100%|█████████████████████████████████████████████████████████████████| 79/79 [00:01<00:00, 47.26it/s]\n"
     ]
    },
    {
     "data": {
      "text/html": [
       "<pre style=\"white-space:pre;overflow-x:auto;line-height:normal;font-family:Menlo,'DejaVu Sans Mono',consolas,'Courier New',monospace\"><span style=\"color: #7fbfbf; text-decoration-color: #7fbfbf\">[03/29/22 03:08:26] </span><span style=\"color: #000080; text-decoration-color: #000080\">INFO    </span> colossalai - colossalai - <span style=\"color: #008080; text-decoration-color: #008080; font-weight: bold\">2022</span>-<span style=\"color: #008080; text-decoration-color: #008080; font-weight: bold\">03</span>-<span style=\"color: #008080; text-decoration-color: #008080; font-weight: bold\">29</span> <span style=\"color: #00ff00; text-decoration-color: #00ff00; font-weight: bold\">03:08:26</span>,<span style=\"color: #008080; text-decoration-color: #008080; font-weight: bold\">152</span> <a href=\"file:///home/fiona/anaconda3/envs/pytorch/lib/python3.9/site-packages/colossalai/logging/logging.py\" target=\"_blank\"><span style=\"color: #7f7f7f; text-decoration-color: #7f7f7f\">logging.py</span></a><span style=\"color: #7f7f7f; text-decoration-color: #7f7f7f\">:</span><a href=\"file:///home/fiona/anaconda3/envs/pytorch/lib/python3.9/site-packages/colossalai/logging/logging.py#105\" target=\"_blank\"><span style=\"color: #7f7f7f; text-decoration-color: #7f7f7f\">105</span></a>\n",
       "<span style=\"color: #7fbfbf; text-decoration-color: #7fbfbf\">                    </span>         INFO: <span style=\"font-weight: bold\">[</span>Epoch <span style=\"color: #008080; text-decoration-color: #008080; font-weight: bold\">6</span> <span style=\"color: #800080; text-decoration-color: #800080\">/</span> Test<span style=\"font-weight: bold\">]</span>: Loss = nan                <span style=\"color: #7f7f7f; text-decoration-color: #7f7f7f\">              </span>\n",
       "</pre>\n"
      ],
      "text/plain": [
       "\u001b[2;36m[03/29/22 03:08:26]\u001b[0m\u001b[2;36m \u001b[0m\u001b[34mINFO    \u001b[0m colossalai - colossalai - \u001b[1;36m2022\u001b[0m-\u001b[1;36m03\u001b[0m-\u001b[1;36m29\u001b[0m \u001b[1;92m03:08:26\u001b[0m,\u001b[1;36m152\u001b[0m \u001b]8;id=565701;file:///home/fiona/anaconda3/envs/pytorch/lib/python3.9/site-packages/colossalai/logging/logging.py\u001b\\\u001b[2mlogging.py\u001b[0m\u001b]8;;\u001b\\\u001b[2m:\u001b[0m\u001b]8;id=952607;file:///home/fiona/anaconda3/envs/pytorch/lib/python3.9/site-packages/colossalai/logging/logging.py#105\u001b\\\u001b[2m105\u001b[0m\u001b]8;;\u001b\\\n",
       "\u001b[2;36m                    \u001b[0m         INFO: \u001b[1m[\u001b[0mEpoch \u001b[1;36m6\u001b[0m \u001b[35m/\u001b[0m Test\u001b[1m]\u001b[0m: Loss = nan                \u001b[2m              \u001b[0m\n"
      ]
     },
     "metadata": {},
     "output_type": "display_data"
    },
    {
     "data": {
      "text/html": [
       "<pre style=\"white-space:pre;overflow-x:auto;line-height:normal;font-family:Menlo,'DejaVu Sans Mono',consolas,'Courier New',monospace\"><span style=\"color: #7fbfbf; text-decoration-color: #7fbfbf\">                    </span><span style=\"color: #000080; text-decoration-color: #000080\">INFO    </span> colossalai - colossalai - <span style=\"color: #008080; text-decoration-color: #008080; font-weight: bold\">2022</span>-<span style=\"color: #008080; text-decoration-color: #008080; font-weight: bold\">03</span>-<span style=\"color: #008080; text-decoration-color: #008080; font-weight: bold\">29</span> <span style=\"color: #00ff00; text-decoration-color: #00ff00; font-weight: bold\">03:08:26</span>,<span style=\"color: #008080; text-decoration-color: #008080; font-weight: bold\">157</span> <a href=\"file:///home/fiona/anaconda3/envs/pytorch/lib/python3.9/site-packages/colossalai/logging/logging.py\" target=\"_blank\"><span style=\"color: #7f7f7f; text-decoration-color: #7f7f7f\">logging.py</span></a><span style=\"color: #7f7f7f; text-decoration-color: #7f7f7f\">:</span><a href=\"file:///home/fiona/anaconda3/envs/pytorch/lib/python3.9/site-packages/colossalai/logging/logging.py#105\" target=\"_blank\"><span style=\"color: #7f7f7f; text-decoration-color: #7f7f7f\">105</span></a>\n",
       "<span style=\"color: #7fbfbf; text-decoration-color: #7fbfbf\">                    </span>         INFO: <span style=\"font-weight: bold\">[</span>Epoch <span style=\"color: #008080; text-decoration-color: #008080; font-weight: bold\">6</span> <span style=\"color: #800080; text-decoration-color: #800080\">/</span> Test<span style=\"font-weight: bold\">]</span>: Test-epoch: last = <span style=\"color: #008080; text-decoration-color: #008080; font-weight: bold\">1.6714</span> <span style=\"color: #7f7f7f; text-decoration-color: #7f7f7f\">              </span>\n",
       "<span style=\"color: #7fbfbf; text-decoration-color: #7fbfbf\">                    </span>         s, mean = <span style=\"color: #008080; text-decoration-color: #008080; font-weight: bold\">1.6714</span> s | Test-step: last = <span style=\"color: #008080; text-decoration-color: #008080; font-weight: bold\">0.0030706</span>  <span style=\"color: #7f7f7f; text-decoration-color: #7f7f7f\">              </span>\n",
       "<span style=\"color: #7fbfbf; text-decoration-color: #7fbfbf\">                    </span>         s, mean = <span style=\"color: #008080; text-decoration-color: #008080; font-weight: bold\">0.020923</span> s                              <span style=\"color: #7f7f7f; text-decoration-color: #7f7f7f\">              </span>\n",
       "</pre>\n"
      ],
      "text/plain": [
       "\u001b[2;36m                   \u001b[0m\u001b[2;36m \u001b[0m\u001b[34mINFO    \u001b[0m colossalai - colossalai - \u001b[1;36m2022\u001b[0m-\u001b[1;36m03\u001b[0m-\u001b[1;36m29\u001b[0m \u001b[1;92m03:08:26\u001b[0m,\u001b[1;36m157\u001b[0m \u001b]8;id=9218;file:///home/fiona/anaconda3/envs/pytorch/lib/python3.9/site-packages/colossalai/logging/logging.py\u001b\\\u001b[2mlogging.py\u001b[0m\u001b]8;;\u001b\\\u001b[2m:\u001b[0m\u001b]8;id=402993;file:///home/fiona/anaconda3/envs/pytorch/lib/python3.9/site-packages/colossalai/logging/logging.py#105\u001b\\\u001b[2m105\u001b[0m\u001b]8;;\u001b\\\n",
       "\u001b[2;36m                    \u001b[0m         INFO: \u001b[1m[\u001b[0mEpoch \u001b[1;36m6\u001b[0m \u001b[35m/\u001b[0m Test\u001b[1m]\u001b[0m: Test-epoch: last = \u001b[1;36m1.6714\u001b[0m \u001b[2m              \u001b[0m\n",
       "\u001b[2;36m                    \u001b[0m         s, mean = \u001b[1;36m1.6714\u001b[0m s | Test-step: last = \u001b[1;36m0.0030706\u001b[0m  \u001b[2m              \u001b[0m\n",
       "\u001b[2;36m                    \u001b[0m         s, mean = \u001b[1;36m0.020923\u001b[0m s                              \u001b[2m              \u001b[0m\n"
      ]
     },
     "metadata": {},
     "output_type": "display_data"
    },
    {
     "data": {
      "text/html": [
       "<pre style=\"white-space:pre;overflow-x:auto;line-height:normal;font-family:Menlo,'DejaVu Sans Mono',consolas,'Courier New',monospace\"><span style=\"color: #7fbfbf; text-decoration-color: #7fbfbf\">                    </span><span style=\"color: #000080; text-decoration-color: #000080\">INFO    </span> colossalai - colossalai - <span style=\"color: #008080; text-decoration-color: #008080; font-weight: bold\">2022</span>-<span style=\"color: #008080; text-decoration-color: #008080; font-weight: bold\">03</span>-<span style=\"color: #008080; text-decoration-color: #008080; font-weight: bold\">29</span> <span style=\"color: #00ff00; text-decoration-color: #00ff00; font-weight: bold\">03:08:26</span>,<span style=\"color: #008080; text-decoration-color: #008080; font-weight: bold\">163</span> <a href=\"file:///home/fiona/anaconda3/envs/pytorch/lib/python3.9/site-packages/colossalai/logging/logging.py\" target=\"_blank\"><span style=\"color: #7f7f7f; text-decoration-color: #7f7f7f\">logging.py</span></a><span style=\"color: #7f7f7f; text-decoration-color: #7f7f7f\">:</span><a href=\"file:///home/fiona/anaconda3/envs/pytorch/lib/python3.9/site-packages/colossalai/logging/logging.py#105\" target=\"_blank\"><span style=\"color: #7f7f7f; text-decoration-color: #7f7f7f\">105</span></a>\n",
       "<span style=\"color: #7fbfbf; text-decoration-color: #7fbfbf\">                    </span>         INFO: <span style=\"font-weight: bold\">[</span>Epoch <span style=\"color: #008080; text-decoration-color: #008080; font-weight: bold\">6</span> <span style=\"color: #800080; text-decoration-color: #800080\">/</span> Test<span style=\"font-weight: bold\">]</span>: GPU: allocated <span style=\"color: #008080; text-decoration-color: #008080; font-weight: bold\">11.25</span> MB,  <span style=\"color: #7f7f7f; text-decoration-color: #7f7f7f\">              </span>\n",
       "<span style=\"color: #7fbfbf; text-decoration-color: #7fbfbf\">                    </span>         max allocated <span style=\"color: #008080; text-decoration-color: #008080; font-weight: bold\">16.35</span> MB, cached: <span style=\"color: #008080; text-decoration-color: #008080; font-weight: bold\">76.0</span> MB, max      <span style=\"color: #7f7f7f; text-decoration-color: #7f7f7f\">              </span>\n",
       "<span style=\"color: #7fbfbf; text-decoration-color: #7fbfbf\">                    </span>         cached: <span style=\"color: #008080; text-decoration-color: #008080; font-weight: bold\">76.0</span> MB                                   <span style=\"color: #7f7f7f; text-decoration-color: #7f7f7f\">              </span>\n",
       "</pre>\n"
      ],
      "text/plain": [
       "\u001b[2;36m                   \u001b[0m\u001b[2;36m \u001b[0m\u001b[34mINFO    \u001b[0m colossalai - colossalai - \u001b[1;36m2022\u001b[0m-\u001b[1;36m03\u001b[0m-\u001b[1;36m29\u001b[0m \u001b[1;92m03:08:26\u001b[0m,\u001b[1;36m163\u001b[0m \u001b]8;id=878581;file:///home/fiona/anaconda3/envs/pytorch/lib/python3.9/site-packages/colossalai/logging/logging.py\u001b\\\u001b[2mlogging.py\u001b[0m\u001b]8;;\u001b\\\u001b[2m:\u001b[0m\u001b]8;id=289506;file:///home/fiona/anaconda3/envs/pytorch/lib/python3.9/site-packages/colossalai/logging/logging.py#105\u001b\\\u001b[2m105\u001b[0m\u001b]8;;\u001b\\\n",
       "\u001b[2;36m                    \u001b[0m         INFO: \u001b[1m[\u001b[0mEpoch \u001b[1;36m6\u001b[0m \u001b[35m/\u001b[0m Test\u001b[1m]\u001b[0m: GPU: allocated \u001b[1;36m11.25\u001b[0m MB,  \u001b[2m              \u001b[0m\n",
       "\u001b[2;36m                    \u001b[0m         max allocated \u001b[1;36m16.35\u001b[0m MB, cached: \u001b[1;36m76.0\u001b[0m MB, max      \u001b[2m              \u001b[0m\n",
       "\u001b[2;36m                    \u001b[0m         cached: \u001b[1;36m76.0\u001b[0m MB                                   \u001b[2m              \u001b[0m\n"
      ]
     },
     "metadata": {},
     "output_type": "display_data"
    },
    {
     "name": "stderr",
     "output_type": "stream",
     "text": [
      "[Epoch 7 / Train]: 100%|██████████████████████████████████████████████████████████████| 469/469 [00:09<00:00, 47.23it/s]\n"
     ]
    },
    {
     "data": {
      "text/html": [
       "<pre style=\"white-space:pre;overflow-x:auto;line-height:normal;font-family:Menlo,'DejaVu Sans Mono',consolas,'Courier New',monospace\"><span style=\"color: #7fbfbf; text-decoration-color: #7fbfbf\">[03/29/22 03:08:36] </span><span style=\"color: #000080; text-decoration-color: #000080\">INFO    </span> colossalai - colossalai - <span style=\"color: #008080; text-decoration-color: #008080; font-weight: bold\">2022</span>-<span style=\"color: #008080; text-decoration-color: #008080; font-weight: bold\">03</span>-<span style=\"color: #008080; text-decoration-color: #008080; font-weight: bold\">29</span> <span style=\"color: #00ff00; text-decoration-color: #00ff00; font-weight: bold\">03:08:36</span>,<span style=\"color: #008080; text-decoration-color: #008080; font-weight: bold\">240</span> <a href=\"file:///home/fiona/anaconda3/envs/pytorch/lib/python3.9/site-packages/colossalai/logging/logging.py\" target=\"_blank\"><span style=\"color: #7f7f7f; text-decoration-color: #7f7f7f\">logging.py</span></a><span style=\"color: #7f7f7f; text-decoration-color: #7f7f7f\">:</span><a href=\"file:///home/fiona/anaconda3/envs/pytorch/lib/python3.9/site-packages/colossalai/logging/logging.py#105\" target=\"_blank\"><span style=\"color: #7f7f7f; text-decoration-color: #7f7f7f\">105</span></a>\n",
       "<span style=\"color: #7fbfbf; text-decoration-color: #7fbfbf\">                    </span>         INFO: <span style=\"font-weight: bold\">[</span>Epoch <span style=\"color: #008080; text-decoration-color: #008080; font-weight: bold\">7</span> <span style=\"color: #800080; text-decoration-color: #800080\">/</span> Train<span style=\"font-weight: bold\">]</span>: Loss = nan | LR =        <span style=\"color: #7f7f7f; text-decoration-color: #7f7f7f\">              </span>\n",
       "<span style=\"color: #7fbfbf; text-decoration-color: #7fbfbf\">                    </span>         <span style=\"color: #008080; text-decoration-color: #008080; font-weight: bold\">0.0018788</span>                                         <span style=\"color: #7f7f7f; text-decoration-color: #7f7f7f\">              </span>\n",
       "</pre>\n"
      ],
      "text/plain": [
       "\u001b[2;36m[03/29/22 03:08:36]\u001b[0m\u001b[2;36m \u001b[0m\u001b[34mINFO    \u001b[0m colossalai - colossalai - \u001b[1;36m2022\u001b[0m-\u001b[1;36m03\u001b[0m-\u001b[1;36m29\u001b[0m \u001b[1;92m03:08:36\u001b[0m,\u001b[1;36m240\u001b[0m \u001b]8;id=778980;file:///home/fiona/anaconda3/envs/pytorch/lib/python3.9/site-packages/colossalai/logging/logging.py\u001b\\\u001b[2mlogging.py\u001b[0m\u001b]8;;\u001b\\\u001b[2m:\u001b[0m\u001b]8;id=707465;file:///home/fiona/anaconda3/envs/pytorch/lib/python3.9/site-packages/colossalai/logging/logging.py#105\u001b\\\u001b[2m105\u001b[0m\u001b]8;;\u001b\\\n",
       "\u001b[2;36m                    \u001b[0m         INFO: \u001b[1m[\u001b[0mEpoch \u001b[1;36m7\u001b[0m \u001b[35m/\u001b[0m Train\u001b[1m]\u001b[0m: Loss = nan | LR =        \u001b[2m              \u001b[0m\n",
       "\u001b[2;36m                    \u001b[0m         \u001b[1;36m0.0018788\u001b[0m                                         \u001b[2m              \u001b[0m\n"
      ]
     },
     "metadata": {},
     "output_type": "display_data"
    },
    {
     "data": {
      "text/html": [
       "<pre style=\"white-space:pre;overflow-x:auto;line-height:normal;font-family:Menlo,'DejaVu Sans Mono',consolas,'Courier New',monospace\"><span style=\"color: #7fbfbf; text-decoration-color: #7fbfbf\">                    </span><span style=\"color: #000080; text-decoration-color: #000080\">INFO    </span> colossalai - colossalai - <span style=\"color: #008080; text-decoration-color: #008080; font-weight: bold\">2022</span>-<span style=\"color: #008080; text-decoration-color: #008080; font-weight: bold\">03</span>-<span style=\"color: #008080; text-decoration-color: #008080; font-weight: bold\">29</span> <span style=\"color: #00ff00; text-decoration-color: #00ff00; font-weight: bold\">03:08:36</span>,<span style=\"color: #008080; text-decoration-color: #008080; font-weight: bold\">247</span> <a href=\"file:///home/fiona/anaconda3/envs/pytorch/lib/python3.9/site-packages/colossalai/logging/logging.py\" target=\"_blank\"><span style=\"color: #7f7f7f; text-decoration-color: #7f7f7f\">logging.py</span></a><span style=\"color: #7f7f7f; text-decoration-color: #7f7f7f\">:</span><a href=\"file:///home/fiona/anaconda3/envs/pytorch/lib/python3.9/site-packages/colossalai/logging/logging.py#105\" target=\"_blank\"><span style=\"color: #7f7f7f; text-decoration-color: #7f7f7f\">105</span></a>\n",
       "<span style=\"color: #7fbfbf; text-decoration-color: #7fbfbf\">                    </span>         INFO: <span style=\"font-weight: bold\">[</span>Epoch <span style=\"color: #008080; text-decoration-color: #008080; font-weight: bold\">7</span> <span style=\"color: #800080; text-decoration-color: #800080\">/</span> Train<span style=\"font-weight: bold\">]</span>: GPU: allocated <span style=\"color: #008080; text-decoration-color: #008080; font-weight: bold\">15.24</span> MB, <span style=\"color: #7f7f7f; text-decoration-color: #7f7f7f\">              </span>\n",
       "<span style=\"color: #7fbfbf; text-decoration-color: #7fbfbf\">                    </span>         max allocated <span style=\"color: #008080; text-decoration-color: #008080; font-weight: bold\">61.84</span> MB, cached: <span style=\"color: #008080; text-decoration-color: #008080; font-weight: bold\">76.0</span> MB, max      <span style=\"color: #7f7f7f; text-decoration-color: #7f7f7f\">              </span>\n",
       "<span style=\"color: #7fbfbf; text-decoration-color: #7fbfbf\">                    </span>         cached: <span style=\"color: #008080; text-decoration-color: #008080; font-weight: bold\">76.0</span> MB                                   <span style=\"color: #7f7f7f; text-decoration-color: #7f7f7f\">              </span>\n",
       "</pre>\n"
      ],
      "text/plain": [
       "\u001b[2;36m                   \u001b[0m\u001b[2;36m \u001b[0m\u001b[34mINFO    \u001b[0m colossalai - colossalai - \u001b[1;36m2022\u001b[0m-\u001b[1;36m03\u001b[0m-\u001b[1;36m29\u001b[0m \u001b[1;92m03:08:36\u001b[0m,\u001b[1;36m247\u001b[0m \u001b]8;id=201756;file:///home/fiona/anaconda3/envs/pytorch/lib/python3.9/site-packages/colossalai/logging/logging.py\u001b\\\u001b[2mlogging.py\u001b[0m\u001b]8;;\u001b\\\u001b[2m:\u001b[0m\u001b]8;id=22551;file:///home/fiona/anaconda3/envs/pytorch/lib/python3.9/site-packages/colossalai/logging/logging.py#105\u001b\\\u001b[2m105\u001b[0m\u001b]8;;\u001b\\\n",
       "\u001b[2;36m                    \u001b[0m         INFO: \u001b[1m[\u001b[0mEpoch \u001b[1;36m7\u001b[0m \u001b[35m/\u001b[0m Train\u001b[1m]\u001b[0m: GPU: allocated \u001b[1;36m15.24\u001b[0m MB, \u001b[2m              \u001b[0m\n",
       "\u001b[2;36m                    \u001b[0m         max allocated \u001b[1;36m61.84\u001b[0m MB, cached: \u001b[1;36m76.0\u001b[0m MB, max      \u001b[2m              \u001b[0m\n",
       "\u001b[2;36m                    \u001b[0m         cached: \u001b[1;36m76.0\u001b[0m MB                                   \u001b[2m              \u001b[0m\n"
      ]
     },
     "metadata": {},
     "output_type": "display_data"
    },
    {
     "data": {
      "text/html": [
       "<pre style=\"white-space:pre;overflow-x:auto;line-height:normal;font-family:Menlo,'DejaVu Sans Mono',consolas,'Courier New',monospace\"><span style=\"color: #7fbfbf; text-decoration-color: #7fbfbf\">                    </span><span style=\"color: #000080; text-decoration-color: #000080\">INFO    </span> colossalai - colossalai - <span style=\"color: #008080; text-decoration-color: #008080; font-weight: bold\">2022</span>-<span style=\"color: #008080; text-decoration-color: #008080; font-weight: bold\">03</span>-<span style=\"color: #008080; text-decoration-color: #008080; font-weight: bold\">29</span> <span style=\"color: #00ff00; text-decoration-color: #00ff00; font-weight: bold\">03:08:36</span>,<span style=\"color: #008080; text-decoration-color: #008080; font-weight: bold\">251</span> <a href=\"file:///home/fiona/anaconda3/envs/pytorch/lib/python3.9/site-packages/colossalai/logging/logging.py\" target=\"_blank\"><span style=\"color: #7f7f7f; text-decoration-color: #7f7f7f\">logging.py</span></a><span style=\"color: #7f7f7f; text-decoration-color: #7f7f7f\">:</span><a href=\"file:///home/fiona/anaconda3/envs/pytorch/lib/python3.9/site-packages/colossalai/logging/logging.py#105\" target=\"_blank\"><span style=\"color: #7f7f7f; text-decoration-color: #7f7f7f\">105</span></a>\n",
       "<span style=\"color: #7fbfbf; text-decoration-color: #7fbfbf\">                    </span>         INFO: <span style=\"font-weight: bold\">[</span>Epoch <span style=\"color: #008080; text-decoration-color: #008080; font-weight: bold\">7</span> <span style=\"color: #800080; text-decoration-color: #800080\">/</span> Train<span style=\"font-weight: bold\">]</span>: Train-epoch: last =      <span style=\"color: #7f7f7f; text-decoration-color: #7f7f7f\">              </span>\n",
       "<span style=\"color: #7fbfbf; text-decoration-color: #7fbfbf\">                    </span>         <span style=\"color: #008080; text-decoration-color: #008080; font-weight: bold\">9.9302</span> s, mean = <span style=\"color: #008080; text-decoration-color: #008080; font-weight: bold\">9.9302</span> s | Train-step: last =    <span style=\"color: #7f7f7f; text-decoration-color: #7f7f7f\">              </span>\n",
       "<span style=\"color: #7fbfbf; text-decoration-color: #7fbfbf\">                    </span>         <span style=\"color: #008080; text-decoration-color: #008080; font-weight: bold\">0.014857</span> s, mean = <span style=\"color: #008080; text-decoration-color: #008080; font-weight: bold\">0.021038</span> s | #steps/epoch =    <span style=\"color: #7f7f7f; text-decoration-color: #7f7f7f\">              </span>\n",
       "<span style=\"color: #7fbfbf; text-decoration-color: #7fbfbf\">                    </span>         <span style=\"color: #008080; text-decoration-color: #008080; font-weight: bold\">469</span>                                               <span style=\"color: #7f7f7f; text-decoration-color: #7f7f7f\">              </span>\n",
       "</pre>\n"
      ],
      "text/plain": [
       "\u001b[2;36m                   \u001b[0m\u001b[2;36m \u001b[0m\u001b[34mINFO    \u001b[0m colossalai - colossalai - \u001b[1;36m2022\u001b[0m-\u001b[1;36m03\u001b[0m-\u001b[1;36m29\u001b[0m \u001b[1;92m03:08:36\u001b[0m,\u001b[1;36m251\u001b[0m \u001b]8;id=299966;file:///home/fiona/anaconda3/envs/pytorch/lib/python3.9/site-packages/colossalai/logging/logging.py\u001b\\\u001b[2mlogging.py\u001b[0m\u001b]8;;\u001b\\\u001b[2m:\u001b[0m\u001b]8;id=986988;file:///home/fiona/anaconda3/envs/pytorch/lib/python3.9/site-packages/colossalai/logging/logging.py#105\u001b\\\u001b[2m105\u001b[0m\u001b]8;;\u001b\\\n",
       "\u001b[2;36m                    \u001b[0m         INFO: \u001b[1m[\u001b[0mEpoch \u001b[1;36m7\u001b[0m \u001b[35m/\u001b[0m Train\u001b[1m]\u001b[0m: Train-epoch: last =      \u001b[2m              \u001b[0m\n",
       "\u001b[2;36m                    \u001b[0m         \u001b[1;36m9.9302\u001b[0m s, mean = \u001b[1;36m9.9302\u001b[0m s | Train-step: last =    \u001b[2m              \u001b[0m\n",
       "\u001b[2;36m                    \u001b[0m         \u001b[1;36m0.014857\u001b[0m s, mean = \u001b[1;36m0.021038\u001b[0m s | #steps/epoch =    \u001b[2m              \u001b[0m\n",
       "\u001b[2;36m                    \u001b[0m         \u001b[1;36m469\u001b[0m                                               \u001b[2m              \u001b[0m\n"
      ]
     },
     "metadata": {},
     "output_type": "display_data"
    },
    {
     "name": "stderr",
     "output_type": "stream",
     "text": [
      "[Epoch 7 / Test]: 100%|█████████████████████████████████████████████████████████████████| 79/79 [00:01<00:00, 48.64it/s]\n"
     ]
    },
    {
     "data": {
      "text/html": [
       "<pre style=\"white-space:pre;overflow-x:auto;line-height:normal;font-family:Menlo,'DejaVu Sans Mono',consolas,'Courier New',monospace\"><span style=\"color: #7fbfbf; text-decoration-color: #7fbfbf\">[03/29/22 03:08:38] </span><span style=\"color: #000080; text-decoration-color: #000080\">INFO    </span> colossalai - colossalai - <span style=\"color: #008080; text-decoration-color: #008080; font-weight: bold\">2022</span>-<span style=\"color: #008080; text-decoration-color: #008080; font-weight: bold\">03</span>-<span style=\"color: #008080; text-decoration-color: #008080; font-weight: bold\">29</span> <span style=\"color: #00ff00; text-decoration-color: #00ff00; font-weight: bold\">03:08:38</span>,<span style=\"color: #008080; text-decoration-color: #008080; font-weight: bold\">012</span> <a href=\"file:///home/fiona/anaconda3/envs/pytorch/lib/python3.9/site-packages/colossalai/logging/logging.py\" target=\"_blank\"><span style=\"color: #7f7f7f; text-decoration-color: #7f7f7f\">logging.py</span></a><span style=\"color: #7f7f7f; text-decoration-color: #7f7f7f\">:</span><a href=\"file:///home/fiona/anaconda3/envs/pytorch/lib/python3.9/site-packages/colossalai/logging/logging.py#105\" target=\"_blank\"><span style=\"color: #7f7f7f; text-decoration-color: #7f7f7f\">105</span></a>\n",
       "<span style=\"color: #7fbfbf; text-decoration-color: #7fbfbf\">                    </span>         INFO: <span style=\"font-weight: bold\">[</span>Epoch <span style=\"color: #008080; text-decoration-color: #008080; font-weight: bold\">7</span> <span style=\"color: #800080; text-decoration-color: #800080\">/</span> Test<span style=\"font-weight: bold\">]</span>: Loss = nan                <span style=\"color: #7f7f7f; text-decoration-color: #7f7f7f\">              </span>\n",
       "</pre>\n"
      ],
      "text/plain": [
       "\u001b[2;36m[03/29/22 03:08:38]\u001b[0m\u001b[2;36m \u001b[0m\u001b[34mINFO    \u001b[0m colossalai - colossalai - \u001b[1;36m2022\u001b[0m-\u001b[1;36m03\u001b[0m-\u001b[1;36m29\u001b[0m \u001b[1;92m03:08:38\u001b[0m,\u001b[1;36m012\u001b[0m \u001b]8;id=649041;file:///home/fiona/anaconda3/envs/pytorch/lib/python3.9/site-packages/colossalai/logging/logging.py\u001b\\\u001b[2mlogging.py\u001b[0m\u001b]8;;\u001b\\\u001b[2m:\u001b[0m\u001b]8;id=392020;file:///home/fiona/anaconda3/envs/pytorch/lib/python3.9/site-packages/colossalai/logging/logging.py#105\u001b\\\u001b[2m105\u001b[0m\u001b]8;;\u001b\\\n",
       "\u001b[2;36m                    \u001b[0m         INFO: \u001b[1m[\u001b[0mEpoch \u001b[1;36m7\u001b[0m \u001b[35m/\u001b[0m Test\u001b[1m]\u001b[0m: Loss = nan                \u001b[2m              \u001b[0m\n"
      ]
     },
     "metadata": {},
     "output_type": "display_data"
    },
    {
     "data": {
      "text/html": [
       "<pre style=\"white-space:pre;overflow-x:auto;line-height:normal;font-family:Menlo,'DejaVu Sans Mono',consolas,'Courier New',monospace\"><span style=\"color: #7fbfbf; text-decoration-color: #7fbfbf\">                    </span><span style=\"color: #000080; text-decoration-color: #000080\">INFO    </span> colossalai - colossalai - <span style=\"color: #008080; text-decoration-color: #008080; font-weight: bold\">2022</span>-<span style=\"color: #008080; text-decoration-color: #008080; font-weight: bold\">03</span>-<span style=\"color: #008080; text-decoration-color: #008080; font-weight: bold\">29</span> <span style=\"color: #00ff00; text-decoration-color: #00ff00; font-weight: bold\">03:08:38</span>,<span style=\"color: #008080; text-decoration-color: #008080; font-weight: bold\">017</span> <a href=\"file:///home/fiona/anaconda3/envs/pytorch/lib/python3.9/site-packages/colossalai/logging/logging.py\" target=\"_blank\"><span style=\"color: #7f7f7f; text-decoration-color: #7f7f7f\">logging.py</span></a><span style=\"color: #7f7f7f; text-decoration-color: #7f7f7f\">:</span><a href=\"file:///home/fiona/anaconda3/envs/pytorch/lib/python3.9/site-packages/colossalai/logging/logging.py#105\" target=\"_blank\"><span style=\"color: #7f7f7f; text-decoration-color: #7f7f7f\">105</span></a>\n",
       "<span style=\"color: #7fbfbf; text-decoration-color: #7fbfbf\">                    </span>         INFO: <span style=\"font-weight: bold\">[</span>Epoch <span style=\"color: #008080; text-decoration-color: #008080; font-weight: bold\">7</span> <span style=\"color: #800080; text-decoration-color: #800080\">/</span> Test<span style=\"font-weight: bold\">]</span>: Test-epoch: last = <span style=\"color: #008080; text-decoration-color: #008080; font-weight: bold\">1.6241</span> <span style=\"color: #7f7f7f; text-decoration-color: #7f7f7f\">              </span>\n",
       "<span style=\"color: #7fbfbf; text-decoration-color: #7fbfbf\">                    </span>         s, mean = <span style=\"color: #008080; text-decoration-color: #008080; font-weight: bold\">1.6241</span> s | Test-step: last = <span style=\"color: #008080; text-decoration-color: #008080; font-weight: bold\">0.0031903</span>  <span style=\"color: #7f7f7f; text-decoration-color: #7f7f7f\">              </span>\n",
       "<span style=\"color: #7fbfbf; text-decoration-color: #7fbfbf\">                    </span>         s, mean = <span style=\"color: #008080; text-decoration-color: #008080; font-weight: bold\">0.020349</span> s                              <span style=\"color: #7f7f7f; text-decoration-color: #7f7f7f\">              </span>\n",
       "</pre>\n"
      ],
      "text/plain": [
       "\u001b[2;36m                   \u001b[0m\u001b[2;36m \u001b[0m\u001b[34mINFO    \u001b[0m colossalai - colossalai - \u001b[1;36m2022\u001b[0m-\u001b[1;36m03\u001b[0m-\u001b[1;36m29\u001b[0m \u001b[1;92m03:08:38\u001b[0m,\u001b[1;36m017\u001b[0m \u001b]8;id=72533;file:///home/fiona/anaconda3/envs/pytorch/lib/python3.9/site-packages/colossalai/logging/logging.py\u001b\\\u001b[2mlogging.py\u001b[0m\u001b]8;;\u001b\\\u001b[2m:\u001b[0m\u001b]8;id=45127;file:///home/fiona/anaconda3/envs/pytorch/lib/python3.9/site-packages/colossalai/logging/logging.py#105\u001b\\\u001b[2m105\u001b[0m\u001b]8;;\u001b\\\n",
       "\u001b[2;36m                    \u001b[0m         INFO: \u001b[1m[\u001b[0mEpoch \u001b[1;36m7\u001b[0m \u001b[35m/\u001b[0m Test\u001b[1m]\u001b[0m: Test-epoch: last = \u001b[1;36m1.6241\u001b[0m \u001b[2m              \u001b[0m\n",
       "\u001b[2;36m                    \u001b[0m         s, mean = \u001b[1;36m1.6241\u001b[0m s | Test-step: last = \u001b[1;36m0.0031903\u001b[0m  \u001b[2m              \u001b[0m\n",
       "\u001b[2;36m                    \u001b[0m         s, mean = \u001b[1;36m0.020349\u001b[0m s                              \u001b[2m              \u001b[0m\n"
      ]
     },
     "metadata": {},
     "output_type": "display_data"
    },
    {
     "data": {
      "text/html": [
       "<pre style=\"white-space:pre;overflow-x:auto;line-height:normal;font-family:Menlo,'DejaVu Sans Mono',consolas,'Courier New',monospace\"><span style=\"color: #7fbfbf; text-decoration-color: #7fbfbf\">                    </span><span style=\"color: #000080; text-decoration-color: #000080\">INFO    </span> colossalai - colossalai - <span style=\"color: #008080; text-decoration-color: #008080; font-weight: bold\">2022</span>-<span style=\"color: #008080; text-decoration-color: #008080; font-weight: bold\">03</span>-<span style=\"color: #008080; text-decoration-color: #008080; font-weight: bold\">29</span> <span style=\"color: #00ff00; text-decoration-color: #00ff00; font-weight: bold\">03:08:38</span>,<span style=\"color: #008080; text-decoration-color: #008080; font-weight: bold\">023</span> <a href=\"file:///home/fiona/anaconda3/envs/pytorch/lib/python3.9/site-packages/colossalai/logging/logging.py\" target=\"_blank\"><span style=\"color: #7f7f7f; text-decoration-color: #7f7f7f\">logging.py</span></a><span style=\"color: #7f7f7f; text-decoration-color: #7f7f7f\">:</span><a href=\"file:///home/fiona/anaconda3/envs/pytorch/lib/python3.9/site-packages/colossalai/logging/logging.py#105\" target=\"_blank\"><span style=\"color: #7f7f7f; text-decoration-color: #7f7f7f\">105</span></a>\n",
       "<span style=\"color: #7fbfbf; text-decoration-color: #7fbfbf\">                    </span>         INFO: <span style=\"font-weight: bold\">[</span>Epoch <span style=\"color: #008080; text-decoration-color: #008080; font-weight: bold\">7</span> <span style=\"color: #800080; text-decoration-color: #800080\">/</span> Test<span style=\"font-weight: bold\">]</span>: GPU: allocated <span style=\"color: #008080; text-decoration-color: #008080; font-weight: bold\">11.25</span> MB,  <span style=\"color: #7f7f7f; text-decoration-color: #7f7f7f\">              </span>\n",
       "<span style=\"color: #7fbfbf; text-decoration-color: #7fbfbf\">                    </span>         max allocated <span style=\"color: #008080; text-decoration-color: #008080; font-weight: bold\">16.35</span> MB, cached: <span style=\"color: #008080; text-decoration-color: #008080; font-weight: bold\">76.0</span> MB, max      <span style=\"color: #7f7f7f; text-decoration-color: #7f7f7f\">              </span>\n",
       "<span style=\"color: #7fbfbf; text-decoration-color: #7fbfbf\">                    </span>         cached: <span style=\"color: #008080; text-decoration-color: #008080; font-weight: bold\">76.0</span> MB                                   <span style=\"color: #7f7f7f; text-decoration-color: #7f7f7f\">              </span>\n",
       "</pre>\n"
      ],
      "text/plain": [
       "\u001b[2;36m                   \u001b[0m\u001b[2;36m \u001b[0m\u001b[34mINFO    \u001b[0m colossalai - colossalai - \u001b[1;36m2022\u001b[0m-\u001b[1;36m03\u001b[0m-\u001b[1;36m29\u001b[0m \u001b[1;92m03:08:38\u001b[0m,\u001b[1;36m023\u001b[0m \u001b]8;id=892290;file:///home/fiona/anaconda3/envs/pytorch/lib/python3.9/site-packages/colossalai/logging/logging.py\u001b\\\u001b[2mlogging.py\u001b[0m\u001b]8;;\u001b\\\u001b[2m:\u001b[0m\u001b]8;id=930087;file:///home/fiona/anaconda3/envs/pytorch/lib/python3.9/site-packages/colossalai/logging/logging.py#105\u001b\\\u001b[2m105\u001b[0m\u001b]8;;\u001b\\\n",
       "\u001b[2;36m                    \u001b[0m         INFO: \u001b[1m[\u001b[0mEpoch \u001b[1;36m7\u001b[0m \u001b[35m/\u001b[0m Test\u001b[1m]\u001b[0m: GPU: allocated \u001b[1;36m11.25\u001b[0m MB,  \u001b[2m              \u001b[0m\n",
       "\u001b[2;36m                    \u001b[0m         max allocated \u001b[1;36m16.35\u001b[0m MB, cached: \u001b[1;36m76.0\u001b[0m MB, max      \u001b[2m              \u001b[0m\n",
       "\u001b[2;36m                    \u001b[0m         cached: \u001b[1;36m76.0\u001b[0m MB                                   \u001b[2m              \u001b[0m\n"
      ]
     },
     "metadata": {},
     "output_type": "display_data"
    },
    {
     "name": "stderr",
     "output_type": "stream",
     "text": [
      "[Epoch 8 / Train]: 100%|██████████████████████████████████████████████████████████████| 469/469 [00:10<00:00, 44.54it/s]\n"
     ]
    },
    {
     "data": {
      "text/html": [
       "<pre style=\"white-space:pre;overflow-x:auto;line-height:normal;font-family:Menlo,'DejaVu Sans Mono',consolas,'Courier New',monospace\"><span style=\"color: #7fbfbf; text-decoration-color: #7fbfbf\">[03/29/22 03:08:48] </span><span style=\"color: #000080; text-decoration-color: #000080\">INFO    </span> colossalai - colossalai - <span style=\"color: #008080; text-decoration-color: #008080; font-weight: bold\">2022</span>-<span style=\"color: #008080; text-decoration-color: #008080; font-weight: bold\">03</span>-<span style=\"color: #008080; text-decoration-color: #008080; font-weight: bold\">29</span> <span style=\"color: #00ff00; text-decoration-color: #00ff00; font-weight: bold\">03:08:48</span>,<span style=\"color: #008080; text-decoration-color: #008080; font-weight: bold\">707</span> <a href=\"file:///home/fiona/anaconda3/envs/pytorch/lib/python3.9/site-packages/colossalai/logging/logging.py\" target=\"_blank\"><span style=\"color: #7f7f7f; text-decoration-color: #7f7f7f\">logging.py</span></a><span style=\"color: #7f7f7f; text-decoration-color: #7f7f7f\">:</span><a href=\"file:///home/fiona/anaconda3/envs/pytorch/lib/python3.9/site-packages/colossalai/logging/logging.py#105\" target=\"_blank\"><span style=\"color: #7f7f7f; text-decoration-color: #7f7f7f\">105</span></a>\n",
       "<span style=\"color: #7fbfbf; text-decoration-color: #7fbfbf\">                    </span>         INFO: <span style=\"font-weight: bold\">[</span>Epoch <span style=\"color: #008080; text-decoration-color: #008080; font-weight: bold\">8</span> <span style=\"color: #800080; text-decoration-color: #800080\">/</span> Train<span style=\"font-weight: bold\">]</span>: Loss = nan | LR =        <span style=\"color: #7f7f7f; text-decoration-color: #7f7f7f\">              </span>\n",
       "<span style=\"color: #7fbfbf; text-decoration-color: #7fbfbf\">                    </span>         <span style=\"color: #008080; text-decoration-color: #008080; font-weight: bold\">0.00049312</span>                                        <span style=\"color: #7f7f7f; text-decoration-color: #7f7f7f\">              </span>\n",
       "</pre>\n"
      ],
      "text/plain": [
       "\u001b[2;36m[03/29/22 03:08:48]\u001b[0m\u001b[2;36m \u001b[0m\u001b[34mINFO    \u001b[0m colossalai - colossalai - \u001b[1;36m2022\u001b[0m-\u001b[1;36m03\u001b[0m-\u001b[1;36m29\u001b[0m \u001b[1;92m03:08:48\u001b[0m,\u001b[1;36m707\u001b[0m \u001b]8;id=937891;file:///home/fiona/anaconda3/envs/pytorch/lib/python3.9/site-packages/colossalai/logging/logging.py\u001b\\\u001b[2mlogging.py\u001b[0m\u001b]8;;\u001b\\\u001b[2m:\u001b[0m\u001b]8;id=53179;file:///home/fiona/anaconda3/envs/pytorch/lib/python3.9/site-packages/colossalai/logging/logging.py#105\u001b\\\u001b[2m105\u001b[0m\u001b]8;;\u001b\\\n",
       "\u001b[2;36m                    \u001b[0m         INFO: \u001b[1m[\u001b[0mEpoch \u001b[1;36m8\u001b[0m \u001b[35m/\u001b[0m Train\u001b[1m]\u001b[0m: Loss = nan | LR =        \u001b[2m              \u001b[0m\n",
       "\u001b[2;36m                    \u001b[0m         \u001b[1;36m0.00049312\u001b[0m                                        \u001b[2m              \u001b[0m\n"
      ]
     },
     "metadata": {},
     "output_type": "display_data"
    },
    {
     "data": {
      "text/html": [
       "<pre style=\"white-space:pre;overflow-x:auto;line-height:normal;font-family:Menlo,'DejaVu Sans Mono',consolas,'Courier New',monospace\"><span style=\"color: #7fbfbf; text-decoration-color: #7fbfbf\">                    </span><span style=\"color: #000080; text-decoration-color: #000080\">INFO    </span> colossalai - colossalai - <span style=\"color: #008080; text-decoration-color: #008080; font-weight: bold\">2022</span>-<span style=\"color: #008080; text-decoration-color: #008080; font-weight: bold\">03</span>-<span style=\"color: #008080; text-decoration-color: #008080; font-weight: bold\">29</span> <span style=\"color: #00ff00; text-decoration-color: #00ff00; font-weight: bold\">03:08:48</span>,<span style=\"color: #008080; text-decoration-color: #008080; font-weight: bold\">714</span> <a href=\"file:///home/fiona/anaconda3/envs/pytorch/lib/python3.9/site-packages/colossalai/logging/logging.py\" target=\"_blank\"><span style=\"color: #7f7f7f; text-decoration-color: #7f7f7f\">logging.py</span></a><span style=\"color: #7f7f7f; text-decoration-color: #7f7f7f\">:</span><a href=\"file:///home/fiona/anaconda3/envs/pytorch/lib/python3.9/site-packages/colossalai/logging/logging.py#105\" target=\"_blank\"><span style=\"color: #7f7f7f; text-decoration-color: #7f7f7f\">105</span></a>\n",
       "<span style=\"color: #7fbfbf; text-decoration-color: #7fbfbf\">                    </span>         INFO: <span style=\"font-weight: bold\">[</span>Epoch <span style=\"color: #008080; text-decoration-color: #008080; font-weight: bold\">8</span> <span style=\"color: #800080; text-decoration-color: #800080\">/</span> Train<span style=\"font-weight: bold\">]</span>: GPU: allocated <span style=\"color: #008080; text-decoration-color: #008080; font-weight: bold\">15.24</span> MB, <span style=\"color: #7f7f7f; text-decoration-color: #7f7f7f\">              </span>\n",
       "<span style=\"color: #7fbfbf; text-decoration-color: #7fbfbf\">                    </span>         max allocated <span style=\"color: #008080; text-decoration-color: #008080; font-weight: bold\">61.84</span> MB, cached: <span style=\"color: #008080; text-decoration-color: #008080; font-weight: bold\">76.0</span> MB, max      <span style=\"color: #7f7f7f; text-decoration-color: #7f7f7f\">              </span>\n",
       "<span style=\"color: #7fbfbf; text-decoration-color: #7fbfbf\">                    </span>         cached: <span style=\"color: #008080; text-decoration-color: #008080; font-weight: bold\">76.0</span> MB                                   <span style=\"color: #7f7f7f; text-decoration-color: #7f7f7f\">              </span>\n",
       "</pre>\n"
      ],
      "text/plain": [
       "\u001b[2;36m                   \u001b[0m\u001b[2;36m \u001b[0m\u001b[34mINFO    \u001b[0m colossalai - colossalai - \u001b[1;36m2022\u001b[0m-\u001b[1;36m03\u001b[0m-\u001b[1;36m29\u001b[0m \u001b[1;92m03:08:48\u001b[0m,\u001b[1;36m714\u001b[0m \u001b]8;id=60741;file:///home/fiona/anaconda3/envs/pytorch/lib/python3.9/site-packages/colossalai/logging/logging.py\u001b\\\u001b[2mlogging.py\u001b[0m\u001b]8;;\u001b\\\u001b[2m:\u001b[0m\u001b]8;id=547506;file:///home/fiona/anaconda3/envs/pytorch/lib/python3.9/site-packages/colossalai/logging/logging.py#105\u001b\\\u001b[2m105\u001b[0m\u001b]8;;\u001b\\\n",
       "\u001b[2;36m                    \u001b[0m         INFO: \u001b[1m[\u001b[0mEpoch \u001b[1;36m8\u001b[0m \u001b[35m/\u001b[0m Train\u001b[1m]\u001b[0m: GPU: allocated \u001b[1;36m15.24\u001b[0m MB, \u001b[2m              \u001b[0m\n",
       "\u001b[2;36m                    \u001b[0m         max allocated \u001b[1;36m61.84\u001b[0m MB, cached: \u001b[1;36m76.0\u001b[0m MB, max      \u001b[2m              \u001b[0m\n",
       "\u001b[2;36m                    \u001b[0m         cached: \u001b[1;36m76.0\u001b[0m MB                                   \u001b[2m              \u001b[0m\n"
      ]
     },
     "metadata": {},
     "output_type": "display_data"
    },
    {
     "data": {
      "text/html": [
       "<pre style=\"white-space:pre;overflow-x:auto;line-height:normal;font-family:Menlo,'DejaVu Sans Mono',consolas,'Courier New',monospace\"><span style=\"color: #7fbfbf; text-decoration-color: #7fbfbf\">                    </span><span style=\"color: #000080; text-decoration-color: #000080\">INFO    </span> colossalai - colossalai - <span style=\"color: #008080; text-decoration-color: #008080; font-weight: bold\">2022</span>-<span style=\"color: #008080; text-decoration-color: #008080; font-weight: bold\">03</span>-<span style=\"color: #008080; text-decoration-color: #008080; font-weight: bold\">29</span> <span style=\"color: #00ff00; text-decoration-color: #00ff00; font-weight: bold\">03:08:48</span>,<span style=\"color: #008080; text-decoration-color: #008080; font-weight: bold\">718</span> <a href=\"file:///home/fiona/anaconda3/envs/pytorch/lib/python3.9/site-packages/colossalai/logging/logging.py\" target=\"_blank\"><span style=\"color: #7f7f7f; text-decoration-color: #7f7f7f\">logging.py</span></a><span style=\"color: #7f7f7f; text-decoration-color: #7f7f7f\">:</span><a href=\"file:///home/fiona/anaconda3/envs/pytorch/lib/python3.9/site-packages/colossalai/logging/logging.py#105\" target=\"_blank\"><span style=\"color: #7f7f7f; text-decoration-color: #7f7f7f\">105</span></a>\n",
       "<span style=\"color: #7fbfbf; text-decoration-color: #7fbfbf\">                    </span>         INFO: <span style=\"font-weight: bold\">[</span>Epoch <span style=\"color: #008080; text-decoration-color: #008080; font-weight: bold\">8</span> <span style=\"color: #800080; text-decoration-color: #800080\">/</span> Train<span style=\"font-weight: bold\">]</span>: Train-epoch: last =      <span style=\"color: #7f7f7f; text-decoration-color: #7f7f7f\">              </span>\n",
       "<span style=\"color: #7fbfbf; text-decoration-color: #7fbfbf\">                    </span>         <span style=\"color: #008080; text-decoration-color: #008080; font-weight: bold\">10.53</span> s, mean = <span style=\"color: #008080; text-decoration-color: #008080; font-weight: bold\">10.53</span> s | Train-step: last =      <span style=\"color: #7f7f7f; text-decoration-color: #7f7f7f\">              </span>\n",
       "<span style=\"color: #7fbfbf; text-decoration-color: #7fbfbf\">                    </span>         <span style=\"color: #008080; text-decoration-color: #008080; font-weight: bold\">0.016358</span> s, mean = <span style=\"color: #008080; text-decoration-color: #008080; font-weight: bold\">0.021143</span> s | #steps/epoch =    <span style=\"color: #7f7f7f; text-decoration-color: #7f7f7f\">              </span>\n",
       "<span style=\"color: #7fbfbf; text-decoration-color: #7fbfbf\">                    </span>         <span style=\"color: #008080; text-decoration-color: #008080; font-weight: bold\">469</span>                                               <span style=\"color: #7f7f7f; text-decoration-color: #7f7f7f\">              </span>\n",
       "</pre>\n"
      ],
      "text/plain": [
       "\u001b[2;36m                   \u001b[0m\u001b[2;36m \u001b[0m\u001b[34mINFO    \u001b[0m colossalai - colossalai - \u001b[1;36m2022\u001b[0m-\u001b[1;36m03\u001b[0m-\u001b[1;36m29\u001b[0m \u001b[1;92m03:08:48\u001b[0m,\u001b[1;36m718\u001b[0m \u001b]8;id=226214;file:///home/fiona/anaconda3/envs/pytorch/lib/python3.9/site-packages/colossalai/logging/logging.py\u001b\\\u001b[2mlogging.py\u001b[0m\u001b]8;;\u001b\\\u001b[2m:\u001b[0m\u001b]8;id=111751;file:///home/fiona/anaconda3/envs/pytorch/lib/python3.9/site-packages/colossalai/logging/logging.py#105\u001b\\\u001b[2m105\u001b[0m\u001b]8;;\u001b\\\n",
       "\u001b[2;36m                    \u001b[0m         INFO: \u001b[1m[\u001b[0mEpoch \u001b[1;36m8\u001b[0m \u001b[35m/\u001b[0m Train\u001b[1m]\u001b[0m: Train-epoch: last =      \u001b[2m              \u001b[0m\n",
       "\u001b[2;36m                    \u001b[0m         \u001b[1;36m10.53\u001b[0m s, mean = \u001b[1;36m10.53\u001b[0m s | Train-step: last =      \u001b[2m              \u001b[0m\n",
       "\u001b[2;36m                    \u001b[0m         \u001b[1;36m0.016358\u001b[0m s, mean = \u001b[1;36m0.021143\u001b[0m s | #steps/epoch =    \u001b[2m              \u001b[0m\n",
       "\u001b[2;36m                    \u001b[0m         \u001b[1;36m469\u001b[0m                                               \u001b[2m              \u001b[0m\n"
      ]
     },
     "metadata": {},
     "output_type": "display_data"
    },
    {
     "name": "stderr",
     "output_type": "stream",
     "text": [
      "[Epoch 8 / Test]: 100%|█████████████████████████████████████████████████████████████████| 79/79 [00:01<00:00, 48.35it/s]\n"
     ]
    },
    {
     "data": {
      "text/html": [
       "<pre style=\"white-space:pre;overflow-x:auto;line-height:normal;font-family:Menlo,'DejaVu Sans Mono',consolas,'Courier New',monospace\"><span style=\"color: #7fbfbf; text-decoration-color: #7fbfbf\">[03/29/22 03:08:50] </span><span style=\"color: #000080; text-decoration-color: #000080\">INFO    </span> colossalai - colossalai - <span style=\"color: #008080; text-decoration-color: #008080; font-weight: bold\">2022</span>-<span style=\"color: #008080; text-decoration-color: #008080; font-weight: bold\">03</span>-<span style=\"color: #008080; text-decoration-color: #008080; font-weight: bold\">29</span> <span style=\"color: #00ff00; text-decoration-color: #00ff00; font-weight: bold\">03:08:50</span>,<span style=\"color: #008080; text-decoration-color: #008080; font-weight: bold\">491</span> <a href=\"file:///home/fiona/anaconda3/envs/pytorch/lib/python3.9/site-packages/colossalai/logging/logging.py\" target=\"_blank\"><span style=\"color: #7f7f7f; text-decoration-color: #7f7f7f\">logging.py</span></a><span style=\"color: #7f7f7f; text-decoration-color: #7f7f7f\">:</span><a href=\"file:///home/fiona/anaconda3/envs/pytorch/lib/python3.9/site-packages/colossalai/logging/logging.py#105\" target=\"_blank\"><span style=\"color: #7f7f7f; text-decoration-color: #7f7f7f\">105</span></a>\n",
       "<span style=\"color: #7fbfbf; text-decoration-color: #7fbfbf\">                    </span>         INFO: <span style=\"font-weight: bold\">[</span>Epoch <span style=\"color: #008080; text-decoration-color: #008080; font-weight: bold\">8</span> <span style=\"color: #800080; text-decoration-color: #800080\">/</span> Test<span style=\"font-weight: bold\">]</span>: Loss = nan                <span style=\"color: #7f7f7f; text-decoration-color: #7f7f7f\">              </span>\n",
       "</pre>\n"
      ],
      "text/plain": [
       "\u001b[2;36m[03/29/22 03:08:50]\u001b[0m\u001b[2;36m \u001b[0m\u001b[34mINFO    \u001b[0m colossalai - colossalai - \u001b[1;36m2022\u001b[0m-\u001b[1;36m03\u001b[0m-\u001b[1;36m29\u001b[0m \u001b[1;92m03:08:50\u001b[0m,\u001b[1;36m491\u001b[0m \u001b]8;id=662446;file:///home/fiona/anaconda3/envs/pytorch/lib/python3.9/site-packages/colossalai/logging/logging.py\u001b\\\u001b[2mlogging.py\u001b[0m\u001b]8;;\u001b\\\u001b[2m:\u001b[0m\u001b]8;id=343045;file:///home/fiona/anaconda3/envs/pytorch/lib/python3.9/site-packages/colossalai/logging/logging.py#105\u001b\\\u001b[2m105\u001b[0m\u001b]8;;\u001b\\\n",
       "\u001b[2;36m                    \u001b[0m         INFO: \u001b[1m[\u001b[0mEpoch \u001b[1;36m8\u001b[0m \u001b[35m/\u001b[0m Test\u001b[1m]\u001b[0m: Loss = nan                \u001b[2m              \u001b[0m\n"
      ]
     },
     "metadata": {},
     "output_type": "display_data"
    },
    {
     "data": {
      "text/html": [
       "<pre style=\"white-space:pre;overflow-x:auto;line-height:normal;font-family:Menlo,'DejaVu Sans Mono',consolas,'Courier New',monospace\"><span style=\"color: #7fbfbf; text-decoration-color: #7fbfbf\">                    </span><span style=\"color: #000080; text-decoration-color: #000080\">INFO    </span> colossalai - colossalai - <span style=\"color: #008080; text-decoration-color: #008080; font-weight: bold\">2022</span>-<span style=\"color: #008080; text-decoration-color: #008080; font-weight: bold\">03</span>-<span style=\"color: #008080; text-decoration-color: #008080; font-weight: bold\">29</span> <span style=\"color: #00ff00; text-decoration-color: #00ff00; font-weight: bold\">03:08:50</span>,<span style=\"color: #008080; text-decoration-color: #008080; font-weight: bold\">496</span> <a href=\"file:///home/fiona/anaconda3/envs/pytorch/lib/python3.9/site-packages/colossalai/logging/logging.py\" target=\"_blank\"><span style=\"color: #7f7f7f; text-decoration-color: #7f7f7f\">logging.py</span></a><span style=\"color: #7f7f7f; text-decoration-color: #7f7f7f\">:</span><a href=\"file:///home/fiona/anaconda3/envs/pytorch/lib/python3.9/site-packages/colossalai/logging/logging.py#105\" target=\"_blank\"><span style=\"color: #7f7f7f; text-decoration-color: #7f7f7f\">105</span></a>\n",
       "<span style=\"color: #7fbfbf; text-decoration-color: #7fbfbf\">                    </span>         INFO: <span style=\"font-weight: bold\">[</span>Epoch <span style=\"color: #008080; text-decoration-color: #008080; font-weight: bold\">8</span> <span style=\"color: #800080; text-decoration-color: #800080\">/</span> Test<span style=\"font-weight: bold\">]</span>: Test-epoch: last = <span style=\"color: #008080; text-decoration-color: #008080; font-weight: bold\">1.6341</span> <span style=\"color: #7f7f7f; text-decoration-color: #7f7f7f\">              </span>\n",
       "<span style=\"color: #7fbfbf; text-decoration-color: #7fbfbf\">                    </span>         s, mean = <span style=\"color: #008080; text-decoration-color: #008080; font-weight: bold\">1.6341</span> s | Test-step: last = <span style=\"color: #008080; text-decoration-color: #008080; font-weight: bold\">0.0029936</span>  <span style=\"color: #7f7f7f; text-decoration-color: #7f7f7f\">              </span>\n",
       "<span style=\"color: #7fbfbf; text-decoration-color: #7fbfbf\">                    </span>         s, mean = <span style=\"color: #008080; text-decoration-color: #008080; font-weight: bold\">0.020477</span> s                              <span style=\"color: #7f7f7f; text-decoration-color: #7f7f7f\">              </span>\n",
       "</pre>\n"
      ],
      "text/plain": [
       "\u001b[2;36m                   \u001b[0m\u001b[2;36m \u001b[0m\u001b[34mINFO    \u001b[0m colossalai - colossalai - \u001b[1;36m2022\u001b[0m-\u001b[1;36m03\u001b[0m-\u001b[1;36m29\u001b[0m \u001b[1;92m03:08:50\u001b[0m,\u001b[1;36m496\u001b[0m \u001b]8;id=345346;file:///home/fiona/anaconda3/envs/pytorch/lib/python3.9/site-packages/colossalai/logging/logging.py\u001b\\\u001b[2mlogging.py\u001b[0m\u001b]8;;\u001b\\\u001b[2m:\u001b[0m\u001b]8;id=418095;file:///home/fiona/anaconda3/envs/pytorch/lib/python3.9/site-packages/colossalai/logging/logging.py#105\u001b\\\u001b[2m105\u001b[0m\u001b]8;;\u001b\\\n",
       "\u001b[2;36m                    \u001b[0m         INFO: \u001b[1m[\u001b[0mEpoch \u001b[1;36m8\u001b[0m \u001b[35m/\u001b[0m Test\u001b[1m]\u001b[0m: Test-epoch: last = \u001b[1;36m1.6341\u001b[0m \u001b[2m              \u001b[0m\n",
       "\u001b[2;36m                    \u001b[0m         s, mean = \u001b[1;36m1.6341\u001b[0m s | Test-step: last = \u001b[1;36m0.0029936\u001b[0m  \u001b[2m              \u001b[0m\n",
       "\u001b[2;36m                    \u001b[0m         s, mean = \u001b[1;36m0.020477\u001b[0m s                              \u001b[2m              \u001b[0m\n"
      ]
     },
     "metadata": {},
     "output_type": "display_data"
    },
    {
     "data": {
      "text/html": [
       "<pre style=\"white-space:pre;overflow-x:auto;line-height:normal;font-family:Menlo,'DejaVu Sans Mono',consolas,'Courier New',monospace\"><span style=\"color: #7fbfbf; text-decoration-color: #7fbfbf\">                    </span><span style=\"color: #000080; text-decoration-color: #000080\">INFO    </span> colossalai - colossalai - <span style=\"color: #008080; text-decoration-color: #008080; font-weight: bold\">2022</span>-<span style=\"color: #008080; text-decoration-color: #008080; font-weight: bold\">03</span>-<span style=\"color: #008080; text-decoration-color: #008080; font-weight: bold\">29</span> <span style=\"color: #00ff00; text-decoration-color: #00ff00; font-weight: bold\">03:08:50</span>,<span style=\"color: #008080; text-decoration-color: #008080; font-weight: bold\">501</span> <a href=\"file:///home/fiona/anaconda3/envs/pytorch/lib/python3.9/site-packages/colossalai/logging/logging.py\" target=\"_blank\"><span style=\"color: #7f7f7f; text-decoration-color: #7f7f7f\">logging.py</span></a><span style=\"color: #7f7f7f; text-decoration-color: #7f7f7f\">:</span><a href=\"file:///home/fiona/anaconda3/envs/pytorch/lib/python3.9/site-packages/colossalai/logging/logging.py#105\" target=\"_blank\"><span style=\"color: #7f7f7f; text-decoration-color: #7f7f7f\">105</span></a>\n",
       "<span style=\"color: #7fbfbf; text-decoration-color: #7fbfbf\">                    </span>         INFO: <span style=\"font-weight: bold\">[</span>Epoch <span style=\"color: #008080; text-decoration-color: #008080; font-weight: bold\">8</span> <span style=\"color: #800080; text-decoration-color: #800080\">/</span> Test<span style=\"font-weight: bold\">]</span>: GPU: allocated <span style=\"color: #008080; text-decoration-color: #008080; font-weight: bold\">11.25</span> MB,  <span style=\"color: #7f7f7f; text-decoration-color: #7f7f7f\">              </span>\n",
       "<span style=\"color: #7fbfbf; text-decoration-color: #7fbfbf\">                    </span>         max allocated <span style=\"color: #008080; text-decoration-color: #008080; font-weight: bold\">16.35</span> MB, cached: <span style=\"color: #008080; text-decoration-color: #008080; font-weight: bold\">76.0</span> MB, max      <span style=\"color: #7f7f7f; text-decoration-color: #7f7f7f\">              </span>\n",
       "<span style=\"color: #7fbfbf; text-decoration-color: #7fbfbf\">                    </span>         cached: <span style=\"color: #008080; text-decoration-color: #008080; font-weight: bold\">76.0</span> MB                                   <span style=\"color: #7f7f7f; text-decoration-color: #7f7f7f\">              </span>\n",
       "</pre>\n"
      ],
      "text/plain": [
       "\u001b[2;36m                   \u001b[0m\u001b[2;36m \u001b[0m\u001b[34mINFO    \u001b[0m colossalai - colossalai - \u001b[1;36m2022\u001b[0m-\u001b[1;36m03\u001b[0m-\u001b[1;36m29\u001b[0m \u001b[1;92m03:08:50\u001b[0m,\u001b[1;36m501\u001b[0m \u001b]8;id=911845;file:///home/fiona/anaconda3/envs/pytorch/lib/python3.9/site-packages/colossalai/logging/logging.py\u001b\\\u001b[2mlogging.py\u001b[0m\u001b]8;;\u001b\\\u001b[2m:\u001b[0m\u001b]8;id=635733;file:///home/fiona/anaconda3/envs/pytorch/lib/python3.9/site-packages/colossalai/logging/logging.py#105\u001b\\\u001b[2m105\u001b[0m\u001b]8;;\u001b\\\n",
       "\u001b[2;36m                    \u001b[0m         INFO: \u001b[1m[\u001b[0mEpoch \u001b[1;36m8\u001b[0m \u001b[35m/\u001b[0m Test\u001b[1m]\u001b[0m: GPU: allocated \u001b[1;36m11.25\u001b[0m MB,  \u001b[2m              \u001b[0m\n",
       "\u001b[2;36m                    \u001b[0m         max allocated \u001b[1;36m16.35\u001b[0m MB, cached: \u001b[1;36m76.0\u001b[0m MB, max      \u001b[2m              \u001b[0m\n",
       "\u001b[2;36m                    \u001b[0m         cached: \u001b[1;36m76.0\u001b[0m MB                                   \u001b[2m              \u001b[0m\n"
      ]
     },
     "metadata": {},
     "output_type": "display_data"
    },
    {
     "name": "stderr",
     "output_type": "stream",
     "text": [
      "[Epoch 9 / Train]: 100%|██████████████████████████████████████████████████████████████| 469/469 [00:09<00:00, 47.50it/s]\n"
     ]
    },
    {
     "data": {
      "text/html": [
       "<pre style=\"white-space:pre;overflow-x:auto;line-height:normal;font-family:Menlo,'DejaVu Sans Mono',consolas,'Courier New',monospace\"><span style=\"color: #7fbfbf; text-decoration-color: #7fbfbf\">[03/29/22 03:09:00] </span><span style=\"color: #000080; text-decoration-color: #000080\">INFO    </span> colossalai - colossalai - <span style=\"color: #008080; text-decoration-color: #008080; font-weight: bold\">2022</span>-<span style=\"color: #008080; text-decoration-color: #008080; font-weight: bold\">03</span>-<span style=\"color: #008080; text-decoration-color: #008080; font-weight: bold\">29</span> <span style=\"color: #00ff00; text-decoration-color: #00ff00; font-weight: bold\">03:09:00</span>,<span style=\"color: #008080; text-decoration-color: #008080; font-weight: bold\">525</span> <a href=\"file:///home/fiona/anaconda3/envs/pytorch/lib/python3.9/site-packages/colossalai/logging/logging.py\" target=\"_blank\"><span style=\"color: #7f7f7f; text-decoration-color: #7f7f7f\">logging.py</span></a><span style=\"color: #7f7f7f; text-decoration-color: #7f7f7f\">:</span><a href=\"file:///home/fiona/anaconda3/envs/pytorch/lib/python3.9/site-packages/colossalai/logging/logging.py#105\" target=\"_blank\"><span style=\"color: #7f7f7f; text-decoration-color: #7f7f7f\">105</span></a>\n",
       "<span style=\"color: #7fbfbf; text-decoration-color: #7fbfbf\">                    </span>         INFO: <span style=\"font-weight: bold\">[</span>Epoch <span style=\"color: #008080; text-decoration-color: #008080; font-weight: bold\">9</span> <span style=\"color: #800080; text-decoration-color: #800080\">/</span> Train<span style=\"font-weight: bold\">]</span>: Loss = nan | LR =        <span style=\"color: #7f7f7f; text-decoration-color: #7f7f7f\">              </span>\n",
       "<span style=\"color: #7fbfbf; text-decoration-color: #7fbfbf\">                    </span>         <span style=\"color: #008080; text-decoration-color: #008080; font-weight: bold\">4.2289e-08</span>                                        <span style=\"color: #7f7f7f; text-decoration-color: #7f7f7f\">              </span>\n",
       "</pre>\n"
      ],
      "text/plain": [
       "\u001b[2;36m[03/29/22 03:09:00]\u001b[0m\u001b[2;36m \u001b[0m\u001b[34mINFO    \u001b[0m colossalai - colossalai - \u001b[1;36m2022\u001b[0m-\u001b[1;36m03\u001b[0m-\u001b[1;36m29\u001b[0m \u001b[1;92m03:09:00\u001b[0m,\u001b[1;36m525\u001b[0m \u001b]8;id=778230;file:///home/fiona/anaconda3/envs/pytorch/lib/python3.9/site-packages/colossalai/logging/logging.py\u001b\\\u001b[2mlogging.py\u001b[0m\u001b]8;;\u001b\\\u001b[2m:\u001b[0m\u001b]8;id=672387;file:///home/fiona/anaconda3/envs/pytorch/lib/python3.9/site-packages/colossalai/logging/logging.py#105\u001b\\\u001b[2m105\u001b[0m\u001b]8;;\u001b\\\n",
       "\u001b[2;36m                    \u001b[0m         INFO: \u001b[1m[\u001b[0mEpoch \u001b[1;36m9\u001b[0m \u001b[35m/\u001b[0m Train\u001b[1m]\u001b[0m: Loss = nan | LR =        \u001b[2m              \u001b[0m\n",
       "\u001b[2;36m                    \u001b[0m         \u001b[1;36m4.2289e-08\u001b[0m                                        \u001b[2m              \u001b[0m\n"
      ]
     },
     "metadata": {},
     "output_type": "display_data"
    },
    {
     "data": {
      "text/html": [
       "<pre style=\"white-space:pre;overflow-x:auto;line-height:normal;font-family:Menlo,'DejaVu Sans Mono',consolas,'Courier New',monospace\"><span style=\"color: #7fbfbf; text-decoration-color: #7fbfbf\">                    </span><span style=\"color: #000080; text-decoration-color: #000080\">INFO    </span> colossalai - colossalai - <span style=\"color: #008080; text-decoration-color: #008080; font-weight: bold\">2022</span>-<span style=\"color: #008080; text-decoration-color: #008080; font-weight: bold\">03</span>-<span style=\"color: #008080; text-decoration-color: #008080; font-weight: bold\">29</span> <span style=\"color: #00ff00; text-decoration-color: #00ff00; font-weight: bold\">03:09:00</span>,<span style=\"color: #008080; text-decoration-color: #008080; font-weight: bold\">532</span> <a href=\"file:///home/fiona/anaconda3/envs/pytorch/lib/python3.9/site-packages/colossalai/logging/logging.py\" target=\"_blank\"><span style=\"color: #7f7f7f; text-decoration-color: #7f7f7f\">logging.py</span></a><span style=\"color: #7f7f7f; text-decoration-color: #7f7f7f\">:</span><a href=\"file:///home/fiona/anaconda3/envs/pytorch/lib/python3.9/site-packages/colossalai/logging/logging.py#105\" target=\"_blank\"><span style=\"color: #7f7f7f; text-decoration-color: #7f7f7f\">105</span></a>\n",
       "<span style=\"color: #7fbfbf; text-decoration-color: #7fbfbf\">                    </span>         INFO: <span style=\"font-weight: bold\">[</span>Epoch <span style=\"color: #008080; text-decoration-color: #008080; font-weight: bold\">9</span> <span style=\"color: #800080; text-decoration-color: #800080\">/</span> Train<span style=\"font-weight: bold\">]</span>: GPU: allocated <span style=\"color: #008080; text-decoration-color: #008080; font-weight: bold\">15.24</span> MB, <span style=\"color: #7f7f7f; text-decoration-color: #7f7f7f\">              </span>\n",
       "<span style=\"color: #7fbfbf; text-decoration-color: #7fbfbf\">                    </span>         max allocated <span style=\"color: #008080; text-decoration-color: #008080; font-weight: bold\">61.84</span> MB, cached: <span style=\"color: #008080; text-decoration-color: #008080; font-weight: bold\">76.0</span> MB, max      <span style=\"color: #7f7f7f; text-decoration-color: #7f7f7f\">              </span>\n",
       "<span style=\"color: #7fbfbf; text-decoration-color: #7fbfbf\">                    </span>         cached: <span style=\"color: #008080; text-decoration-color: #008080; font-weight: bold\">76.0</span> MB                                   <span style=\"color: #7f7f7f; text-decoration-color: #7f7f7f\">              </span>\n",
       "</pre>\n"
      ],
      "text/plain": [
       "\u001b[2;36m                   \u001b[0m\u001b[2;36m \u001b[0m\u001b[34mINFO    \u001b[0m colossalai - colossalai - \u001b[1;36m2022\u001b[0m-\u001b[1;36m03\u001b[0m-\u001b[1;36m29\u001b[0m \u001b[1;92m03:09:00\u001b[0m,\u001b[1;36m532\u001b[0m \u001b]8;id=141063;file:///home/fiona/anaconda3/envs/pytorch/lib/python3.9/site-packages/colossalai/logging/logging.py\u001b\\\u001b[2mlogging.py\u001b[0m\u001b]8;;\u001b\\\u001b[2m:\u001b[0m\u001b]8;id=690364;file:///home/fiona/anaconda3/envs/pytorch/lib/python3.9/site-packages/colossalai/logging/logging.py#105\u001b\\\u001b[2m105\u001b[0m\u001b]8;;\u001b\\\n",
       "\u001b[2;36m                    \u001b[0m         INFO: \u001b[1m[\u001b[0mEpoch \u001b[1;36m9\u001b[0m \u001b[35m/\u001b[0m Train\u001b[1m]\u001b[0m: GPU: allocated \u001b[1;36m15.24\u001b[0m MB, \u001b[2m              \u001b[0m\n",
       "\u001b[2;36m                    \u001b[0m         max allocated \u001b[1;36m61.84\u001b[0m MB, cached: \u001b[1;36m76.0\u001b[0m MB, max      \u001b[2m              \u001b[0m\n",
       "\u001b[2;36m                    \u001b[0m         cached: \u001b[1;36m76.0\u001b[0m MB                                   \u001b[2m              \u001b[0m\n"
      ]
     },
     "metadata": {},
     "output_type": "display_data"
    },
    {
     "data": {
      "text/html": [
       "<pre style=\"white-space:pre;overflow-x:auto;line-height:normal;font-family:Menlo,'DejaVu Sans Mono',consolas,'Courier New',monospace\"><span style=\"color: #7fbfbf; text-decoration-color: #7fbfbf\">                    </span><span style=\"color: #000080; text-decoration-color: #000080\">INFO    </span> colossalai - colossalai - <span style=\"color: #008080; text-decoration-color: #008080; font-weight: bold\">2022</span>-<span style=\"color: #008080; text-decoration-color: #008080; font-weight: bold\">03</span>-<span style=\"color: #008080; text-decoration-color: #008080; font-weight: bold\">29</span> <span style=\"color: #00ff00; text-decoration-color: #00ff00; font-weight: bold\">03:09:00</span>,<span style=\"color: #008080; text-decoration-color: #008080; font-weight: bold\">536</span> <a href=\"file:///home/fiona/anaconda3/envs/pytorch/lib/python3.9/site-packages/colossalai/logging/logging.py\" target=\"_blank\"><span style=\"color: #7f7f7f; text-decoration-color: #7f7f7f\">logging.py</span></a><span style=\"color: #7f7f7f; text-decoration-color: #7f7f7f\">:</span><a href=\"file:///home/fiona/anaconda3/envs/pytorch/lib/python3.9/site-packages/colossalai/logging/logging.py#105\" target=\"_blank\"><span style=\"color: #7f7f7f; text-decoration-color: #7f7f7f\">105</span></a>\n",
       "<span style=\"color: #7fbfbf; text-decoration-color: #7fbfbf\">                    </span>         INFO: <span style=\"font-weight: bold\">[</span>Epoch <span style=\"color: #008080; text-decoration-color: #008080; font-weight: bold\">9</span> <span style=\"color: #800080; text-decoration-color: #800080\">/</span> Train<span style=\"font-weight: bold\">]</span>: Train-epoch: last =      <span style=\"color: #7f7f7f; text-decoration-color: #7f7f7f\">              </span>\n",
       "<span style=\"color: #7fbfbf; text-decoration-color: #7fbfbf\">                    </span>         <span style=\"color: #008080; text-decoration-color: #008080; font-weight: bold\">9.8734</span> s, mean = <span style=\"color: #008080; text-decoration-color: #008080; font-weight: bold\">9.8734</span> s | Train-step: last =    <span style=\"color: #7f7f7f; text-decoration-color: #7f7f7f\">              </span>\n",
       "<span style=\"color: #7fbfbf; text-decoration-color: #7fbfbf\">                    </span>         <span style=\"color: #008080; text-decoration-color: #008080; font-weight: bold\">0.014848</span> s, mean = <span style=\"color: #008080; text-decoration-color: #008080; font-weight: bold\">0.021088</span> s | #steps/epoch =    <span style=\"color: #7f7f7f; text-decoration-color: #7f7f7f\">              </span>\n",
       "<span style=\"color: #7fbfbf; text-decoration-color: #7fbfbf\">                    </span>         <span style=\"color: #008080; text-decoration-color: #008080; font-weight: bold\">469</span>                                               <span style=\"color: #7f7f7f; text-decoration-color: #7f7f7f\">              </span>\n",
       "</pre>\n"
      ],
      "text/plain": [
       "\u001b[2;36m                   \u001b[0m\u001b[2;36m \u001b[0m\u001b[34mINFO    \u001b[0m colossalai - colossalai - \u001b[1;36m2022\u001b[0m-\u001b[1;36m03\u001b[0m-\u001b[1;36m29\u001b[0m \u001b[1;92m03:09:00\u001b[0m,\u001b[1;36m536\u001b[0m \u001b]8;id=486843;file:///home/fiona/anaconda3/envs/pytorch/lib/python3.9/site-packages/colossalai/logging/logging.py\u001b\\\u001b[2mlogging.py\u001b[0m\u001b]8;;\u001b\\\u001b[2m:\u001b[0m\u001b]8;id=327209;file:///home/fiona/anaconda3/envs/pytorch/lib/python3.9/site-packages/colossalai/logging/logging.py#105\u001b\\\u001b[2m105\u001b[0m\u001b]8;;\u001b\\\n",
       "\u001b[2;36m                    \u001b[0m         INFO: \u001b[1m[\u001b[0mEpoch \u001b[1;36m9\u001b[0m \u001b[35m/\u001b[0m Train\u001b[1m]\u001b[0m: Train-epoch: last =      \u001b[2m              \u001b[0m\n",
       "\u001b[2;36m                    \u001b[0m         \u001b[1;36m9.8734\u001b[0m s, mean = \u001b[1;36m9.8734\u001b[0m s | Train-step: last =    \u001b[2m              \u001b[0m\n",
       "\u001b[2;36m                    \u001b[0m         \u001b[1;36m0.014848\u001b[0m s, mean = \u001b[1;36m0.021088\u001b[0m s | #steps/epoch =    \u001b[2m              \u001b[0m\n",
       "\u001b[2;36m                    \u001b[0m         \u001b[1;36m469\u001b[0m                                               \u001b[2m              \u001b[0m\n"
      ]
     },
     "metadata": {},
     "output_type": "display_data"
    },
    {
     "name": "stderr",
     "output_type": "stream",
     "text": [
      "[Epoch 9 / Test]: 100%|█████████████████████████████████████████████████████████████████| 79/79 [00:01<00:00, 48.77it/s]\n"
     ]
    },
    {
     "data": {
      "text/html": [
       "<pre style=\"white-space:pre;overflow-x:auto;line-height:normal;font-family:Menlo,'DejaVu Sans Mono',consolas,'Courier New',monospace\"><span style=\"color: #7fbfbf; text-decoration-color: #7fbfbf\">[03/29/22 03:09:02] </span><span style=\"color: #000080; text-decoration-color: #000080\">INFO    </span> colossalai - colossalai - <span style=\"color: #008080; text-decoration-color: #008080; font-weight: bold\">2022</span>-<span style=\"color: #008080; text-decoration-color: #008080; font-weight: bold\">03</span>-<span style=\"color: #008080; text-decoration-color: #008080; font-weight: bold\">29</span> <span style=\"color: #00ff00; text-decoration-color: #00ff00; font-weight: bold\">03:09:02</span>,<span style=\"color: #008080; text-decoration-color: #008080; font-weight: bold\">298</span> <a href=\"file:///home/fiona/anaconda3/envs/pytorch/lib/python3.9/site-packages/colossalai/logging/logging.py\" target=\"_blank\"><span style=\"color: #7f7f7f; text-decoration-color: #7f7f7f\">logging.py</span></a><span style=\"color: #7f7f7f; text-decoration-color: #7f7f7f\">:</span><a href=\"file:///home/fiona/anaconda3/envs/pytorch/lib/python3.9/site-packages/colossalai/logging/logging.py#105\" target=\"_blank\"><span style=\"color: #7f7f7f; text-decoration-color: #7f7f7f\">105</span></a>\n",
       "<span style=\"color: #7fbfbf; text-decoration-color: #7fbfbf\">                    </span>         INFO: <span style=\"font-weight: bold\">[</span>Epoch <span style=\"color: #008080; text-decoration-color: #008080; font-weight: bold\">9</span> <span style=\"color: #800080; text-decoration-color: #800080\">/</span> Test<span style=\"font-weight: bold\">]</span>: Loss = nan                <span style=\"color: #7f7f7f; text-decoration-color: #7f7f7f\">              </span>\n",
       "</pre>\n"
      ],
      "text/plain": [
       "\u001b[2;36m[03/29/22 03:09:02]\u001b[0m\u001b[2;36m \u001b[0m\u001b[34mINFO    \u001b[0m colossalai - colossalai - \u001b[1;36m2022\u001b[0m-\u001b[1;36m03\u001b[0m-\u001b[1;36m29\u001b[0m \u001b[1;92m03:09:02\u001b[0m,\u001b[1;36m298\u001b[0m \u001b]8;id=363802;file:///home/fiona/anaconda3/envs/pytorch/lib/python3.9/site-packages/colossalai/logging/logging.py\u001b\\\u001b[2mlogging.py\u001b[0m\u001b]8;;\u001b\\\u001b[2m:\u001b[0m\u001b]8;id=970784;file:///home/fiona/anaconda3/envs/pytorch/lib/python3.9/site-packages/colossalai/logging/logging.py#105\u001b\\\u001b[2m105\u001b[0m\u001b]8;;\u001b\\\n",
       "\u001b[2;36m                    \u001b[0m         INFO: \u001b[1m[\u001b[0mEpoch \u001b[1;36m9\u001b[0m \u001b[35m/\u001b[0m Test\u001b[1m]\u001b[0m: Loss = nan                \u001b[2m              \u001b[0m\n"
      ]
     },
     "metadata": {},
     "output_type": "display_data"
    },
    {
     "data": {
      "text/html": [
       "<pre style=\"white-space:pre;overflow-x:auto;line-height:normal;font-family:Menlo,'DejaVu Sans Mono',consolas,'Courier New',monospace\"><span style=\"color: #7fbfbf; text-decoration-color: #7fbfbf\">                    </span><span style=\"color: #000080; text-decoration-color: #000080\">INFO    </span> colossalai - colossalai - <span style=\"color: #008080; text-decoration-color: #008080; font-weight: bold\">2022</span>-<span style=\"color: #008080; text-decoration-color: #008080; font-weight: bold\">03</span>-<span style=\"color: #008080; text-decoration-color: #008080; font-weight: bold\">29</span> <span style=\"color: #00ff00; text-decoration-color: #00ff00; font-weight: bold\">03:09:02</span>,<span style=\"color: #008080; text-decoration-color: #008080; font-weight: bold\">304</span> <a href=\"file:///home/fiona/anaconda3/envs/pytorch/lib/python3.9/site-packages/colossalai/logging/logging.py\" target=\"_blank\"><span style=\"color: #7f7f7f; text-decoration-color: #7f7f7f\">logging.py</span></a><span style=\"color: #7f7f7f; text-decoration-color: #7f7f7f\">:</span><a href=\"file:///home/fiona/anaconda3/envs/pytorch/lib/python3.9/site-packages/colossalai/logging/logging.py#105\" target=\"_blank\"><span style=\"color: #7f7f7f; text-decoration-color: #7f7f7f\">105</span></a>\n",
       "<span style=\"color: #7fbfbf; text-decoration-color: #7fbfbf\">                    </span>         INFO: <span style=\"font-weight: bold\">[</span>Epoch <span style=\"color: #008080; text-decoration-color: #008080; font-weight: bold\">9</span> <span style=\"color: #800080; text-decoration-color: #800080\">/</span> Test<span style=\"font-weight: bold\">]</span>: Test-epoch: last = <span style=\"color: #008080; text-decoration-color: #008080; font-weight: bold\">1.6202</span> <span style=\"color: #7f7f7f; text-decoration-color: #7f7f7f\">              </span>\n",
       "<span style=\"color: #7fbfbf; text-decoration-color: #7fbfbf\">                    </span>         s, mean = <span style=\"color: #008080; text-decoration-color: #008080; font-weight: bold\">1.6202</span> s | Test-step: last = <span style=\"color: #008080; text-decoration-color: #008080; font-weight: bold\">0.0031705</span>  <span style=\"color: #7f7f7f; text-decoration-color: #7f7f7f\">              </span>\n",
       "<span style=\"color: #7fbfbf; text-decoration-color: #7fbfbf\">                    </span>         s, mean = <span style=\"color: #008080; text-decoration-color: #008080; font-weight: bold\">0.020303</span> s                              <span style=\"color: #7f7f7f; text-decoration-color: #7f7f7f\">              </span>\n",
       "</pre>\n"
      ],
      "text/plain": [
       "\u001b[2;36m                   \u001b[0m\u001b[2;36m \u001b[0m\u001b[34mINFO    \u001b[0m colossalai - colossalai - \u001b[1;36m2022\u001b[0m-\u001b[1;36m03\u001b[0m-\u001b[1;36m29\u001b[0m \u001b[1;92m03:09:02\u001b[0m,\u001b[1;36m304\u001b[0m \u001b]8;id=231063;file:///home/fiona/anaconda3/envs/pytorch/lib/python3.9/site-packages/colossalai/logging/logging.py\u001b\\\u001b[2mlogging.py\u001b[0m\u001b]8;;\u001b\\\u001b[2m:\u001b[0m\u001b]8;id=959287;file:///home/fiona/anaconda3/envs/pytorch/lib/python3.9/site-packages/colossalai/logging/logging.py#105\u001b\\\u001b[2m105\u001b[0m\u001b]8;;\u001b\\\n",
       "\u001b[2;36m                    \u001b[0m         INFO: \u001b[1m[\u001b[0mEpoch \u001b[1;36m9\u001b[0m \u001b[35m/\u001b[0m Test\u001b[1m]\u001b[0m: Test-epoch: last = \u001b[1;36m1.6202\u001b[0m \u001b[2m              \u001b[0m\n",
       "\u001b[2;36m                    \u001b[0m         s, mean = \u001b[1;36m1.6202\u001b[0m s | Test-step: last = \u001b[1;36m0.0031705\u001b[0m  \u001b[2m              \u001b[0m\n",
       "\u001b[2;36m                    \u001b[0m         s, mean = \u001b[1;36m0.020303\u001b[0m s                              \u001b[2m              \u001b[0m\n"
      ]
     },
     "metadata": {},
     "output_type": "display_data"
    },
    {
     "data": {
      "text/html": [
       "<pre style=\"white-space:pre;overflow-x:auto;line-height:normal;font-family:Menlo,'DejaVu Sans Mono',consolas,'Courier New',monospace\"><span style=\"color: #7fbfbf; text-decoration-color: #7fbfbf\">                    </span><span style=\"color: #000080; text-decoration-color: #000080\">INFO    </span> colossalai - colossalai - <span style=\"color: #008080; text-decoration-color: #008080; font-weight: bold\">2022</span>-<span style=\"color: #008080; text-decoration-color: #008080; font-weight: bold\">03</span>-<span style=\"color: #008080; text-decoration-color: #008080; font-weight: bold\">29</span> <span style=\"color: #00ff00; text-decoration-color: #00ff00; font-weight: bold\">03:09:02</span>,<span style=\"color: #008080; text-decoration-color: #008080; font-weight: bold\">309</span> <a href=\"file:///home/fiona/anaconda3/envs/pytorch/lib/python3.9/site-packages/colossalai/logging/logging.py\" target=\"_blank\"><span style=\"color: #7f7f7f; text-decoration-color: #7f7f7f\">logging.py</span></a><span style=\"color: #7f7f7f; text-decoration-color: #7f7f7f\">:</span><a href=\"file:///home/fiona/anaconda3/envs/pytorch/lib/python3.9/site-packages/colossalai/logging/logging.py#105\" target=\"_blank\"><span style=\"color: #7f7f7f; text-decoration-color: #7f7f7f\">105</span></a>\n",
       "<span style=\"color: #7fbfbf; text-decoration-color: #7fbfbf\">                    </span>         INFO: <span style=\"font-weight: bold\">[</span>Epoch <span style=\"color: #008080; text-decoration-color: #008080; font-weight: bold\">9</span> <span style=\"color: #800080; text-decoration-color: #800080\">/</span> Test<span style=\"font-weight: bold\">]</span>: GPU: allocated <span style=\"color: #008080; text-decoration-color: #008080; font-weight: bold\">11.25</span> MB,  <span style=\"color: #7f7f7f; text-decoration-color: #7f7f7f\">              </span>\n",
       "<span style=\"color: #7fbfbf; text-decoration-color: #7fbfbf\">                    </span>         max allocated <span style=\"color: #008080; text-decoration-color: #008080; font-weight: bold\">16.35</span> MB, cached: <span style=\"color: #008080; text-decoration-color: #008080; font-weight: bold\">76.0</span> MB, max      <span style=\"color: #7f7f7f; text-decoration-color: #7f7f7f\">              </span>\n",
       "<span style=\"color: #7fbfbf; text-decoration-color: #7fbfbf\">                    </span>         cached: <span style=\"color: #008080; text-decoration-color: #008080; font-weight: bold\">76.0</span> MB                                   <span style=\"color: #7f7f7f; text-decoration-color: #7f7f7f\">              </span>\n",
       "</pre>\n"
      ],
      "text/plain": [
       "\u001b[2;36m                   \u001b[0m\u001b[2;36m \u001b[0m\u001b[34mINFO    \u001b[0m colossalai - colossalai - \u001b[1;36m2022\u001b[0m-\u001b[1;36m03\u001b[0m-\u001b[1;36m29\u001b[0m \u001b[1;92m03:09:02\u001b[0m,\u001b[1;36m309\u001b[0m \u001b]8;id=618770;file:///home/fiona/anaconda3/envs/pytorch/lib/python3.9/site-packages/colossalai/logging/logging.py\u001b\\\u001b[2mlogging.py\u001b[0m\u001b]8;;\u001b\\\u001b[2m:\u001b[0m\u001b]8;id=632358;file:///home/fiona/anaconda3/envs/pytorch/lib/python3.9/site-packages/colossalai/logging/logging.py#105\u001b\\\u001b[2m105\u001b[0m\u001b]8;;\u001b\\\n",
       "\u001b[2;36m                    \u001b[0m         INFO: \u001b[1m[\u001b[0mEpoch \u001b[1;36m9\u001b[0m \u001b[35m/\u001b[0m Test\u001b[1m]\u001b[0m: GPU: allocated \u001b[1;36m11.25\u001b[0m MB,  \u001b[2m              \u001b[0m\n",
       "\u001b[2;36m                    \u001b[0m         max allocated \u001b[1;36m16.35\u001b[0m MB, cached: \u001b[1;36m76.0\u001b[0m MB, max      \u001b[2m              \u001b[0m\n",
       "\u001b[2;36m                    \u001b[0m         cached: \u001b[1;36m76.0\u001b[0m MB                                   \u001b[2m              \u001b[0m\n"
      ]
     },
     "metadata": {},
     "output_type": "display_data"
    },
    {
     "name": "stdout",
     "output_type": "stream",
     "text": [
      ">>>>>> adamw onecycle 0.1\n"
     ]
    },
    {
     "data": {
      "text/html": [
       "<pre style=\"white-space:pre;overflow-x:auto;line-height:normal;font-family:Menlo,'DejaVu Sans Mono',consolas,'Courier New',monospace\"><span style=\"color: #7fbfbf; text-decoration-color: #7fbfbf\">                    </span><span style=\"color: #000080; text-decoration-color: #000080\">INFO    </span> colossalai - colossalai - <span style=\"color: #008080; text-decoration-color: #008080; font-weight: bold\">2022</span>-<span style=\"color: #008080; text-decoration-color: #008080; font-weight: bold\">03</span>-<span style=\"color: #008080; text-decoration-color: #008080; font-weight: bold\">29</span> <span style=\"color: #00ff00; text-decoration-color: #00ff00; font-weight: bold\">03:09:02</span>,<span style=\"color: #008080; text-decoration-color: #008080; font-weight: bold\">455</span> <a href=\"file:///home/fiona/anaconda3/envs/pytorch/lib/python3.9/site-packages/colossalai/logging/logging.py\" target=\"_blank\"><span style=\"color: #7f7f7f; text-decoration-color: #7f7f7f\">logging.py</span></a><span style=\"color: #7f7f7f; text-decoration-color: #7f7f7f\">:</span><a href=\"file:///home/fiona/anaconda3/envs/pytorch/lib/python3.9/site-packages/colossalai/logging/logging.py#109\" target=\"_blank\"><span style=\"color: #7f7f7f; text-decoration-color: #7f7f7f\">109</span></a>\n",
       "<span style=\"color: #7fbfbf; text-decoration-color: #7fbfbf\">                    </span>         INFO:                                             <span style=\"color: #7f7f7f; text-decoration-color: #7f7f7f\">              </span>\n",
       "<span style=\"color: #7fbfbf; text-decoration-color: #7fbfbf\">                    </span>         ========== Your Config ========                   <span style=\"color: #7f7f7f; text-decoration-color: #7f7f7f\">              </span>\n",
       "<span style=\"color: #7fbfbf; text-decoration-color: #7fbfbf\">                    </span>         <span style=\"font-weight: bold\">{</span><span style=\"color: #008000; text-decoration-color: #008000\">'BATCH_SIZE'</span>: <span style=\"color: #008080; text-decoration-color: #008080; font-weight: bold\">128</span>, <span style=\"color: #008000; text-decoration-color: #008000\">'NUM_EPOCHS'</span>: <span style=\"color: #008080; text-decoration-color: #008080; font-weight: bold\">10</span><span style=\"font-weight: bold\">}</span>             <span style=\"color: #7f7f7f; text-decoration-color: #7f7f7f\">              </span>\n",
       "<span style=\"color: #7fbfbf; text-decoration-color: #7fbfbf\">                    </span>         ================================                  <span style=\"color: #7f7f7f; text-decoration-color: #7f7f7f\">              </span>\n",
       "<span style=\"color: #7fbfbf; text-decoration-color: #7fbfbf\">                    </span>                                                           <span style=\"color: #7f7f7f; text-decoration-color: #7f7f7f\">              </span>\n",
       "</pre>\n"
      ],
      "text/plain": [
       "\u001b[2;36m                   \u001b[0m\u001b[2;36m \u001b[0m\u001b[34mINFO    \u001b[0m colossalai - colossalai - \u001b[1;36m2022\u001b[0m-\u001b[1;36m03\u001b[0m-\u001b[1;36m29\u001b[0m \u001b[1;92m03:09:02\u001b[0m,\u001b[1;36m455\u001b[0m \u001b]8;id=74620;file:///home/fiona/anaconda3/envs/pytorch/lib/python3.9/site-packages/colossalai/logging/logging.py\u001b\\\u001b[2mlogging.py\u001b[0m\u001b]8;;\u001b\\\u001b[2m:\u001b[0m\u001b]8;id=391706;file:///home/fiona/anaconda3/envs/pytorch/lib/python3.9/site-packages/colossalai/logging/logging.py#109\u001b\\\u001b[2m109\u001b[0m\u001b]8;;\u001b\\\n",
       "\u001b[2;36m                    \u001b[0m         INFO:                                             \u001b[2m              \u001b[0m\n",
       "\u001b[2;36m                    \u001b[0m         ========== Your Config ========                   \u001b[2m              \u001b[0m\n",
       "\u001b[2;36m                    \u001b[0m         \u001b[1m{\u001b[0m\u001b[32m'BATCH_SIZE'\u001b[0m: \u001b[1;36m128\u001b[0m, \u001b[32m'NUM_EPOCHS'\u001b[0m: \u001b[1;36m10\u001b[0m\u001b[1m}\u001b[0m             \u001b[2m              \u001b[0m\n",
       "\u001b[2;36m                    \u001b[0m         ================================                  \u001b[2m              \u001b[0m\n",
       "\u001b[2;36m                    \u001b[0m                                                           \u001b[2m              \u001b[0m\n"
      ]
     },
     "metadata": {},
     "output_type": "display_data"
    },
    {
     "data": {
      "text/html": [
       "<pre style=\"white-space:pre;overflow-x:auto;line-height:normal;font-family:Menlo,'DejaVu Sans Mono',consolas,'Courier New',monospace\"><span style=\"color: #7fbfbf; text-decoration-color: #7fbfbf\">                    </span><span style=\"color: #000080; text-decoration-color: #000080\">INFO    </span> colossalai - colossalai - <span style=\"color: #008080; text-decoration-color: #008080; font-weight: bold\">2022</span>-<span style=\"color: #008080; text-decoration-color: #008080; font-weight: bold\">03</span>-<span style=\"color: #008080; text-decoration-color: #008080; font-weight: bold\">29</span> <span style=\"color: #00ff00; text-decoration-color: #00ff00; font-weight: bold\">03:09:02</span>,<span style=\"color: #008080; text-decoration-color: #008080; font-weight: bold\">460</span> <a href=\"file:///home/fiona/anaconda3/envs/pytorch/lib/python3.9/site-packages/colossalai/logging/logging.py\" target=\"_blank\"><span style=\"color: #7f7f7f; text-decoration-color: #7f7f7f\">logging.py</span></a><span style=\"color: #7f7f7f; text-decoration-color: #7f7f7f\">:</span><a href=\"file:///home/fiona/anaconda3/envs/pytorch/lib/python3.9/site-packages/colossalai/logging/logging.py#109\" target=\"_blank\"><span style=\"color: #7f7f7f; text-decoration-color: #7f7f7f\">109</span></a>\n",
       "<span style=\"color: #7fbfbf; text-decoration-color: #7fbfbf\">                    </span>         INFO: cuDNN benchmark = <span style=\"color: #00ff00; text-decoration-color: #00ff00; font-style: italic\">True</span>, deterministic =     <span style=\"color: #7f7f7f; text-decoration-color: #7f7f7f\">              </span>\n",
       "<span style=\"color: #7fbfbf; text-decoration-color: #7fbfbf\">                    </span>         <span style=\"color: #ff0000; text-decoration-color: #ff0000; font-style: italic\">False</span>                                             <span style=\"color: #7f7f7f; text-decoration-color: #7f7f7f\">              </span>\n",
       "</pre>\n"
      ],
      "text/plain": [
       "\u001b[2;36m                   \u001b[0m\u001b[2;36m \u001b[0m\u001b[34mINFO    \u001b[0m colossalai - colossalai - \u001b[1;36m2022\u001b[0m-\u001b[1;36m03\u001b[0m-\u001b[1;36m29\u001b[0m \u001b[1;92m03:09:02\u001b[0m,\u001b[1;36m460\u001b[0m \u001b]8;id=154763;file:///home/fiona/anaconda3/envs/pytorch/lib/python3.9/site-packages/colossalai/logging/logging.py\u001b\\\u001b[2mlogging.py\u001b[0m\u001b]8;;\u001b\\\u001b[2m:\u001b[0m\u001b]8;id=87737;file:///home/fiona/anaconda3/envs/pytorch/lib/python3.9/site-packages/colossalai/logging/logging.py#109\u001b\\\u001b[2m109\u001b[0m\u001b]8;;\u001b\\\n",
       "\u001b[2;36m                    \u001b[0m         INFO: cuDNN benchmark = \u001b[3;92mTrue\u001b[0m, deterministic =     \u001b[2m              \u001b[0m\n",
       "\u001b[2;36m                    \u001b[0m         \u001b[3;91mFalse\u001b[0m                                             \u001b[2m              \u001b[0m\n"
      ]
     },
     "metadata": {},
     "output_type": "display_data"
    },
    {
     "data": {
      "text/html": [
       "<pre style=\"white-space:pre;overflow-x:auto;line-height:normal;font-family:Menlo,'DejaVu Sans Mono',consolas,'Courier New',monospace\"><span style=\"color: #7fbfbf; text-decoration-color: #7fbfbf\">                    </span><span style=\"color: #800000; text-decoration-color: #800000\">WARNING </span> colossalai - colossalai - <span style=\"color: #008080; text-decoration-color: #008080; font-weight: bold\">2022</span>-<span style=\"color: #008080; text-decoration-color: #008080; font-weight: bold\">03</span>-<span style=\"color: #008080; text-decoration-color: #008080; font-weight: bold\">29</span> <span style=\"color: #00ff00; text-decoration-color: #00ff00; font-weight: bold\">03:09:02</span>,<span style=\"color: #008080; text-decoration-color: #008080; font-weight: bold\">464</span> <a href=\"file:///home/fiona/anaconda3/envs/pytorch/lib/python3.9/site-packages/colossalai/logging/logging.py\" target=\"_blank\"><span style=\"color: #7f7f7f; text-decoration-color: #7f7f7f\">logging.py</span></a><span style=\"color: #7f7f7f; text-decoration-color: #7f7f7f\">:</span><a href=\"file:///home/fiona/anaconda3/envs/pytorch/lib/python3.9/site-packages/colossalai/logging/logging.py#105\" target=\"_blank\"><span style=\"color: #7f7f7f; text-decoration-color: #7f7f7f\">105</span></a>\n",
       "<span style=\"color: #7fbfbf; text-decoration-color: #7fbfbf\">                    </span>         WARNING: Initializing an non ZeRO model with      <span style=\"color: #7f7f7f; text-decoration-color: #7f7f7f\">              </span>\n",
       "<span style=\"color: #7fbfbf; text-decoration-color: #7fbfbf\">                    </span>         optimizer class                                   <span style=\"color: #7f7f7f; text-decoration-color: #7f7f7f\">              </span>\n",
       "</pre>\n"
      ],
      "text/plain": [
       "\u001b[2;36m                   \u001b[0m\u001b[2;36m \u001b[0m\u001b[31mWARNING \u001b[0m colossalai - colossalai - \u001b[1;36m2022\u001b[0m-\u001b[1;36m03\u001b[0m-\u001b[1;36m29\u001b[0m \u001b[1;92m03:09:02\u001b[0m,\u001b[1;36m464\u001b[0m \u001b]8;id=526603;file:///home/fiona/anaconda3/envs/pytorch/lib/python3.9/site-packages/colossalai/logging/logging.py\u001b\\\u001b[2mlogging.py\u001b[0m\u001b]8;;\u001b\\\u001b[2m:\u001b[0m\u001b]8;id=971634;file:///home/fiona/anaconda3/envs/pytorch/lib/python3.9/site-packages/colossalai/logging/logging.py#105\u001b\\\u001b[2m105\u001b[0m\u001b]8;;\u001b\\\n",
       "\u001b[2;36m                    \u001b[0m         WARNING: Initializing an non ZeRO model with      \u001b[2m              \u001b[0m\n",
       "\u001b[2;36m                    \u001b[0m         optimizer class                                   \u001b[2m              \u001b[0m\n"
      ]
     },
     "metadata": {},
     "output_type": "display_data"
    },
    {
     "data": {
      "text/html": [
       "<pre style=\"white-space:pre;overflow-x:auto;line-height:normal;font-family:Menlo,'DejaVu Sans Mono',consolas,'Courier New',monospace\"><span style=\"color: #7fbfbf; text-decoration-color: #7fbfbf\">                    </span><span style=\"color: #800000; text-decoration-color: #800000\">WARNING </span> colossalai - colossalai - <span style=\"color: #008080; text-decoration-color: #008080; font-weight: bold\">2022</span>-<span style=\"color: #008080; text-decoration-color: #008080; font-weight: bold\">03</span>-<span style=\"color: #008080; text-decoration-color: #008080; font-weight: bold\">29</span> <span style=\"color: #00ff00; text-decoration-color: #00ff00; font-weight: bold\">03:09:02</span>,<span style=\"color: #008080; text-decoration-color: #008080; font-weight: bold\">467</span> <a href=\"file:///home/fiona/anaconda3/envs/pytorch/lib/python3.9/site-packages/colossalai/logging/logging.py\" target=\"_blank\"><span style=\"color: #7f7f7f; text-decoration-color: #7f7f7f\">logging.py</span></a><span style=\"color: #7f7f7f; text-decoration-color: #7f7f7f\">:</span><a href=\"file:///home/fiona/anaconda3/envs/pytorch/lib/python3.9/site-packages/colossalai/logging/logging.py#109\" target=\"_blank\"><span style=\"color: #7f7f7f; text-decoration-color: #7f7f7f\">109</span></a>\n",
       "<span style=\"color: #7fbfbf; text-decoration-color: #7fbfbf\">                    </span>         WARNING: No PyTorch DDP or gradient handler is    <span style=\"color: #7f7f7f; text-decoration-color: #7f7f7f\">              </span>\n",
       "<span style=\"color: #7fbfbf; text-decoration-color: #7fbfbf\">                    </span>         set up, please make sure you do not need to       <span style=\"color: #7f7f7f; text-decoration-color: #7f7f7f\">              </span>\n",
       "<span style=\"color: #7fbfbf; text-decoration-color: #7fbfbf\">                    </span>         all-reduce the gradients after a training step.   <span style=\"color: #7f7f7f; text-decoration-color: #7f7f7f\">              </span>\n",
       "</pre>\n"
      ],
      "text/plain": [
       "\u001b[2;36m                   \u001b[0m\u001b[2;36m \u001b[0m\u001b[31mWARNING \u001b[0m colossalai - colossalai - \u001b[1;36m2022\u001b[0m-\u001b[1;36m03\u001b[0m-\u001b[1;36m29\u001b[0m \u001b[1;92m03:09:02\u001b[0m,\u001b[1;36m467\u001b[0m \u001b]8;id=269689;file:///home/fiona/anaconda3/envs/pytorch/lib/python3.9/site-packages/colossalai/logging/logging.py\u001b\\\u001b[2mlogging.py\u001b[0m\u001b]8;;\u001b\\\u001b[2m:\u001b[0m\u001b]8;id=447186;file:///home/fiona/anaconda3/envs/pytorch/lib/python3.9/site-packages/colossalai/logging/logging.py#109\u001b\\\u001b[2m109\u001b[0m\u001b]8;;\u001b\\\n",
       "\u001b[2;36m                    \u001b[0m         WARNING: No PyTorch DDP or gradient handler is    \u001b[2m              \u001b[0m\n",
       "\u001b[2;36m                    \u001b[0m         set up, please make sure you do not need to       \u001b[2m              \u001b[0m\n",
       "\u001b[2;36m                    \u001b[0m         all-reduce the gradients after a training step.   \u001b[2m              \u001b[0m\n"
      ]
     },
     "metadata": {},
     "output_type": "display_data"
    },
    {
     "data": {
      "text/html": [
       "<pre style=\"white-space:pre;overflow-x:auto;line-height:normal;font-family:Menlo,'DejaVu Sans Mono',consolas,'Courier New',monospace\"><span style=\"color: #7fbfbf; text-decoration-color: #7fbfbf\">                    </span><span style=\"color: #000080; text-decoration-color: #000080\">INFO    </span> colossalai - colossalai - <span style=\"color: #008080; text-decoration-color: #008080; font-weight: bold\">2022</span>-<span style=\"color: #008080; text-decoration-color: #008080; font-weight: bold\">03</span>-<span style=\"color: #008080; text-decoration-color: #008080; font-weight: bold\">29</span> <span style=\"color: #00ff00; text-decoration-color: #00ff00; font-weight: bold\">03:09:02</span>,<span style=\"color: #008080; text-decoration-color: #008080; font-weight: bold\">472</span> <a href=\"file:///home/fiona/anaconda3/envs/pytorch/lib/python3.9/site-packages/colossalai/logging/logging.py\" target=\"_blank\"><span style=\"color: #7f7f7f; text-decoration-color: #7f7f7f\">logging.py</span></a><span style=\"color: #7f7f7f; text-decoration-color: #7f7f7f\">:</span><a href=\"file:///home/fiona/anaconda3/envs/pytorch/lib/python3.9/site-packages/colossalai/logging/logging.py#109\" target=\"_blank\"><span style=\"color: #7f7f7f; text-decoration-color: #7f7f7f\">109</span></a>\n",
       "<span style=\"color: #7fbfbf; text-decoration-color: #7fbfbf\">                    </span>         INFO: Using LossHook for training, priority = <span style=\"color: #008080; text-decoration-color: #008080; font-weight: bold\">0</span>   <span style=\"color: #7f7f7f; text-decoration-color: #7f7f7f\">              </span>\n",
       "</pre>\n"
      ],
      "text/plain": [
       "\u001b[2;36m                   \u001b[0m\u001b[2;36m \u001b[0m\u001b[34mINFO    \u001b[0m colossalai - colossalai - \u001b[1;36m2022\u001b[0m-\u001b[1;36m03\u001b[0m-\u001b[1;36m29\u001b[0m \u001b[1;92m03:09:02\u001b[0m,\u001b[1;36m472\u001b[0m \u001b]8;id=167733;file:///home/fiona/anaconda3/envs/pytorch/lib/python3.9/site-packages/colossalai/logging/logging.py\u001b\\\u001b[2mlogging.py\u001b[0m\u001b]8;;\u001b\\\u001b[2m:\u001b[0m\u001b]8;id=327683;file:///home/fiona/anaconda3/envs/pytorch/lib/python3.9/site-packages/colossalai/logging/logging.py#109\u001b\\\u001b[2m109\u001b[0m\u001b]8;;\u001b\\\n",
       "\u001b[2;36m                    \u001b[0m         INFO: Using LossHook for training, priority = \u001b[1;36m0\u001b[0m   \u001b[2m              \u001b[0m\n"
      ]
     },
     "metadata": {},
     "output_type": "display_data"
    },
    {
     "data": {
      "text/html": [
       "<pre style=\"white-space:pre;overflow-x:auto;line-height:normal;font-family:Menlo,'DejaVu Sans Mono',consolas,'Courier New',monospace\"><span style=\"color: #7fbfbf; text-decoration-color: #7fbfbf\">                    </span><span style=\"color: #000080; text-decoration-color: #000080\">INFO    </span> colossalai - colossalai - <span style=\"color: #008080; text-decoration-color: #008080; font-weight: bold\">2022</span>-<span style=\"color: #008080; text-decoration-color: #008080; font-weight: bold\">03</span>-<span style=\"color: #008080; text-decoration-color: #008080; font-weight: bold\">29</span> <span style=\"color: #00ff00; text-decoration-color: #00ff00; font-weight: bold\">03:09:02</span>,<span style=\"color: #008080; text-decoration-color: #008080; font-weight: bold\">475</span> <a href=\"file:///home/fiona/anaconda3/envs/pytorch/lib/python3.9/site-packages/colossalai/logging/logging.py\" target=\"_blank\"><span style=\"color: #7f7f7f; text-decoration-color: #7f7f7f\">logging.py</span></a><span style=\"color: #7f7f7f; text-decoration-color: #7f7f7f\">:</span><a href=\"file:///home/fiona/anaconda3/envs/pytorch/lib/python3.9/site-packages/colossalai/logging/logging.py#109\" target=\"_blank\"><span style=\"color: #7f7f7f; text-decoration-color: #7f7f7f\">109</span></a>\n",
       "<span style=\"color: #7fbfbf; text-decoration-color: #7fbfbf\">                    </span>         INFO: Using LRSchedulerHook for training,         <span style=\"color: #7f7f7f; text-decoration-color: #7f7f7f\">              </span>\n",
       "<span style=\"color: #7fbfbf; text-decoration-color: #7fbfbf\">                    </span>         priority = <span style=\"color: #008080; text-decoration-color: #008080; font-weight: bold\">1</span>                                      <span style=\"color: #7f7f7f; text-decoration-color: #7f7f7f\">              </span>\n",
       "</pre>\n"
      ],
      "text/plain": [
       "\u001b[2;36m                   \u001b[0m\u001b[2;36m \u001b[0m\u001b[34mINFO    \u001b[0m colossalai - colossalai - \u001b[1;36m2022\u001b[0m-\u001b[1;36m03\u001b[0m-\u001b[1;36m29\u001b[0m \u001b[1;92m03:09:02\u001b[0m,\u001b[1;36m475\u001b[0m \u001b]8;id=927744;file:///home/fiona/anaconda3/envs/pytorch/lib/python3.9/site-packages/colossalai/logging/logging.py\u001b\\\u001b[2mlogging.py\u001b[0m\u001b]8;;\u001b\\\u001b[2m:\u001b[0m\u001b]8;id=349154;file:///home/fiona/anaconda3/envs/pytorch/lib/python3.9/site-packages/colossalai/logging/logging.py#109\u001b\\\u001b[2m109\u001b[0m\u001b]8;;\u001b\\\n",
       "\u001b[2;36m                    \u001b[0m         INFO: Using LRSchedulerHook for training,         \u001b[2m              \u001b[0m\n",
       "\u001b[2;36m                    \u001b[0m         priority = \u001b[1;36m1\u001b[0m                                      \u001b[2m              \u001b[0m\n"
      ]
     },
     "metadata": {},
     "output_type": "display_data"
    },
    {
     "data": {
      "text/html": [
       "<pre style=\"white-space:pre;overflow-x:auto;line-height:normal;font-family:Menlo,'DejaVu Sans Mono',consolas,'Courier New',monospace\"><span style=\"color: #7fbfbf; text-decoration-color: #7fbfbf\">                    </span><span style=\"color: #000080; text-decoration-color: #000080\">INFO    </span> colossalai - colossalai - <span style=\"color: #008080; text-decoration-color: #008080; font-weight: bold\">2022</span>-<span style=\"color: #008080; text-decoration-color: #008080; font-weight: bold\">03</span>-<span style=\"color: #008080; text-decoration-color: #008080; font-weight: bold\">29</span> <span style=\"color: #00ff00; text-decoration-color: #00ff00; font-weight: bold\">03:09:02</span>,<span style=\"color: #008080; text-decoration-color: #008080; font-weight: bold\">478</span> <a href=\"file:///home/fiona/anaconda3/envs/pytorch/lib/python3.9/site-packages/colossalai/logging/logging.py\" target=\"_blank\"><span style=\"color: #7f7f7f; text-decoration-color: #7f7f7f\">logging.py</span></a><span style=\"color: #7f7f7f; text-decoration-color: #7f7f7f\">:</span><a href=\"file:///home/fiona/anaconda3/envs/pytorch/lib/python3.9/site-packages/colossalai/logging/logging.py#109\" target=\"_blank\"><span style=\"color: #7f7f7f; text-decoration-color: #7f7f7f\">109</span></a>\n",
       "<span style=\"color: #7fbfbf; text-decoration-color: #7fbfbf\">                    </span>         INFO: Using LogMetricByEpochHook for training,    <span style=\"color: #7f7f7f; text-decoration-color: #7f7f7f\">              </span>\n",
       "<span style=\"color: #7fbfbf; text-decoration-color: #7fbfbf\">                    </span>         priority = <span style=\"color: #008080; text-decoration-color: #008080; font-weight: bold\">10</span>                                     <span style=\"color: #7f7f7f; text-decoration-color: #7f7f7f\">              </span>\n",
       "</pre>\n"
      ],
      "text/plain": [
       "\u001b[2;36m                   \u001b[0m\u001b[2;36m \u001b[0m\u001b[34mINFO    \u001b[0m colossalai - colossalai - \u001b[1;36m2022\u001b[0m-\u001b[1;36m03\u001b[0m-\u001b[1;36m29\u001b[0m \u001b[1;92m03:09:02\u001b[0m,\u001b[1;36m478\u001b[0m \u001b]8;id=821058;file:///home/fiona/anaconda3/envs/pytorch/lib/python3.9/site-packages/colossalai/logging/logging.py\u001b\\\u001b[2mlogging.py\u001b[0m\u001b]8;;\u001b\\\u001b[2m:\u001b[0m\u001b]8;id=523742;file:///home/fiona/anaconda3/envs/pytorch/lib/python3.9/site-packages/colossalai/logging/logging.py#109\u001b\\\u001b[2m109\u001b[0m\u001b]8;;\u001b\\\n",
       "\u001b[2;36m                    \u001b[0m         INFO: Using LogMetricByEpochHook for training,    \u001b[2m              \u001b[0m\n",
       "\u001b[2;36m                    \u001b[0m         priority = \u001b[1;36m10\u001b[0m                                     \u001b[2m              \u001b[0m\n"
      ]
     },
     "metadata": {},
     "output_type": "display_data"
    },
    {
     "data": {
      "text/html": [
       "<pre style=\"white-space:pre;overflow-x:auto;line-height:normal;font-family:Menlo,'DejaVu Sans Mono',consolas,'Courier New',monospace\"><span style=\"color: #7fbfbf; text-decoration-color: #7fbfbf\">                    </span><span style=\"color: #000080; text-decoration-color: #000080\">INFO    </span> colossalai - colossalai - <span style=\"color: #008080; text-decoration-color: #008080; font-weight: bold\">2022</span>-<span style=\"color: #008080; text-decoration-color: #008080; font-weight: bold\">03</span>-<span style=\"color: #008080; text-decoration-color: #008080; font-weight: bold\">29</span> <span style=\"color: #00ff00; text-decoration-color: #00ff00; font-weight: bold\">03:09:02</span>,<span style=\"color: #008080; text-decoration-color: #008080; font-weight: bold\">481</span> <a href=\"file:///home/fiona/anaconda3/envs/pytorch/lib/python3.9/site-packages/colossalai/logging/logging.py\" target=\"_blank\"><span style=\"color: #7f7f7f; text-decoration-color: #7f7f7f\">logging.py</span></a><span style=\"color: #7f7f7f; text-decoration-color: #7f7f7f\">:</span><a href=\"file:///home/fiona/anaconda3/envs/pytorch/lib/python3.9/site-packages/colossalai/logging/logging.py#109\" target=\"_blank\"><span style=\"color: #7f7f7f; text-decoration-color: #7f7f7f\">109</span></a>\n",
       "<span style=\"color: #7fbfbf; text-decoration-color: #7fbfbf\">                    </span>         INFO: Using LogMemoryByEpochHook for training,    <span style=\"color: #7f7f7f; text-decoration-color: #7f7f7f\">              </span>\n",
       "<span style=\"color: #7fbfbf; text-decoration-color: #7fbfbf\">                    </span>         priority = <span style=\"color: #008080; text-decoration-color: #008080; font-weight: bold\">10</span>                                     <span style=\"color: #7f7f7f; text-decoration-color: #7f7f7f\">              </span>\n",
       "</pre>\n"
      ],
      "text/plain": [
       "\u001b[2;36m                   \u001b[0m\u001b[2;36m \u001b[0m\u001b[34mINFO    \u001b[0m colossalai - colossalai - \u001b[1;36m2022\u001b[0m-\u001b[1;36m03\u001b[0m-\u001b[1;36m29\u001b[0m \u001b[1;92m03:09:02\u001b[0m,\u001b[1;36m481\u001b[0m \u001b]8;id=702420;file:///home/fiona/anaconda3/envs/pytorch/lib/python3.9/site-packages/colossalai/logging/logging.py\u001b\\\u001b[2mlogging.py\u001b[0m\u001b]8;;\u001b\\\u001b[2m:\u001b[0m\u001b]8;id=400604;file:///home/fiona/anaconda3/envs/pytorch/lib/python3.9/site-packages/colossalai/logging/logging.py#109\u001b\\\u001b[2m109\u001b[0m\u001b]8;;\u001b\\\n",
       "\u001b[2;36m                    \u001b[0m         INFO: Using LogMemoryByEpochHook for training,    \u001b[2m              \u001b[0m\n",
       "\u001b[2;36m                    \u001b[0m         priority = \u001b[1;36m10\u001b[0m                                     \u001b[2m              \u001b[0m\n"
      ]
     },
     "metadata": {},
     "output_type": "display_data"
    },
    {
     "data": {
      "text/html": [
       "<pre style=\"white-space:pre;overflow-x:auto;line-height:normal;font-family:Menlo,'DejaVu Sans Mono',consolas,'Courier New',monospace\"><span style=\"color: #7fbfbf; text-decoration-color: #7fbfbf\">                    </span><span style=\"color: #000080; text-decoration-color: #000080\">INFO    </span> colossalai - colossalai - <span style=\"color: #008080; text-decoration-color: #008080; font-weight: bold\">2022</span>-<span style=\"color: #008080; text-decoration-color: #008080; font-weight: bold\">03</span>-<span style=\"color: #008080; text-decoration-color: #008080; font-weight: bold\">29</span> <span style=\"color: #00ff00; text-decoration-color: #00ff00; font-weight: bold\">03:09:02</span>,<span style=\"color: #008080; text-decoration-color: #008080; font-weight: bold\">484</span> <a href=\"file:///home/fiona/anaconda3/envs/pytorch/lib/python3.9/site-packages/colossalai/logging/logging.py\" target=\"_blank\"><span style=\"color: #7f7f7f; text-decoration-color: #7f7f7f\">logging.py</span></a><span style=\"color: #7f7f7f; text-decoration-color: #7f7f7f\">:</span><a href=\"file:///home/fiona/anaconda3/envs/pytorch/lib/python3.9/site-packages/colossalai/logging/logging.py#109\" target=\"_blank\"><span style=\"color: #7f7f7f; text-decoration-color: #7f7f7f\">109</span></a>\n",
       "<span style=\"color: #7fbfbf; text-decoration-color: #7fbfbf\">                    </span>         INFO: Using LogTimingByEpochHook for training,    <span style=\"color: #7f7f7f; text-decoration-color: #7f7f7f\">              </span>\n",
       "<span style=\"color: #7fbfbf; text-decoration-color: #7fbfbf\">                    </span>         priority = <span style=\"color: #008080; text-decoration-color: #008080; font-weight: bold\">10</span>                                     <span style=\"color: #7f7f7f; text-decoration-color: #7f7f7f\">              </span>\n",
       "</pre>\n"
      ],
      "text/plain": [
       "\u001b[2;36m                   \u001b[0m\u001b[2;36m \u001b[0m\u001b[34mINFO    \u001b[0m colossalai - colossalai - \u001b[1;36m2022\u001b[0m-\u001b[1;36m03\u001b[0m-\u001b[1;36m29\u001b[0m \u001b[1;92m03:09:02\u001b[0m,\u001b[1;36m484\u001b[0m \u001b]8;id=527656;file:///home/fiona/anaconda3/envs/pytorch/lib/python3.9/site-packages/colossalai/logging/logging.py\u001b\\\u001b[2mlogging.py\u001b[0m\u001b]8;;\u001b\\\u001b[2m:\u001b[0m\u001b]8;id=952761;file:///home/fiona/anaconda3/envs/pytorch/lib/python3.9/site-packages/colossalai/logging/logging.py#109\u001b\\\u001b[2m109\u001b[0m\u001b]8;;\u001b\\\n",
       "\u001b[2;36m                    \u001b[0m         INFO: Using LogTimingByEpochHook for training,    \u001b[2m              \u001b[0m\n",
       "\u001b[2;36m                    \u001b[0m         priority = \u001b[1;36m10\u001b[0m                                     \u001b[2m              \u001b[0m\n"
      ]
     },
     "metadata": {},
     "output_type": "display_data"
    },
    {
     "data": {
      "text/html": [
       "<pre style=\"white-space:pre;overflow-x:auto;line-height:normal;font-family:Menlo,'DejaVu Sans Mono',consolas,'Courier New',monospace\"><span style=\"color: #7fbfbf; text-decoration-color: #7fbfbf\">                    </span><span style=\"color: #000080; text-decoration-color: #000080\">INFO    </span> colossalai - colossalai - <span style=\"color: #008080; text-decoration-color: #008080; font-weight: bold\">2022</span>-<span style=\"color: #008080; text-decoration-color: #008080; font-weight: bold\">03</span>-<span style=\"color: #008080; text-decoration-color: #008080; font-weight: bold\">29</span> <span style=\"color: #00ff00; text-decoration-color: #00ff00; font-weight: bold\">03:09:02</span>,<span style=\"color: #008080; text-decoration-color: #008080; font-weight: bold\">487</span> <a href=\"file:///home/fiona/anaconda3/envs/pytorch/lib/python3.9/site-packages/colossalai/logging/logging.py\" target=\"_blank\"><span style=\"color: #7f7f7f; text-decoration-color: #7f7f7f\">logging.py</span></a><span style=\"color: #7f7f7f; text-decoration-color: #7f7f7f\">:</span><a href=\"file:///home/fiona/anaconda3/envs/pytorch/lib/python3.9/site-packages/colossalai/logging/logging.py#109\" target=\"_blank\"><span style=\"color: #7f7f7f; text-decoration-color: #7f7f7f\">109</span></a>\n",
       "<span style=\"color: #7fbfbf; text-decoration-color: #7fbfbf\">                    </span>         INFO: Using TensorboardHook for training,         <span style=\"color: #7f7f7f; text-decoration-color: #7f7f7f\">              </span>\n",
       "<span style=\"color: #7fbfbf; text-decoration-color: #7fbfbf\">                    </span>         priority = <span style=\"color: #008080; text-decoration-color: #008080; font-weight: bold\">10</span>                                     <span style=\"color: #7f7f7f; text-decoration-color: #7f7f7f\">              </span>\n",
       "</pre>\n"
      ],
      "text/plain": [
       "\u001b[2;36m                   \u001b[0m\u001b[2;36m \u001b[0m\u001b[34mINFO    \u001b[0m colossalai - colossalai - \u001b[1;36m2022\u001b[0m-\u001b[1;36m03\u001b[0m-\u001b[1;36m29\u001b[0m \u001b[1;92m03:09:02\u001b[0m,\u001b[1;36m487\u001b[0m \u001b]8;id=307219;file:///home/fiona/anaconda3/envs/pytorch/lib/python3.9/site-packages/colossalai/logging/logging.py\u001b\\\u001b[2mlogging.py\u001b[0m\u001b]8;;\u001b\\\u001b[2m:\u001b[0m\u001b]8;id=229293;file:///home/fiona/anaconda3/envs/pytorch/lib/python3.9/site-packages/colossalai/logging/logging.py#109\u001b\\\u001b[2m109\u001b[0m\u001b]8;;\u001b\\\n",
       "\u001b[2;36m                    \u001b[0m         INFO: Using TensorboardHook for training,         \u001b[2m              \u001b[0m\n",
       "\u001b[2;36m                    \u001b[0m         priority = \u001b[1;36m10\u001b[0m                                     \u001b[2m              \u001b[0m\n"
      ]
     },
     "metadata": {},
     "output_type": "display_data"
    },
    {
     "data": {
      "text/html": [
       "<pre style=\"white-space:pre;overflow-x:auto;line-height:normal;font-family:Menlo,'DejaVu Sans Mono',consolas,'Courier New',monospace\"><span style=\"color: #7fbfbf; text-decoration-color: #7fbfbf\">                    </span><span style=\"color: #000080; text-decoration-color: #000080\">INFO    </span> colossalai - colossalai - <span style=\"color: #008080; text-decoration-color: #008080; font-weight: bold\">2022</span>-<span style=\"color: #008080; text-decoration-color: #008080; font-weight: bold\">03</span>-<span style=\"color: #008080; text-decoration-color: #008080; font-weight: bold\">29</span> <span style=\"color: #00ff00; text-decoration-color: #00ff00; font-weight: bold\">03:09:02</span>,<span style=\"color: #008080; text-decoration-color: #008080; font-weight: bold\">491</span> <a href=\"file:///home/fiona/anaconda3/envs/pytorch/lib/python3.9/site-packages/colossalai/logging/logging.py\" target=\"_blank\"><span style=\"color: #7f7f7f; text-decoration-color: #7f7f7f\">logging.py</span></a><span style=\"color: #7f7f7f; text-decoration-color: #7f7f7f\">:</span><a href=\"file:///home/fiona/anaconda3/envs/pytorch/lib/python3.9/site-packages/colossalai/logging/logging.py#109\" target=\"_blank\"><span style=\"color: #7f7f7f; text-decoration-color: #7f7f7f\">109</span></a>\n",
       "<span style=\"color: #7fbfbf; text-decoration-color: #7fbfbf\">                    </span>         INFO: Lower value means higher priority for       <span style=\"color: #7f7f7f; text-decoration-color: #7f7f7f\">              </span>\n",
       "<span style=\"color: #7fbfbf; text-decoration-color: #7fbfbf\">                    </span>         calling hook function                             <span style=\"color: #7f7f7f; text-decoration-color: #7f7f7f\">              </span>\n",
       "</pre>\n"
      ],
      "text/plain": [
       "\u001b[2;36m                   \u001b[0m\u001b[2;36m \u001b[0m\u001b[34mINFO    \u001b[0m colossalai - colossalai - \u001b[1;36m2022\u001b[0m-\u001b[1;36m03\u001b[0m-\u001b[1;36m29\u001b[0m \u001b[1;92m03:09:02\u001b[0m,\u001b[1;36m491\u001b[0m \u001b]8;id=858829;file:///home/fiona/anaconda3/envs/pytorch/lib/python3.9/site-packages/colossalai/logging/logging.py\u001b\\\u001b[2mlogging.py\u001b[0m\u001b]8;;\u001b\\\u001b[2m:\u001b[0m\u001b]8;id=705451;file:///home/fiona/anaconda3/envs/pytorch/lib/python3.9/site-packages/colossalai/logging/logging.py#109\u001b\\\u001b[2m109\u001b[0m\u001b]8;;\u001b\\\n",
       "\u001b[2;36m                    \u001b[0m         INFO: Lower value means higher priority for       \u001b[2m              \u001b[0m\n",
       "\u001b[2;36m                    \u001b[0m         calling hook function                             \u001b[2m              \u001b[0m\n"
      ]
     },
     "metadata": {},
     "output_type": "display_data"
    },
    {
     "data": {
      "text/html": [
       "<pre style=\"white-space:pre;overflow-x:auto;line-height:normal;font-family:Menlo,'DejaVu Sans Mono',consolas,'Courier New',monospace\"><span style=\"color: #7fbfbf; text-decoration-color: #7fbfbf\">                    </span><span style=\"color: #000080; text-decoration-color: #000080\">INFO    </span> colossalai - colossalai - <span style=\"color: #008080; text-decoration-color: #008080; font-weight: bold\">2022</span>-<span style=\"color: #008080; text-decoration-color: #008080; font-weight: bold\">03</span>-<span style=\"color: #008080; text-decoration-color: #008080; font-weight: bold\">29</span> <span style=\"color: #00ff00; text-decoration-color: #00ff00; font-weight: bold\">03:09:02</span>,<span style=\"color: #008080; text-decoration-color: #008080; font-weight: bold\">495</span> <a href=\"file:///home/fiona/anaconda3/envs/pytorch/lib/python3.9/site-packages/colossalai/logging/logging.py\" target=\"_blank\"><span style=\"color: #7f7f7f; text-decoration-color: #7f7f7f\">logging.py</span></a><span style=\"color: #7f7f7f; text-decoration-color: #7f7f7f\">:</span><a href=\"file:///home/fiona/anaconda3/envs/pytorch/lib/python3.9/site-packages/colossalai/logging/logging.py#105\" target=\"_blank\"><span style=\"color: #7f7f7f; text-decoration-color: #7f7f7f\">105</span></a>\n",
       "<span style=\"color: #7fbfbf; text-decoration-color: #7fbfbf\">                    </span>         INFO: Before-train: GPU: allocated <span style=\"color: #008080; text-decoration-color: #008080; font-weight: bold\">11.49</span> MB, max  <span style=\"color: #7f7f7f; text-decoration-color: #7f7f7f\">              </span>\n",
       "<span style=\"color: #7fbfbf; text-decoration-color: #7fbfbf\">                    </span>         allocated <span style=\"color: #008080; text-decoration-color: #008080; font-weight: bold\">11.49</span> MB, cached: <span style=\"color: #008080; text-decoration-color: #008080; font-weight: bold\">76.0</span> MB, max cached:  <span style=\"color: #7f7f7f; text-decoration-color: #7f7f7f\">              </span>\n",
       "<span style=\"color: #7fbfbf; text-decoration-color: #7fbfbf\">                    </span>         <span style=\"color: #008080; text-decoration-color: #008080; font-weight: bold\">76.0</span> MB                                           <span style=\"color: #7f7f7f; text-decoration-color: #7f7f7f\">              </span>\n",
       "</pre>\n"
      ],
      "text/plain": [
       "\u001b[2;36m                   \u001b[0m\u001b[2;36m \u001b[0m\u001b[34mINFO    \u001b[0m colossalai - colossalai - \u001b[1;36m2022\u001b[0m-\u001b[1;36m03\u001b[0m-\u001b[1;36m29\u001b[0m \u001b[1;92m03:09:02\u001b[0m,\u001b[1;36m495\u001b[0m \u001b]8;id=434022;file:///home/fiona/anaconda3/envs/pytorch/lib/python3.9/site-packages/colossalai/logging/logging.py\u001b\\\u001b[2mlogging.py\u001b[0m\u001b]8;;\u001b\\\u001b[2m:\u001b[0m\u001b]8;id=83080;file:///home/fiona/anaconda3/envs/pytorch/lib/python3.9/site-packages/colossalai/logging/logging.py#105\u001b\\\u001b[2m105\u001b[0m\u001b]8;;\u001b\\\n",
       "\u001b[2;36m                    \u001b[0m         INFO: Before-train: GPU: allocated \u001b[1;36m11.49\u001b[0m MB, max  \u001b[2m              \u001b[0m\n",
       "\u001b[2;36m                    \u001b[0m         allocated \u001b[1;36m11.49\u001b[0m MB, cached: \u001b[1;36m76.0\u001b[0m MB, max cached:  \u001b[2m              \u001b[0m\n",
       "\u001b[2;36m                    \u001b[0m         \u001b[1;36m76.0\u001b[0m MB                                           \u001b[2m              \u001b[0m\n"
      ]
     },
     "metadata": {},
     "output_type": "display_data"
    },
    {
     "name": "stderr",
     "output_type": "stream",
     "text": [
      "[Epoch 0 / Train]:  98%|████████████████████████████████████████████████████████████▊ | 460/469 [00:10<00:00, 45.31it/s]\n"
     ]
    },
    {
     "ename": "KeyboardInterrupt",
     "evalue": "",
     "output_type": "error",
     "traceback": [
      "\u001b[0;31m---------------------------------------------------------------------------\u001b[0m",
      "\u001b[0;31mKeyboardInterrupt\u001b[0m                         Traceback (most recent call last)",
      "Input \u001b[0;32mIn [10]\u001b[0m, in \u001b[0;36m<cell line: 13>\u001b[0;34m()\u001b[0m\n\u001b[1;32m     15\u001b[0m \u001b[38;5;28;01mfor\u001b[39;00m scheduler_method \u001b[38;5;129;01min\u001b[39;00m scheduler_methods:\n\u001b[1;32m     16\u001b[0m     \u001b[38;5;28mprint\u001b[39m(\u001b[38;5;124m'\u001b[39m\u001b[38;5;124m>>>>>>\u001b[39m\u001b[38;5;124m'\u001b[39m, optimizer_method, scheduler_method, learning_rate)\n\u001b[0;32m---> 17\u001b[0m     \u001b[43mrun\u001b[49m\u001b[43m(\u001b[49m\u001b[43moptimizer_method\u001b[49m\u001b[43m,\u001b[49m\u001b[43m \u001b[49m\u001b[43mscheduler_method\u001b[49m\u001b[43m,\u001b[49m\u001b[43m \u001b[49m\u001b[43mlearning_rate\u001b[49m\u001b[43m)\u001b[49m\n",
      "Input \u001b[0;32mIn [9]\u001b[0m, in \u001b[0;36mrun\u001b[0;34m(optimizer_method, scheduler_method, learning_rate)\u001b[0m\n\u001b[1;32m    113\u001b[0m hook_list \u001b[38;5;241m=\u001b[39m [\n\u001b[1;32m    114\u001b[0m     hooks\u001b[38;5;241m.\u001b[39mLossHook(),\n\u001b[1;32m    115\u001b[0m     hooks\u001b[38;5;241m.\u001b[39mLRSchedulerHook(lr_scheduler\u001b[38;5;241m=\u001b[39mlr_scheduler, by_epoch\u001b[38;5;241m=\u001b[39m\u001b[38;5;28;01mFalse\u001b[39;00m),\n\u001b[0;32m   (...)\u001b[0m\n\u001b[1;32m    123\u001b[0m     \u001b[38;5;66;03m# hooks.SaveCheckpointHook(checkpoint_dir='./ckpt')\u001b[39;00m\n\u001b[1;32m    124\u001b[0m ]\n\u001b[1;32m    126\u001b[0m \u001b[38;5;66;03m# start training\u001b[39;00m\n\u001b[0;32m--> 127\u001b[0m \u001b[43mtrainer\u001b[49m\u001b[38;5;241;43m.\u001b[39;49m\u001b[43mfit\u001b[49m\u001b[43m(\u001b[49m\n\u001b[1;32m    128\u001b[0m \u001b[43m    \u001b[49m\u001b[43mtrain_dataloader\u001b[49m\u001b[38;5;241;43m=\u001b[39;49m\u001b[43mtrain_dataloader\u001b[49m\u001b[43m,\u001b[49m\n\u001b[1;32m    129\u001b[0m \u001b[43m    \u001b[49m\u001b[43mepochs\u001b[49m\u001b[38;5;241;43m=\u001b[39;49m\u001b[43mgpc\u001b[49m\u001b[38;5;241;43m.\u001b[39;49m\u001b[43mconfig\u001b[49m\u001b[38;5;241;43m.\u001b[39;49m\u001b[43mNUM_EPOCHS\u001b[49m\u001b[43m,\u001b[49m\n\u001b[1;32m    130\u001b[0m \u001b[43m    \u001b[49m\u001b[43mtest_dataloader\u001b[49m\u001b[38;5;241;43m=\u001b[39;49m\u001b[43mtest_dataloader\u001b[49m\u001b[43m,\u001b[49m\n\u001b[1;32m    131\u001b[0m \u001b[43m    \u001b[49m\u001b[43mtest_interval\u001b[49m\u001b[38;5;241;43m=\u001b[39;49m\u001b[38;5;241;43m1\u001b[39;49m\u001b[43m,\u001b[49m\n\u001b[1;32m    132\u001b[0m \u001b[43m    \u001b[49m\u001b[43mhooks\u001b[49m\u001b[38;5;241;43m=\u001b[39;49m\u001b[43mhook_list\u001b[49m\u001b[43m,\u001b[49m\n\u001b[1;32m    133\u001b[0m \u001b[43m    \u001b[49m\u001b[43mdisplay_progress\u001b[49m\u001b[38;5;241;43m=\u001b[39;49m\u001b[38;5;28;43;01mTrue\u001b[39;49;00m\n\u001b[1;32m    134\u001b[0m \u001b[43m\u001b[49m\u001b[43m)\u001b[49m\n\u001b[1;32m    136\u001b[0m logger\u001b[38;5;241m.\u001b[39mlog_to_file(\u001b[38;5;124mf\u001b[39m\u001b[38;5;124m'\u001b[39m\u001b[38;5;124m./tb_logs/\u001b[39m\u001b[38;5;132;01m{\u001b[39;00md_name\u001b[38;5;132;01m}\u001b[39;00m\u001b[38;5;124m'\u001b[39m)\n",
      "File \u001b[0;32m~/anaconda3/envs/pytorch/lib/python3.9/site-packages/colossalai/trainer/_trainer.py:340\u001b[0m, in \u001b[0;36mTrainer.fit\u001b[0;34m(self, train_dataloader, epochs, max_steps, test_dataloader, test_interval, hooks, display_progress, return_output_label)\u001b[0m\n\u001b[1;32m    336\u001b[0m     \u001b[38;5;28mself\u001b[39m\u001b[38;5;241m.\u001b[39m_set_current_step(last_epoch)\n\u001b[1;32m    338\u001b[0m \u001b[38;5;28;01mfor\u001b[39;00m epoch \u001b[38;5;129;01min\u001b[39;00m \u001b[38;5;28mrange\u001b[39m(last_epoch, epochs):\n\u001b[1;32m    339\u001b[0m     \u001b[38;5;66;03m# train for one epoch\u001b[39;00m\n\u001b[0;32m--> 340\u001b[0m     \u001b[38;5;28;43mself\u001b[39;49m\u001b[38;5;241;43m.\u001b[39;49m\u001b[43m_train_epoch\u001b[49m\u001b[43m(\u001b[49m\n\u001b[1;32m    341\u001b[0m \u001b[43m        \u001b[49m\u001b[43mtrain_dataloader\u001b[49m\u001b[38;5;241;43m=\u001b[39;49m\u001b[43mtrain_dataloader\u001b[49m\u001b[43m,\u001b[49m\n\u001b[1;32m    342\u001b[0m \u001b[43m        \u001b[49m\u001b[43mepoch\u001b[49m\u001b[38;5;241;43m=\u001b[39;49m\u001b[43mepoch\u001b[49m\u001b[43m,\u001b[49m\n\u001b[1;32m    343\u001b[0m \u001b[43m        \u001b[49m\u001b[43mdisplay_progress\u001b[49m\u001b[38;5;241;43m=\u001b[39;49m\u001b[43mdisplay_progress\u001b[49m\u001b[43m,\u001b[49m\n\u001b[1;32m    344\u001b[0m \u001b[43m        \u001b[49m\u001b[43mreturn_output_label\u001b[49m\u001b[38;5;241;43m=\u001b[39;49m\u001b[43mreturn_output_label\u001b[49m\u001b[43m,\u001b[49m\n\u001b[1;32m    345\u001b[0m \u001b[43m    \u001b[49m\u001b[43m)\u001b[49m\n\u001b[1;32m    347\u001b[0m     \u001b[38;5;66;03m# start eval\u001b[39;00m\n\u001b[1;32m    348\u001b[0m     \u001b[38;5;28;01mif\u001b[39;00m should_test \u001b[38;5;129;01mand\u001b[39;00m epoch \u001b[38;5;241m%\u001b[39m test_interval \u001b[38;5;241m==\u001b[39m \u001b[38;5;241m0\u001b[39m:\n",
      "File \u001b[0;32m~/anaconda3/envs/pytorch/lib/python3.9/site-packages/colossalai/trainer/_trainer.py:180\u001b[0m, in \u001b[0;36mTrainer._train_epoch\u001b[0;34m(self, train_dataloader, epoch, display_progress, return_output_label)\u001b[0m\n\u001b[1;32m    178\u001b[0m \u001b[38;5;66;03m# run 1 training step\u001b[39;00m\n\u001b[1;32m    179\u001b[0m \u001b[38;5;28mself\u001b[39m\u001b[38;5;241m.\u001b[39mengine\u001b[38;5;241m.\u001b[39mzero_grad()\n\u001b[0;32m--> 180\u001b[0m logits, label, loss \u001b[38;5;241m=\u001b[39m \u001b[38;5;28;43mself\u001b[39;49m\u001b[38;5;241;43m.\u001b[39;49m\u001b[43mschedule\u001b[49m\u001b[38;5;241;43m.\u001b[39;49m\u001b[43mforward_backward_step\u001b[49m\u001b[43m(\u001b[49m\n\u001b[1;32m    181\u001b[0m \u001b[43m    \u001b[49m\u001b[38;5;28;43mself\u001b[39;49m\u001b[38;5;241;43m.\u001b[39;49m\u001b[43mengine\u001b[49m\u001b[43m,\u001b[49m\n\u001b[1;32m    182\u001b[0m \u001b[43m    \u001b[49m\u001b[43mdata_iter\u001b[49m\u001b[43m,\u001b[49m\n\u001b[1;32m    183\u001b[0m \u001b[43m    \u001b[49m\u001b[43mforward_only\u001b[49m\u001b[38;5;241;43m=\u001b[39;49m\u001b[38;5;28;43;01mFalse\u001b[39;49;00m\u001b[43m,\u001b[49m\n\u001b[1;32m    184\u001b[0m \u001b[43m    \u001b[49m\u001b[43mreturn_loss\u001b[49m\u001b[38;5;241;43m=\u001b[39;49m\u001b[38;5;28;43;01mTrue\u001b[39;49;00m\u001b[43m,\u001b[49m\n\u001b[1;32m    185\u001b[0m \u001b[43m    \u001b[49m\u001b[43mreturn_output_label\u001b[49m\u001b[38;5;241;43m=\u001b[39;49m\u001b[43mreturn_output_label\u001b[49m\u001b[43m,\u001b[49m\n\u001b[1;32m    186\u001b[0m \u001b[43m\u001b[49m\u001b[43m)\u001b[49m\n\u001b[1;32m    187\u001b[0m \u001b[38;5;28mself\u001b[39m\u001b[38;5;241m.\u001b[39mengine\u001b[38;5;241m.\u001b[39mstep()\n\u001b[1;32m    188\u001b[0m \u001b[38;5;28mself\u001b[39m\u001b[38;5;241m.\u001b[39m_call_timer(action\u001b[38;5;241m=\u001b[39m\u001b[38;5;124m\"\u001b[39m\u001b[38;5;124mstop\u001b[39m\u001b[38;5;124m\"\u001b[39m,\n\u001b[1;32m    189\u001b[0m                  item\u001b[38;5;241m=\u001b[39m\u001b[38;5;124m\"\u001b[39m\u001b[38;5;124mTrain-step\u001b[39m\u001b[38;5;124m\"\u001b[39m,\n\u001b[1;32m    190\u001b[0m                  keep_in_history\u001b[38;5;241m=\u001b[39m\u001b[38;5;28;01mTrue\u001b[39;00m)\n",
      "File \u001b[0;32m~/anaconda3/envs/pytorch/lib/python3.9/site-packages/colossalai/engine/schedule/_non_pipeline_schedule.py:45\u001b[0m, in \u001b[0;36mNonPipelineSchedule.forward_backward_step\u001b[0;34m(self, engine, data_iter, forward_only, return_loss, return_output_label)\u001b[0m\n\u001b[1;32m     26\u001b[0m \u001b[38;5;124;03m\"\"\"The process function that loads loads a batch of dataset and feeds it to the model.\u001b[39;00m\n\u001b[1;32m     27\u001b[0m \u001b[38;5;124;03mThe returned labels and loss will None if :attr:`return_loss` is False.\u001b[39;00m\n\u001b[1;32m     28\u001b[0m \n\u001b[0;32m   (...)\u001b[0m\n\u001b[1;32m     41\u001b[0m \u001b[38;5;124;03m:rtype: Tuple[:class:`torch.Tensor`]\u001b[39;00m\n\u001b[1;32m     42\u001b[0m \u001b[38;5;124;03m\"\"\"\u001b[39;00m\n\u001b[1;32m     43\u001b[0m \u001b[38;5;28;01massert\u001b[39;00m forward_only \u001b[38;5;129;01mor\u001b[39;00m return_loss, \\\n\u001b[1;32m     44\u001b[0m     \u001b[38;5;124m\"\u001b[39m\u001b[38;5;124mThe argument \u001b[39m\u001b[38;5;124m'\u001b[39m\u001b[38;5;124mreturn_loss\u001b[39m\u001b[38;5;124m'\u001b[39m\u001b[38;5;124m has to be True when \u001b[39m\u001b[38;5;124m'\u001b[39m\u001b[38;5;124mforward_only\u001b[39m\u001b[38;5;124m'\u001b[39m\u001b[38;5;124m is False, but got False.\u001b[39m\u001b[38;5;124m\"\u001b[39m\n\u001b[0;32m---> 45\u001b[0m data, label \u001b[38;5;241m=\u001b[39m \u001b[38;5;28;43mself\u001b[39;49m\u001b[38;5;241;43m.\u001b[39;49m\u001b[43mload_batch\u001b[49m\u001b[43m(\u001b[49m\u001b[43mdata_iter\u001b[49m\u001b[43m)\u001b[49m\n\u001b[1;32m     47\u001b[0m \u001b[38;5;66;03m# forward\u001b[39;00m\n\u001b[1;32m     48\u001b[0m \u001b[38;5;28;01mwith\u001b[39;00m conditional_context(torch\u001b[38;5;241m.\u001b[39mno_grad(), enable\u001b[38;5;241m=\u001b[39mforward_only):\n",
      "File \u001b[0;32m~/anaconda3/envs/pytorch/lib/python3.9/site-packages/colossalai/engine/schedule/_base_schedule.py:59\u001b[0m, in \u001b[0;36mBaseSchedule.load_batch\u001b[0;34m(self, data_iter, to_gpu)\u001b[0m\n\u001b[1;32m     57\u001b[0m \u001b[38;5;28;01mif\u001b[39;00m data_iter \u001b[38;5;129;01mis\u001b[39;00m \u001b[38;5;28;01mNone\u001b[39;00m:\n\u001b[1;32m     58\u001b[0m     \u001b[38;5;28;01mraise\u001b[39;00m \u001b[38;5;167;01mRuntimeError\u001b[39;00m(\u001b[38;5;124m'\u001b[39m\u001b[38;5;124mDataloader is not defined.\u001b[39m\u001b[38;5;124m'\u001b[39m)\n\u001b[0;32m---> 59\u001b[0m batch_data \u001b[38;5;241m=\u001b[39m \u001b[38;5;28;43mnext\u001b[39;49m\u001b[43m(\u001b[49m\u001b[43mdata_iter\u001b[49m\u001b[43m)\u001b[49m\n\u001b[1;32m     61\u001b[0m \u001b[38;5;28;01mif\u001b[39;00m \u001b[38;5;28mself\u001b[39m\u001b[38;5;241m.\u001b[39mbatch_data_process_func:\n\u001b[1;32m     62\u001b[0m     data, label \u001b[38;5;241m=\u001b[39m \u001b[38;5;28mself\u001b[39m\u001b[38;5;241m.\u001b[39mbatch_data_process_func(batch_data)\n",
      "File \u001b[0;32m~/anaconda3/envs/pytorch/lib/python3.9/site-packages/torch/utils/data/dataloader.py:530\u001b[0m, in \u001b[0;36m_BaseDataLoaderIter.__next__\u001b[0;34m(self)\u001b[0m\n\u001b[1;32m    528\u001b[0m \u001b[38;5;28;01mif\u001b[39;00m \u001b[38;5;28mself\u001b[39m\u001b[38;5;241m.\u001b[39m_sampler_iter \u001b[38;5;129;01mis\u001b[39;00m \u001b[38;5;28;01mNone\u001b[39;00m:\n\u001b[1;32m    529\u001b[0m     \u001b[38;5;28mself\u001b[39m\u001b[38;5;241m.\u001b[39m_reset()\n\u001b[0;32m--> 530\u001b[0m data \u001b[38;5;241m=\u001b[39m \u001b[38;5;28;43mself\u001b[39;49m\u001b[38;5;241;43m.\u001b[39;49m\u001b[43m_next_data\u001b[49m\u001b[43m(\u001b[49m\u001b[43m)\u001b[49m\n\u001b[1;32m    531\u001b[0m \u001b[38;5;28mself\u001b[39m\u001b[38;5;241m.\u001b[39m_num_yielded \u001b[38;5;241m+\u001b[39m\u001b[38;5;241m=\u001b[39m \u001b[38;5;241m1\u001b[39m\n\u001b[1;32m    532\u001b[0m \u001b[38;5;28;01mif\u001b[39;00m \u001b[38;5;28mself\u001b[39m\u001b[38;5;241m.\u001b[39m_dataset_kind \u001b[38;5;241m==\u001b[39m _DatasetKind\u001b[38;5;241m.\u001b[39mIterable \u001b[38;5;129;01mand\u001b[39;00m \\\n\u001b[1;32m    533\u001b[0m         \u001b[38;5;28mself\u001b[39m\u001b[38;5;241m.\u001b[39m_IterableDataset_len_called \u001b[38;5;129;01mis\u001b[39;00m \u001b[38;5;129;01mnot\u001b[39;00m \u001b[38;5;28;01mNone\u001b[39;00m \u001b[38;5;129;01mand\u001b[39;00m \\\n\u001b[1;32m    534\u001b[0m         \u001b[38;5;28mself\u001b[39m\u001b[38;5;241m.\u001b[39m_num_yielded \u001b[38;5;241m>\u001b[39m \u001b[38;5;28mself\u001b[39m\u001b[38;5;241m.\u001b[39m_IterableDataset_len_called:\n",
      "File \u001b[0;32m~/anaconda3/envs/pytorch/lib/python3.9/site-packages/torch/utils/data/dataloader.py:1207\u001b[0m, in \u001b[0;36m_MultiProcessingDataLoaderIter._next_data\u001b[0;34m(self)\u001b[0m\n\u001b[1;32m   1204\u001b[0m     \u001b[38;5;28;01mreturn\u001b[39;00m \u001b[38;5;28mself\u001b[39m\u001b[38;5;241m.\u001b[39m_process_data(data)\n\u001b[1;32m   1206\u001b[0m \u001b[38;5;28;01massert\u001b[39;00m \u001b[38;5;129;01mnot\u001b[39;00m \u001b[38;5;28mself\u001b[39m\u001b[38;5;241m.\u001b[39m_shutdown \u001b[38;5;129;01mand\u001b[39;00m \u001b[38;5;28mself\u001b[39m\u001b[38;5;241m.\u001b[39m_tasks_outstanding \u001b[38;5;241m>\u001b[39m \u001b[38;5;241m0\u001b[39m\n\u001b[0;32m-> 1207\u001b[0m idx, data \u001b[38;5;241m=\u001b[39m \u001b[38;5;28;43mself\u001b[39;49m\u001b[38;5;241;43m.\u001b[39;49m\u001b[43m_get_data\u001b[49m\u001b[43m(\u001b[49m\u001b[43m)\u001b[49m\n\u001b[1;32m   1208\u001b[0m \u001b[38;5;28mself\u001b[39m\u001b[38;5;241m.\u001b[39m_tasks_outstanding \u001b[38;5;241m-\u001b[39m\u001b[38;5;241m=\u001b[39m \u001b[38;5;241m1\u001b[39m\n\u001b[1;32m   1209\u001b[0m \u001b[38;5;28;01mif\u001b[39;00m \u001b[38;5;28mself\u001b[39m\u001b[38;5;241m.\u001b[39m_dataset_kind \u001b[38;5;241m==\u001b[39m _DatasetKind\u001b[38;5;241m.\u001b[39mIterable:\n\u001b[1;32m   1210\u001b[0m     \u001b[38;5;66;03m# Check for _IterableDatasetStopIteration\u001b[39;00m\n",
      "File \u001b[0;32m~/anaconda3/envs/pytorch/lib/python3.9/site-packages/torch/utils/data/dataloader.py:1163\u001b[0m, in \u001b[0;36m_MultiProcessingDataLoaderIter._get_data\u001b[0;34m(self)\u001b[0m\n\u001b[1;32m   1161\u001b[0m \u001b[38;5;28;01melif\u001b[39;00m \u001b[38;5;28mself\u001b[39m\u001b[38;5;241m.\u001b[39m_pin_memory:\n\u001b[1;32m   1162\u001b[0m     \u001b[38;5;28;01mwhile\u001b[39;00m \u001b[38;5;28mself\u001b[39m\u001b[38;5;241m.\u001b[39m_pin_memory_thread\u001b[38;5;241m.\u001b[39mis_alive():\n\u001b[0;32m-> 1163\u001b[0m         success, data \u001b[38;5;241m=\u001b[39m \u001b[38;5;28;43mself\u001b[39;49m\u001b[38;5;241;43m.\u001b[39;49m\u001b[43m_try_get_data\u001b[49m\u001b[43m(\u001b[49m\u001b[43m)\u001b[49m\n\u001b[1;32m   1164\u001b[0m         \u001b[38;5;28;01mif\u001b[39;00m success:\n\u001b[1;32m   1165\u001b[0m             \u001b[38;5;28;01mreturn\u001b[39;00m data\n",
      "File \u001b[0;32m~/anaconda3/envs/pytorch/lib/python3.9/site-packages/torch/utils/data/dataloader.py:1011\u001b[0m, in \u001b[0;36m_MultiProcessingDataLoaderIter._try_get_data\u001b[0;34m(self, timeout)\u001b[0m\n\u001b[1;32m    998\u001b[0m \u001b[38;5;28;01mdef\u001b[39;00m \u001b[38;5;21m_try_get_data\u001b[39m(\u001b[38;5;28mself\u001b[39m, timeout\u001b[38;5;241m=\u001b[39m_utils\u001b[38;5;241m.\u001b[39mMP_STATUS_CHECK_INTERVAL):\n\u001b[1;32m    999\u001b[0m     \u001b[38;5;66;03m# Tries to fetch data from `self._data_queue` once for a given timeout.\u001b[39;00m\n\u001b[1;32m   1000\u001b[0m     \u001b[38;5;66;03m# This can also be used as inner loop of fetching without timeout, with\u001b[39;00m\n\u001b[0;32m   (...)\u001b[0m\n\u001b[1;32m   1008\u001b[0m     \u001b[38;5;66;03m# Returns a 2-tuple:\u001b[39;00m\n\u001b[1;32m   1009\u001b[0m     \u001b[38;5;66;03m#   (bool: whether successfully get data, any: data if successful else None)\u001b[39;00m\n\u001b[1;32m   1010\u001b[0m     \u001b[38;5;28;01mtry\u001b[39;00m:\n\u001b[0;32m-> 1011\u001b[0m         data \u001b[38;5;241m=\u001b[39m \u001b[38;5;28;43mself\u001b[39;49m\u001b[38;5;241;43m.\u001b[39;49m\u001b[43m_data_queue\u001b[49m\u001b[38;5;241;43m.\u001b[39;49m\u001b[43mget\u001b[49m\u001b[43m(\u001b[49m\u001b[43mtimeout\u001b[49m\u001b[38;5;241;43m=\u001b[39;49m\u001b[43mtimeout\u001b[49m\u001b[43m)\u001b[49m\n\u001b[1;32m   1012\u001b[0m         \u001b[38;5;28;01mreturn\u001b[39;00m (\u001b[38;5;28;01mTrue\u001b[39;00m, data)\n\u001b[1;32m   1013\u001b[0m     \u001b[38;5;28;01mexcept\u001b[39;00m \u001b[38;5;167;01mException\u001b[39;00m \u001b[38;5;28;01mas\u001b[39;00m e:\n\u001b[1;32m   1014\u001b[0m         \u001b[38;5;66;03m# At timeout and error, we manually check whether any worker has\u001b[39;00m\n\u001b[1;32m   1015\u001b[0m         \u001b[38;5;66;03m# failed. Note that this is the only mechanism for Windows to detect\u001b[39;00m\n\u001b[1;32m   1016\u001b[0m         \u001b[38;5;66;03m# worker failures.\u001b[39;00m\n",
      "File \u001b[0;32m~/anaconda3/envs/pytorch/lib/python3.9/queue.py:180\u001b[0m, in \u001b[0;36mQueue.get\u001b[0;34m(self, block, timeout)\u001b[0m\n\u001b[1;32m    178\u001b[0m         \u001b[38;5;28;01mif\u001b[39;00m remaining \u001b[38;5;241m<\u001b[39m\u001b[38;5;241m=\u001b[39m \u001b[38;5;241m0.0\u001b[39m:\n\u001b[1;32m    179\u001b[0m             \u001b[38;5;28;01mraise\u001b[39;00m Empty\n\u001b[0;32m--> 180\u001b[0m         \u001b[38;5;28;43mself\u001b[39;49m\u001b[38;5;241;43m.\u001b[39;49m\u001b[43mnot_empty\u001b[49m\u001b[38;5;241;43m.\u001b[39;49m\u001b[43mwait\u001b[49m\u001b[43m(\u001b[49m\u001b[43mremaining\u001b[49m\u001b[43m)\u001b[49m\n\u001b[1;32m    181\u001b[0m item \u001b[38;5;241m=\u001b[39m \u001b[38;5;28mself\u001b[39m\u001b[38;5;241m.\u001b[39m_get()\n\u001b[1;32m    182\u001b[0m \u001b[38;5;28mself\u001b[39m\u001b[38;5;241m.\u001b[39mnot_full\u001b[38;5;241m.\u001b[39mnotify()\n",
      "File \u001b[0;32m~/anaconda3/envs/pytorch/lib/python3.9/threading.py:316\u001b[0m, in \u001b[0;36mCondition.wait\u001b[0;34m(self, timeout)\u001b[0m\n\u001b[1;32m    314\u001b[0m \u001b[38;5;28;01melse\u001b[39;00m:\n\u001b[1;32m    315\u001b[0m     \u001b[38;5;28;01mif\u001b[39;00m timeout \u001b[38;5;241m>\u001b[39m \u001b[38;5;241m0\u001b[39m:\n\u001b[0;32m--> 316\u001b[0m         gotit \u001b[38;5;241m=\u001b[39m \u001b[43mwaiter\u001b[49m\u001b[38;5;241;43m.\u001b[39;49m\u001b[43macquire\u001b[49m\u001b[43m(\u001b[49m\u001b[38;5;28;43;01mTrue\u001b[39;49;00m\u001b[43m,\u001b[49m\u001b[43m \u001b[49m\u001b[43mtimeout\u001b[49m\u001b[43m)\u001b[49m\n\u001b[1;32m    317\u001b[0m     \u001b[38;5;28;01melse\u001b[39;00m:\n\u001b[1;32m    318\u001b[0m         gotit \u001b[38;5;241m=\u001b[39m waiter\u001b[38;5;241m.\u001b[39macquire(\u001b[38;5;28;01mFalse\u001b[39;00m)\n",
      "\u001b[0;31mKeyboardInterrupt\u001b[0m: "
     ]
    }
   ],
   "source": [
    "# Propose several learning rates for real training.\n",
    "learning_rates = [0.1]\n",
    "# Choose one optimizer\n",
    "optimizer_methods = ['sgd','adamw']\n",
    "# Choose two learning rate scheduling method \n",
    "scheduler_methods = ['lambda','multistep']\n",
    "\n",
    "# Single launch\n",
    "config = {'BATCH_SIZE':128,'NUM_EPOCHS':10}\n",
    "colossalai.launch(config=config,rank=0,world_size=1,host='127.0.0.1',port=1234)\n",
    "\n",
    "# Loop\n",
    "for learning_rate in learning_rates:\n",
    "    for optimizer_method in optimizer_methods:\n",
    "        for scheduler_method in scheduler_methods:\n",
    "            print('>>>>>>', optimizer_method, scheduler_method, learning_rate)\n",
    "            run(optimizer_method, scheduler_method, learning_rate)"
   ]
  },
  {
   "cell_type": "code",
   "execution_count": null,
   "id": "c7021111",
   "metadata": {},
   "outputs": [],
   "source": []
  },
  {
   "cell_type": "code",
   "execution_count": null,
   "id": "be899964",
   "metadata": {},
   "outputs": [],
   "source": []
  }
 ],
 "metadata": {
  "kernelspec": {
   "display_name": "Python [conda env:pytorch]",
   "language": "python",
   "name": "conda-env-pytorch-py"
  },
  "language_info": {
   "codemirror_mode": {
    "name": "ipython",
    "version": 3
   },
   "file_extension": ".py",
   "mimetype": "text/x-python",
   "name": "python",
   "nbconvert_exporter": "python",
   "pygments_lexer": "ipython3",
   "version": "3.9.12"
  }
 },
 "nbformat": 4,
 "nbformat_minor": 5
}
