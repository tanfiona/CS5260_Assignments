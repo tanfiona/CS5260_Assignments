{
 "cells": [
  {
   "cell_type": "code",
   "execution_count": 2,
   "id": "1b1c5fd7",
   "metadata": {},
   "outputs": [
    {
     "name": "stdout",
     "output_type": "stream",
     "text": [
      "The tensorboard extension is already loaded. To reload it, use:\n",
      "  %reload_ext tensorboard\n"
     ]
    },
    {
     "data": {
      "text/plain": [
       "Reusing TensorBoard on port 6006 (pid 37805), started 0:00:05 ago. (Use '!kill 37805' to kill it.)"
      ]
     },
     "metadata": {},
     "output_type": "display_data"
    },
    {
     "data": {
      "text/html": [
       "\n",
       "      <iframe id=\"tensorboard-frame-b4c81e06781897e\" width=\"100%\" height=\"800\" frameborder=\"0\">\n",
       "      </iframe>\n",
       "      <script>\n",
       "        (function() {\n",
       "          const frame = document.getElementById(\"tensorboard-frame-b4c81e06781897e\");\n",
       "          const url = new URL(\"/\", window.location);\n",
       "          const port = 6006;\n",
       "          if (port) {\n",
       "            url.port = port;\n",
       "          }\n",
       "          frame.src = url;\n",
       "        })();\n",
       "      </script>\n",
       "    "
      ],
      "text/plain": [
       "<IPython.core.display.HTML object>"
      ]
     },
     "metadata": {},
     "output_type": "display_data"
    }
   ],
   "source": [
    "%load_ext tensorboard\n",
    "%tensorboard --logdir tb_logs"
   ]
  },
  {
   "cell_type": "code",
   "execution_count": 1,
   "id": "008b9595",
   "metadata": {
    "scrolled": true
   },
   "outputs": [
    {
     "data": {
      "text/plain": [
       "['sgd_lambda_0.1',\n",
       " 'sgd_multistep_0.1',\n",
       " 'sgd_onecycle_0.1',\n",
       " 'adamw_lambda_0.1',\n",
       " 'adamw_multistep_0.1',\n",
       " 'adamw_onecycle_0.1',\n",
       " 'sgd_lambda_0.05',\n",
       " 'sgd_multistep_0.05',\n",
       " 'sgd_onecycle_0.05',\n",
       " 'adamw_lambda_0.05',\n",
       " 'adamw_multistep_0.05',\n",
       " 'adamw_onecycle_0.05',\n",
       " 'sgd_lambda_0.001',\n",
       " 'sgd_multistep_0.001',\n",
       " 'sgd_onecycle_0.001',\n",
       " 'adamw_lambda_0.001',\n",
       " 'adamw_multistep_0.001',\n",
       " 'adamw_onecycle_0.001']"
      ]
     },
     "execution_count": 1,
     "metadata": {},
     "output_type": "execute_result"
    }
   ],
   "source": [
    "# Propose several learning rates for real training.\n",
    "learning_rates = [0.1,0.05,0.001]\n",
    "# Choose one optimizer \n",
    "optimizer_methods = ['sgd','adamw']\n",
    "# Choose two learning rate scheduling method \n",
    "scheduler_methods = ['lambda','multistep','onecycle']\n",
    "\n",
    "# Loop\n",
    "all_runs = []\n",
    "for learning_rate in learning_rates:\n",
    "    for optimizer_method in optimizer_methods:\n",
    "        for scheduler_method in scheduler_methods:\n",
    "            all_runs.append(f'{optimizer_method}_{scheduler_method}_{learning_rate}')\n",
    "all_runs"
   ]
  }
 ],
 "metadata": {
  "kernelspec": {
   "display_name": "Python [conda env:pytorch]",
   "language": "python",
   "name": "conda-env-pytorch-py"
  },
  "language_info": {
   "codemirror_mode": {
    "name": "ipython",
    "version": 3
   },
   "file_extension": ".py",
   "mimetype": "text/x-python",
   "name": "python",
   "nbconvert_exporter": "python",
   "pygments_lexer": "ipython3",
   "version": "3.9.12"
  }
 },
 "nbformat": 4,
 "nbformat_minor": 5
}
